{
 "cells": [
  {
   "cell_type": "code",
   "execution_count": 21,
   "metadata": {
    "collapsed": true
   },
   "outputs": [],
   "source": [
    "import pickle\n",
    "from GetBillAnalysisWeb import *"
   ]
  },
  {
   "cell_type": "code",
   "execution_count": 18,
   "metadata": {
    "collapsed": true
   },
   "outputs": [],
   "source": [
    "%reload_ext autoreload\n",
    "%autoreload 2"
   ]
  },
  {
   "cell_type": "code",
   "execution_count": 117,
   "metadata": {
    "collapsed": true
   },
   "outputs": [],
   "source": [
    "bid = '201520160AB1330'\n",
    "author = 'bloom'"
   ]
  },
  {
   "cell_type": "code",
   "execution_count": 118,
   "metadata": {
    "collapsed": false
   },
   "outputs": [],
   "source": [
    "author = clean_author_name(author)\n",
    "bill = parse_bill_name(bid)\n",
    "bill_url = URL_TEMPLATE.format(bill, author)\n",
    "html = urlopen(bill_url).read()\n",
    "soup = BeautifulSoup(html, \"html.parser\")"
   ]
  },
  {
   "cell_type": "code",
   "execution_count": 116,
   "metadata": {
    "collapsed": true
   },
   "outputs": [],
   "source": [
    "match = re.search(b\"<h\\d>Analyses</h\\d>(.*)</table>\", html, re.S)"
   ]
  },
  {
   "cell_type": "code",
   "execution_count": 115,
   "metadata": {
    "collapsed": false
   },
   "outputs": [
    {
     "data": {
      "text/plain": [
       "b'<h3>Analyses</h3>\\n<table cellspacing=0 border=0><tr><td width=250><b><a href=\"/pub/15-16/bill/asm/ab_0101-0150/ab_102_cfa_20150424_135234_asm_comm.html\">Assembly Committee</a></td><td width=250><b>- 04/24/2015 - 22914 bytes</td></tr></table>'"
      ]
     },
     "execution_count": 115,
     "metadata": {},
     "output_type": "execute_result"
    }
   ],
   "source": [
    "match.group()"
   ]
  },
  {
   "cell_type": "code",
   "execution_count": 72,
   "metadata": {
    "collapsed": false
   },
   "outputs": [],
   "source": [
    "html = pickle.load(open('html.p', 'rb'))"
   ]
  },
  {
   "cell_type": "code",
   "execution_count": 70,
   "metadata": {
    "collapsed": false
   },
   "outputs": [],
   "source": [
    "html = str(html).replace(r'\\\\n', '\\n')"
   ]
  },
  {
   "cell_type": "code",
   "execution_count": 80,
   "metadata": {
    "collapsed": true
   },
   "outputs": [],
   "source": [
    "url = 'http://www.leginfo.ca.gov/pub/15-16/bill/asm/ab_0001-0050/ab_1_cfa_20150624_171208_asm_floor.html'\n",
    "page = urlopen(url)"
   ]
  },
  {
   "cell_type": "code",
   "execution_count": 81,
   "metadata": {
    "collapsed": true
   },
   "outputs": [],
   "source": [
    "html = str(page.read())"
   ]
  },
  {
   "cell_type": "code",
   "execution_count": 84,
   "metadata": {
    "collapsed": false
   },
   "outputs": [
    {
     "name": "stdout",
     "output_type": "stream",
     "text": [
      "b'<!DOCTYPE HTML PUBLIC \"-//IETF//DTD HTML//\">                                    <head>                                                                          <title>                                                                         AB 1      Assembly Bill                     - Bill Analysis                     </title>                                                                        <meta name=\"MEASURE\" content=\"AB 1      \">                                      <meta name=\"HOUSE\" content=\"Assembly\">                                          <meta name=\"TYPE\" content=\"Assembly Bill\">                                      <meta name=\"DESCRIPTION\" content=\"Bill Analysis\">                               <meta name=\"TOPIC\" content=\"Drought: local governments: fines.                  \">                                                                              <meta name=\"AUTHOR\" content=\"Brown                                              \">                                                                              <meta name=\"FILEDATE\" content=\"20150624\">                                       </head>                                                                         <body>                                                                          <! ****** document data starts here ******>                                     <pre>                           BILL ANALYSIS                                                                                                                                                                                                    \\x0c\\xd3\n",
      "\n",
      "\n",
      "\n",
      "                                                                       AB 1\n",
      "\n",
      "\n",
      "                                                                    Page  1\n",
      "\n",
      "\n",
      "          CONCURRENCE IN SENATE AMENDMENTS\n",
      "\n",
      "\n",
      "          AB  \n",
      "          1 (Brown)\n",
      "\n",
      "\n",
      "          As Amended  June 16, 2015\n",
      "\n",
      "\n",
      "          Majority vote\n",
      "\n",
      "\n",
      "           -------------------------------------------------------------------- \n",
      "          |ASSEMBLY:  |78-0  |(April 23,     |SENATE: |37-0  |(June 22, 2015)  |\n",
      "          |           |      |2015)          |        |      |                 |\n",
      "          |           |      |               |        |      |                 |\n",
      "          |           |      |               |        |      |                 |\n",
      "           -------------------------------------------------------------------- \n",
      "\n",
      "\n",
      "          Original Committee Reference:  L. GOV.\n",
      "\n",
      "\n",
      "\n",
      "\n",
      "          SUMMARY:  Prohibits a city or county from imposing a fine for a  \n",
      "          brown lawn or failure to water a lawn during a period for which  \n",
      "          the Governor has issued a state of emergency due to drought  \n",
      "          conditions.  \n",
      "\n",
      "\n",
      "          The Senate amendments clarify that this bill\\'s provisions apply  \n",
      "          to charter cities and make other minor changes.\n",
      "\n",
      "\n",
      "          EXISTING LAW:  \n",
      "\n",
      "\n",
      "          1)Allows cities and counties to make and enforce within its  \n",
      "            limits all local, police, sanitary, and other ordinances and  \n",
      "            regulations not in conflict with general laws.\n",
      "\n",
      "\n",
      "\n",
      "\n",
      "\\x0c\n",
      "\n",
      "\n",
      "\n",
      "                                                                       AB 1\n",
      "\n",
      "\n",
      "                                                                    Page  2\n",
      "\n",
      "\n",
      "\n",
      "\n",
      "          2)Empowers, pursuant to the California Emergency Services Act  \n",
      "            (Act), the Governor to proclaim a state of emergency and  \n",
      "            requires such a proclamation to be in writing and to take  \n",
      "            effect immediately upon its issuance.\n",
      "\n",
      "\n",
      "\n",
      "\n",
      "          AS PASSED BY THE ASSEMBLY, this bill:  \n",
      "\n",
      "\n",
      "          1)Added a new section to the Act to prohibit, during a period  \n",
      "            for which the Governor has issued a proclamation of a state of  \n",
      "            emergency based on drought conditions, a city, county, or city  \n",
      "            and county from imposing a fine under any local maintenance  \n",
      "            ordinance or other relevant ordinance for a failure to water a  \n",
      "            lawn or for having a brown lawn.\n",
      "\n",
      "\n",
      "          2)Provided that a violation of this section is not subject to  \n",
      "            the criminal penalties set forth in the Act.\n",
      "\n",
      "\n",
      "          3)Stated that the Legislature found and declared that this act  \n",
      "            is in furtherance of the policy contained in the California  \n",
      "            Constitution that requires the water resources of the state to  \n",
      "            be put to beneficial and is a matter of statewide concern.\n",
      "\n",
      "\n",
      "          FISCAL EFFECT:  None\n",
      "\n",
      "\n",
      "          COMMENTS:  \n",
      "\n",
      "\n",
      "          1)Bill Summary.  This bill prohibits, during a period for which  \n",
      "            the Governor has issued a proclamation of a state of emergency  \n",
      "            based on drought conditions, a city, county, or city and  \n",
      "            county from imposing a fine under any ordinance for a failure  \n",
      "            to water a lawn or for having a brown lawn.  This bill  \n",
      "\n",
      "\n",
      "\n",
      "\n",
      "\\x0c\n",
      "\n",
      "\n",
      "\n",
      "                                                                       AB 1\n",
      "\n",
      "\n",
      "                                                                    Page  3\n",
      "\n",
      "\n",
      "            provides that a violation is not subject to the criminal  \n",
      "            penalties that are detailed in the Act, and declares that the  \n",
      "            matter is a statewide concern and not a municipal affair,  \n",
      "            thereby applying the bill\\'s provisions to all cities,  \n",
      "            including charter cities.\n",
      "\n",
      "\n",
      "            This bill is author-sponsored.\n",
      "\n",
      "\n",
      "          2)Author\\'s Statement.  According to the author, \"A number of  \n",
      "            California cities have lawn \\'maintenance\\' ordinances that  \n",
      "            specify the condition in which residents\\' laws must be kept.   \n",
      "            These ordinances allow cities to levy fines for failure to  \n",
      "            maintain a lawn in a prescribed way, including anything that  \n",
      "            is deemed to diminish the aesthetic appeal of ones\\' front  \n",
      "            yard.  Fines for violating \\'maintenance\\' ordinances can range  \n",
      "            from $100 a week to a flat fee of $500.\n",
      "\n",
      "\n",
      "            \"Since the Governor\\'s drought declaration, residents in the  \n",
      "            cities of Glendale, Upland, San Bernardino, and other cities  \n",
      "            have reported being fined or receiving a warning about a  \n",
      "            pending fine by their city for failing to maintain their lawn  \n",
      "            by not watering it or allowing it to turn brown.\n",
      "\n",
      "\n",
      "            \"In order to prepare the state\\'s future water needs it is  \n",
      "            imperative that all Californians do their part to conserve  \n",
      "            water.  When a drought is declared, local ordinances that  \n",
      "            penalize residents who choose to conserve water by not  \n",
      "            watering their lawns or letting their lawns turn brown,  \n",
      "            directly conflict with the state\\'s water interests.\"\n",
      "\n",
      "\n",
      "          3)Warnings and Fines.  The author provided several news articles  \n",
      "            in which homeowners were given warnings or were fined for yard  \n",
      "            maintenance issues by cities. In some instances the warnings  \n",
      "            or fines were related to not just underwatering or letting a  \n",
      "            lawn turn brown, but also included clean-up of garbage on lawn  \n",
      "            or cutting of high grass or shrubbery.  \n",
      "\n",
      "\n",
      "\n",
      "\n",
      "\n",
      "\\x0c\n",
      "\n",
      "\n",
      "\n",
      "                                                                       AB 1\n",
      "\n",
      "\n",
      "                                                                    Page  4\n",
      "\n",
      "\n",
      "\n",
      "            In the most severe situation provided by the author, a  \n",
      "            homeowner in the City of Upland faced misdemeanor charges for  \n",
      "            \"failing to follow city code, and properly maintaining his  \n",
      "            front yard and parkway space,\" according to the Inland Valley  \n",
      "            Daily Bulletin, stemming from the homeowner\\'s decision to stop  \n",
      "            watering his lawn in August of 2013.  As of January 2015, that  \n",
      "            homeowner planned to go to trial, and faced, according to the  \n",
      "            Inland Valley Daily Bulletin, up to $4,000 in fines, or six  \n",
      "            months in jail.  The homeowner was offered a deal several  \n",
      "            times to reduce the amount of the fine if he corrected the  \n",
      "            issue, but he opted instead to go to trial. \n",
      "\n",
      "\n",
      "          4)Emergency Drought Declaration and Executive Orders.  On  \n",
      "            January 17, 2014, Governor Brown proclaimed a state of  \n",
      "            emergency due to drought, and directed state officials to take  \n",
      "            all necessary actions to prepare for drought conditions.  This  \n",
      "            followed a series of actions by the Brown Administration that  \n",
      "            included the issuance of an Executive Order in May of 2013 to  \n",
      "            direct state water officials to expedite the review and  \n",
      "            processing of voluntary transfers of water and water rights,  \n",
      "            and the formation of a Drought Task Force in December of 2013.  \n",
      "             \n",
      "\n",
      "\n",
      "            On April 1, 2015, Governor Brown issued Executive Order  \n",
      "            B-29-15, in accordance with the authority granted to him by  \n",
      "            the Constitution and several Government Code Sections within  \n",
      "            the Act.  As part of the Executive Order, the Governor has  \n",
      "            ordered the State Water Resources Control Board to impose  \n",
      "            restrictions to achieve a statewide 25% reduction in potable  \n",
      "            urban water usage through February 28, 2016, which will  \n",
      "            require water suppliers to California\\'s cities and towns to  \n",
      "            reduce usage as compared to the amount used in 2013.  The  \n",
      "            Executive Order also orders the Department of Water Resources  \n",
      "            to lead a statewide initiative, in partnership with local  \n",
      "            agencies, to collectively replace 50 million square feet of  \n",
      "            lawns and ornamental turf with drought tolerant landscapes.  \n",
      "\n",
      "\n",
      "          5)Previous Legislation.  AB 1636 (Brown) of 2014 would have  \n",
      "\n",
      "\n",
      "\n",
      "\n",
      "\\x0c\n",
      "\n",
      "\n",
      "\n",
      "                                                                       AB 1\n",
      "\n",
      "\n",
      "                                                                    Page  5\n",
      "\n",
      "\n",
      "            prohibited a city or county from enforcing any law or  \n",
      "            ordinance requiring a resident to water his or her lawn during  \n",
      "            a drought emergency declared by the Governor.  AB 1636 was  \n",
      "            referred to the Assembly Local Government Committee, but was  \n",
      "            not heard at the request of the author.  AB 2100 (Campos),  \n",
      "            Chapter 164, Statutes of 2014, prohibited a common-interest  \n",
      "            development from imposing a fine or assessment against an  \n",
      "            owner for reducing or eliminating watering of vegetation or  \n",
      "            lawns during a declared drought.\n",
      "\n",
      "\n",
      "          6)Arguments in Support.  Supporters argue that this bill is  \n",
      "            straight-forward and provides a common sense measure to ensure  \n",
      "            households are not penalized for conserving water.\n",
      "\n",
      "\n",
      "          7)Arguments in Opposition.  None on file.\n",
      "\n",
      "\n",
      "          Analysis Prepared by:                                             \n",
      "                          Debbie Michel / L. GOV. / (916) 319-3958  FN:  \n",
      "          0001014\n",
      "\n",
      "\n",
      "\n",
      "\n",
      "\n",
      "\n",
      "\n",
      "\n",
      "\n",
      "\n",
      "\n",
      "\n",
      "\n",
      "\n",
      "\n",
      "\n",
      "\n",
      "\n",
      "\n",
      "\n",
      "\n",
      "\n",
      "\n",
      "\n",
      "                                                      </pre>                                                                          <br><table><tr><td>                                                             </td></tr></table></body></html>                                                '\n"
     ]
    }
   ],
   "source": [
    "print(html.replace('\\\\n', '\\n'))"
   ]
  }
 ],
 "metadata": {
  "anaconda-cloud": {},
  "kernelspec": {
   "display_name": "Python [Root]",
   "language": "python",
   "name": "Python [Root]"
  },
  "language_info": {
   "codemirror_mode": {
    "name": "ipython",
    "version": 3
   },
   "file_extension": ".py",
   "mimetype": "text/x-python",
   "name": "python",
   "nbconvert_exporter": "python",
   "pygments_lexer": "ipython3",
   "version": "3.5.2"
  }
 },
 "nbformat": 4,
 "nbformat_minor": 0
}
