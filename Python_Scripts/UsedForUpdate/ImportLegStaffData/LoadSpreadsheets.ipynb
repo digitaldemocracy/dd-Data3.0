{
 "cells": [
  {
   "cell_type": "code",
   "execution_count": 64,
   "metadata": {
    "collapsed": false
   },
   "outputs": [],
   "source": [
    "import pandas as pd\n",
    "import glob\n",
    "import numpy as np\n",
    "import pymysql\n",
    "from datetime import datetime"
   ]
  },
  {
   "cell_type": "code",
   "execution_count": 25,
   "metadata": {
    "collapsed": false
   },
   "outputs": [],
   "source": [
    "d_df = pd.DataFrame()\n",
    "e_df = pd.DataFrame()\n",
    "for f_name in glob.glob('FinalExcelSheets/*.xlsx'):\n",
    "    tmp_df = pd.read_excel(f_name)\n",
    "    if '_d_' in f_name:\n",
    "        d_df = pd.concat([d_df, tmp_df])\n",
    "    elif '_e_' in f_name:\n",
    "        e_df = pd.concat([e_df, tmp_df])\n",
    "    else:\n",
    "        assert False\n"
   ]
  },
  {
   "cell_type": "code",
   "execution_count": 30,
   "metadata": {
    "collapsed": false
   },
   "outputs": [],
   "source": [
    "d_df = d_df[pd.notnull(d_df['legislator'])]"
   ]
  },
  {
   "cell_type": "code",
   "execution_count": 101,
   "metadata": {
    "collapsed": true
   },
   "outputs": [],
   "source": [
    "CONN_INFO = {'host': 'dddb2016-mysql5-7-11.chzg5zpujwmo.us-west-2.rds.amazonaws.com',\n",
    "             'port': 3306,\n",
    "#              'db': 'EricTest',\n",
    "             'db': 'DDDB2016Aug',\n",
    "             'user': 'awsDB',\n",
    "             'passwd': 'digitaldemocracy789'}"
   ]
  },
  {
   "cell_type": "code",
   "execution_count": 102,
   "metadata": {
    "collapsed": false
   },
   "outputs": [],
   "source": [
    "cxn = pymysql.connect(**CONN_INFO)"
   ]
  },
  {
   "cell_type": "code",
   "execution_count": 36,
   "metadata": {
    "collapsed": true
   },
   "outputs": [],
   "source": [
    "cols = ['year_filed', 'agency_name', 'staff_member', 'legislator', 'position', 'district_number', 'jurisdiction', \n",
    "        'source_name', 'source_city', 'source_state', 'source_business', 'date_of_gift', 'reimbursed', 'gift_description', \n",
    "        'image_url']"
   ]
  },
  {
   "cell_type": "code",
   "execution_count": 41,
   "metadata": {
    "collapsed": true
   },
   "outputs": [],
   "source": [
    "d_df = d_df[cols]\n",
    "d_df['speech_or_panel'] = np.nan\n",
    "d_df['schedule'] = 'D'"
   ]
  },
  {
   "cell_type": "code",
   "execution_count": 51,
   "metadata": {
    "collapsed": false
   },
   "outputs": [],
   "source": [
    "d_df.rename(columns={'year_filed': 'year', 'date_of_gift': 'date_given'}, inplace=True)"
   ]
  },
  {
   "cell_type": "code",
   "execution_count": 80,
   "metadata": {
    "collapsed": true
   },
   "outputs": [],
   "source": [
    "def clean_date(date_str):\n",
    "    out = None\n",
    "    try:\n",
    "        out = datetime.strptime(date_str, '%m/%d/%Y')\n",
    "    except:\n",
    "        pass\n",
    "    return out"
   ]
  },
  {
   "cell_type": "code",
   "execution_count": 81,
   "metadata": {
    "collapsed": false
   },
   "outputs": [],
   "source": [
    "d_df['date_given'] = d_df['date_given'].apply(clean_date)"
   ]
  },
  {
   "cell_type": "code",
   "execution_count": 103,
   "metadata": {
    "collapsed": false
   },
   "outputs": [
    {
     "name": "stderr",
     "output_type": "stream",
     "text": [
      "C:\\Users\\andre\\Anaconda3\\lib\\site-packages\\pandas\\core\\generic.py:1165: FutureWarning: The 'mysql' flavor with DBAPI connection is deprecated and will be removed in future versions. MySQL will be further supported with SQLAlchemy connectables.\n",
      "  chunksize=chunksize, dtype=dtype)\n",
      "C:\\Users\\andre\\Anaconda3\\lib\\site-packages\\pymysql\\cursors.py:167: Warning: (1265, \"Data truncated for column 'source_name' at row 3699\")\n",
      "  result = self._query(query)\n"
     ]
    }
   ],
   "source": [
    "d_df.to_sql('LegStaffGifts', cxn, flavor='mysql', if_exists='append', index=False)"
   ]
  },
  {
   "cell_type": "code",
   "execution_count": 86,
   "metadata": {
    "collapsed": false
   },
   "outputs": [],
   "source": [
    "e_df = e_df[pd.notnull(e_df['legislator'])]"
   ]
  },
  {
   "cell_type": "code",
   "execution_count": 87,
   "metadata": {
    "collapsed": false
   },
   "outputs": [
    {
     "data": {
      "text/plain": [
       "Index(['year_filed', 'agency_name', 'last_name', 'first_name', 'staff_member',\n",
       "       'legislator', 'leg_first', 'leg_last', 'lo_id', 'office', 'person_type',\n",
       "       'position', 'district_number', 'jurisdiction', 'source_name',\n",
       "       'source_city', 'source_state', 'source_business', 'date_of_gift',\n",
       "       'gift_value', 'gift_or_income', 'speech_or_panel', 'gift_description',\n",
       "       'image_url'],\n",
       "      dtype='object')"
      ]
     },
     "execution_count": 87,
     "metadata": {},
     "output_type": "execute_result"
    }
   ],
   "source": [
    "e_df.columns"
   ]
  },
  {
   "cell_type": "code",
   "execution_count": 92,
   "metadata": {
    "collapsed": true
   },
   "outputs": [],
   "source": [
    "cols = ['year_filed', 'agency_name', 'staff_member', 'legislator', 'position', 'district_number', 'jurisdiction', \n",
    "        'source_name', 'source_city', 'source_state', 'source_business', 'date_of_gift', 'gift_description', \n",
    "        'image_url']"
   ]
  },
  {
   "cell_type": "code",
   "execution_count": 93,
   "metadata": {
    "collapsed": false
   },
   "outputs": [
    {
     "name": "stderr",
     "output_type": "stream",
     "text": [
      "C:\\Users\\andre\\Anaconda3\\lib\\site-packages\\ipykernel\\__main__.py:2: SettingWithCopyWarning: \n",
      "A value is trying to be set on a copy of a slice from a DataFrame.\n",
      "Try using .loc[row_indexer,col_indexer] = value instead\n",
      "\n",
      "See the caveats in the documentation: http://pandas.pydata.org/pandas-docs/stable/indexing.html#indexing-view-versus-copy\n",
      "  from ipykernel import kernelapp as app\n",
      "C:\\Users\\andre\\Anaconda3\\lib\\site-packages\\ipykernel\\__main__.py:3: SettingWithCopyWarning: \n",
      "A value is trying to be set on a copy of a slice from a DataFrame.\n",
      "Try using .loc[row_indexer,col_indexer] = value instead\n",
      "\n",
      "See the caveats in the documentation: http://pandas.pydata.org/pandas-docs/stable/indexing.html#indexing-view-versus-copy\n",
      "  app.launch_new_instance()\n"
     ]
    }
   ],
   "source": [
    "e_df = e_df[cols]\n",
    "e_df['reimbursed'] = np.nan\n",
    "e_df['schedule'] = 'E'"
   ]
  },
  {
   "cell_type": "code",
   "execution_count": 94,
   "metadata": {
    "collapsed": false
   },
   "outputs": [
    {
     "name": "stderr",
     "output_type": "stream",
     "text": [
      "C:\\Users\\andre\\Anaconda3\\lib\\site-packages\\pandas\\core\\frame.py:2754: SettingWithCopyWarning: \n",
      "A value is trying to be set on a copy of a slice from a DataFrame\n",
      "\n",
      "See the caveats in the documentation: http://pandas.pydata.org/pandas-docs/stable/indexing.html#indexing-view-versus-copy\n",
      "  **kwargs)\n"
     ]
    }
   ],
   "source": [
    "e_df.rename(columns={'year_filed': 'year', 'date_of_gift': 'date_given'}, inplace=True)"
   ]
  },
  {
   "cell_type": "code",
   "execution_count": 95,
   "metadata": {
    "collapsed": false
   },
   "outputs": [
    {
     "name": "stderr",
     "output_type": "stream",
     "text": [
      "C:\\Users\\andre\\Anaconda3\\lib\\site-packages\\ipykernel\\__main__.py:1: SettingWithCopyWarning: \n",
      "A value is trying to be set on a copy of a slice from a DataFrame.\n",
      "Try using .loc[row_indexer,col_indexer] = value instead\n",
      "\n",
      "See the caveats in the documentation: http://pandas.pydata.org/pandas-docs/stable/indexing.html#indexing-view-versus-copy\n",
      "  if __name__ == '__main__':\n"
     ]
    }
   ],
   "source": [
    "e_df['date_given'] = e_df['date_given'].apply(clean_date)"
   ]
  },
  {
   "cell_type": "code",
   "execution_count": 104,
   "metadata": {
    "collapsed": false
   },
   "outputs": [
    {
     "name": "stderr",
     "output_type": "stream",
     "text": [
      "C:\\Users\\andre\\Anaconda3\\lib\\site-packages\\pandas\\core\\generic.py:1165: FutureWarning: The 'mysql' flavor with DBAPI connection is deprecated and will be removed in future versions. MySQL will be further supported with SQLAlchemy connectables.\n",
      "  chunksize=chunksize, dtype=dtype)\n",
      "C:\\Users\\andre\\Anaconda3\\lib\\site-packages\\pymysql\\cursors.py:167: Warning: (1265, \"Data truncated for column 'source_business' at row 144\")\n",
      "  result = self._query(query)\n"
     ]
    }
   ],
   "source": [
    "e_df.to_sql('LegStaffGifts', cxn, flavor='mysql', if_exists='append', index=False)"
   ]
  }
 ],
 "metadata": {
  "kernelspec": {
   "display_name": "Python [Root]",
   "language": "python",
   "name": "Python [Root]"
  },
  "language_info": {
   "codemirror_mode": {
    "name": "ipython",
    "version": 3
   },
   "file_extension": ".py",
   "mimetype": "text/x-python",
   "name": "python",
   "nbconvert_exporter": "python",
   "pygments_lexer": "ipython3",
   "version": "3.5.2"
  }
 },
 "nbformat": 4,
 "nbformat_minor": 0
}
