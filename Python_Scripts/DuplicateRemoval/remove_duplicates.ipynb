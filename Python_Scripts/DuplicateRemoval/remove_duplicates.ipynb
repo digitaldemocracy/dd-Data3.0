{
 "cells": [
  {
   "cell_type": "code",
   "execution_count": 49,
   "metadata": {
    "collapsed": false
   },
   "outputs": [],
   "source": [
    "from remove_duplicates import *\n",
    "%reload_ext autoreload\n",
    "%autoreload 2"
   ]
  },
  {
   "cell_type": "code",
   "execution_count": 81,
   "metadata": {
    "collapsed": false
   },
   "outputs": [],
   "source": [
    "org_df = None\n",
    "with pymysql.connect(**CONN_INFO) as cursor:\n",
    "        query = \"\"\"SELECT oid, name\n",
    "                   FROM Organizations\"\"\"\n",
    "        cursor.execute(query)\n",
    "\n",
    "        org_lists = [[oid, name] for oid, name in cursor]\n",
    "        org_df = pd.DataFrame(org_lists, columns=['oid', 'name'])\n"
   ]
  },
  {
   "cell_type": "code",
   "execution_count": 24,
   "metadata": {
    "collapsed": false
   },
   "outputs": [],
   "source": [
    "# org_df = org_df.sample(1000)"
   ]
  },
  {
   "cell_type": "code",
   "execution_count": 82,
   "metadata": {
    "collapsed": false
   },
   "outputs": [],
   "source": [
    "org_df['normed_name'] = org_df['name'].apply(norm_name)\n",
    "org_df['hard_coded_name'] = org_df['normed_name'].apply(hard_coded_matches)"
   ]
  },
  {
   "cell_type": "code",
   "execution_count": 85,
   "metadata": {
    "collapsed": true
   },
   "outputs": [],
   "source": [
    "cpy_org_df = org_df.copy()"
   ]
  },
  {
   "cell_type": "code",
   "execution_count": 86,
   "metadata": {
    "collapsed": false
   },
   "outputs": [],
   "source": [
    "org_df['matched_indices'] = org_df.apply(lambda row: match_other_rows(row, cpy_org_df), axis=1)"
   ]
  },
  {
   "cell_type": "code",
   "execution_count": 87,
   "metadata": {
    "collapsed": true
   },
   "outputs": [],
   "source": [
    "# Yes, this needs to happen twice\n",
    "cpy_org_df = org_df.copy()"
   ]
  },
  {
   "cell_type": "code",
   "execution_count": 88,
   "metadata": {
    "collapsed": false
   },
   "outputs": [],
   "source": [
    "org_df['delete'] = org_df.apply(lambda row: mark_rows_for_deletion(row, cpy_org_df), axis=1)"
   ]
  },
  {
   "cell_type": "code",
   "execution_count": 89,
   "metadata": {
    "collapsed": false
   },
   "outputs": [],
   "source": [
    "cpy_org_df = org_df.copy()"
   ]
  },
  {
   "cell_type": "code",
   "execution_count": 102,
   "metadata": {
    "collapsed": false
   },
   "outputs": [
    {
     "data": {
      "text/html": [
       "<div>\n",
       "<table border=\"1\" class=\"dataframe\">\n",
       "  <thead>\n",
       "    <tr style=\"text-align: right;\">\n",
       "      <th></th>\n",
       "      <th>oid</th>\n",
       "      <th>name</th>\n",
       "      <th>normed_name</th>\n",
       "      <th>hard_coded_name</th>\n",
       "      <th>matched_indices</th>\n",
       "      <th>delete</th>\n",
       "    </tr>\n",
       "  </thead>\n",
       "  <tbody>\n",
       "    <tr>\n",
       "      <th>12495</th>\n",
       "      <td>20172</td>\n",
       "      <td>Milberg Weiss Bershad Hynes &amp; Lerach</td>\n",
       "      <td>milberg weiss bershad hynes &amp; lerach</td>\n",
       "      <td>None</td>\n",
       "      <td>{}</td>\n",
       "      <td>True</td>\n",
       "    </tr>\n",
       "  </tbody>\n",
       "</table>\n",
       "</div>"
      ],
      "text/plain": [
       "         oid                                  name  \\\n",
       "12495  20172  Milberg Weiss Bershad Hynes & Lerach   \n",
       "\n",
       "                                normed_name hard_coded_name matched_indices  \\\n",
       "12495  milberg weiss bershad hynes & lerach            None              {}   \n",
       "\n",
       "      delete  \n",
       "12495   True  "
      ]
     },
     "execution_count": 102,
     "metadata": {},
     "output_type": "execute_result"
    }
   ],
   "source": [
    "cpy_org_df[cpy_org_df.oid == 20172]"
   ]
  },
  {
   "cell_type": "code",
   "execution_count": 90,
   "metadata": {
    "collapsed": true
   },
   "outputs": [],
   "source": [
    "org_df = org_df[~org_df['delete']]"
   ]
  },
  {
   "cell_type": "code",
   "execution_count": 91,
   "metadata": {
    "collapsed": false
   },
   "outputs": [],
   "source": [
    "# The following code is used for making your duplicate spreadsheet\n",
    "org_df = org_df[org_df['matched_indices'].apply(len) > 0]"
   ]
  },
  {
   "cell_type": "code",
   "execution_count": 100,
   "metadata": {
    "collapsed": false
   },
   "outputs": [
    {
     "data": {
      "text/html": [
       "<div>\n",
       "<table border=\"1\" class=\"dataframe\">\n",
       "  <thead>\n",
       "    <tr style=\"text-align: right;\">\n",
       "      <th></th>\n",
       "      <th>oid</th>\n",
       "      <th>name</th>\n",
       "      <th>normed_name</th>\n",
       "      <th>hard_coded_name</th>\n",
       "      <th>matched_indices</th>\n",
       "      <th>delete</th>\n",
       "    </tr>\n",
       "  </thead>\n",
       "  <tbody>\n",
       "    <tr>\n",
       "      <th>10495</th>\n",
       "      <td>13561</td>\n",
       "      <td>At&amp;T Inc. And Its Affiliates</td>\n",
       "      <td>at&amp;t inc. and its affiliates</td>\n",
       "      <td>None</td>\n",
       "      <td>{38402, 34822, 40970, 40971, 30220, 68624, 507...</td>\n",
       "      <td>False</td>\n",
       "    </tr>\n",
       "  </tbody>\n",
       "</table>\n",
       "</div>"
      ],
      "text/plain": [
       "         oid                          name                   normed_name  \\\n",
       "10495  13561  At&T Inc. And Its Affiliates  at&t inc. and its affiliates   \n",
       "\n",
       "      hard_coded_name                                    matched_indices  \\\n",
       "10495            None  {38402, 34822, 40970, 40971, 30220, 68624, 507...   \n",
       "\n",
       "      delete  \n",
       "10495  False  "
      ]
     },
     "execution_count": 100,
     "metadata": {},
     "output_type": "execute_result"
    }
   ],
   "source": [
    "org_df[org_df['matched_indices'].apply(len) == org_df['matched_indices'].apply(len).max()]"
   ]
  },
  {
   "cell_type": "code",
   "execution_count": 92,
   "metadata": {
    "collapsed": false
   },
   "outputs": [],
   "source": [
    "output = org_df.apply(lambda row: join_dup_org_names(row, cpy_org_df), axis=1)"
   ]
  },
  {
   "cell_type": "code",
   "execution_count": 93,
   "metadata": {
    "collapsed": false
   },
   "outputs": [],
   "source": [
    "mx = org_df['matched_indices'].apply(len).max()"
   ]
  },
  {
   "cell_type": "code",
   "execution_count": 94,
   "metadata": {
    "collapsed": false
   },
   "outputs": [],
   "source": [
    "columns = ['name',\n",
    "           'hard_coded_name',\n",
    "           'normed_name',\n",
    "           'oid']\n",
    "for i in range(1, mx+1):\n",
    "    columns.append('name_' + str(i))\n",
    "    columns.append('oid_' + str(i))"
   ]
  },
  {
   "cell_type": "code",
   "execution_count": 95,
   "metadata": {
    "collapsed": true
   },
   "outputs": [],
   "source": [
    "output = output[columns]"
   ]
  },
  {
   "cell_type": "code",
   "execution_count": 96,
   "metadata": {
    "collapsed": false
   },
   "outputs": [],
   "source": [
    "output.to_csv('duplicate_removal_final.csv', index=False)"
   ]
  },
  {
   "cell_type": "code",
   "execution_count": 13,
   "metadata": {
    "collapsed": false
   },
   "outputs": [
    {
     "name": "stdout",
     "output_type": "stream",
     "text": [
      "10 loops, best of 3: 126 ms per loop\n"
     ]
    }
   ],
   "source": [
    "%%timeit\n",
    "d = org_df['name'].apply(lambda name: l_distance(name, 'Sierra Club'))"
   ]
  }
 ],
 "metadata": {
  "anaconda-cloud": {},
  "kernelspec": {
   "display_name": "Python [Root]",
   "language": "python",
   "name": "Python [Root]"
  },
  "language_info": {
   "codemirror_mode": {
    "name": "ipython",
    "version": 3
   },
   "file_extension": ".py",
   "mimetype": "text/x-python",
   "name": "python",
   "nbconvert_exporter": "python",
   "pygments_lexer": "ipython3",
   "version": "3.5.2"
  }
 },
 "nbformat": 4,
 "nbformat_minor": 0
}
