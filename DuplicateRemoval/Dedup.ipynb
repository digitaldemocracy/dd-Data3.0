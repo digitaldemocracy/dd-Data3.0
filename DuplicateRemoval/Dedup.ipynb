{
 "cells": [
  {
   "cell_type": "code",
   "execution_count": 1,
   "metadata": {
    "collapsed": true
   },
   "outputs": [],
   "source": [
    "import pandas as pd\n",
    "import numpy as n\n",
    "import string\n",
    "import re"
   ]
  },
  {
   "cell_type": "code",
   "execution_count": null,
   "metadata": {
    "collapsed": false
   },
   "outputs": [],
   "source": []
  },
  {
   "cell_type": "code",
   "execution_count": 2,
   "metadata": {
    "collapsed": false
   },
   "outputs": [
    {
     "data": {
      "text/plain": [
       "'california association of non profit'"
      ]
     },
     "execution_count": 2,
     "metadata": {},
     "output_type": "execute_result"
    }
   ],
   "source": [
    "def preprocess_name(x):\n",
    "    x = str(x)\n",
    "    x = (x.lower() + \".\").replace(\"assn\", \"association\").replace(\"assoc.\", \"association\")\n",
    "    x = x.replace(\"non-\", \"non \")\n",
    "    x = x.split(\"pac\")[0]\n",
    "    x = x.split(\"(\")[0]\n",
    "    x = x.split(\"\\\\\")[0]\n",
    "    x = x.split(\"/\")[0]\n",
    "    x = x.split(\"-\")[0]\n",
    "    x = re.sub(r'\\bassoc\\b', \"association\", x)\n",
    "    x = re.sub(r'\\bcorporation\\b', \"\", x)\n",
    "    x = re.sub(r'\\bgroup\\b', \"\", x)\n",
    "    x = re.sub(r'\\bdept\\b', \"department\", x)\n",
    "    x = re.sub(r'\\badmin\\b', \"administrative\", x)\n",
    "    x = re.sub(r'\\bemp\\b', \"employment\", x)\n",
    "    x = re.sub(r'\\bpro\\b', \"professional\", x)\n",
    "    x = re.sub(r'\\bco\\b', \"\", x)\n",
    "    x = re.sub(r'\\bcalif\\b', \"california\", x)\n",
    "    x = re.sub(r'\\bcal\\b', \"california\", x)\n",
    "    x = re.sub(r'\\bcompanies\\b', \"\", x)\n",
    "    x = re.sub(r'\\bcompany\\b', \"\", x)\n",
    "    x = x.replace(\"&\", \" and \")\n",
    "    x = x.replace(\"exp.\", \"expenditures\")\n",
    "    x = x.replace(\"inc\", \"\")\n",
    "    x = x.replace(\"llc\", \"\")\n",
    "    x = x.replace(\"llp\", \"\")\n",
    "    x = x.replace(\"lp\", \"\")\n",
    "    x = x.replace(\"'s\", \"\")\n",
    "    x = re.sub(r\",|\\.|'|`|\\\"|!\", \"\", x)\n",
    "    x = re.sub( '\\s+', ' ', x).strip()\n",
    "    x = re.sub(r'\\bca\\b', \"california\", x)\n",
    "    x = re.sub(r'\\bnv\\b', \"nevada\", x)\n",
    "    x = \" \".join([word[:-1] if word.endswith(\"s\") else word for word in x.split(\" \")])\n",
    "    return x.strip()\n",
    "\n",
    "def preprocess_df(df):      \n",
    "    df[\"name\"] = df[\"name\"].apply(preprocess_name)\n",
    "    df[\"city\"] = df[\"city\"].str.lower()\n",
    "    df[\"stateHeadquartered\"] = data[\"stateHeadquartered\"].str.lower()\n",
    "    return df\n",
    "\n",
    "preprocess_name('california association of non-profit')"
   ]
  },
  {
   "cell_type": "code",
   "execution_count": 3,
   "metadata": {
    "collapsed": false
   },
   "outputs": [
    {
     "data": {
      "text/plain": [
       "{'calder race course': [139076, 153509],\n",
       " 'centene corp': [137065, 144892],\n",
       " 'central florida citizen for justice': [139006, 144786],\n",
       " 'chevron corp': [137580, 144867, 144958, 153510],\n",
       " 'city of fresno': [7873,\n",
       "  22459,\n",
       "  48854,\n",
       "  58222,\n",
       "  58223,\n",
       "  58268,\n",
       "  58269,\n",
       "  58289,\n",
       "  58290,\n",
       "  58306,\n",
       "  58307,\n",
       "  61624,\n",
       "  61629,\n",
       "  61636,\n",
       "  71059],\n",
       " 'closter farm': [138802, 153493],\n",
       " 'comcast': [32780, 121513, 144763, 144781, 151317, 153424],\n",
       " 'conservative priple for florida': [138619, 153483, 153648, 153651]}"
      ]
     },
     "execution_count": 3,
     "metadata": {},
     "output_type": "execute_result"
    }
   ],
   "source": [
    "data = pd.read_csv(\"data.csv\")\n",
    "data.set_index(\"oid\", inplace=True)\n",
    "data = preprocess_df(data)\n",
    "data.groupby([\"name\"]).groups"
   ]
  },
  {
   "cell_type": "code",
   "execution_count": 5,
   "metadata": {
    "collapsed": false
   },
   "outputs": [
    {
     "data": {
      "text/plain": [
       "145"
      ]
     },
     "execution_count": 5,
     "metadata": {},
     "output_type": "execute_result"
    }
   ],
   "source": [
    "data200 = pd.read_csv(\"data200.csv\")\n",
    "data200.set_index(\"oid\", inplace=True)\n",
    "data200 = preprocess_df(data200);\n",
    "len(data200.groupby([\"name\"]).groups)"
   ]
  },
  {
   "cell_type": "code",
   "execution_count": 8,
   "metadata": {
    "collapsed": false
   },
   "outputs": [
    {
     "data": {
      "text/plain": [
       "311"
      ]
     },
     "execution_count": 8,
     "metadata": {},
     "output_type": "execute_result"
    }
   ],
   "source": [
    "data500 = pd.read_csv(\"data500.csv\")\n",
    "data500.set_index(\"oid\", inplace=True)\n",
    "data500 = preprocess_df(data500)\n",
    "len(data500.groupby([\"name\"]).groups)"
   ]
  },
  {
   "cell_type": "code",
   "execution_count": 9,
   "metadata": {
    "collapsed": false,
    "scrolled": true
   },
   "outputs": [
    {
     "data": {
      "text/plain": [
       "1166"
      ]
     },
     "execution_count": 9,
     "metadata": {},
     "output_type": "execute_result"
    }
   ],
   "source": [
    "data2k = pd.read_csv(\"data2k.csv\")\n",
    "data2k.set_index(\"oid\", inplace=True)\n",
    "data2k = preprocess_df(data2k)\n",
    "len(data2k.groupby([\"name\"]))"
   ]
  },
  {
   "cell_type": "code",
   "execution_count": 10,
   "metadata": {
    "collapsed": false
   },
   "outputs": [
    {
     "data": {
      "text/plain": [
       "14240"
      ]
     },
     "execution_count": 10,
     "metadata": {},
     "output_type": "execute_result"
    }
   ],
   "source": [
    "data20k = pd.read_csv(\"data20k.csv\")\n",
    "data20k.set_index(\"oid\", inplace=True)\n",
    "data20k = preprocess_df(data20k)\n",
    "len(data20k.groupby([\"name\"]).groups)"
   ]
  },
  {
   "cell_type": "code",
   "execution_count": 11,
   "metadata": {
    "collapsed": false
   },
   "outputs": [
    {
     "data": {
      "text/plain": [
       "105849"
      ]
     },
     "execution_count": 11,
     "metadata": {},
     "output_type": "execute_result"
    }
   ],
   "source": [
    "dataAll = pd.read_csv(\"dataAll.csv\")\n",
    "dataAll.set_index(\"oid\", inplace=True)\n",
    "dataAll = preprocess_df(dataAll)\n",
    "len(dataAll.groupby([\"name\"])) #.count().to_csv(\"trimmed.csv\")"
   ]
  },
  {
   "cell_type": "code",
   "execution_count": null,
   "metadata": {
    "collapsed": true
   },
   "outputs": [],
   "source": []
  }
 ],
 "metadata": {
  "kernelspec": {
   "display_name": "Python 3",
   "language": "python",
   "name": "python3"
  },
  "language_info": {
   "codemirror_mode": {
    "name": "ipython",
    "version": 3
   },
   "file_extension": ".py",
   "mimetype": "text/x-python",
   "name": "python",
   "nbconvert_exporter": "python",
   "pygments_lexer": "ipython3",
   "version": "3.5.4"
  }
 },
 "nbformat": 4,
 "nbformat_minor": 0
}
