{
 "cells": [
  {
   "cell_type": "code",
   "execution_count": 2,
   "metadata": {},
   "outputs": [],
   "source": [
    "import pandas as pd\n",
    "import numpy as n\n",
    "import string\n",
    "import re\n",
    "\n",
    "from cluster import *"
   ]
  },
  {
   "cell_type": "code",
   "execution_count": null,
   "metadata": {},
   "outputs": [],
   "source": [
    "def cluster_groups(group):\n",
    "    orgs = [{'oid': oid, 'clustered': 0} for oid in group['name'].index]\n",
    "    for row in orgs:\n",
    "        row['name'] = group['name'][row['oid']]\n",
    "        \n",
    "    return stage1_cluster(orgs)"
   ]
  },
  {
   "cell_type": "code",
   "execution_count": null,
   "metadata": {},
   "outputs": [],
   "source": [
    "def make_group_clusters(group_df):\n",
    "    levenshtein_clusters = {}\n",
    "\n",
    "    for k in list(group_df.groups.keys()):\n",
    "        levenshtein_clusters.update(cluster_groups(group_df.get_group(k)))\n",
    "        \n",
    "    return levenshtein_clusters"
   ]
  },
  {
   "cell_type": "code",
   "execution_count": 3,
   "metadata": {},
   "outputs": [
    {
     "data": {
      "text/plain": [
       "'californiaassociationofnonprofit'"
      ]
     },
     "execution_count": 3,
     "metadata": {},
     "output_type": "execute_result"
    }
   ],
   "source": [
    "def preprocess_name(x):\n",
    "    x = str(x)\n",
    "    x = (x.lower() + \".\").replace(\"assn\", \"association\").replace(\"assoc.\", \"association\")\n",
    "    x = x.replace(\"non-\", \"non \")\n",
    "    #x = x.split(\"pac\")[0]\n",
    "    #x = x.split(\"(\")[0]\n",
    "    #x = x.split(\"\\\\\")[0]\n",
    "    #x = x.split(\"/\")[0]\n",
    "    #x = x.split(\"-\")[0]\n",
    "    x = re.sub(r'\\bassoc\\b', \"association\", x)\n",
    "    x = re.sub(r'\\bcorporation\\b', \"\", x)\n",
    "    x = re.sub(r'\\bgroup\\b', \"\", x)\n",
    "    x = re.sub(r'\\bdept\\b', \"department\", x)\n",
    "    x = re.sub(r'\\badmin\\b', \"administrative\", x)\n",
    "    x = re.sub(r'\\bemp\\b', \"employment\", x)\n",
    "    x = re.sub(r'\\bpro\\b', \"professional\", x)\n",
    "    x = re.sub(r'\\bco\\b', \"\", x)\n",
    "    x = re.sub(r'\\bcalif\\b', \"california\", x)\n",
    "    x = re.sub(r'\\bcal\\b', \"california\", x)\n",
    "    x = re.sub(r'\\bcompanies\\b', \"\", x)\n",
    "    x = re.sub(r'\\bcompany\\b', \"\", x)\n",
    "    x = x.replace(\"&\", \" and \")\n",
    "    x = x.replace(\"exp.\", \"expenditures\")\n",
    "    x = x.replace(\"inc\", \"\")\n",
    "    x = x.replace(\"llc\", \"\")\n",
    "    x = x.replace(\"llp\", \"\")\n",
    "    x = x.replace(\"lp\", \"\")\n",
    "    x = x.replace(\"'s\", \"\")\n",
    "    x = re.sub(r\",|\\.|'|`|\\\"|!\", \"\", x)\n",
    "    x = re.sub( '\\s+', ' ', x).strip()\n",
    "    x = re.sub(r'\\bca\\b', \"california\", x)\n",
    "    x = re.sub(r'\\bnv\\b', \"nevada\", x)\n",
    "    x = \"\".join([word[:-1] if word.endswith(\"s\") else word for word in x.split(\" \")])\n",
    "    return x.strip()\n",
    "\n",
    "def preprocess_df(df):      \n",
    "    df[\"processed_name\"] = df[\"name\"].apply(preprocess_name)\n",
    "    df[\"city\"] = df[\"city\"].str.lower()\n",
    "    df[\"stateHeadquartered\"] = data[\"stateHeadquartered\"].str.lower()\n",
    "    return df\n",
    "\n",
    "preprocess_name('california association of non-profit')"
   ]
  },
  {
   "cell_type": "code",
   "execution_count": 4,
   "metadata": {},
   "outputs": [
    {
     "data": {
      "text/plain": [
       "{'calderracecourse': Int64Index([139076, 153509], dtype='int64', name='oid'),\n",
       " 'centenecorp': Int64Index([137065, 144892], dtype='int64', name='oid'),\n",
       " 'centralfloridacitizenforjustice': Int64Index([139006, 144786], dtype='int64', name='oid'),\n",
       " 'chevroncorp': Int64Index([137580, 144867, 144958, 153510], dtype='int64', name='oid'),\n",
       " 'cityoffresno': Int64Index([ 7873, 22459, 48854, 58222, 58223, 58268, 58269, 58289, 58290,\n",
       "             58306, 58307, 61624, 61629, 61636, 71059],\n",
       "            dtype='int64', name='oid'),\n",
       " 'closterfarm': Int64Index([138802, 153493], dtype='int64', name='oid'),\n",
       " 'comcast': Int64Index([32780, 121513, 144763, 144781, 151317, 153424], dtype='int64', name='oid'),\n",
       " 'conservativepripleforflorida': Int64Index([138619, 153483, 153648, 153651], dtype='int64', name='oid')}"
      ]
     },
     "execution_count": 4,
     "metadata": {},
     "output_type": "execute_result"
    }
   ],
   "source": [
    "data = pd.read_csv(\"data.csv\")\n",
    "data.set_index(\"oid\", inplace=True)\n",
    "data = preprocess_df(data)\n",
    "data.groupby([\"processed_name\"]).groups"
   ]
  },
  {
   "cell_type": "code",
   "execution_count": 5,
   "metadata": {},
   "outputs": [],
   "source": [
    "data200 = pd.read_csv(\"data200.csv\")\n",
    "data200.set_index(\"oid\", inplace=True)\n",
    "data200 = preprocess_df(data200);\n",
    "data200_groups = data200.groupby([\"processed_name\"])"
   ]
  },
  {
   "cell_type": "code",
   "execution_count": 6,
   "metadata": {},
   "outputs": [
    {
     "data": {
      "text/plain": [
       "166"
      ]
     },
     "execution_count": 6,
     "metadata": {},
     "output_type": "execute_result"
    }
   ],
   "source": [
    "len(data200_groups.groups)"
   ]
  },
  {
   "cell_type": "code",
   "execution_count": 100,
   "metadata": {},
   "outputs": [
    {
     "data": {
      "text/plain": [
       "187"
      ]
     },
     "execution_count": 100,
     "metadata": {},
     "output_type": "execute_result"
    }
   ],
   "source": [
    "group200_clusters = make_group_clusters(data200_groups)\n",
    "len(group200_clusters.keys())"
   ]
  },
  {
   "cell_type": "code",
   "execution_count": 9,
   "metadata": {},
   "outputs": [
    {
     "data": {
      "text/plain": [
       "393"
      ]
     },
     "execution_count": 9,
     "metadata": {},
     "output_type": "execute_result"
    }
   ],
   "source": [
    "data500 = pd.read_csv(\"data500.csv\")\n",
    "data500.set_index(\"oid\", inplace=True)\n",
    "data500 = preprocess_df(data500)\n",
    "data500_groups = data500.groupby([\"processed_name\"])\n",
    "len(data500_groups.groups)"
   ]
  },
  {
   "cell_type": "code",
   "execution_count": 104,
   "metadata": {},
   "outputs": [
    {
     "data": {
      "text/plain": [
       "428"
      ]
     },
     "execution_count": 104,
     "metadata": {},
     "output_type": "execute_result"
    }
   ],
   "source": [
    "group500_clusters = make_group_clusters(data500_groups)\n",
    "len(group500_clusters.keys())"
   ]
  },
  {
   "cell_type": "code",
   "execution_count": 8,
   "metadata": {
    "scrolled": true
   },
   "outputs": [
    {
     "data": {
      "text/plain": [
       "1430"
      ]
     },
     "execution_count": 8,
     "metadata": {},
     "output_type": "execute_result"
    }
   ],
   "source": [
    "data2k = pd.read_csv(\"data2k.csv\")\n",
    "data2k.set_index(\"oid\", inplace=True)\n",
    "data2k = preprocess_df(data2k)\n",
    "data2k_groups = data2k.groupby([\"processed_name\"])\n",
    "len(data2k_groups.groups)"
   ]
  },
  {
   "cell_type": "code",
   "execution_count": 106,
   "metadata": {},
   "outputs": [
    {
     "data": {
      "text/plain": [
       "1656"
      ]
     },
     "execution_count": 106,
     "metadata": {},
     "output_type": "execute_result"
    }
   ],
   "source": [
    "group2k_clusters = make_group_clusters(data2k_groups)\n",
    "len(group2k_clusters.keys())"
   ]
  },
  {
   "cell_type": "code",
   "execution_count": 10,
   "metadata": {},
   "outputs": [
    {
     "data": {
      "text/plain": [
       "15222"
      ]
     },
     "execution_count": 10,
     "metadata": {},
     "output_type": "execute_result"
    }
   ],
   "source": [
    "data20k = pd.read_csv(\"data20k.csv\")\n",
    "data20k.set_index(\"oid\", inplace=True)\n",
    "data20k = preprocess_df(data20k)\n",
    "data20k_groups = data20k.groupby([\"processed_name\"])\n",
    "len(data20k_groups.groups)"
   ]
  },
  {
   "cell_type": "code",
   "execution_count": 108,
   "metadata": {},
   "outputs": [
    {
     "data": {
      "text/plain": [
       "15973"
      ]
     },
     "execution_count": 108,
     "metadata": {},
     "output_type": "execute_result"
    }
   ],
   "source": [
    "group20k_clusters = make_group_clusters(data20k_groups)\n",
    "len(group20k_clusters.keys())"
   ]
  },
  {
   "cell_type": "code",
   "execution_count": 11,
   "metadata": {},
   "outputs": [
    {
     "data": {
      "text/plain": [
       "110446"
      ]
     },
     "execution_count": 11,
     "metadata": {},
     "output_type": "execute_result"
    }
   ],
   "source": [
    "dataAll = pd.read_csv(\"dataAll.csv\")\n",
    "dataAll.set_index(\"oid\", inplace=True)\n",
    "dataAll = preprocess_df(dataAll)\n",
    "allGroups = dataAll.groupby([\"processed_name\"]) #.count().to_csv(\"trimmed.csv\")\n",
    "len(allGroups.groups)"
   ]
  },
  {
   "cell_type": "code",
   "execution_count": 38,
   "metadata": {},
   "outputs": [
    {
     "data": {
      "text/html": [
       "<div>\n",
       "<style scoped>\n",
       "    .dataframe tbody tr th:only-of-type {\n",
       "        vertical-align: middle;\n",
       "    }\n",
       "\n",
       "    .dataframe tbody tr th {\n",
       "        vertical-align: top;\n",
       "    }\n",
       "\n",
       "    .dataframe thead th {\n",
       "        text-align: right;\n",
       "    }\n",
       "</style>\n",
       "<table border=\"1\" class=\"dataframe\">\n",
       "  <thead>\n",
       "    <tr style=\"text-align: right;\">\n",
       "      <th></th>\n",
       "      <th>name</th>\n",
       "      <th>city</th>\n",
       "      <th>stateHeadquartered</th>\n",
       "      <th>processed_name</th>\n",
       "    </tr>\n",
       "    <tr>\n",
       "      <th>oid</th>\n",
       "      <th></th>\n",
       "      <th></th>\n",
       "      <th></th>\n",
       "      <th></th>\n",
       "    </tr>\n",
       "  </thead>\n",
       "  <tbody>\n",
       "    <tr>\n",
       "      <th>134789.0</th>\n",
       "      <td>#cut50</td>\n",
       "      <td>NaN</td>\n",
       "      <td>NaN</td>\n",
       "      <td>#cut50</td>\n",
       "    </tr>\n",
       "    <tr>\n",
       "      <th>138087.0</th>\n",
       "      <td>#cut50</td>\n",
       "      <td>NaN</td>\n",
       "      <td>NaN</td>\n",
       "      <td>#cut50</td>\n",
       "    </tr>\n",
       "    <tr>\n",
       "      <th>174612.0</th>\n",
       "      <td>#Cut 50</td>\n",
       "      <td>NaN</td>\n",
       "      <td>NaN</td>\n",
       "      <td>#cut50</td>\n",
       "    </tr>\n",
       "  </tbody>\n",
       "</table>\n",
       "</div>"
      ],
      "text/plain": [
       "             name city stateHeadquartered processed_name\n",
       "oid                                                     \n",
       "134789.0   #cut50  NaN                NaN         #cut50\n",
       "138087.0   #cut50  NaN                NaN         #cut50\n",
       "174612.0  #Cut 50  NaN                NaN         #cut50"
      ]
     },
     "execution_count": 38,
     "metadata": {},
     "output_type": "execute_result"
    }
   ],
   "source": [
    "allGroups.get_group('#cut50')"
   ]
  },
  {
   "cell_type": "code",
   "execution_count": 32,
   "metadata": {},
   "outputs": [
    {
     "name": "stdout",
     "output_type": "stream",
     "text": [
      "15version)\n",
      "                name city stateHeadquartered processed_name\n",
      "oid                                                        \n",
      "99690.0  15 version)  NaN                NaN     15version)\n",
      "160wgdevelopment\n",
      "                              name           city stateHeadquartered  \\\n",
      "oid                                                                    \n",
      "76487.0  160 W.G. Development, LLC  monterey park                NaN   \n",
      "\n",
      "           processed_name  \n",
      "oid                        \n",
      "76487.0  160wgdevelopment  \n",
      "1615miamiroadoperation\n",
      "                                     name city stateHeadquartered  \\\n",
      "oid                                                                 \n",
      "173607.0  1615 MIAMI ROAD OPERATIONS, LLC  NaN                NaN   \n",
      "\n",
      "                  processed_name  \n",
      "oid                               \n",
      "173607.0  1615miamiroadoperation  \n",
      "162individualresident\n",
      "                              name city stateHeadquartered  \\\n",
      "oid                                                          \n",
      "102960.0  162 individual residents  NaN                NaN   \n",
      "\n",
      "                 processed_name  \n",
      "oid                              \n",
      "102960.0  162individualresident  \n",
      "1634pinestreet\n",
      "                          name           city stateHeadquartered  \\\n",
      "oid                                                                \n",
      "71213.0  1634 Pine Street, LLC  san francisco                NaN   \n",
      "\n",
      "         processed_name  \n",
      "oid                      \n",
      "71213.0  1634pinestreet  \n",
      "1650wealthmanagement\n",
      "                                name city stateHeadquartered  \\\n",
      "oid                                                            \n",
      "167047.0  1650 WEALTH MANAGEMENT LLC  NaN                NaN   \n",
      "\n",
      "                processed_name  \n",
      "oid                             \n",
      "167047.0  1650wealthmanagement  \n",
      "165thstreet\n",
      "                      name city stateHeadquartered processed_name\n",
      "oid                                                              \n",
      "160033.0  165TH STREET INC  NaN                NaN    165thstreet\n",
      "16capitalinvestment\n",
      "                            name city stateHeadquartered       processed_name\n",
      "oid                                                                          \n",
      "150279.0  16 Capital Investments  NaN                NaN  16capitalinvestment\n",
      "16foracompletelist)\n",
      "                              name city stateHeadquartered  \\\n",
      "oid                                                          \n",
      "101741.0  16 for a complete list.)  NaN                NaN   \n",
      "\n",
      "               processed_name  \n",
      "oid                            \n",
      "101741.0  16foracompletelist)  \n",
      "16individual\n",
      "                    name city stateHeadquartered processed_name\n",
      "oid                                                            \n",
      "132712.0  16 Individuals  NaN                NaN   16individual\n",
      "16retirednasaastronaut\n",
      "                                name city stateHeadquartered  \\\n",
      "oid                                                            \n",
      "101670.0  16 retired NASA astronauts  NaN                NaN   \n",
      "\n",
      "                  processed_name  \n",
      "oid                               \n",
      "101670.0  16retirednasaastronaut  \n",
      "17-18coapdf]\n",
      "                   name city stateHeadquartered processed_name\n",
      "oid                                                           \n",
      "174577.0  17-18Coa.Pdf]  NaN                NaN   17-18coapdf]\n",
      "1710:26:36\n",
      "                 name city stateHeadquartered processed_name\n",
      "oid                                                         \n",
      "153157.0  17 10:26:36  NaN                NaN     1710:26:36\n",
      "1711:36:27\n",
      "                 name city stateHeadquartered processed_name\n",
      "oid                                                         \n",
      "154028.0  17 11:36:27  NaN                NaN     1711:36:27\n",
      "1712:58:55\n",
      "                 name city stateHeadquartered processed_name\n",
      "oid                                                         \n",
      "153129.0  17 12:58:55  NaN                NaN     1712:58:55\n",
      "1713:24:15\n",
      "                 name city stateHeadquartered processed_name\n",
      "oid                                                         \n",
      "152916.0  17 13:24:15  NaN                NaN     1713:24:15\n",
      "1715:28:09\n",
      "                 name city stateHeadquartered processed_name\n",
      "oid                                                         \n",
      "175065.0  17 15:28:09  NaN                NaN     1715:28:09\n",
      "1715:33:16\n",
      "                 name city stateHeadquartered processed_name\n",
      "oid                                                         \n",
      "152741.0  17 15:33:16  NaN                NaN     1715:33:16\n",
      "1716:13:39\n",
      "                 name city stateHeadquartered processed_name\n",
      "oid                                                         \n",
      "174583.0  17 16:13:39  NaN                NaN     1716:13:39\n",
      "1716:26:48\n",
      "                 name city stateHeadquartered processed_name\n",
      "oid                                                         \n",
      "152556.0  17 16:26:48  NaN                NaN     1716:26:48\n",
      "1716:26:50\n",
      "                 name city stateHeadquartered processed_name\n",
      "oid                                                         \n",
      "152567.0  17 16:26:50  NaN                NaN     1716:26:50\n",
      "1716:26:58\n",
      "                 name city stateHeadquartered processed_name\n",
      "oid                                                         \n",
      "153103.0  17 16:26:58  NaN                NaN     1716:26:58\n",
      "1717:05:28\n",
      "                 name city stateHeadquartered processed_name\n",
      "oid                                                         \n",
      "153077.0  17 17:05:28  NaN                NaN     1717:05:28\n",
      "1718:21:10\n",
      "                 name city stateHeadquartered processed_name\n",
      "oid                                                         \n",
      "153310.0  17 18:21:10  NaN                NaN     1718:21:10\n",
      "1718:27:31\n",
      "                 name city stateHeadquartered processed_name\n",
      "oid                                                         \n",
      "153386.0  17 18:27:31  NaN                NaN     1718:27:31\n",
      "1737yorkrealty\n",
      "                          name city stateHeadquartered  processed_name\n",
      "oid                                                                   \n",
      "115183.0  1737 YORK REALTY LLC  NaN                NaN  1737yorkrealty\n",
      "1790thirdave\n",
      "                        name city stateHeadquartered processed_name\n",
      "oid                                                                \n",
      "115876.0  1790 THIRD AVE LLC  NaN                NaN   1790thirdave\n",
      "17formercaliforniacoastalcommissioner\n",
      "                                               name city stateHeadquartered  \\\n",
      "oid                                                                           \n",
      "99605.0  17 former California Coastal Commissioners  NaN                NaN   \n",
      "\n",
      "                                processed_name  \n",
      "oid                                             \n",
      "99605.0  17formercaliforniacoastalcommissioner  \n",
      "17individual\n",
      "                    name city stateHeadquartered processed_name\n",
      "oid                                                            \n",
      "131780.0  17 Individuals  NaN                NaN   17individual\n",
      "17individuallegalscholar\n",
      "                                 name city stateHeadquartered  \\\n",
      "oid                                                             \n",
      "96237.0  17 individual legal scholars  NaN                NaN   \n",
      "\n",
      "                   processed_name  \n",
      "oid                                \n",
      "96237.0  17individuallegalscholar  \n",
      "17lawschoolprofessor\n",
      "                              name city stateHeadquartered  \\\n",
      "oid                                                          \n",
      "103595.0  17 Law School Professors  NaN                NaN   \n",
      "\n",
      "                processed_name  \n",
      "oid                             \n",
      "103595.0  17lawschoolprofessor  \n",
      "17locustavenue\n",
      "                          name city stateHeadquartered  processed_name\n",
      "oid                                                                   \n",
      "115859.0  17 LOCUST AVENUE LLC  NaN                NaN  17locustavenue\n",
      "17thwarddemocraticcmte\n",
      "                               name city stateHeadquartered  \\\n",
      "oid                                                           \n",
      "118194.0  17TH WARD DEMOCRATIC CMTE  NaN                NaN   \n",
      "\n",
      "                  processed_name  \n",
      "oid                               \n",
      "118194.0  17thwarddemocraticcmte  \n",
      "1800contact\n",
      "                       name    city stateHeadquartered processed_name\n",
      "oid                                                                  \n",
      "110157.0  1800 Contacts Inc  draper                NaN    1800contact\n",
      "1801l\n",
      "           name    city stateHeadquartered processed_name\n",
      "oid                                                      \n",
      "56542.0  1801 L  folsom                NaN          1801l\n",
      "1820shoredriveoperation\n",
      "                                      name city stateHeadquartered  \\\n",
      "oid                                                                  \n",
      "173608.0  1820 SHORE DRIVE OPERATIONS, LLC  NaN                NaN   \n",
      "\n",
      "                   processed_name  \n",
      "oid                                \n",
      "173608.0  1820shoredriveoperation  \n",
      "1850realty\n",
      "                name        city stateHeadquartered processed_name\n",
      "oid                                                               \n",
      "46843.0  1850 Realty  san marcos                NaN     1850realty\n",
      "1851elkcamboulevardoperation\n",
      "                                           name city stateHeadquartered  \\\n",
      "oid                                                                       \n",
      "173609.0  1851 ELKCAM BOULEVARD OPERATIONS, LLC  NaN                NaN   \n",
      "\n",
      "                        processed_name  \n",
      "oid                                     \n",
      "173609.0  1851elkcamboulevardoperation  \n",
      "1851vineyard\n",
      "                        name city stateHeadquartered processed_name\n",
      "oid                                                                \n",
      "181758.0  1851 Vineyards LLC  NaN                NaN   1851vineyard\n",
      "187carltonavenuecorp\n",
      "                              name city stateHeadquartered  \\\n",
      "oid                                                          \n",
      "116745.0  187 CARLTON AVENUE CORP.  NaN                NaN   \n",
      "\n",
      "                processed_name  \n",
      "oid                             \n",
      "116745.0  187carltonavenuecorp  \n",
      "187individual\n",
      "                     name city stateHeadquartered processed_name\n",
      "oid                                                             \n",
      "143615.0  187 individuals  NaN                NaN  187individual\n",
      "18bernlofsthomeownerassociation\n",
      "                                         name           city  \\\n",
      "oid                                                            \n",
      "75942.0  18 Bernlof St. Homeowner Association  san francisco   \n",
      "\n",
      "        stateHeadquartered                   processed_name  \n",
      "oid                                                          \n",
      "75942.0                NaN  18bernlofsthomeownerassociation  \n",
      "18individual\n",
      "                    name city stateHeadquartered processed_name\n",
      "oid                                                            \n",
      "132850.0  18 Individuals  NaN                NaN   18individual\n",
      "18millionrisingorg\n",
      "                         name city stateHeadquartered      processed_name\n",
      "oid                                                                      \n",
      "133751.0  18MillionRising.org  NaN                NaN  18millionrisingorg\n",
      "18thstreetartcenter\n",
      "                             name city stateHeadquartered       processed_name\n",
      "oid                                                                           \n",
      "135565.0  18th Street Arts Center  NaN                NaN  18thstreetartcenter\n",
      "18|8finemenhairsalonofplayavista\n",
      "                                              name city stateHeadquartered  \\\n",
      "oid                                                                          \n",
      "94029.0  18|8 Fine Men's Hair Salon of Playa Vista  NaN                NaN   \n",
      "\n",
      "                           processed_name  \n",
      "oid                                        \n",
      "94029.0  18|8finemenhairsalonofplayavista  \n",
      "1901southandrewavenue\n",
      "                                   name city stateHeadquartered  \\\n",
      "oid                                                               \n",
      "171893.0  1901 SOUTH ANDREWS AVENUE LLC  NaN                NaN   \n",
      "\n",
      "                 processed_name  \n",
      "oid                              \n"
     ]
    },
    {
     "name": "stdout",
     "output_type": "stream",
     "text": [
      "171893.0  1901southandrewavenue  \n",
      "1937jenkavenueoperation\n",
      "                                       name city stateHeadquartered  \\\n",
      "oid                                                                   \n",
      "173610.0  1937 JENKS AVENUE OPERATIONS, LLC  NaN                NaN   \n",
      "\n",
      "                   processed_name  \n",
      "oid                                \n",
      "173610.0  1937jenkavenueoperation  \n",
      "195mattiemkellyblvdoperation\n",
      "                                               name city stateHeadquartered  \\\n",
      "oid                                                                           \n",
      "173611.0  195 MATTIE M. KELLY BLVD. OPERATIONS, LLC  NaN                NaN   \n",
      "\n",
      "                        processed_name  \n",
      "oid                                     \n",
      "173611.0  195mattiemkellyblvdoperation  \n",
      "1978thirdave\n",
      "                        name city stateHeadquartered processed_name\n",
      "oid                                                                \n",
      "115860.0  1978 THIRD AVE LLC  NaN                NaN   1978thirdave\n"
     ]
    }
   ],
   "source": [
    "for k in list(allGroups.groups.keys())[200:250]:\n",
    "    print(k)\n",
    "    print(allGroups.get_group(k))"
   ]
  }
 ],
 "metadata": {
  "kernelspec": {
   "display_name": "Python 3",
   "language": "python",
   "name": "python3"
  },
  "language_info": {
   "codemirror_mode": {
    "name": "ipython",
    "version": 3
   },
   "file_extension": ".py",
   "mimetype": "text/x-python",
   "name": "python",
   "nbconvert_exporter": "python",
   "pygments_lexer": "ipython3",
   "version": "3.6.3"
  }
 },
 "nbformat": 4,
 "nbformat_minor": 1
}
