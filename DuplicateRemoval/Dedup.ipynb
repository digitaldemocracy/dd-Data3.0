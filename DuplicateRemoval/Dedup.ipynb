{
 "cells": [
  {
   "cell_type": "code",
   "execution_count": 2,
   "metadata": {},
   "outputs": [],
   "source": [
    "import pandas as pd\n",
    "import numpy as n\n",
    "import string\n",
    "import re"
   ]
  },
  {
   "cell_type": "code",
   "execution_count": null,
   "metadata": {},
   "outputs": [],
   "source": []
  },
  {
   "cell_type": "code",
   "execution_count": 21,
   "metadata": {},
   "outputs": [
    {
     "data": {
      "text/plain": [
       "'californiaassociationofnonprofit'"
      ]
     },
     "execution_count": 21,
     "metadata": {},
     "output_type": "execute_result"
    }
   ],
   "source": [
    "def preprocess_name(x):\n",
    "    x = str(x)\n",
    "    x = (x.lower() + \".\").replace(\"assn\", \"association\").replace(\"assoc.\", \"association\")\n",
    "    x = x.replace(\"non-\", \"non \")\n",
    "    x = x.split(\"pac\")[0]\n",
    "    x = x.split(\"(\")[0]\n",
    "    x = x.split(\"\\\\\")[0]\n",
    "    x = x.split(\"/\")[0]\n",
    "    x = x.split(\"-\")[0]\n",
    "    x = re.sub(r'\\bassoc\\b', \"association\", x)\n",
    "    x = re.sub(r'\\bcorporation\\b', \"\", x)\n",
    "    x = re.sub(r'\\bgroup\\b', \"\", x)\n",
    "    x = re.sub(r'\\bdept\\b', \"department\", x)\n",
    "    x = re.sub(r'\\badmin\\b', \"administrative\", x)\n",
    "    x = re.sub(r'\\bemp\\b', \"employment\", x)\n",
    "    x = re.sub(r'\\bpro\\b', \"professional\", x)\n",
    "    x = re.sub(r'\\bco\\b', \"\", x)\n",
    "    x = re.sub(r'\\bcalif\\b', \"california\", x)\n",
    "    x = re.sub(r'\\bcal\\b', \"california\", x)\n",
    "    x = re.sub(r'\\bcompanies\\b', \"\", x)\n",
    "    x = re.sub(r'\\bcompany\\b', \"\", x)\n",
    "    x = x.replace(\"&\", \" and \")\n",
    "    x = x.replace(\"exp.\", \"expenditures\")\n",
    "    x = x.replace(\"inc\", \"\")\n",
    "    x = x.replace(\"llc\", \"\")\n",
    "    x = x.replace(\"llp\", \"\")\n",
    "    x = x.replace(\"lp\", \"\")\n",
    "    x = x.replace(\"'s\", \"\")\n",
    "    x = re.sub(r\",|\\.|'|`|\\\"|!\", \"\", x)\n",
    "    x = re.sub( '\\s+', ' ', x).strip()\n",
    "    x = re.sub(r'\\bca\\b', \"california\", x)\n",
    "    x = re.sub(r'\\bnv\\b', \"nevada\", x)\n",
    "    x = \"\".join([word[:-1] if word.endswith(\"s\") else word for word in x.split(\" \")])\n",
    "    return x.strip()\n",
    "\n",
    "def preprocess_df(df):      \n",
    "    df[\"processed_name\"] = df[\"name\"].apply(preprocess_name)\n",
    "    df[\"city\"] = df[\"city\"].str.lower()\n",
    "    df[\"stateHeadquartered\"] = data[\"stateHeadquartered\"].str.lower()\n",
    "    return df\n",
    "\n",
    "preprocess_name('california association of non-profit')"
   ]
  },
  {
   "cell_type": "code",
   "execution_count": 9,
   "metadata": {},
   "outputs": [
    {
     "data": {
      "text/plain": [
       "{'calder race course': Int64Index([139076, 153509], dtype='int64', name='oid'),\n",
       " 'centene corp': Int64Index([137065, 144892], dtype='int64', name='oid'),\n",
       " 'central florida citizen for justice': Int64Index([139006, 144786], dtype='int64', name='oid'),\n",
       " 'chevron corp': Int64Index([137580, 144867, 144958, 153510], dtype='int64', name='oid'),\n",
       " 'city of fresno': Int64Index([ 7873, 22459, 48854, 58222, 58223, 58268, 58269, 58289, 58290,\n",
       "             58306, 58307, 61624, 61629, 61636, 71059],\n",
       "            dtype='int64', name='oid'),\n",
       " 'closter farm': Int64Index([138802, 153493], dtype='int64', name='oid'),\n",
       " 'comcast': Int64Index([32780, 121513, 144763, 144781, 151317, 153424], dtype='int64', name='oid'),\n",
       " 'conservative priple for florida': Int64Index([138619, 153483, 153648, 153651], dtype='int64', name='oid')}"
      ]
     },
     "execution_count": 9,
     "metadata": {},
     "output_type": "execute_result"
    }
   ],
   "source": [
    "data = pd.read_csv(\"data.csv\")\n",
    "data.set_index(\"oid\", inplace=True)\n",
    "data = preprocess_df(data)\n",
    "data.groupby([\"processed_name\"]).groups"
   ]
  },
  {
   "cell_type": "code",
   "execution_count": 20,
   "metadata": {},
   "outputs": [
    {
     "data": {
      "text/plain": [
       "145"
      ]
     },
     "execution_count": 20,
     "metadata": {},
     "output_type": "execute_result"
    }
   ],
   "source": [
    "data200 = pd.read_csv(\"data200.csv\")\n",
    "data200.set_index(\"oid\", inplace=True)\n",
    "data200 = preprocess_df(data200);\n",
    "len(data200.groupby([\"processed_name\"]).groups)"
   ]
  },
  {
   "cell_type": "code",
   "execution_count": 22,
   "metadata": {},
   "outputs": [
    {
     "data": {
      "text/plain": [
       "308"
      ]
     },
     "execution_count": 22,
     "metadata": {},
     "output_type": "execute_result"
    }
   ],
   "source": [
    "data500 = pd.read_csv(\"data500.csv\")\n",
    "data500.set_index(\"oid\", inplace=True)\n",
    "data500 = preprocess_df(data500)\n",
    "len(data500.groupby([\"processed_name\"]).groups)"
   ]
  },
  {
   "cell_type": "code",
   "execution_count": 25,
   "metadata": {
    "scrolled": true
   },
   "outputs": [
    {
     "data": {
      "text/plain": [
       "1156"
      ]
     },
     "execution_count": 25,
     "metadata": {},
     "output_type": "execute_result"
    }
   ],
   "source": [
    "data2k = pd.read_csv(\"data2k.csv\")\n",
    "data2k.set_index(\"oid\", inplace=True)\n",
    "data2k = preprocess_df(data2k)\n",
    "len(data2k.groupby([\"processed_name\"]))"
   ]
  },
  {
   "cell_type": "code",
   "execution_count": 26,
   "metadata": {},
   "outputs": [
    {
     "data": {
      "text/plain": [
       "14108"
      ]
     },
     "execution_count": 26,
     "metadata": {},
     "output_type": "execute_result"
    }
   ],
   "source": [
    "data20k = pd.read_csv(\"data20k.csv\")\n",
    "data20k.set_index(\"oid\", inplace=True)\n",
    "data20k = preprocess_df(data20k)\n",
    "len(data20k.groupby([\"processed_name\"]).groups)"
   ]
  },
  {
   "cell_type": "code",
   "execution_count": 28,
   "metadata": {},
   "outputs": [],
   "source": [
    "dataAll = pd.read_csv(\"dataAll.csv\")\n",
    "dataAll.set_index(\"oid\", inplace=True)\n",
    "dataAll = preprocess_df(dataAll)\n",
    "allGroups = dataAll.groupby([\"processed_name\"]) #.count().to_csv(\"trimmed.csv\")"
   ]
  },
  {
   "cell_type": "code",
   "execution_count": 49,
   "metadata": {},
   "outputs": [
    {
     "data": {
      "text/html": [
       "<div>\n",
       "<style scoped>\n",
       "    .dataframe tbody tr th:only-of-type {\n",
       "        vertical-align: middle;\n",
       "    }\n",
       "\n",
       "    .dataframe tbody tr th {\n",
       "        vertical-align: top;\n",
       "    }\n",
       "\n",
       "    .dataframe thead th {\n",
       "        text-align: right;\n",
       "    }\n",
       "</style>\n",
       "<table border=\"1\" class=\"dataframe\">\n",
       "  <thead>\n",
       "    <tr style=\"text-align: right;\">\n",
       "      <th></th>\n",
       "      <th>name</th>\n",
       "      <th>city</th>\n",
       "      <th>stateHeadquartered</th>\n",
       "      <th>processed_name</th>\n",
       "    </tr>\n",
       "    <tr>\n",
       "      <th>oid</th>\n",
       "      <th></th>\n",
       "      <th></th>\n",
       "      <th></th>\n",
       "      <th></th>\n",
       "    </tr>\n",
       "  </thead>\n",
       "  <tbody>\n",
       "    <tr>\n",
       "      <th>134789.0</th>\n",
       "      <td>#cut50</td>\n",
       "      <td>NaN</td>\n",
       "      <td>NaN</td>\n",
       "      <td>#cut50</td>\n",
       "    </tr>\n",
       "    <tr>\n",
       "      <th>138087.0</th>\n",
       "      <td>#cut50</td>\n",
       "      <td>NaN</td>\n",
       "      <td>NaN</td>\n",
       "      <td>#cut50</td>\n",
       "    </tr>\n",
       "    <tr>\n",
       "      <th>174612.0</th>\n",
       "      <td>#Cut 50</td>\n",
       "      <td>NaN</td>\n",
       "      <td>NaN</td>\n",
       "      <td>#cut50</td>\n",
       "    </tr>\n",
       "  </tbody>\n",
       "</table>\n",
       "</div>"
      ],
      "text/plain": [
       "             name city stateHeadquartered processed_name\n",
       "oid                                                     \n",
       "134789.0   #cut50  NaN                NaN         #cut50\n",
       "138087.0   #cut50  NaN                NaN         #cut50\n",
       "174612.0  #Cut 50  NaN                NaN         #cut50"
      ]
     },
     "execution_count": 49,
     "metadata": {},
     "output_type": "execute_result"
    }
   ],
   "source": [
    "allGroups.get_group('#cut50')"
   ]
  },
  {
   "cell_type": "code",
   "execution_count": 53,
   "metadata": {},
   "outputs": [
    {
     "name": "stdout",
     "output_type": "stream",
     "text": [
      "+l+oelectric\n",
      "                    name city stateHeadquartered processed_name\n",
      "oid                                                            \n",
      "179149.0  + L+O Electric  NaN                NaN   +l+oelectric\n",
      "+nasga\n",
      "                   name city stateHeadquartered processed_name\n",
      "oid                                                           \n",
      "179554.0  + NASGA Group  NaN                NaN         +nasga\n",
      "+statutoryprobatejudgeoftexa\n",
      "                                         name city stateHeadquartered  \\\n",
      "oid                                                                     \n",
      "179553.0  + Statutory Probate Judges of Texas  NaN                NaN   \n",
      "\n",
      "                        processed_name  \n",
      "oid                                     \n",
      "179553.0  +statutoryprobatejudgeoftexa  \n",
      "001gatepetroleum\n",
      "                           name city stateHeadquartered    processed_name\n",
      "oid                                                                      \n",
      "139424.0  001 GATE PETROLEUM CO  NaN                NaN  001gatepetroleum\n",
      "001gatepetroleumcorporateadministration\n",
      "                                                       name city  \\\n",
      "oid                                                                \n",
      "141303.0  001 GATE PETROLEUM COMPANY CORPORATE ADMINISTR...  NaN   \n",
      "\n",
      "         stateHeadquartered                           processed_name  \n",
      "oid                                                                   \n",
      "141303.0                NaN  001gatepetroleumcorporateadministration  \n",
      "07studio\n",
      "               name           city stateHeadquartered processed_name\n",
      "oid                                                                 \n",
      "66385.0  07 Studios  san francisco                NaN       07studio\n",
      "1\n",
      "                                          name       city stateHeadquartered  \\\n",
      "oid                                                                            \n",
      "293.0                     1-800 Contacts, Inc.        NaN                NaN   \n",
      "101557.0                          1-Individual        NaN                NaN   \n",
      "103528.0            1-Heart Caregiver Services        NaN                NaN   \n",
      "121772.0  1-800-411 Pain Referral Service, LLC  hollywood                NaN   \n",
      "124774.0                   1-800 Contacts, Inc     draper                NaN   \n",
      "131284.0                          1-Individual        NaN                NaN   \n",
      "138674.0                        1-800 CONTACTS        NaN                NaN   \n",
      "172364.0                1-800-MY-DRUG-INFO INC        NaN                NaN   \n",
      "172365.0                   1-800-DONOTCALL INC        NaN                NaN   \n",
      "\n",
      "         processed_name  \n",
      "oid                      \n",
      "293.0                 1  \n",
      "101557.0              1  \n",
      "103528.0              1  \n",
      "121772.0              1  \n",
      "124774.0              1  \n",
      "131284.0              1  \n",
      "138674.0              1  \n",
      "172364.0              1  \n",
      "172365.0              1  \n",
      "10\n",
      "                        name city stateHeadquartered processed_name\n",
      "oid                                                                \n",
      "139011.0  10-S TENNIS SUPPLY  NaN                NaN             10\n",
      "150135.0     10-Needham Inc.  NaN                NaN             10\n",
      "10)authorstatement:accordingtotheauthor\n",
      "                                                       name city  \\\n",
      "oid                                                                \n",
      "105775.0  10)Author's Statement:  According to the autho...  NaN   \n",
      "\n",
      "         stateHeadquartered                           processed_name  \n",
      "oid                                                                   \n",
      "105775.0                NaN  10)authorstatement:accordingtotheauthor  \n",
      "10)policycomment\n",
      "                        name city stateHeadquartered    processed_name\n",
      "oid                                                                   \n",
      "96561.0  10)POLICY COMMENTS.  NaN                NaN  10)policycomment\n"
     ]
    }
   ],
   "source": [
    "for k in list(allGroups.groups.keys())[20:30]:\n",
    "    print(k)\n",
    "    print(allGroups.get_group(k))"
   ]
  }
 ],
 "metadata": {
  "kernelspec": {
   "display_name": "Python 3",
   "language": "python",
   "name": "python3"
  },
  "language_info": {
   "codemirror_mode": {
    "name": "ipython",
    "version": 3
   },
   "file_extension": ".py",
   "mimetype": "text/x-python",
   "name": "python",
   "nbconvert_exporter": "python",
   "pygments_lexer": "ipython3",
   "version": "3.6.3"
  }
 },
 "nbformat": 4,
 "nbformat_minor": 1
}
