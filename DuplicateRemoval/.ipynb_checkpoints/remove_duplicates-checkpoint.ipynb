{
 "cells": [
  {
   "cell_type": "code",
   "execution_count": 49,
   "metadata": {
    "collapsed": false
   },
   "outputs": [],
   "source": [
    "from remove_duplicates import *\n",
    "%reload_ext autoreload\n",
    "%autoreload 2"
   ]
  },
  {
   "cell_type": "code",
   "execution_count": 81,
   "metadata": {
    "collapsed": false
   },
   "outputs": [],
   "source": [
    "org_df = None\n",
    "with pymysql.connect(**CONN_INFO) as cursor:\n",
    "        query = \"\"\"SELECT oid, name\n",
    "                   FROM Organizations\"\"\"\n",
    "        cursor.execute(query)\n",
    "\n",
    "        org_lists = [[oid, name] for oid, name in cursor]\n",
    "        org_df = pd.DataFrame(org_lists, columns=['oid', 'name'])\n"
   ]
  },
  {
   "cell_type": "code",
   "execution_count": 24,
   "metadata": {
    "collapsed": false
   },
   "outputs": [],
   "source": [
    "# org_df = org_df.sample(1000)"
   ]
  },
  {
   "cell_type": "code",
   "execution_count": 82,
   "metadata": {
    "collapsed": false
   },
   "outputs": [],
   "source": [
    "org_df['normed_name'] = org_df['name'].apply(norm_name)\n",
    "org_df['hard_coded_name'] = org_df['normed_name'].apply(hard_coded_matches)"
   ]
  },
  {
   "cell_type": "code",
   "execution_count": null,
   "metadata": {
    "collapsed": true
   },
   "outputs": [],
   "source": [
    "cpy_org_df = org_df.copy()"
   ]
  },
  {
   "cell_type": "code",
   "execution_count": null,
   "metadata": {
    "collapsed": false
   },
   "outputs": [],
   "source": [
    "org_df['matched_indices'] = org_df.apply(lambda row: match_other_rows(row, cpy_org_df), axis=1)"
   ]
  },
  {
   "cell_type": "code",
   "execution_count": null,
   "metadata": {
    "collapsed": true
   },
   "outputs": [],
   "source": [
    "# Yes, this needs to happen twice\n",
    "cpy_org_df = org_df.copy()"
   ]
  },
  {
   "cell_type": "code",
   "execution_count": null,
   "metadata": {
    "collapsed": false
   },
   "outputs": [],
   "source": [
    "org_df['delete'] = org_df.apply(lambda row: mark_rows_for_deletion(row, cpy_org_df), axis=1)"
   ]
  },
  {
   "cell_type": "code",
   "execution_count": null,
   "metadata": {
    "collapsed": false
   },
   "outputs": [],
   "source": [
    "cpy_org_df = org_df.copy()"
   ]
  },
  {
   "cell_type": "code",
   "execution_count": null,
   "metadata": {
    "collapsed": true
   },
   "outputs": [],
   "source": [
    "org_df = org_df[~org_df['delete']]"
   ]
  },
  {
   "cell_type": "code",
   "execution_count": 43,
   "metadata": {
    "collapsed": false
   },
   "outputs": [],
   "source": [
    "# The following code is used for making your duplicate spreadsheet\n",
    "org_df = org_df[org_df['matched_indices'].apply(len) > 0]"
   ]
  },
  {
   "cell_type": "code",
   "execution_count": 67,
   "metadata": {
    "collapsed": false
   },
   "outputs": [],
   "source": [
    "output = org_df.apply(lambda row: join_dup_org_names(row, cpy_org_df), axis=1)"
   ]
  },
  {
   "cell_type": "code",
   "execution_count": 69,
   "metadata": {
    "collapsed": false
   },
   "outputs": [],
   "source": [
    "mx = org_df['matched_indices'].apply(len).max()"
   ]
  },
  {
   "cell_type": "code",
   "execution_count": 74,
   "metadata": {
    "collapsed": false
   },
   "outputs": [],
   "source": [
    "columns = ['name',\n",
    "           'hard_coded_name',\n",
    "           'normed_name',\n",
    "           'oid']\n",
    "for i in range(1, mx+1):\n",
    "    columns.append('name_' + str(i))\n",
    "    columns.append('oid_' + str(i))"
   ]
  },
  {
   "cell_type": "code",
   "execution_count": 76,
   "metadata": {
    "collapsed": true
   },
   "outputs": [],
   "source": [
    "output = output[columns]"
   ]
  },
  {
   "cell_type": "code",
   "execution_count": 80,
   "metadata": {
    "collapsed": false
   },
   "outputs": [],
   "source": [
    "output.to_csv('duplicate_removal_final.csv', index=False)"
   ]
  },
  {
   "cell_type": "code",
   "execution_count": 13,
   "metadata": {
    "collapsed": false
   },
   "outputs": [
    {
     "name": "stdout",
     "output_type": "stream",
     "text": [
      "10 loops, best of 3: 126 ms per loop\n"
     ]
    }
   ],
   "source": [
    "%%timeit\n",
    "d = org_df['name'].apply(lambda name: l_distance(name, 'Sierra Club'))"
   ]
  }
 ],
 "metadata": {
  "anaconda-cloud": {},
  "kernelspec": {
   "display_name": "Python [Root]",
   "language": "python",
   "name": "Python [Root]"
  }
 },
 "nbformat": 4,
 "nbformat_minor": 0
}
