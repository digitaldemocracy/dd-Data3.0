{
 "cells": [
  {
   "cell_type": "code",
   "execution_count": 1,
   "metadata": {
    "collapsed": false
   },
   "outputs": [],
   "source": [
    "from AlignmentMeter import *\n",
    "%reload_ext autoreload\n",
    "%autoreload 2"
   ]
  },
  {
   "cell_type": "code",
   "execution_count": 285,
   "metadata": {
    "collapsed": true
   },
   "outputs": [],
   "source": [
    "from datetime import datetime"
   ]
  },
  {
   "cell_type": "code",
   "execution_count": 132,
   "metadata": {
    "collapsed": false
   },
   "outputs": [],
   "source": [
    "leg_votes_df = pickle.load(open('leg_votes_df.p', 'rb'))"
   ]
  },
  {
   "cell_type": "code",
   "execution_count": 37,
   "metadata": {
    "collapsed": true
   },
   "outputs": [],
   "source": [
    "oid_alignments_df = pickle.load(open('oid_alignments_df.p', 'rb'))"
   ]
  },
  {
   "cell_type": "code",
   "execution_count": 342,
   "metadata": {
    "collapsed": true
   },
   "outputs": [],
   "source": [
    "org_alignments_df = pickle.load(open('org_alignments_df.p', 'rb'))"
   ]
  },
  {
   "cell_type": "code",
   "execution_count": 303,
   "metadata": {
    "collapsed": true
   },
   "outputs": [],
   "source": [
    "concept_alignments_df = pickle.load(open('concept_alignments_df.p', 'rb'))"
   ]
  },
  {
   "cell_type": "code",
   "execution_count": 483,
   "metadata": {
    "collapsed": false
   },
   "outputs": [],
   "source": [
    "alignments_df = pickle.load(open('alignments_df.p', 'rb'))"
   ]
  },
  {
   "cell_type": "code",
   "execution_count": 43,
   "metadata": {
    "collapsed": false
   },
   "outputs": [],
   "source": [
    "strata_df = pickle.load(open('strata_df.p', 'rb'))"
   ]
  },
  {
   "cell_type": "code",
   "execution_count": 44,
   "metadata": {
    "collapsed": false
   },
   "outputs": [],
   "source": [
    "strata_df_prod = pickle.load(open('strata_df_prod.p', 'rb'))"
   ]
  },
  {
   "cell_type": "code",
   "execution_count": 2,
   "metadata": {
    "collapsed": false
   },
   "outputs": [],
   "source": [
    "votes_strata_df = pickle.load(open('votes_strata_df.p', 'rb'))"
   ]
  },
  {
   "cell_type": "code",
   "execution_count": 486,
   "metadata": {
    "collapsed": true
   },
   "outputs": [],
   "source": [
    "scores_df = pickle.load(open('scores_df.p', 'rb'))"
   ]
  },
  {
   "cell_type": "code",
   "execution_count": 37,
   "metadata": {
    "collapsed": false
   },
   "outputs": [],
   "source": [
    "alignment_votes_df = pickle.load(open('alignment_votes_df.p', 'rb'))"
   ]
  },
  {
   "cell_type": "code",
   "execution_count": 7,
   "metadata": {
    "collapsed": false
   },
   "outputs": [],
   "source": [
    "leg_scores_df = pickle.load(open('leg_scores_df.p', 'rb'))"
   ]
  },
  {
   "cell_type": "code",
   "execution_count": 28,
   "metadata": {
    "collapsed": false
   },
   "outputs": [],
   "source": [
    "leg_scores_alt_df = pickle.load(open('leg_scores_alt_df.p', 'rb'))"
   ]
  },
  {
   "cell_type": "code",
   "execution_count": 33,
   "metadata": {
    "collapsed": false
   },
   "outputs": [],
   "source": [
    "alignment_row = pickle.load(open('alignment_row.p', 'rb'))"
   ]
  },
  {
   "cell_type": "code",
   "execution_count": 252,
   "metadata": {
    "collapsed": false
   },
   "outputs": [],
   "source": [
    "g_df = pickle.load(open('g_df.p', 'rb'))"
   ]
  },
  {
   "cell_type": "code",
   "execution_count": 81,
   "metadata": {
    "collapsed": false
   },
   "outputs": [],
   "source": [
    "group_df = pickle.load(open('group_df.p', 'rb'))"
   ]
  },
  {
   "cell_type": "code",
   "execution_count": 83,
   "metadata": {
    "collapsed": false
   },
   "outputs": [],
   "source": [
    "df = pickle.load(open('df.p', 'rb'))"
   ]
  },
  {
   "cell_type": "code",
   "execution_count": 218,
   "metadata": {
    "collapsed": true
   },
   "outputs": [],
   "source": [
    "oid_alignments_df = pickle.load(open('oid_alignments_df_test1.p', 'rb'))"
   ]
  },
  {
   "cell_type": "code",
   "execution_count": 111,
   "metadata": {
    "collapsed": false
   },
   "outputs": [],
   "source": [
    "scores_df_lst = pickle.load(open('scores_df_lst_final.p', 'rb'))"
   ]
  },
  {
   "cell_type": "code",
   "execution_count": 6,
   "metadata": {
    "collapsed": true
   },
   "outputs": [],
   "source": [
    "org_alignments_df = pickle.load(open('concept_alignments_df.p', 'rb'))"
   ]
  },
  {
   "cell_type": "code",
   "execution_count": null,
   "metadata": {
    "collapsed": true
   },
   "outputs": [],
   "source": []
  },
  {
   "cell_type": "code",
   "execution_count": null,
   "metadata": {
    "collapsed": true
   },
   "outputs": [],
   "source": []
  },
  {
   "cell_type": "code",
   "execution_count": 133,
   "metadata": {
    "collapsed": false
   },
   "outputs": [
    {
     "data": {
      "text/plain": [
       "Index(['pid', 'voteId', 'result', 'state', 'lastTouched', 'dr_id',\n",
       "       'lastTouched_ts', 'bid', 'date', 'hid', 'first', 'middle', 'last'],\n",
       "      dtype='object')"
      ]
     },
     "execution_count": 133,
     "metadata": {},
     "output_type": "execute_result"
    }
   ],
   "source": [
    "leg_votes_df.columns"
   ]
  },
  {
   "cell_type": "code",
   "execution_count": 147,
   "metadata": {
    "collapsed": true
   },
   "outputs": [],
   "source": [
    "org_alignments_df = org_alignments_df.drop_duplicates(['oid', 'bid', 'hid'])"
   ]
  },
  {
   "cell_type": "code",
   "execution_count": null,
   "metadata": {
    "collapsed": true
   },
   "outputs": [],
   "source": [
    "def get_positions(g):\n",
    "    out = 1\n",
    "    alignments = g['alignment']\n",
    "    last = alignments.iloc[0]\n",
    "    for a in alignments.iloc[1:]:\n",
    "        if a != last:\n",
    "            out += 1\n",
    "        last = a\n",
    "    return out        "
   ]
  },
  {
   "cell_type": "code",
   "execution_count": 134,
   "metadata": {
    "collapsed": true
   },
   "outputs": [],
   "source": [
    "def get_position_info(full_df, org_alignments_df, leg_votes_df):\n",
    "    df_j = org_alignments_df.merge(full_df, how='inner', on=['bid', 'oid'])\n",
    "\n",
    "    groups = df_j.groupby(['pid', 'oid', 'bid'])\n",
    "    positions = groups.apply(get_positions).reset_index().rename(columns={0: 'positions'})\n",
    "    df = org_alignments_df.groupby(['bid', 'oid'])['date'].apply(min).reset_index()\n",
    "\n",
    "    aff_df = df.merge(leg_votes_df, how='inner', on=['bid'], suffixes=['_leg', '_org'])\n",
    "    aff_df = aff_df[aff_df['date_leg'] >= aff_df['date_org']]\n",
    "    groups = aff_df.groupby(['oid', 'bid', 'pid'])\n",
    "\n",
    "    affirmations = groups.apply(len).reset_index().rename(columns={0: 'affirmations'})\n",
    "    df = positions.merge(affirmations, on=['oid', 'bid', 'pid'])\n",
    "    \n",
    "    return df.merge(full_df, on=['pid', 'oid', 'bid'])"
   ]
  },
  {
   "cell_type": "code",
   "execution_count": 112,
   "metadata": {
    "collapsed": true
   },
   "outputs": [],
   "source": [
    "full_df = pd.concat(scores_df_lst)"
   ]
  },
  {
   "cell_type": "code",
   "execution_count": 148,
   "metadata": {
    "collapsed": true
   },
   "outputs": [],
   "source": [
    "out = get_position_info(full_df, org_alignments_df, leg_votes_df)"
   ]
  },
  {
   "cell_type": "code",
   "execution_count": 152,
   "metadata": {
    "collapsed": false
   },
   "outputs": [
    {
     "data": {
      "text/plain": [
       "2"
      ]
     },
     "execution_count": 152,
     "metadata": {},
     "output_type": "execute_result"
    }
   ],
   "source": [
    "out.positions.max()"
   ]
  },
  {
   "cell_type": "code",
   "execution_count": 137,
   "metadata": {
    "collapsed": false
   },
   "outputs": [
    {
     "data": {
      "text/plain": [
       "Index(['pid', 'oid', 'bid', 'positions', 'affirmations', 'aligned_votes',\n",
       "       'alignment_percentage', 'total_votes'],\n",
       "      dtype='object')"
      ]
     },
     "execution_count": 137,
     "metadata": {},
     "output_type": "execute_result"
    }
   ],
   "source": [
    "out.columns"
   ]
  },
  {
   "cell_type": "code",
   "execution_count": 188,
   "metadata": {
    "collapsed": true
   },
   "outputs": [],
   "source": [
    "cnxn = pymysql.connect(**CONN_INFO)"
   ]
  },
  {
   "cell_type": "code",
   "execution_count": 183,
   "metadata": {
    "collapsed": false
   },
   "outputs": [
    {
     "name": "stderr",
     "output_type": "stream",
     "text": [
      "C:\\Users\\andre\\Anaconda3\\lib\\site-packages\\pandas\\core\\generic.py:1165: FutureWarning: The 'mysql' flavor with DBAPI connection is deprecated and will be removed in future versions. MySQL will be further supported with SQLAlchemy connectables.\n",
      "  chunksize=chunksize, dtype=dtype)\n"
     ]
    }
   ],
   "source": [
    "df.to_sql('BillAlignmentScoresAndrew', cnxn, flavor='mysql', if_exists='replace', index=False)"
   ]
  },
  {
   "cell_type": "code",
   "execution_count": 189,
   "metadata": {
    "collapsed": false
   },
   "outputs": [
    {
     "name": "stderr",
     "output_type": "stream",
     "text": [
      "C:\\Users\\andre\\Anaconda3\\lib\\site-packages\\pandas\\core\\generic.py:1165: FutureWarning: The 'mysql' flavor with DBAPI connection is deprecated and will be removed in future versions. MySQL will be further supported with SQLAlchemy connectables.\n",
      "  chunksize=chunksize, dtype=dtype)\n"
     ]
    }
   ],
   "source": [
    "data_df = make_data_table(org_alignments_df, leg_votes_df)\n",
    "data_df.to_sql('AlignmentScoresData', cnxn, flavor='mysql', if_exists='replace', index=False)"
   ]
  },
  {
   "cell_type": "code",
   "execution_count": null,
   "metadata": {
    "collapsed": true
   },
   "outputs": [],
   "source": []
  },
  {
   "cell_type": "code",
   "execution_count": null,
   "metadata": {
    "collapsed": true
   },
   "outputs": [],
   "source": []
  },
  {
   "cell_type": "code",
   "execution_count": null,
   "metadata": {
    "collapsed": true
   },
   "outputs": [],
   "source": []
  },
  {
   "cell_type": "code",
   "execution_count": null,
   "metadata": {
    "collapsed": true
   },
   "outputs": [],
   "source": []
  },
  {
   "cell_type": "code",
   "execution_count": 374,
   "metadata": {
    "collapsed": true
   },
   "outputs": [],
   "source": [
    "cnxn = pymysql.connect(**CONN_INFO)"
   ]
  },
  {
   "cell_type": "code",
   "execution_count": 378,
   "metadata": {
    "collapsed": false
   },
   "outputs": [],
   "source": [
    "cursor = cnxn.cursor()\n",
    "query = '''UPDATE AlignmentScoresExtraInfo \n",
    "           SET positions_registered = %s\n",
    "           WHERE oid = %s'''\n",
    "counts = org_alignments_df.groupby('oid')['oid'].count()\n",
    "for oid, count in counts.iteritems():\n",
    "#     print(oid)\n",
    "    cursor.execute(query % (count, oid))\n",
    "cnxn.commit()"
   ]
  },
  {
   "cell_type": "code",
   "execution_count": 379,
   "metadata": {
    "collapsed": false
   },
   "outputs": [],
   "source": [
    "cursor = cnxn.cursor()\n",
    "query = '''UPDATE AlignmentScoresAggregated\n",
    "           SET positions_registered = %s\n",
    "           WHERE oid = %s'''\n",
    "counts = org_alignments_df.groupby('oid')['oid'].count()\n",
    "for oid, count in counts.iteritems():\n",
    "#     print(oid)\n",
    "    cursor.execute(query % (count, oid))\n",
    "cnxn.commit()"
   ]
  },
  {
   "cell_type": "code",
   "execution_count": 384,
   "metadata": {
    "collapsed": false
   },
   "outputs": [
    {
     "name": "stdout",
     "output_type": "stream",
     "text": [
      "-21 502\n",
      "-20 434\n",
      "-19 241\n",
      "-18 183\n",
      "-17 229\n",
      "-16 420\n",
      "-15 291\n",
      "-14 507\n",
      "-13 151\n",
      "-12 152\n",
      "-11 203\n",
      "-10 173\n",
      "-9 169\n",
      "-8 252\n",
      "-7 253\n",
      "-6 258\n",
      "-5 403\n",
      "-4 576\n",
      "-3 557\n",
      "-2 153\n",
      "-1 342\n"
     ]
    }
   ],
   "source": [
    "counts = org_alignments_df.groupby('oid')['oid'].apply(len)\n",
    "for oid, count in counts.iteritems():\n",
    "    print(oid, count)"
   ]
  },
  {
   "cell_type": "code",
   "execution_count": null,
   "metadata": {
    "collapsed": true
   },
   "outputs": [],
   "source": []
  },
  {
   "cell_type": "code",
   "execution_count": 335,
   "metadata": {
    "collapsed": false
   },
   "outputs": [
    {
     "data": {
      "text/html": [
       "<div>\n",
       "<table border=\"1\" class=\"dataframe\">\n",
       "  <thead>\n",
       "    <tr style=\"text-align: right;\">\n",
       "      <th></th>\n",
       "      <th>oid</th>\n",
       "      <th>bid</th>\n",
       "      <th>hid</th>\n",
       "      <th>alignment</th>\n",
       "      <th>date</th>\n",
       "      <th>org_name</th>\n",
       "    </tr>\n",
       "  </thead>\n",
       "  <tbody>\n",
       "    <tr>\n",
       "      <th>279</th>\n",
       "      <td>-16</td>\n",
       "      <td>CA_201520160AB1584</td>\n",
       "      <td>1412</td>\n",
       "      <td>For</td>\n",
       "      <td>2016-06-28</td>\n",
       "      <td>American Civil Liberties Union of California</td>\n",
       "    </tr>\n",
       "    <tr>\n",
       "      <th>280</th>\n",
       "      <td>-16</td>\n",
       "      <td>CA_201520160AB1726</td>\n",
       "      <td>1378</td>\n",
       "      <td>For</td>\n",
       "      <td>2016-06-22</td>\n",
       "      <td>American Civil Liberties Union of California</td>\n",
       "    </tr>\n",
       "    <tr>\n",
       "      <th>281</th>\n",
       "      <td>-16</td>\n",
       "      <td>CA_201520160AB1770</td>\n",
       "      <td>1412</td>\n",
       "      <td>For</td>\n",
       "      <td>2016-06-28</td>\n",
       "      <td>American Civil Liberties Union of California</td>\n",
       "    </tr>\n",
       "    <tr>\n",
       "      <th>282</th>\n",
       "      <td>-16</td>\n",
       "      <td>CA_201520160AB2320</td>\n",
       "      <td>1015</td>\n",
       "      <td>Against</td>\n",
       "      <td>2016-04-20</td>\n",
       "      <td>American Civil Liberties Union of California</td>\n",
       "    </tr>\n",
       "    <tr>\n",
       "      <th>283</th>\n",
       "      <td>-16</td>\n",
       "      <td>CA_201520160AB2389</td>\n",
       "      <td>1098</td>\n",
       "      <td>For</td>\n",
       "      <td>2016-05-04</td>\n",
       "      <td>American Civil Liberties Union of California</td>\n",
       "    </tr>\n",
       "    <tr>\n",
       "      <th>284</th>\n",
       "      <td>-16</td>\n",
       "      <td>CA_201520160AB267</td>\n",
       "      <td>318</td>\n",
       "      <td>For</td>\n",
       "      <td>2015-06-16</td>\n",
       "      <td>American Civil Liberties Union of California</td>\n",
       "    </tr>\n",
       "    <tr>\n",
       "      <th>285</th>\n",
       "      <td>-16</td>\n",
       "      <td>CA_201520160AB696</td>\n",
       "      <td>318</td>\n",
       "      <td>For</td>\n",
       "      <td>2015-06-16</td>\n",
       "      <td>American Civil Liberties Union of California</td>\n",
       "    </tr>\n",
       "    <tr>\n",
       "      <th>286</th>\n",
       "      <td>-16</td>\n",
       "      <td>CA_201520160AB718</td>\n",
       "      <td>232</td>\n",
       "      <td>For</td>\n",
       "      <td>2015-05-13</td>\n",
       "      <td>American Civil Liberties Union of California</td>\n",
       "    </tr>\n",
       "    <tr>\n",
       "      <th>287</th>\n",
       "      <td>-16</td>\n",
       "      <td>CA_201520160SB1036</td>\n",
       "      <td>1309</td>\n",
       "      <td>Against</td>\n",
       "      <td>2016-06-14</td>\n",
       "      <td>American Civil Liberties Union of California</td>\n",
       "    </tr>\n",
       "    <tr>\n",
       "      <th>288</th>\n",
       "      <td>-16</td>\n",
       "      <td>CA_201520160SB589</td>\n",
       "      <td>393</td>\n",
       "      <td>For</td>\n",
       "      <td>2015-07-07</td>\n",
       "      <td>American Civil Liberties Union of California</td>\n",
       "    </tr>\n",
       "    <tr>\n",
       "      <th>289</th>\n",
       "      <td>-16</td>\n",
       "      <td>CA_201520160SB999</td>\n",
       "      <td>1395</td>\n",
       "      <td>For</td>\n",
       "      <td>2016-06-28</td>\n",
       "      <td>American Civil Liberties Union of California</td>\n",
       "    </tr>\n",
       "    <tr>\n",
       "      <th>290</th>\n",
       "      <td>-16</td>\n",
       "      <td>CA_20162017BUD2740</td>\n",
       "      <td>1100</td>\n",
       "      <td>Against</td>\n",
       "      <td>2016-05-04</td>\n",
       "      <td>American Civil Liberties Union of California</td>\n",
       "    </tr>\n",
       "    <tr>\n",
       "      <th>291</th>\n",
       "      <td>-16</td>\n",
       "      <td>CA_201520160AB1726</td>\n",
       "      <td>1414</td>\n",
       "      <td>For</td>\n",
       "      <td>2016-06-29</td>\n",
       "      <td>American Civil Liberties Union of California</td>\n",
       "    </tr>\n",
       "    <tr>\n",
       "      <th>292</th>\n",
       "      <td>-16</td>\n",
       "      <td>CA_201520160AB827</td>\n",
       "      <td>404</td>\n",
       "      <td>For</td>\n",
       "      <td>2015-07-08</td>\n",
       "      <td>American Civil Liberties Union of California</td>\n",
       "    </tr>\n",
       "    <tr>\n",
       "      <th>293</th>\n",
       "      <td>-16</td>\n",
       "      <td>CA_201520160SB251</td>\n",
       "      <td>393</td>\n",
       "      <td>Against</td>\n",
       "      <td>2015-07-07</td>\n",
       "      <td>American Civil Liberties Union of California</td>\n",
       "    </tr>\n",
       "    <tr>\n",
       "      <th>294</th>\n",
       "      <td>-16</td>\n",
       "      <td>CA_201520160SB524</td>\n",
       "      <td>414</td>\n",
       "      <td>For</td>\n",
       "      <td>2015-07-14</td>\n",
       "      <td>American Civil Liberties Union of California</td>\n",
       "    </tr>\n",
       "    <tr>\n",
       "      <th>295</th>\n",
       "      <td>-16</td>\n",
       "      <td>CA_201520160SB589</td>\n",
       "      <td>383</td>\n",
       "      <td>For</td>\n",
       "      <td>2015-07-01</td>\n",
       "      <td>American Civil Liberties Union of California</td>\n",
       "    </tr>\n",
       "    <tr>\n",
       "      <th>296</th>\n",
       "      <td>-16</td>\n",
       "      <td>CA_20152016BUD5180</td>\n",
       "      <td>435</td>\n",
       "      <td>For</td>\n",
       "      <td>2015-03-26</td>\n",
       "      <td>American Civil Liberties Union of California</td>\n",
       "    </tr>\n",
       "    <tr>\n",
       "      <th>297</th>\n",
       "      <td>-16</td>\n",
       "      <td>CA_201520160AB54</td>\n",
       "      <td>286</td>\n",
       "      <td>Against</td>\n",
       "      <td>2015-04-21</td>\n",
       "      <td>American Civil Liberties Union of California</td>\n",
       "    </tr>\n",
       "  </tbody>\n",
       "</table>\n",
       "</div>"
      ],
      "text/plain": [
       "     oid                 bid   hid alignment       date  \\\n",
       "279  -16  CA_201520160AB1584  1412       For 2016-06-28   \n",
       "280  -16  CA_201520160AB1726  1378       For 2016-06-22   \n",
       "281  -16  CA_201520160AB1770  1412       For 2016-06-28   \n",
       "282  -16  CA_201520160AB2320  1015   Against 2016-04-20   \n",
       "283  -16  CA_201520160AB2389  1098       For 2016-05-04   \n",
       "284  -16   CA_201520160AB267   318       For 2015-06-16   \n",
       "285  -16   CA_201520160AB696   318       For 2015-06-16   \n",
       "286  -16   CA_201520160AB718   232       For 2015-05-13   \n",
       "287  -16  CA_201520160SB1036  1309   Against 2016-06-14   \n",
       "288  -16   CA_201520160SB589   393       For 2015-07-07   \n",
       "289  -16   CA_201520160SB999  1395       For 2016-06-28   \n",
       "290  -16  CA_20162017BUD2740  1100   Against 2016-05-04   \n",
       "291  -16  CA_201520160AB1726  1414       For 2016-06-29   \n",
       "292  -16   CA_201520160AB827   404       For 2015-07-08   \n",
       "293  -16   CA_201520160SB251   393   Against 2015-07-07   \n",
       "294  -16   CA_201520160SB524   414       For 2015-07-14   \n",
       "295  -16   CA_201520160SB589   383       For 2015-07-01   \n",
       "296  -16  CA_20152016BUD5180   435       For 2015-03-26   \n",
       "297  -16    CA_201520160AB54   286   Against 2015-04-21   \n",
       "\n",
       "                                         org_name  \n",
       "279  American Civil Liberties Union of California  \n",
       "280  American Civil Liberties Union of California  \n",
       "281  American Civil Liberties Union of California  \n",
       "282  American Civil Liberties Union of California  \n",
       "283  American Civil Liberties Union of California  \n",
       "284  American Civil Liberties Union of California  \n",
       "285  American Civil Liberties Union of California  \n",
       "286  American Civil Liberties Union of California  \n",
       "287  American Civil Liberties Union of California  \n",
       "288  American Civil Liberties Union of California  \n",
       "289  American Civil Liberties Union of California  \n",
       "290  American Civil Liberties Union of California  \n",
       "291  American Civil Liberties Union of California  \n",
       "292  American Civil Liberties Union of California  \n",
       "293  American Civil Liberties Union of California  \n",
       "294  American Civil Liberties Union of California  \n",
       "295  American Civil Liberties Union of California  \n",
       "296  American Civil Liberties Union of California  \n",
       "297  American Civil Liberties Union of California  "
      ]
     },
     "execution_count": 335,
     "metadata": {},
     "output_type": "execute_result"
    }
   ],
   "source": [
    "org_alignments[org_alignments.oid == -16]"
   ]
  },
  {
   "cell_type": "code",
   "execution_count": 337,
   "metadata": {
    "collapsed": false
   },
   "outputs": [
    {
     "data": {
      "text/plain": [
       "CA_201520160SB589     2\n",
       "CA_201520160AB1726    2\n",
       "CA_201520160SB251     1\n",
       "CA_201520160AB1770    1\n",
       "CA_201520160AB54      1\n",
       "CA_201520160AB1584    1\n",
       "CA_201520160AB827     1\n",
       "CA_201520160SB1036    1\n",
       "CA_201520160SB524     1\n",
       "CA_201520160AB696     1\n",
       "CA_201520160SB999     1\n",
       "CA_201520160AB2389    1\n",
       "CA_201520160AB2320    1\n",
       "CA_201520160AB718     1\n",
       "CA_20152016BUD5180    1\n",
       "CA_20162017BUD2740    1\n",
       "CA_201520160AB267     1\n",
       "Name: bid, dtype: int64"
      ]
     },
     "execution_count": 337,
     "metadata": {},
     "output_type": "execute_result"
    }
   ],
   "source": [
    "org_alignments[org_alignments.oid == -16].bid.value_counts()"
   ]
  },
  {
   "cell_type": "code",
   "execution_count": 191,
   "metadata": {
    "collapsed": false
   },
   "outputs": [
    {
     "data": {
      "text/html": [
       "<div>\n",
       "<table border=\"1\" class=\"dataframe\">\n",
       "  <thead>\n",
       "    <tr style=\"text-align: right;\">\n",
       "      <th></th>\n",
       "      <th>oid</th>\n",
       "      <th>bid</th>\n",
       "      <th>hid</th>\n",
       "      <th>alignment</th>\n",
       "      <th>date</th>\n",
       "      <th>org_name</th>\n",
       "    </tr>\n",
       "  </thead>\n",
       "  <tbody>\n",
       "    <tr>\n",
       "      <th>0</th>\n",
       "      <td>-21</td>\n",
       "      <td>CA_201520160AB1719</td>\n",
       "      <td>1328</td>\n",
       "      <td>For</td>\n",
       "      <td>2016-06-15</td>\n",
       "      <td>American Federation of State, County and Munic...</td>\n",
       "    </tr>\n",
       "    <tr>\n",
       "      <th>1</th>\n",
       "      <td>-21</td>\n",
       "      <td>CA_201520160AB2341</td>\n",
       "      <td>1415</td>\n",
       "      <td>Against</td>\n",
       "      <td>2016-06-28</td>\n",
       "      <td>American Federation of State, County and Munic...</td>\n",
       "    </tr>\n",
       "    <tr>\n",
       "      <th>2</th>\n",
       "      <td>-21</td>\n",
       "      <td>CA_201520160SB376</td>\n",
       "      <td>424</td>\n",
       "      <td>For</td>\n",
       "      <td>2015-07-15</td>\n",
       "      <td>American Federation of State, County and Munic...</td>\n",
       "    </tr>\n",
       "    <tr>\n",
       "      <th>3</th>\n",
       "      <td>-21</td>\n",
       "      <td>CA_201520160SB381</td>\n",
       "      <td>282</td>\n",
       "      <td>Against</td>\n",
       "      <td>2015-04-29</td>\n",
       "      <td>American Federation of State, County and Munic...</td>\n",
       "    </tr>\n",
       "    <tr>\n",
       "      <th>4</th>\n",
       "      <td>-21</td>\n",
       "      <td>CA_201520160SB877</td>\n",
       "      <td>1397</td>\n",
       "      <td>For</td>\n",
       "      <td>2016-06-28</td>\n",
       "      <td>American Federation of State, County and Munic...</td>\n",
       "    </tr>\n",
       "  </tbody>\n",
       "</table>\n",
       "</div>"
      ],
      "text/plain": [
       "   oid                 bid   hid alignment       date  \\\n",
       "0  -21  CA_201520160AB1719  1328       For 2016-06-15   \n",
       "1  -21  CA_201520160AB2341  1415   Against 2016-06-28   \n",
       "2  -21   CA_201520160SB376   424       For 2015-07-15   \n",
       "3  -21   CA_201520160SB381   282   Against 2015-04-29   \n",
       "4  -21   CA_201520160SB877  1397       For 2016-06-28   \n",
       "\n",
       "                                            org_name  \n",
       "0  American Federation of State, County and Munic...  \n",
       "1  American Federation of State, County and Munic...  \n",
       "2  American Federation of State, County and Munic...  \n",
       "3  American Federation of State, County and Munic...  \n",
       "4  American Federation of State, County and Munic...  "
      ]
     },
     "execution_count": 191,
     "metadata": {},
     "output_type": "execute_result"
    }
   ],
   "source": [
    "org_alignments_df.head()"
   ]
  },
  {
   "cell_type": "code",
   "execution_count": 193,
   "metadata": {
    "collapsed": false
   },
   "outputs": [
    {
     "data": {
      "text/html": [
       "<div>\n",
       "<table border=\"1\" class=\"dataframe\">\n",
       "  <thead>\n",
       "    <tr style=\"text-align: right;\">\n",
       "      <th></th>\n",
       "      <th>pid</th>\n",
       "      <th>voteId</th>\n",
       "      <th>result</th>\n",
       "      <th>state</th>\n",
       "      <th>lastTouched</th>\n",
       "      <th>dr_id</th>\n",
       "      <th>lastTouched_ts</th>\n",
       "      <th>bid</th>\n",
       "      <th>date</th>\n",
       "      <th>hid</th>\n",
       "      <th>first</th>\n",
       "      <th>middle</th>\n",
       "      <th>last</th>\n",
       "    </tr>\n",
       "  </thead>\n",
       "  <tbody>\n",
       "    <tr>\n",
       "      <th>0</th>\n",
       "      <td>65</td>\n",
       "      <td>39065</td>\n",
       "      <td>For</td>\n",
       "      <td>CA</td>\n",
       "      <td>2016-07-12 23:31:00</td>\n",
       "      <td>235727</td>\n",
       "      <td>1468366260</td>\n",
       "      <td>CA_201520160AB1</td>\n",
       "      <td>2015-06-10</td>\n",
       "      <td>305</td>\n",
       "      <td>Janet</td>\n",
       "      <td>None</td>\n",
       "      <td>Nguyen</td>\n",
       "    </tr>\n",
       "    <tr>\n",
       "      <th>1</th>\n",
       "      <td>92</td>\n",
       "      <td>39065</td>\n",
       "      <td>For</td>\n",
       "      <td>CA</td>\n",
       "      <td>2016-07-12 23:31:00</td>\n",
       "      <td>341579</td>\n",
       "      <td>1468366260</td>\n",
       "      <td>CA_201520160AB1</td>\n",
       "      <td>2015-06-10</td>\n",
       "      <td>305</td>\n",
       "      <td>Jim</td>\n",
       "      <td>None</td>\n",
       "      <td>Beall</td>\n",
       "    </tr>\n",
       "    <tr>\n",
       "      <th>2</th>\n",
       "      <td>99</td>\n",
       "      <td>39065</td>\n",
       "      <td>For</td>\n",
       "      <td>CA</td>\n",
       "      <td>2016-07-12 23:31:00</td>\n",
       "      <td>362651</td>\n",
       "      <td>1468366260</td>\n",
       "      <td>CA_201520160AB1</td>\n",
       "      <td>2015-06-10</td>\n",
       "      <td>305</td>\n",
       "      <td>Robert</td>\n",
       "      <td>None</td>\n",
       "      <td>Hertzberg</td>\n",
       "    </tr>\n",
       "    <tr>\n",
       "      <th>3</th>\n",
       "      <td>103</td>\n",
       "      <td>39065</td>\n",
       "      <td>For</td>\n",
       "      <td>CA</td>\n",
       "      <td>2016-07-12 23:31:00</td>\n",
       "      <td>372163</td>\n",
       "      <td>1468366260</td>\n",
       "      <td>CA_201520160AB1</td>\n",
       "      <td>2015-06-10</td>\n",
       "      <td>305</td>\n",
       "      <td>Ed</td>\n",
       "      <td>None</td>\n",
       "      <td>Hernandez</td>\n",
       "    </tr>\n",
       "    <tr>\n",
       "      <th>4</th>\n",
       "      <td>104</td>\n",
       "      <td>39065</td>\n",
       "      <td>For</td>\n",
       "      <td>CA</td>\n",
       "      <td>2016-07-12 23:31:00</td>\n",
       "      <td>375538</td>\n",
       "      <td>1468366260</td>\n",
       "      <td>CA_201520160AB1</td>\n",
       "      <td>2015-06-10</td>\n",
       "      <td>305</td>\n",
       "      <td>Fran</td>\n",
       "      <td>None</td>\n",
       "      <td>Pavley</td>\n",
       "    </tr>\n",
       "  </tbody>\n",
       "</table>\n",
       "</div>"
      ],
      "text/plain": [
       "   pid  voteId result state         lastTouched   dr_id  lastTouched_ts  \\\n",
       "0   65   39065    For    CA 2016-07-12 23:31:00  235727      1468366260   \n",
       "1   92   39065    For    CA 2016-07-12 23:31:00  341579      1468366260   \n",
       "2   99   39065    For    CA 2016-07-12 23:31:00  362651      1468366260   \n",
       "3  103   39065    For    CA 2016-07-12 23:31:00  372163      1468366260   \n",
       "4  104   39065    For    CA 2016-07-12 23:31:00  375538      1468366260   \n",
       "\n",
       "               bid       date  hid   first middle       last  \n",
       "0  CA_201520160AB1 2015-06-10  305   Janet   None     Nguyen  \n",
       "1  CA_201520160AB1 2015-06-10  305     Jim   None      Beall  \n",
       "2  CA_201520160AB1 2015-06-10  305  Robert   None  Hertzberg  \n",
       "3  CA_201520160AB1 2015-06-10  305      Ed   None  Hernandez  \n",
       "4  CA_201520160AB1 2015-06-10  305    Fran   None     Pavley  "
      ]
     },
     "execution_count": 193,
     "metadata": {},
     "output_type": "execute_result"
    }
   ],
   "source": [
    "leg_votes_df.head()"
   ]
  },
  {
   "cell_type": "code",
   "execution_count": 150,
   "metadata": {
    "collapsed": false
   },
   "outputs": [
    {
     "data": {
      "text/plain": [
       "pandas.core.series.Series"
      ]
     },
     "execution_count": 150,
     "metadata": {},
     "output_type": "execute_result"
    }
   ],
   "source": [
    "type(counts)"
   ]
  },
  {
   "cell_type": "code",
   "execution_count": 62,
   "metadata": {
    "collapsed": true
   },
   "outputs": [],
   "source": [
    "s = pd.Series(['a', 'b', 'a', 'b', 'a', 'b', 'a', 'b'])"
   ]
  },
  {
   "cell_type": "code",
   "execution_count": 66,
   "metadata": {
    "collapsed": true
   },
   "outputs": [],
   "source": [
    "def f(v):\n",
    "    if v == 'a':\n",
    "        return pd.Series({'col_1': 'a', 'col_2': 'b'})\n",
    "    else:\n",
    "        return pd.Series()"
   ]
  },
  {
   "cell_type": "code",
   "execution_count": 67,
   "metadata": {
    "collapsed": false
   },
   "outputs": [
    {
     "data": {
      "text/html": [
       "<div>\n",
       "<table border=\"1\" class=\"dataframe\">\n",
       "  <thead>\n",
       "    <tr style=\"text-align: right;\">\n",
       "      <th></th>\n",
       "      <th>col_1</th>\n",
       "      <th>col_2</th>\n",
       "    </tr>\n",
       "  </thead>\n",
       "  <tbody>\n",
       "    <tr>\n",
       "      <th>0</th>\n",
       "      <td>a</td>\n",
       "      <td>b</td>\n",
       "    </tr>\n",
       "    <tr>\n",
       "      <th>1</th>\n",
       "      <td>NaN</td>\n",
       "      <td>NaN</td>\n",
       "    </tr>\n",
       "    <tr>\n",
       "      <th>2</th>\n",
       "      <td>a</td>\n",
       "      <td>b</td>\n",
       "    </tr>\n",
       "    <tr>\n",
       "      <th>3</th>\n",
       "      <td>NaN</td>\n",
       "      <td>NaN</td>\n",
       "    </tr>\n",
       "    <tr>\n",
       "      <th>4</th>\n",
       "      <td>a</td>\n",
       "      <td>b</td>\n",
       "    </tr>\n",
       "    <tr>\n",
       "      <th>5</th>\n",
       "      <td>NaN</td>\n",
       "      <td>NaN</td>\n",
       "    </tr>\n",
       "    <tr>\n",
       "      <th>6</th>\n",
       "      <td>a</td>\n",
       "      <td>b</td>\n",
       "    </tr>\n",
       "    <tr>\n",
       "      <th>7</th>\n",
       "      <td>NaN</td>\n",
       "      <td>NaN</td>\n",
       "    </tr>\n",
       "  </tbody>\n",
       "</table>\n",
       "</div>"
      ],
      "text/plain": [
       "  col_1 col_2\n",
       "0     a     b\n",
       "1   NaN   NaN\n",
       "2     a     b\n",
       "3   NaN   NaN\n",
       "4     a     b\n",
       "5   NaN   NaN\n",
       "6     a     b\n",
       "7   NaN   NaN"
      ]
     },
     "execution_count": 67,
     "metadata": {},
     "output_type": "execute_result"
    }
   ],
   "source": [
    "s.apply(f)"
   ]
  },
  {
   "cell_type": "code",
   "execution_count": 286,
   "metadata": {
    "collapsed": true
   },
   "outputs": [],
   "source": [
    "row1 = {'pid': -1, \n",
    "       'voteId': 0, \n",
    "       'result': 'For', \n",
    "       'state': None, \n",
    "       'lastTouched': None, \n",
    "       'dr_id': None, \n",
    "       'lastTouched_ts': None, \n",
    "       'bid': 'CA_201520160AB768',\n",
    "       'date': datetime(2015, 5, 27), \n",
    "       'hid': None, \n",
    "       'first': None, \n",
    "       'middle': None, \n",
    "       'last': None}\n",
    "\n",
    "row2 = {'pid': -1, \n",
    "       'voteId': 0, \n",
    "       'result': 'For', \n",
    "       'state': None, \n",
    "       'lastTouched': None, \n",
    "       'dr_id': None, \n",
    "       'lastTouched_ts': None, \n",
    "       'bid': 'CA_201520160AB768',\n",
    "       'date': datetime(2015, 6, 29), \n",
    "       'hid': None, \n",
    "       'first': None, \n",
    "       'middle': None, \n",
    "       'last': None}"
   ]
  },
  {
   "cell_type": "code",
   "execution_count": 287,
   "metadata": {
    "collapsed": false
   },
   "outputs": [],
   "source": [
    "leg_votes_df_sample = leg_votes_df.append([row1, row2], ignore_index=True)"
   ]
  },
  {
   "cell_type": "code",
   "execution_count": 292,
   "metadata": {
    "collapsed": true
   },
   "outputs": [],
   "source": [
    "pickle.dump(leg_votes_df_sample, open('leg_votes_df_sample.p', 'wb'))"
   ]
  },
  {
   "cell_type": "code",
   "execution_count": 284,
   "metadata": {
    "collapsed": false
   },
   "outputs": [
    {
     "data": {
      "text/plain": [
       "40258"
      ]
     },
     "execution_count": 284,
     "metadata": {},
     "output_type": "execute_result"
    }
   ],
   "source": [
    "len(leg_votes_df_sample)"
   ]
  }
 ],
 "metadata": {
  "anaconda-cloud": {},
  "kernelspec": {
   "display_name": "Python 3",
   "language": "python",
   "name": "python3"
  },
  "language_info": {
   "codemirror_mode": {
    "name": "ipython",
    "version": 3
   },
   "file_extension": ".py",
   "mimetype": "text/x-python",
   "name": "python",
   "nbconvert_exporter": "python",
   "pygments_lexer": "ipython3",
   "version": "3.5.1"
  }
 },
 "nbformat": 4,
 "nbformat_minor": 0
}
