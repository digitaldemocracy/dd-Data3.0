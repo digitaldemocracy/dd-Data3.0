{
 "cells": [
  {
   "cell_type": "code",
   "execution_count": 3,
   "metadata": {
    "collapsed": false
   },
   "outputs": [],
   "source": [
    "from AlignmentMeter import *\n",
    "%reload_ext autoreload\n",
    "%autoreload 2"
   ]
  },
  {
   "cell_type": "code",
   "execution_count": 63,
   "metadata": {
    "collapsed": false
   },
   "outputs": [],
   "source": [
    "leg_votes_df = pickle.load(open('leg_votes_df.p', 'rb'))"
   ]
  },
  {
   "cell_type": "code",
   "execution_count": 57,
   "metadata": {
    "collapsed": true
   },
   "outputs": [],
   "source": [
    "oid_alignments_df = pickle.load(open('oid_alignments_df.p', 'rb'))"
   ]
  },
  {
   "cell_type": "code",
   "execution_count": 34,
   "metadata": {
    "collapsed": true
   },
   "outputs": [],
   "source": [
    "org_alignments_df = pickle.load(open('org_alignments_df.p', 'rb'))"
   ]
  },
  {
   "cell_type": "code",
   "execution_count": 483,
   "metadata": {
    "collapsed": false
   },
   "outputs": [],
   "source": [
    "alignments_df = pickle.load(open('alignments_df.p', 'rb'))"
   ]
  },
  {
   "cell_type": "code",
   "execution_count": 484,
   "metadata": {
    "collapsed": false
   },
   "outputs": [],
   "source": [
    "strata_df = pickle.load(open('strata_df.p', 'rb'))"
   ]
  },
  {
   "cell_type": "code",
   "execution_count": 485,
   "metadata": {
    "collapsed": false
   },
   "outputs": [],
   "source": [
    "votes_strata_df = pickle.load(open('votes_strata_df.p', 'rb'))"
   ]
  },
  {
   "cell_type": "code",
   "execution_count": 486,
   "metadata": {
    "collapsed": true
   },
   "outputs": [],
   "source": [
    "scores_df = pickle.load(open('scores_df.p', 'rb'))"
   ]
  },
  {
   "cell_type": "code",
   "execution_count": null,
   "metadata": {
    "collapsed": true
   },
   "outputs": [],
   "source": []
  },
  {
   "cell_type": "code",
   "execution_count": 69,
   "metadata": {
    "collapsed": true
   },
   "outputs": [],
   "source": [
    "leg_votes_df.rename(columns={'VoteDate': 'date'}, inplace=True)\n",
    "min_date = oid_alignments_df['date'].min()\n",
    "# Still technically a dataframe to be used in the join\n",
    "alignment_row = oid_alignments_df[oid_alignments_df['date'] == min_date]\n",
    "alignment = alignment_row['alignment'].iloc[0]\n",
    "assert type(alignment_row) == pd.DataFrame\n",
    "\n",
    "alignment_votes_df = leg_votes_df.merge(alignment_row, on=['bid'], suffixes=['_leg', '_org'])"
   ]
  },
  {
   "cell_type": "code",
   "execution_count": 78,
   "metadata": {
    "collapsed": false
   },
   "outputs": [
    {
     "ename": "TypeError",
     "evalue": "unorderable types: datetime.date() <= int()",
     "output_type": "error",
     "traceback": [
      "\u001b[1;31m---------------------------------------------------------------------------\u001b[0m",
      "\u001b[1;31mTypeError\u001b[0m                                 Traceback (most recent call last)",
      "\u001b[1;32m<ipython-input-78-f44f19c2bbd2>\u001b[0m in \u001b[0;36m<module>\u001b[1;34m()\u001b[0m\n\u001b[1;32m----> 1\u001b[1;33m \u001b[0midx\u001b[0m \u001b[1;33m=\u001b[0m \u001b[0malignment_votes_df\u001b[0m\u001b[1;33m[\u001b[0m\u001b[1;34m'date_org'\u001b[0m\u001b[1;33m]\u001b[0m \u001b[1;33m<=\u001b[0m \u001b[0malignment_votes_df\u001b[0m\u001b[1;33m[\u001b[0m\u001b[1;34m'date_leg'\u001b[0m\u001b[1;33m]\u001b[0m\u001b[1;33m\u001b[0m\u001b[0m\n\u001b[0m",
      "\u001b[1;32mC:\\Users\\andre\\Anaconda3\\lib\\site-packages\\pandas\\core\\ops.py\u001b[0m in \u001b[0;36mwrapper\u001b[1;34m(self, other, axis)\u001b[0m\n\u001b[0;32m    734\u001b[0m             \u001b[1;32mif\u001b[0m \u001b[0mlen\u001b[0m\u001b[1;33m(\u001b[0m\u001b[0mself\u001b[0m\u001b[1;33m)\u001b[0m \u001b[1;33m!=\u001b[0m \u001b[0mlen\u001b[0m\u001b[1;33m(\u001b[0m\u001b[0mother\u001b[0m\u001b[1;33m)\u001b[0m\u001b[1;33m:\u001b[0m\u001b[1;33m\u001b[0m\u001b[0m\n\u001b[0;32m    735\u001b[0m                 \u001b[1;32mraise\u001b[0m \u001b[0mValueError\u001b[0m\u001b[1;33m(\u001b[0m\u001b[1;34m'Series lengths must match to compare'\u001b[0m\u001b[1;33m)\u001b[0m\u001b[1;33m\u001b[0m\u001b[0m\n\u001b[1;32m--> 736\u001b[1;33m             return self._constructor(na_op(self.values, other.values),\n\u001b[0m\u001b[0;32m    737\u001b[0m                                      index=self.index, name=name)\n\u001b[0;32m    738\u001b[0m         \u001b[1;32melif\u001b[0m \u001b[0misinstance\u001b[0m\u001b[1;33m(\u001b[0m\u001b[0mother\u001b[0m\u001b[1;33m,\u001b[0m \u001b[0mpd\u001b[0m\u001b[1;33m.\u001b[0m\u001b[0mDataFrame\u001b[0m\u001b[1;33m)\u001b[0m\u001b[1;33m:\u001b[0m  \u001b[1;31m# pragma: no cover\u001b[0m\u001b[1;33m\u001b[0m\u001b[0m\n",
      "\u001b[1;32mC:\\Users\\andre\\Anaconda3\\lib\\site-packages\\pandas\\core\\ops.py\u001b[0m in \u001b[0;36mna_op\u001b[1;34m(x, y)\u001b[0m\n\u001b[0;32m    677\u001b[0m             \u001b[1;32mif\u001b[0m \u001b[0misinstance\u001b[0m\u001b[1;33m(\u001b[0m\u001b[0my\u001b[0m\u001b[1;33m,\u001b[0m \u001b[1;33m(\u001b[0m\u001b[0mnp\u001b[0m\u001b[1;33m.\u001b[0m\u001b[0mndarray\u001b[0m\u001b[1;33m,\u001b[0m \u001b[0mABCSeries\u001b[0m\u001b[1;33m)\u001b[0m\u001b[1;33m)\u001b[0m\u001b[1;33m:\u001b[0m\u001b[1;33m\u001b[0m\u001b[0m\n\u001b[0;32m    678\u001b[0m                 \u001b[1;32mif\u001b[0m \u001b[1;32mnot\u001b[0m \u001b[0mis_object_dtype\u001b[0m\u001b[1;33m(\u001b[0m\u001b[0my\u001b[0m\u001b[1;33m.\u001b[0m\u001b[0mdtype\u001b[0m\u001b[1;33m)\u001b[0m\u001b[1;33m:\u001b[0m\u001b[1;33m\u001b[0m\u001b[0m\n\u001b[1;32m--> 679\u001b[1;33m                     \u001b[0mresult\u001b[0m \u001b[1;33m=\u001b[0m \u001b[0mlib\u001b[0m\u001b[1;33m.\u001b[0m\u001b[0mvec_compare\u001b[0m\u001b[1;33m(\u001b[0m\u001b[0mx\u001b[0m\u001b[1;33m,\u001b[0m \u001b[0my\u001b[0m\u001b[1;33m.\u001b[0m\u001b[0mastype\u001b[0m\u001b[1;33m(\u001b[0m\u001b[0mnp\u001b[0m\u001b[1;33m.\u001b[0m\u001b[0mobject_\u001b[0m\u001b[1;33m)\u001b[0m\u001b[1;33m,\u001b[0m \u001b[0mop\u001b[0m\u001b[1;33m)\u001b[0m\u001b[1;33m\u001b[0m\u001b[0m\n\u001b[0m\u001b[0;32m    680\u001b[0m                 \u001b[1;32melse\u001b[0m\u001b[1;33m:\u001b[0m\u001b[1;33m\u001b[0m\u001b[0m\n\u001b[0;32m    681\u001b[0m                     \u001b[0mresult\u001b[0m \u001b[1;33m=\u001b[0m \u001b[0mlib\u001b[0m\u001b[1;33m.\u001b[0m\u001b[0mvec_compare\u001b[0m\u001b[1;33m(\u001b[0m\u001b[0mx\u001b[0m\u001b[1;33m,\u001b[0m \u001b[0my\u001b[0m\u001b[1;33m,\u001b[0m \u001b[0mop\u001b[0m\u001b[1;33m)\u001b[0m\u001b[1;33m\u001b[0m\u001b[0m\n",
      "\u001b[1;32mpandas\\lib.pyx\u001b[0m in \u001b[0;36mpandas.lib.vec_compare (pandas\\lib.c:15316)\u001b[1;34m()\u001b[0m\n",
      "\u001b[1;31mTypeError\u001b[0m: unorderable types: datetime.date() <= int()"
     ]
    }
   ],
   "source": [
    "idx = alignment_votes_df['date_org'] <= alignment_votes_df['date_leg']"
   ]
  },
  {
   "cell_type": "code",
   "execution_count": 74,
   "metadata": {
    "collapsed": false
   },
   "outputs": [
    {
     "data": {
      "text/plain": [
       "0     <class 'pandas.tslib.Timestamp'>\n",
       "1     <class 'pandas.tslib.Timestamp'>\n",
       "2     <class 'pandas.tslib.Timestamp'>\n",
       "3     <class 'pandas.tslib.Timestamp'>\n",
       "4     <class 'pandas.tslib.Timestamp'>\n",
       "5     <class 'pandas.tslib.Timestamp'>\n",
       "6     <class 'pandas.tslib.Timestamp'>\n",
       "7     <class 'pandas.tslib.Timestamp'>\n",
       "8     <class 'pandas.tslib.Timestamp'>\n",
       "9     <class 'pandas.tslib.Timestamp'>\n",
       "10    <class 'pandas.tslib.Timestamp'>\n",
       "11    <class 'pandas.tslib.Timestamp'>\n",
       "12    <class 'pandas.tslib.Timestamp'>\n",
       "13    <class 'pandas.tslib.Timestamp'>\n",
       "14    <class 'pandas.tslib.Timestamp'>\n",
       "15    <class 'pandas.tslib.Timestamp'>\n",
       "16    <class 'pandas.tslib.Timestamp'>\n",
       "17    <class 'pandas.tslib.Timestamp'>\n",
       "18    <class 'pandas.tslib.Timestamp'>\n",
       "19    <class 'pandas.tslib.Timestamp'>\n",
       "20    <class 'pandas.tslib.Timestamp'>\n",
       "21    <class 'pandas.tslib.Timestamp'>\n",
       "22    <class 'pandas.tslib.Timestamp'>\n",
       "23    <class 'pandas.tslib.Timestamp'>\n",
       "24    <class 'pandas.tslib.Timestamp'>\n",
       "25    <class 'pandas.tslib.Timestamp'>\n",
       "26    <class 'pandas.tslib.Timestamp'>\n",
       "27    <class 'pandas.tslib.Timestamp'>\n",
       "28    <class 'pandas.tslib.Timestamp'>\n",
       "Name: date_leg, dtype: object"
      ]
     },
     "execution_count": 74,
     "metadata": {},
     "output_type": "execute_result"
    }
   ],
   "source": [
    "alignment_votes_df.date_leg.apply(type)"
   ]
  },
  {
   "cell_type": "code",
   "execution_count": 75,
   "metadata": {
    "collapsed": false
   },
   "outputs": [
    {
     "data": {
      "text/plain": [
       "0     <class 'datetime.date'>\n",
       "1     <class 'datetime.date'>\n",
       "2     <class 'datetime.date'>\n",
       "3     <class 'datetime.date'>\n",
       "4     <class 'datetime.date'>\n",
       "5     <class 'datetime.date'>\n",
       "6     <class 'datetime.date'>\n",
       "7     <class 'datetime.date'>\n",
       "8     <class 'datetime.date'>\n",
       "9     <class 'datetime.date'>\n",
       "10    <class 'datetime.date'>\n",
       "11    <class 'datetime.date'>\n",
       "12    <class 'datetime.date'>\n",
       "13    <class 'datetime.date'>\n",
       "14    <class 'datetime.date'>\n",
       "15    <class 'datetime.date'>\n",
       "16    <class 'datetime.date'>\n",
       "17    <class 'datetime.date'>\n",
       "18    <class 'datetime.date'>\n",
       "19    <class 'datetime.date'>\n",
       "20    <class 'datetime.date'>\n",
       "21    <class 'datetime.date'>\n",
       "22    <class 'datetime.date'>\n",
       "23    <class 'datetime.date'>\n",
       "24    <class 'datetime.date'>\n",
       "25    <class 'datetime.date'>\n",
       "26    <class 'datetime.date'>\n",
       "27    <class 'datetime.date'>\n",
       "28    <class 'datetime.date'>\n",
       "Name: date_org, dtype: object"
      ]
     },
     "execution_count": 75,
     "metadata": {},
     "output_type": "execute_result"
    }
   ],
   "source": [
    "alignment_votes_df.date_org.apply(type)"
   ]
  },
  {
   "cell_type": "code",
   "execution_count": 77,
   "metadata": {
    "collapsed": false
   },
   "outputs": [
    {
     "data": {
      "text/plain": [
       "0     <class 'pandas.tslib.Timestamp'>\n",
       "1     <class 'pandas.tslib.Timestamp'>\n",
       "2     <class 'pandas.tslib.Timestamp'>\n",
       "3     <class 'pandas.tslib.Timestamp'>\n",
       "4     <class 'pandas.tslib.Timestamp'>\n",
       "5     <class 'pandas.tslib.Timestamp'>\n",
       "6     <class 'pandas.tslib.Timestamp'>\n",
       "7     <class 'pandas.tslib.Timestamp'>\n",
       "8     <class 'pandas.tslib.Timestamp'>\n",
       "9     <class 'pandas.tslib.Timestamp'>\n",
       "10    <class 'pandas.tslib.Timestamp'>\n",
       "11    <class 'pandas.tslib.Timestamp'>\n",
       "12    <class 'pandas.tslib.Timestamp'>\n",
       "13    <class 'pandas.tslib.Timestamp'>\n",
       "14    <class 'pandas.tslib.Timestamp'>\n",
       "15    <class 'pandas.tslib.Timestamp'>\n",
       "16    <class 'pandas.tslib.Timestamp'>\n",
       "17    <class 'pandas.tslib.Timestamp'>\n",
       "18    <class 'pandas.tslib.Timestamp'>\n",
       "19    <class 'pandas.tslib.Timestamp'>\n",
       "20    <class 'pandas.tslib.Timestamp'>\n",
       "21    <class 'pandas.tslib.Timestamp'>\n",
       "22    <class 'pandas.tslib.Timestamp'>\n",
       "23    <class 'pandas.tslib.Timestamp'>\n",
       "24    <class 'pandas.tslib.Timestamp'>\n",
       "25    <class 'pandas.tslib.Timestamp'>\n",
       "26    <class 'pandas.tslib.Timestamp'>\n",
       "27    <class 'pandas.tslib.Timestamp'>\n",
       "28    <class 'pandas.tslib.Timestamp'>\n",
       "Name: date_org, dtype: object"
      ]
     },
     "execution_count": 77,
     "metadata": {},
     "output_type": "execute_result"
    }
   ],
   "source": [
    "pd.to_datetime(alignment_votes_df.date_org).apply(type)"
   ]
  }
 ],
 "metadata": {
  "anaconda-cloud": {},
  "kernelspec": {
   "display_name": "Python [Root]",
   "language": "python",
   "name": "Python [Root]"
  },
  "language_info": {
   "codemirror_mode": {
    "name": "ipython",
    "version": 3
   },
   "file_extension": ".py",
   "mimetype": "text/x-python",
   "name": "python",
   "nbconvert_exporter": "python",
   "pygments_lexer": "ipython3",
   "version": "3.5.2"
  }
 },
 "nbformat": 4,
 "nbformat_minor": 0
}
