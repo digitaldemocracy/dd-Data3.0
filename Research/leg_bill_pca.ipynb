{
 "cells": [
  {
   "cell_type": "code",
   "execution_count": 1,
   "metadata": {},
   "outputs": [],
   "source": [
    "import numpy as np\n",
    "import pandas as pd\n",
    "\n",
    "from sklearn.decomposition import PCA\n",
    "from sklearn.preprocessing import StandardScaler"
   ]
  },
  {
   "cell_type": "code",
   "execution_count": 2,
   "metadata": {},
   "outputs": [],
   "source": [
    "data = pd.read_csv('Data/full_data.csv')"
   ]
  },
  {
   "cell_type": "code",
   "execution_count": 3,
   "metadata": {},
   "outputs": [],
   "source": [
    "term_info = pd.read_csv('Data/term_info.csv')\n",
    "bill_info = pd.read_csv('Data/bill_info.csv')"
   ]
  },
  {
   "cell_type": "code",
   "execution_count": 4,
   "metadata": {},
   "outputs": [],
   "source": [
    "data = pd.merge(data, term_info, how='left', on='pid')\n",
    "data = pd.merge(data, bill_info, how='left', on='bid')"
   ]
  },
  {
   "cell_type": "code",
   "execution_count": 5,
   "metadata": {},
   "outputs": [
    {
     "data": {
      "text/html": [
       "<div>\n",
       "<style scoped>\n",
       "    .dataframe tbody tr th:only-of-type {\n",
       "        vertical-align: middle;\n",
       "    }\n",
       "\n",
       "    .dataframe tbody tr th {\n",
       "        vertical-align: top;\n",
       "    }\n",
       "\n",
       "    .dataframe thead th {\n",
       "        text-align: right;\n",
       "    }\n",
       "</style>\n",
       "<table border=\"1\" class=\"dataframe\">\n",
       "  <thead>\n",
       "    <tr style=\"text-align: right;\">\n",
       "      <th></th>\n",
       "      <th>pid</th>\n",
       "      <th>bid</th>\n",
       "      <th>author_flag</th>\n",
       "      <th>co_author_flag</th>\n",
       "      <th>lead_author_flag</th>\n",
       "      <th>abstainVotes</th>\n",
       "      <th>ayeVotes</th>\n",
       "      <th>bdCount_comm</th>\n",
       "      <th>bdCount_no_comm</th>\n",
       "      <th>bdCount_all</th>\n",
       "      <th>...</th>\n",
       "      <th>wordCount</th>\n",
       "      <th>year</th>\n",
       "      <th>district</th>\n",
       "      <th>house_x</th>\n",
       "      <th>party</th>\n",
       "      <th>type</th>\n",
       "      <th>number</th>\n",
       "      <th>billState</th>\n",
       "      <th>status</th>\n",
       "      <th>house_y</th>\n",
       "    </tr>\n",
       "  </thead>\n",
       "  <tbody>\n",
       "    <tr>\n",
       "      <th>0</th>\n",
       "      <td>1</td>\n",
       "      <td>CA_201520160AB1</td>\n",
       "      <td>0</td>\n",
       "      <td>0</td>\n",
       "      <td>0</td>\n",
       "      <td>1.0</td>\n",
       "      <td>0.0</td>\n",
       "      <td>0.0</td>\n",
       "      <td>0.0</td>\n",
       "      <td>0.0</td>\n",
       "      <td>...</td>\n",
       "      <td>0.0</td>\n",
       "      <td>2015</td>\n",
       "      <td>35</td>\n",
       "      <td>Senate</td>\n",
       "      <td>Democrat</td>\n",
       "      <td>AB</td>\n",
       "      <td>1</td>\n",
       "      <td>Chaptered</td>\n",
       "      <td>Chaptered</td>\n",
       "      <td>Assembly</td>\n",
       "    </tr>\n",
       "    <tr>\n",
       "      <th>1</th>\n",
       "      <td>2</td>\n",
       "      <td>CA_201520160AB1</td>\n",
       "      <td>0</td>\n",
       "      <td>0</td>\n",
       "      <td>0</td>\n",
       "      <td>0.0</td>\n",
       "      <td>2.0</td>\n",
       "      <td>0.0</td>\n",
       "      <td>0.0</td>\n",
       "      <td>0.0</td>\n",
       "      <td>...</td>\n",
       "      <td>0.0</td>\n",
       "      <td>2015</td>\n",
       "      <td>50</td>\n",
       "      <td>Assembly</td>\n",
       "      <td>Democrat</td>\n",
       "      <td>AB</td>\n",
       "      <td>1</td>\n",
       "      <td>Chaptered</td>\n",
       "      <td>Chaptered</td>\n",
       "      <td>Assembly</td>\n",
       "    </tr>\n",
       "    <tr>\n",
       "      <th>2</th>\n",
       "      <td>3</td>\n",
       "      <td>CA_201520160AB1</td>\n",
       "      <td>0</td>\n",
       "      <td>0</td>\n",
       "      <td>0</td>\n",
       "      <td>0.0</td>\n",
       "      <td>2.0</td>\n",
       "      <td>0.0</td>\n",
       "      <td>0.0</td>\n",
       "      <td>0.0</td>\n",
       "      <td>...</td>\n",
       "      <td>0.0</td>\n",
       "      <td>2015</td>\n",
       "      <td>14</td>\n",
       "      <td>Assembly</td>\n",
       "      <td>Democrat</td>\n",
       "      <td>AB</td>\n",
       "      <td>1</td>\n",
       "      <td>Chaptered</td>\n",
       "      <td>Chaptered</td>\n",
       "      <td>Assembly</td>\n",
       "    </tr>\n",
       "    <tr>\n",
       "      <th>3</th>\n",
       "      <td>4</td>\n",
       "      <td>CA_201520160AB1</td>\n",
       "      <td>0</td>\n",
       "      <td>0</td>\n",
       "      <td>0</td>\n",
       "      <td>0.0</td>\n",
       "      <td>2.0</td>\n",
       "      <td>0.0</td>\n",
       "      <td>0.0</td>\n",
       "      <td>0.0</td>\n",
       "      <td>...</td>\n",
       "      <td>0.0</td>\n",
       "      <td>2015</td>\n",
       "      <td>15</td>\n",
       "      <td>Assembly</td>\n",
       "      <td>Democrat</td>\n",
       "      <td>AB</td>\n",
       "      <td>1</td>\n",
       "      <td>Chaptered</td>\n",
       "      <td>Chaptered</td>\n",
       "      <td>Assembly</td>\n",
       "    </tr>\n",
       "    <tr>\n",
       "      <th>4</th>\n",
       "      <td>5</td>\n",
       "      <td>CA_201520160AB1</td>\n",
       "      <td>0</td>\n",
       "      <td>0</td>\n",
       "      <td>0</td>\n",
       "      <td>0.0</td>\n",
       "      <td>2.0</td>\n",
       "      <td>0.0</td>\n",
       "      <td>0.0</td>\n",
       "      <td>0.0</td>\n",
       "      <td>...</td>\n",
       "      <td>0.0</td>\n",
       "      <td>2015</td>\n",
       "      <td>35</td>\n",
       "      <td>Assembly</td>\n",
       "      <td>Republican</td>\n",
       "      <td>AB</td>\n",
       "      <td>1</td>\n",
       "      <td>Chaptered</td>\n",
       "      <td>Chaptered</td>\n",
       "      <td>Assembly</td>\n",
       "    </tr>\n",
       "  </tbody>\n",
       "</table>\n",
       "<p>5 rows × 26 columns</p>\n",
       "</div>"
      ],
      "text/plain": [
       "   pid              bid  author_flag  co_author_flag  lead_author_flag  \\\n",
       "0    1  CA_201520160AB1            0               0                 0   \n",
       "1    2  CA_201520160AB1            0               0                 0   \n",
       "2    3  CA_201520160AB1            0               0                 0   \n",
       "3    4  CA_201520160AB1            0               0                 0   \n",
       "4    5  CA_201520160AB1            0               0                 0   \n",
       "\n",
       "   abstainVotes  ayeVotes  bdCount_comm  bdCount_no_comm  bdCount_all  \\\n",
       "0           1.0       0.0           0.0              0.0          0.0   \n",
       "1           0.0       2.0           0.0              0.0          0.0   \n",
       "2           0.0       2.0           0.0              0.0          0.0   \n",
       "3           0.0       2.0           0.0              0.0          0.0   \n",
       "4           0.0       2.0           0.0              0.0          0.0   \n",
       "\n",
       "     ...     wordCount  year  district   house_x       party  type  number  \\\n",
       "0    ...           0.0  2015        35    Senate    Democrat    AB       1   \n",
       "1    ...           0.0  2015        50  Assembly    Democrat    AB       1   \n",
       "2    ...           0.0  2015        14  Assembly    Democrat    AB       1   \n",
       "3    ...           0.0  2015        15  Assembly    Democrat    AB       1   \n",
       "4    ...           0.0  2015        35  Assembly  Republican    AB       1   \n",
       "\n",
       "   billState     status   house_y  \n",
       "0  Chaptered  Chaptered  Assembly  \n",
       "1  Chaptered  Chaptered  Assembly  \n",
       "2  Chaptered  Chaptered  Assembly  \n",
       "3  Chaptered  Chaptered  Assembly  \n",
       "4  Chaptered  Chaptered  Assembly  \n",
       "\n",
       "[5 rows x 26 columns]"
      ]
     },
     "execution_count": 5,
     "metadata": {},
     "output_type": "execute_result"
    }
   ],
   "source": [
    "data.head()"
   ]
  },
  {
   "cell_type": "code",
   "execution_count": 6,
   "metadata": {},
   "outputs": [
    {
     "data": {
      "text/plain": [
       "Index(['pid', 'bid', 'author_flag', 'co_author_flag', 'lead_author_flag',\n",
       "       'abstainVotes', 'ayeVotes', 'bdCount_comm', 'bdCount_no_comm',\n",
       "       'bdCount_all', 'naeVotes', 'is_unanimous', 'utteranceDuration_all',\n",
       "       'utteranceDuration_not_comm', 'utteranceDuration_comm', 'voteCount',\n",
       "       'wordCount', 'year', 'district', 'house_x', 'party', 'type', 'number',\n",
       "       'billState', 'status', 'house_y'],\n",
       "      dtype='object')"
      ]
     },
     "execution_count": 6,
     "metadata": {},
     "output_type": "execute_result"
    }
   ],
   "source": [
    "data.columns"
   ]
  },
  {
   "cell_type": "markdown",
   "metadata": {},
   "source": [
    "## PCA"
   ]
  },
  {
   "cell_type": "code",
   "execution_count": 20,
   "metadata": {},
   "outputs": [],
   "source": [
    "lb_pca = PCA(n_components=5)\n",
    "party_pca = PCA(n_components=4)"
   ]
  },
  {
   "cell_type": "markdown",
   "metadata": {},
   "source": [
    "### With unanimous bills"
   ]
  },
  {
   "cell_type": "code",
   "execution_count": 15,
   "metadata": {},
   "outputs": [],
   "source": [
    "# This has bad explained variance, just remove this?\n",
    "X_data = data.iloc[:, 2:17].copy(deep=True)\n",
    "X_data = StandardScaler().fit_transform(X_data)"
   ]
  },
  {
   "cell_type": "code",
   "execution_count": 21,
   "metadata": {},
   "outputs": [
    {
     "data": {
      "text/plain": [
       "PCA(copy=True, iterated_power='auto', n_components=5, random_state=None,\n",
       "  svd_solver='auto', tol=0.0, whiten=False)"
      ]
     },
     "execution_count": 21,
     "metadata": {},
     "output_type": "execute_result"
    }
   ],
   "source": [
    "lb_pca.fit(X_data)"
   ]
  },
  {
   "cell_type": "code",
   "execution_count": 22,
   "metadata": {},
   "outputs": [
    {
     "data": {
      "text/plain": [
       "array([ 0.34124093,  0.13947622,  0.12554703,  0.08235593,  0.07154125])"
      ]
     },
     "execution_count": 22,
     "metadata": {},
     "output_type": "execute_result"
    }
   ],
   "source": [
    "lb_pca.explained_variance_ratio_"
   ]
  },
  {
   "cell_type": "code",
   "execution_count": 23,
   "metadata": {},
   "outputs": [
    {
     "data": {
      "text/plain": [
       "0.76016135295257259"
      ]
     },
     "execution_count": 23,
     "metadata": {},
     "output_type": "execute_result"
    }
   ],
   "source": [
    "np.sum(lb_pca.explained_variance_ratio_)"
   ]
  },
  {
   "cell_type": "code",
   "execution_count": 8,
   "metadata": {
    "collapsed": true
   },
   "outputs": [],
   "source": [
    "pca_data = lb_pca.transform(X_data)"
   ]
  },
  {
   "cell_type": "code",
   "execution_count": 9,
   "metadata": {
    "collapsed": true
   },
   "outputs": [],
   "source": [
    "pca_data = pd.DataFrame(pca_data)"
   ]
  },
  {
   "cell_type": "markdown",
   "metadata": {},
   "source": [
    "### Without Unianimous Bills"
   ]
  },
  {
   "cell_type": "code",
   "execution_count": 7,
   "metadata": {},
   "outputs": [],
   "source": [
    "non_unan_data = data.loc[data['is_unanimous'] != 1, :].copy(deep=True).reset_index(drop=True)\n",
    "non_unan_data = non_unan_data.iloc[:, 2:17]\n",
    "non_unan_data['bid'] = data.loc[data['is_unanimous'] != 1, 'bid'].copy(deep=True).reset_index(drop=True)\n",
    "non_unan_data['pid'] = data.loc[data['is_unanimous'] != 1, 'pid'].copy(deep=True).reset_index(drop=True)"
   ]
  },
  {
   "cell_type": "code",
   "execution_count": 8,
   "metadata": {},
   "outputs": [
    {
     "data": {
      "text/html": [
       "<div>\n",
       "<style scoped>\n",
       "    .dataframe tbody tr th:only-of-type {\n",
       "        vertical-align: middle;\n",
       "    }\n",
       "\n",
       "    .dataframe tbody tr th {\n",
       "        vertical-align: top;\n",
       "    }\n",
       "\n",
       "    .dataframe thead th {\n",
       "        text-align: right;\n",
       "    }\n",
       "</style>\n",
       "<table border=\"1\" class=\"dataframe\">\n",
       "  <thead>\n",
       "    <tr style=\"text-align: right;\">\n",
       "      <th></th>\n",
       "      <th>author_flag</th>\n",
       "      <th>co_author_flag</th>\n",
       "      <th>lead_author_flag</th>\n",
       "      <th>abstainVotes</th>\n",
       "      <th>ayeVotes</th>\n",
       "      <th>bdCount_comm</th>\n",
       "      <th>bdCount_no_comm</th>\n",
       "      <th>bdCount_all</th>\n",
       "      <th>naeVotes</th>\n",
       "      <th>is_unanimous</th>\n",
       "      <th>utteranceDuration_all</th>\n",
       "      <th>utteranceDuration_not_comm</th>\n",
       "      <th>utteranceDuration_comm</th>\n",
       "      <th>voteCount</th>\n",
       "      <th>wordCount</th>\n",
       "      <th>bid</th>\n",
       "      <th>pid</th>\n",
       "    </tr>\n",
       "  </thead>\n",
       "  <tbody>\n",
       "    <tr>\n",
       "      <th>0</th>\n",
       "      <td>0</td>\n",
       "      <td>0</td>\n",
       "      <td>0</td>\n",
       "      <td>0.0</td>\n",
       "      <td>1.0</td>\n",
       "      <td>0.0</td>\n",
       "      <td>0.0</td>\n",
       "      <td>0.0</td>\n",
       "      <td>0.0</td>\n",
       "      <td>0</td>\n",
       "      <td>0.0</td>\n",
       "      <td>0.0</td>\n",
       "      <td>0.0</td>\n",
       "      <td>1</td>\n",
       "      <td>0.0</td>\n",
       "      <td>CA_201520160AB1005</td>\n",
       "      <td>1</td>\n",
       "    </tr>\n",
       "    <tr>\n",
       "      <th>1</th>\n",
       "      <td>0</td>\n",
       "      <td>0</td>\n",
       "      <td>0</td>\n",
       "      <td>0.0</td>\n",
       "      <td>3.0</td>\n",
       "      <td>0.0</td>\n",
       "      <td>0.0</td>\n",
       "      <td>0.0</td>\n",
       "      <td>0.0</td>\n",
       "      <td>0</td>\n",
       "      <td>0.0</td>\n",
       "      <td>0.0</td>\n",
       "      <td>0.0</td>\n",
       "      <td>3</td>\n",
       "      <td>0.0</td>\n",
       "      <td>CA_201520160AB1005</td>\n",
       "      <td>2</td>\n",
       "    </tr>\n",
       "    <tr>\n",
       "      <th>2</th>\n",
       "      <td>0</td>\n",
       "      <td>0</td>\n",
       "      <td>0</td>\n",
       "      <td>0.0</td>\n",
       "      <td>3.0</td>\n",
       "      <td>0.0</td>\n",
       "      <td>0.0</td>\n",
       "      <td>0.0</td>\n",
       "      <td>0.0</td>\n",
       "      <td>0</td>\n",
       "      <td>0.0</td>\n",
       "      <td>0.0</td>\n",
       "      <td>0.0</td>\n",
       "      <td>3</td>\n",
       "      <td>0.0</td>\n",
       "      <td>CA_201520160AB1005</td>\n",
       "      <td>3</td>\n",
       "    </tr>\n",
       "    <tr>\n",
       "      <th>3</th>\n",
       "      <td>0</td>\n",
       "      <td>0</td>\n",
       "      <td>0</td>\n",
       "      <td>0.0</td>\n",
       "      <td>2.0</td>\n",
       "      <td>0.0</td>\n",
       "      <td>0.0</td>\n",
       "      <td>0.0</td>\n",
       "      <td>0.0</td>\n",
       "      <td>0</td>\n",
       "      <td>0.0</td>\n",
       "      <td>0.0</td>\n",
       "      <td>0.0</td>\n",
       "      <td>2</td>\n",
       "      <td>0.0</td>\n",
       "      <td>CA_201520160AB1005</td>\n",
       "      <td>4</td>\n",
       "    </tr>\n",
       "    <tr>\n",
       "      <th>4</th>\n",
       "      <td>0</td>\n",
       "      <td>0</td>\n",
       "      <td>0</td>\n",
       "      <td>0.0</td>\n",
       "      <td>2.0</td>\n",
       "      <td>0.0</td>\n",
       "      <td>0.0</td>\n",
       "      <td>0.0</td>\n",
       "      <td>0.0</td>\n",
       "      <td>0</td>\n",
       "      <td>0.0</td>\n",
       "      <td>0.0</td>\n",
       "      <td>0.0</td>\n",
       "      <td>2</td>\n",
       "      <td>0.0</td>\n",
       "      <td>CA_201520160AB1005</td>\n",
       "      <td>5</td>\n",
       "    </tr>\n",
       "  </tbody>\n",
       "</table>\n",
       "</div>"
      ],
      "text/plain": [
       "   author_flag  co_author_flag  lead_author_flag  abstainVotes  ayeVotes  \\\n",
       "0            0               0                 0           0.0       1.0   \n",
       "1            0               0                 0           0.0       3.0   \n",
       "2            0               0                 0           0.0       3.0   \n",
       "3            0               0                 0           0.0       2.0   \n",
       "4            0               0                 0           0.0       2.0   \n",
       "\n",
       "   bdCount_comm  bdCount_no_comm  bdCount_all  naeVotes  is_unanimous  \\\n",
       "0           0.0              0.0          0.0       0.0             0   \n",
       "1           0.0              0.0          0.0       0.0             0   \n",
       "2           0.0              0.0          0.0       0.0             0   \n",
       "3           0.0              0.0          0.0       0.0             0   \n",
       "4           0.0              0.0          0.0       0.0             0   \n",
       "\n",
       "   utteranceDuration_all  utteranceDuration_not_comm  utteranceDuration_comm  \\\n",
       "0                    0.0                         0.0                     0.0   \n",
       "1                    0.0                         0.0                     0.0   \n",
       "2                    0.0                         0.0                     0.0   \n",
       "3                    0.0                         0.0                     0.0   \n",
       "4                    0.0                         0.0                     0.0   \n",
       "\n",
       "   voteCount  wordCount                 bid  pid  \n",
       "0          1        0.0  CA_201520160AB1005    1  \n",
       "1          3        0.0  CA_201520160AB1005    2  \n",
       "2          3        0.0  CA_201520160AB1005    3  \n",
       "3          2        0.0  CA_201520160AB1005    4  \n",
       "4          2        0.0  CA_201520160AB1005    5  "
      ]
     },
     "execution_count": 8,
     "metadata": {},
     "output_type": "execute_result"
    }
   ],
   "source": [
    "non_unan_data.head()"
   ]
  },
  {
   "cell_type": "code",
   "execution_count": 9,
   "metadata": {},
   "outputs": [],
   "source": [
    "non_unan = StandardScaler().fit_transform(non_unan_data.drop(['abstainVotes', 'pid','bid'], axis=1))"
   ]
  },
  {
   "cell_type": "code",
   "execution_count": 10,
   "metadata": {},
   "outputs": [
    {
     "data": {
      "text/plain": [
       "(215743, 14)"
      ]
     },
     "execution_count": 10,
     "metadata": {},
     "output_type": "execute_result"
    }
   ],
   "source": [
    "non_unan.shape"
   ]
  },
  {
   "cell_type": "code",
   "execution_count": 11,
   "metadata": {},
   "outputs": [],
   "source": [
    "nu_pca = PCA(n_components=6)"
   ]
  },
  {
   "cell_type": "code",
   "execution_count": 12,
   "metadata": {},
   "outputs": [
    {
     "data": {
      "text/plain": [
       "PCA(copy=True, iterated_power='auto', n_components=6, random_state=None,\n",
       "  svd_solver='auto', tol=0.0, whiten=False)"
      ]
     },
     "execution_count": 12,
     "metadata": {},
     "output_type": "execute_result"
    }
   ],
   "source": [
    "nu_pca.fit(non_unan)"
   ]
  },
  {
   "cell_type": "code",
   "execution_count": 13,
   "metadata": {},
   "outputs": [
    {
     "data": {
      "text/plain": [
       "array([ 0.42093389,  0.14194494,  0.13298754,  0.08702854,  0.0771814 ,\n",
       "        0.06972268])"
      ]
     },
     "execution_count": 13,
     "metadata": {},
     "output_type": "execute_result"
    }
   ],
   "source": [
    "nu_pca.explained_variance_ratio_"
   ]
  },
  {
   "cell_type": "code",
   "execution_count": 14,
   "metadata": {},
   "outputs": [
    {
     "data": {
      "text/plain": [
       "0.8600763134959275"
      ]
     },
     "execution_count": 14,
     "metadata": {},
     "output_type": "execute_result"
    }
   ],
   "source": [
    "np.sum(nu_pca.explained_variance_ratio_[:5])"
   ]
  },
  {
   "cell_type": "markdown",
   "metadata": {},
   "source": [
    "### With party info"
   ]
  },
  {
   "cell_type": "code",
   "execution_count": 16,
   "metadata": {
    "scrolled": true
   },
   "outputs": [
    {
     "name": "stderr",
     "output_type": "stream",
     "text": [
      "/opt/conda/lib/python3.5/site-packages/ipykernel_launcher.py:2: SettingWithCopyWarning: \n",
      "A value is trying to be set on a copy of a slice from a DataFrame\n",
      "\n",
      "See the caveats in the documentation: http://pandas.pydata.org/pandas-docs/stable/indexing.html#indexing-view-versus-copy\n",
      "  \n",
      "/opt/conda/lib/python3.5/site-packages/ipykernel_launcher.py:3: SettingWithCopyWarning: \n",
      "A value is trying to be set on a copy of a slice from a DataFrame\n",
      "\n",
      "See the caveats in the documentation: http://pandas.pydata.org/pandas-docs/stable/indexing.html#indexing-view-versus-copy\n",
      "  This is separate from the ipykernel package so we can avoid doing imports until\n",
      "/opt/conda/lib/python3.5/site-packages/ipykernel_launcher.py:4: SettingWithCopyWarning: \n",
      "A value is trying to be set on a copy of a slice from a DataFrame\n",
      "\n",
      "See the caveats in the documentation: http://pandas.pydata.org/pandas-docs/stable/indexing.html#indexing-view-versus-copy\n",
      "  after removing the cwd from sys.path.\n",
      "/opt/conda/lib/python3.5/site-packages/ipykernel_launcher.py:5: SettingWithCopyWarning: \n",
      "A value is trying to be set on a copy of a slice from a DataFrame\n",
      "\n",
      "See the caveats in the documentation: http://pandas.pydata.org/pandas-docs/stable/indexing.html#indexing-view-versus-copy\n",
      "  \"\"\"\n"
     ]
    }
   ],
   "source": [
    "# Also has bad explained variance\n",
    "party_data = data.iloc[:,2:].copy(deep=True)\n",
    "party_data['house'][party_data['house'] == 'Senate']  = 1\n",
    "party_data['house'][party_data['house'] == 'Assembly']  = 0\n",
    "party_data['party'][party_data['party'] == 'Democrat']  = 1\n",
    "party_data['party'][party_data['party'] == 'Republican']  = 0"
   ]
  },
  {
   "cell_type": "code",
   "execution_count": 18,
   "metadata": {
    "collapsed": true
   },
   "outputs": [],
   "source": [
    "party_data = StandardScaler().fit_transform(party_data)"
   ]
  },
  {
   "cell_type": "code",
   "execution_count": 24,
   "metadata": {},
   "outputs": [],
   "source": [
    "party_pca = PCA(n_components=4)"
   ]
  },
  {
   "cell_type": "code",
   "execution_count": 25,
   "metadata": {},
   "outputs": [
    {
     "data": {
      "text/plain": [
       "PCA(copy=True, iterated_power='auto', n_components=4, random_state=None,\n",
       "  svd_solver='auto', tol=0.0, whiten=False)"
      ]
     },
     "execution_count": 25,
     "metadata": {},
     "output_type": "execute_result"
    }
   ],
   "source": [
    "party_pca.fit(party_data)"
   ]
  },
  {
   "cell_type": "code",
   "execution_count": 26,
   "metadata": {},
   "outputs": [
    {
     "data": {
      "text/plain": [
       "array([0.30213758, 0.13968214, 0.10130278, 0.08755041])"
      ]
     },
     "execution_count": 26,
     "metadata": {},
     "output_type": "execute_result"
    }
   ],
   "source": [
    "party_pca.explained_variance_ratio_"
   ]
  },
  {
   "cell_type": "code",
   "execution_count": 27,
   "metadata": {},
   "outputs": [
    {
     "data": {
      "text/plain": [
       "0.6306729106938551"
      ]
     },
     "execution_count": 27,
     "metadata": {},
     "output_type": "execute_result"
    }
   ],
   "source": [
    "np.sum(party_pca.explained_variance_ratio_)"
   ]
  },
  {
   "cell_type": "markdown",
   "metadata": {},
   "source": [
    "## Factor Analysis"
   ]
  },
  {
   "cell_type": "code",
   "execution_count": 15,
   "metadata": {},
   "outputs": [],
   "source": [
    "factors = pd.DataFrame(nu_pca.components_)"
   ]
  },
  {
   "cell_type": "code",
   "execution_count": 16,
   "metadata": {},
   "outputs": [],
   "source": [
    "factors.columns = data.drop(['abstainVotes'], axis=1).columns[2:16]"
   ]
  },
  {
   "cell_type": "code",
   "execution_count": 17,
   "metadata": {},
   "outputs": [
    {
     "data": {
      "text/html": [
       "<div>\n",
       "<style scoped>\n",
       "    .dataframe tbody tr th:only-of-type {\n",
       "        vertical-align: middle;\n",
       "    }\n",
       "\n",
       "    .dataframe tbody tr th {\n",
       "        vertical-align: top;\n",
       "    }\n",
       "\n",
       "    .dataframe thead th {\n",
       "        text-align: right;\n",
       "    }\n",
       "</style>\n",
       "<table border=\"1\" class=\"dataframe\">\n",
       "  <thead>\n",
       "    <tr style=\"text-align: right;\">\n",
       "      <th></th>\n",
       "      <th>author_flag</th>\n",
       "      <th>co_author_flag</th>\n",
       "      <th>lead_author_flag</th>\n",
       "      <th>ayeVotes</th>\n",
       "      <th>bdCount_comm</th>\n",
       "      <th>bdCount_no_comm</th>\n",
       "      <th>bdCount_all</th>\n",
       "      <th>naeVotes</th>\n",
       "      <th>is_unanimous</th>\n",
       "      <th>utteranceDuration_all</th>\n",
       "      <th>utteranceDuration_not_comm</th>\n",
       "      <th>utteranceDuration_comm</th>\n",
       "      <th>voteCount</th>\n",
       "      <th>wordCount</th>\n",
       "    </tr>\n",
       "  </thead>\n",
       "  <tbody>\n",
       "    <tr>\n",
       "      <th>0</th>\n",
       "      <td>0.177127</td>\n",
       "      <td>0.043445</td>\n",
       "      <td>0.245774</td>\n",
       "      <td>0.078925</td>\n",
       "      <td>0.403145</td>\n",
       "      <td>0.017748</td>\n",
       "      <td>0.403350</td>\n",
       "      <td>0.005890</td>\n",
       "      <td>-0.000000e+00</td>\n",
       "      <td>0.416632</td>\n",
       "      <td>0.326631</td>\n",
       "      <td>0.341091</td>\n",
       "      <td>0.080168</td>\n",
       "      <td>0.414123</td>\n",
       "    </tr>\n",
       "    <tr>\n",
       "      <th>1</th>\n",
       "      <td>-0.432261</td>\n",
       "      <td>-0.457488</td>\n",
       "      <td>-0.093908</td>\n",
       "      <td>-0.540478</td>\n",
       "      <td>0.091632</td>\n",
       "      <td>-0.023271</td>\n",
       "      <td>0.091048</td>\n",
       "      <td>0.061143</td>\n",
       "      <td>5.421011e-20</td>\n",
       "      <td>0.094799</td>\n",
       "      <td>0.092285</td>\n",
       "      <td>0.062303</td>\n",
       "      <td>-0.502173</td>\n",
       "      <td>0.091601</td>\n",
       "    </tr>\n",
       "    <tr>\n",
       "      <th>2</th>\n",
       "      <td>-0.507654</td>\n",
       "      <td>-0.489087</td>\n",
       "      <td>-0.183943</td>\n",
       "      <td>0.434005</td>\n",
       "      <td>0.056723</td>\n",
       "      <td>-0.025593</td>\n",
       "      <td>0.056104</td>\n",
       "      <td>0.119565</td>\n",
       "      <td>1.084202e-19</td>\n",
       "      <td>0.029421</td>\n",
       "      <td>-0.047425</td>\n",
       "      <td>0.088477</td>\n",
       "      <td>0.498099</td>\n",
       "      <td>0.022934</td>\n",
       "    </tr>\n",
       "    <tr>\n",
       "      <th>3</th>\n",
       "      <td>-0.080571</td>\n",
       "      <td>-0.162102</td>\n",
       "      <td>0.093749</td>\n",
       "      <td>0.276356</td>\n",
       "      <td>-0.003201</td>\n",
       "      <td>0.012985</td>\n",
       "      <td>-0.002900</td>\n",
       "      <td>-0.907987</td>\n",
       "      <td>6.938894e-18</td>\n",
       "      <td>-0.001551</td>\n",
       "      <td>0.091766</td>\n",
       "      <td>-0.085739</td>\n",
       "      <td>-0.204125</td>\n",
       "      <td>0.000775</td>\n",
       "    </tr>\n",
       "    <tr>\n",
       "      <th>4</th>\n",
       "      <td>-0.013458</td>\n",
       "      <td>-0.081773</td>\n",
       "      <td>0.101359</td>\n",
       "      <td>-0.004663</td>\n",
       "      <td>-0.050385</td>\n",
       "      <td>0.975833</td>\n",
       "      <td>-0.027843</td>\n",
       "      <td>0.055005</td>\n",
       "      <td>-2.220446e-16</td>\n",
       "      <td>-0.007218</td>\n",
       "      <td>0.107874</td>\n",
       "      <td>-0.109493</td>\n",
       "      <td>0.023606</td>\n",
       "      <td>-0.003575</td>\n",
       "    </tr>\n",
       "    <tr>\n",
       "      <th>5</th>\n",
       "      <td>-0.088650</td>\n",
       "      <td>0.345790</td>\n",
       "      <td>-0.676654</td>\n",
       "      <td>-0.000633</td>\n",
       "      <td>0.144737</td>\n",
       "      <td>0.206506</td>\n",
       "      <td>0.149428</td>\n",
       "      <td>-0.175503</td>\n",
       "      <td>1.387779e-17</td>\n",
       "      <td>0.051589</td>\n",
       "      <td>-0.353369</td>\n",
       "      <td>0.402263</td>\n",
       "      <td>-0.089945</td>\n",
       "      <td>0.023447</td>\n",
       "    </tr>\n",
       "  </tbody>\n",
       "</table>\n",
       "</div>"
      ],
      "text/plain": [
       "   author_flag  co_author_flag  lead_author_flag  ayeVotes  bdCount_comm  \\\n",
       "0     0.177127        0.043445          0.245774  0.078925      0.403145   \n",
       "1    -0.432261       -0.457488         -0.093908 -0.540478      0.091632   \n",
       "2    -0.507654       -0.489087         -0.183943  0.434005      0.056723   \n",
       "3    -0.080571       -0.162102          0.093749  0.276356     -0.003201   \n",
       "4    -0.013458       -0.081773          0.101359 -0.004663     -0.050385   \n",
       "5    -0.088650        0.345790         -0.676654 -0.000633      0.144737   \n",
       "\n",
       "   bdCount_no_comm  bdCount_all  naeVotes  is_unanimous  \\\n",
       "0         0.017748     0.403350  0.005890 -0.000000e+00   \n",
       "1        -0.023271     0.091048  0.061143  5.421011e-20   \n",
       "2        -0.025593     0.056104  0.119565  1.084202e-19   \n",
       "3         0.012985    -0.002900 -0.907987  6.938894e-18   \n",
       "4         0.975833    -0.027843  0.055005 -2.220446e-16   \n",
       "5         0.206506     0.149428 -0.175503  1.387779e-17   \n",
       "\n",
       "   utteranceDuration_all  utteranceDuration_not_comm  utteranceDuration_comm  \\\n",
       "0               0.416632                    0.326631                0.341091   \n",
       "1               0.094799                    0.092285                0.062303   \n",
       "2               0.029421                   -0.047425                0.088477   \n",
       "3              -0.001551                    0.091766               -0.085739   \n",
       "4              -0.007218                    0.107874               -0.109493   \n",
       "5               0.051589                   -0.353369                0.402263   \n",
       "\n",
       "   voteCount  wordCount  \n",
       "0   0.080168   0.414123  \n",
       "1  -0.502173   0.091601  \n",
       "2   0.498099   0.022934  \n",
       "3  -0.204125   0.000775  \n",
       "4   0.023606  -0.003575  \n",
       "5  -0.089945   0.023447  "
      ]
     },
     "execution_count": 17,
     "metadata": {},
     "output_type": "execute_result"
    }
   ],
   "source": [
    "factors"
   ]
  },
  {
   "cell_type": "code",
   "execution_count": 18,
   "metadata": {},
   "outputs": [],
   "source": [
    "loadings = nu_pca.components_.T * np.sqrt(nu_pca.explained_variance_)"
   ]
  },
  {
   "cell_type": "code",
   "execution_count": 19,
   "metadata": {},
   "outputs": [
    {
     "data": {
      "text/plain": [
       "array([[  4.14347901e-01,   1.01630020e-01,   5.74929643e-01,\n",
       "          1.84626406e-01,   9.43063335e-01,   4.15173423e-02,\n",
       "          9.43543280e-01,   1.37779432e-02,  -0.00000000e+00,\n",
       "          9.74613410e-01,   7.64076768e-01,   7.97901913e-01,\n",
       "          1.87533658e-01,   9.68744166e-01],\n",
       "       [ -5.87190437e-01,  -6.21458924e-01,  -1.27566629e-01,\n",
       "         -7.34193797e-01,   1.24473804e-01,  -3.16112830e-02,\n",
       "          1.23681319e-01,   8.30573646e-02,   7.36398546e-20,\n",
       "          1.28775774e-01,   1.25361211e-01,   8.46329889e-02,\n",
       "         -6.82159715e-01,   1.24432238e-01],\n",
       "       [ -6.67491326e-01,  -6.43078721e-01,  -2.41857893e-01,\n",
       "          5.70653685e-01,   7.45826053e-02,  -3.36515574e-02,\n",
       "          7.37683324e-02,   1.57210872e-01,   1.42556963e-19,\n",
       "          3.86845749e-02,  -6.23564169e-02,   1.16334382e-01,\n",
       "          6.54927778e-01,   3.01552984e-02],\n",
       "       [ -8.57007984e-02,  -1.72422197e-01,   9.97166984e-02,\n",
       "          2.93949691e-01,  -3.40524635e-03,   1.38119905e-02,\n",
       "         -3.08482545e-03,  -9.65790748e-01,   7.38063570e-18,\n",
       "         -1.64931442e-03,   9.76077044e-02,  -9.11973706e-02,\n",
       "         -2.17119917e-01,   8.24750421e-04],\n",
       "       [ -1.34808941e-02,  -8.19100102e-02,   1.01528967e-01,\n",
       "         -4.67117473e-03,  -5.04693530e-02,   9.77472263e-01,\n",
       "         -2.78897893e-02,   5.50973878e-02,  -2.22417647e-16,\n",
       "         -7.23002585e-03,   1.08055604e-01,  -1.09676738e-01,\n",
       "          2.36455375e-02,  -3.58072383e-03],\n",
       "       [ -8.43995057e-02,   3.29209756e-01,  -6.44207987e-01,\n",
       "         -6.02640388e-04,   1.37796458e-01,   1.96603880e-01,\n",
       "          1.42263008e-01,  -1.67087886e-01,   1.32123471e-17,\n",
       "          4.91157546e-02,  -3.36424803e-01,   3.82974062e-01,\n",
       "         -8.56326005e-02,   2.23227369e-02]])"
      ]
     },
     "execution_count": 19,
     "metadata": {},
     "output_type": "execute_result"
    }
   ],
   "source": [
    "loadings.T"
   ]
  },
  {
   "cell_type": "code",
   "execution_count": 24,
   "metadata": {},
   "outputs": [],
   "source": [
    "loadings = pd.DataFrame(loadings.T)\n",
    "loadings.columns = data.drop(['abstainVotes'], axis=1).columns[2:16]"
   ]
  },
  {
   "cell_type": "code",
   "execution_count": 28,
   "metadata": {},
   "outputs": [],
   "source": [
    "loadings.drop(['is_unanimous'], axis=1).to_csv(\"loadings.csv\")"
   ]
  },
  {
   "cell_type": "markdown",
   "metadata": {},
   "source": [
    "## Build PCA Datasets"
   ]
  },
  {
   "cell_type": "code",
   "execution_count": 30,
   "metadata": {},
   "outputs": [],
   "source": [
    "pca_data = pd.DataFrame(nu_pca.transform(non_unan))"
   ]
  },
  {
   "cell_type": "code",
   "execution_count": 31,
   "metadata": {},
   "outputs": [
    {
     "data": {
      "text/plain": [
       "(215743, 6)"
      ]
     },
     "execution_count": 31,
     "metadata": {},
     "output_type": "execute_result"
    }
   ],
   "source": [
    "pca_data.shape"
   ]
  },
  {
   "cell_type": "code",
   "execution_count": 32,
   "metadata": {},
   "outputs": [],
   "source": [
    "pca_data['pid'] = non_unan_data['pid'].reset_index(drop=True)\n",
    "pca_data['bid'] = non_unan_data['bid'].reset_index(drop=True)"
   ]
  },
  {
   "cell_type": "code",
   "execution_count": 33,
   "metadata": {},
   "outputs": [],
   "source": [
    "pca_data.columns = ['one', 'two', 'three', 'four', 'five', 'six', 'pid', 'bid']"
   ]
  },
  {
   "cell_type": "markdown",
   "metadata": {},
   "source": [
    "### One PC"
   ]
  },
  {
   "cell_type": "code",
   "execution_count": 144,
   "metadata": {},
   "outputs": [],
   "source": [
    "one_pc = pca_data[['pid', 'bid', 'one']]"
   ]
  },
  {
   "cell_type": "code",
   "execution_count": 145,
   "metadata": {},
   "outputs": [],
   "source": [
    "one_pid_bid_mat = pd.pivot_table(one_pc, index=['pid'], columns=['bid'])"
   ]
  },
  {
   "cell_type": "code",
   "execution_count": 146,
   "metadata": {},
   "outputs": [],
   "source": [
    "one_bid_pid_mat = pd.pivot_table(one_pc, index=['bid'], columns=['pid'])"
   ]
  },
  {
   "cell_type": "code",
   "execution_count": 78,
   "metadata": {},
   "outputs": [],
   "source": [
    "one_bid_pid_mat.to_csv(\"bill_leg_one.csv\")"
   ]
  },
  {
   "cell_type": "code",
   "execution_count": 26,
   "metadata": {
    "collapsed": true
   },
   "outputs": [],
   "source": [
    "one_pid_bid_mat.to_csv(\"leg_bill_one.csv\")"
   ]
  },
  {
   "cell_type": "code",
   "execution_count": 150,
   "metadata": {},
   "outputs": [
    {
     "data": {
      "text/plain": [
       "(1783, 121)"
      ]
     },
     "execution_count": 150,
     "metadata": {},
     "output_type": "execute_result"
    }
   ],
   "source": [
    "one_bid_pid_mat.shape"
   ]
  },
  {
   "cell_type": "markdown",
   "metadata": {},
   "source": [
    "### Two PC"
   ]
  },
  {
   "cell_type": "code",
   "execution_count": 47,
   "metadata": {},
   "outputs": [],
   "source": [
    "two_pc = pca_data[['pid', 'bid', 'one', 'two']]"
   ]
  },
  {
   "cell_type": "code",
   "execution_count": 48,
   "metadata": {},
   "outputs": [],
   "source": [
    "two_pid_bid_mat = pd.pivot_table(two_pc, index=['pid'], columns=['bid'])"
   ]
  },
  {
   "cell_type": "code",
   "execution_count": 49,
   "metadata": {},
   "outputs": [],
   "source": [
    "two_bid_pid_mat = pd.pivot_table(two_pc, index=['bid'], columns=['pid'])"
   ]
  },
  {
   "cell_type": "code",
   "execution_count": 25,
   "metadata": {
    "collapsed": true
   },
   "outputs": [],
   "source": [
    "two_bid_pid_mat.to_csv(\"bill_leg_two.csv\")"
   ]
  },
  {
   "cell_type": "code",
   "execution_count": 26,
   "metadata": {
    "collapsed": true
   },
   "outputs": [],
   "source": [
    "two_pid_bid_mat.to_csv(\"leg_bill_two.csv\")"
   ]
  },
  {
   "cell_type": "markdown",
   "metadata": {},
   "source": [
    "### Three PC"
   ]
  },
  {
   "cell_type": "code",
   "execution_count": 22,
   "metadata": {},
   "outputs": [],
   "source": [
    "three_pc = pca_data[['pid', 'bid', 'one', 'two', 'three']]"
   ]
  },
  {
   "cell_type": "code",
   "execution_count": 23,
   "metadata": {},
   "outputs": [],
   "source": [
    "three_pid_bid_mat = pd.pivot_table(three_pc, index=['pid'], columns=['bid'])"
   ]
  },
  {
   "cell_type": "code",
   "execution_count": 24,
   "metadata": {},
   "outputs": [],
   "source": [
    "three_bid_pid_mat = pd.pivot_table(three_pc, index=['bid'], columns=['pid'])"
   ]
  },
  {
   "cell_type": "code",
   "execution_count": 25,
   "metadata": {
    "collapsed": true
   },
   "outputs": [],
   "source": [
    "three_bid_pid_mat.to_csv(\"bill_leg_three.csv\")"
   ]
  },
  {
   "cell_type": "code",
   "execution_count": 26,
   "metadata": {
    "collapsed": true
   },
   "outputs": [],
   "source": [
    "three_pid_bid_mat.to_csv(\"leg_bill_three.csv\")"
   ]
  },
  {
   "cell_type": "markdown",
   "metadata": {},
   "source": [
    "### Four PC"
   ]
  },
  {
   "cell_type": "code",
   "execution_count": 27,
   "metadata": {},
   "outputs": [],
   "source": [
    "four_pc = pca_data[['pid', 'bid', 'one', 'two', 'three', 'four']]"
   ]
  },
  {
   "cell_type": "code",
   "execution_count": 23,
   "metadata": {},
   "outputs": [],
   "source": [
    "four_pid_bid_mat = pd.pivot_table(four_pc, index=['pid'], columns=['bid'])"
   ]
  },
  {
   "cell_type": "code",
   "execution_count": 24,
   "metadata": {},
   "outputs": [],
   "source": [
    "four_bid_pid_mat = pd.pivot_table(four_pc, index=['bid'], columns=['pid'])"
   ]
  },
  {
   "cell_type": "code",
   "execution_count": 25,
   "metadata": {
    "collapsed": true
   },
   "outputs": [],
   "source": [
    "four_bid_pid_mat.to_csv(\"bill_leg_four.csv\")"
   ]
  },
  {
   "cell_type": "code",
   "execution_count": 26,
   "metadata": {
    "collapsed": true
   },
   "outputs": [],
   "source": [
    "four_pid_bid_mat.to_csv(\"leg_bill_four.csv\")"
   ]
  },
  {
   "cell_type": "markdown",
   "metadata": {},
   "source": [
    "### Five PC"
   ]
  },
  {
   "cell_type": "code",
   "execution_count": 34,
   "metadata": {},
   "outputs": [],
   "source": [
    "five_pc = pca_data[['pid', 'bid', 'one', 'two', 'three', 'four', 'five']]"
   ]
  },
  {
   "cell_type": "code",
   "execution_count": 35,
   "metadata": {},
   "outputs": [],
   "source": [
    "five_pid_bid_mat = pd.pivot_table(five_pc, index=['pid'], columns=['bid'])"
   ]
  },
  {
   "cell_type": "code",
   "execution_count": 36,
   "metadata": {},
   "outputs": [],
   "source": [
    "five_bid_pid_mat = pd.pivot_table(five_pc, index=['bid'], columns=['pid'])"
   ]
  },
  {
   "cell_type": "code",
   "execution_count": 37,
   "metadata": {},
   "outputs": [],
   "source": [
    "five_bid_pid_mat.to_csv(\"bill_leg_five.csv\")"
   ]
  },
  {
   "cell_type": "code",
   "execution_count": 38,
   "metadata": {},
   "outputs": [],
   "source": [
    "five_pid_bid_mat.to_csv(\"leg_bill_five.csv\")"
   ]
  },
  {
   "cell_type": "code",
   "execution_count": 19,
   "metadata": {},
   "outputs": [
    {
     "data": {
      "text/plain": [
       "(1783, 605)"
      ]
     },
     "execution_count": 19,
     "metadata": {},
     "output_type": "execute_result"
    }
   ],
   "source": [
    "five_bid_pid_mat.shape"
   ]
  },
  {
   "cell_type": "markdown",
   "metadata": {},
   "source": [
    "### Six PC"
   ]
  },
  {
   "cell_type": "code",
   "execution_count": 66,
   "metadata": {},
   "outputs": [],
   "source": [
    "six_pc = pca_data[['pid', 'bid', 'one', 'two', 'three', 'four', 'five', 'six']]"
   ]
  },
  {
   "cell_type": "code",
   "execution_count": 67,
   "metadata": {},
   "outputs": [],
   "source": [
    "six_pid_bid_mat = pd.pivot_table(six_pc, index=['pid'], columns=['bid'])"
   ]
  },
  {
   "cell_type": "code",
   "execution_count": 68,
   "metadata": {},
   "outputs": [],
   "source": [
    "six_bid_pid_mat = pd.pivot_table(six_pc, index=['bid'], columns=['pid'])"
   ]
  },
  {
   "cell_type": "code",
   "execution_count": 69,
   "metadata": {},
   "outputs": [],
   "source": [
    "six_bid_pid_mat.to_csv(\"bill_leg_six.csv\")"
   ]
  },
  {
   "cell_type": "code",
   "execution_count": 26,
   "metadata": {
    "collapsed": true
   },
   "outputs": [],
   "source": [
    "six_pid_bid_mat.to_csv(\"leg_bill_six.csv\")"
   ]
  },
  {
   "cell_type": "code",
   "execution_count": 105,
   "metadata": {},
   "outputs": [
    {
     "data": {
      "text/plain": [
       "(1783, 726)"
      ]
     },
     "execution_count": 105,
     "metadata": {},
     "output_type": "execute_result"
    }
   ],
   "source": [
    "six_bid_pid_mat.shape"
   ]
  },
  {
   "cell_type": "markdown",
   "metadata": {},
   "source": [
    "## Clustering"
   ]
  },
  {
   "cell_type": "code",
   "execution_count": 39,
   "metadata": {},
   "outputs": [],
   "source": [
    "import scipy.cluster\n",
    "import matplotlib.pyplot as plt\n",
    "%matplotlib inline"
   ]
  },
  {
   "cell_type": "code",
   "execution_count": 40,
   "metadata": {},
   "outputs": [],
   "source": [
    "# Set cut points for agglomerative clustering \n",
    "bid_clusters = 15\n",
    "pid_clusters = 5"
   ]
  },
  {
   "cell_type": "markdown",
   "metadata": {},
   "source": [
    "#### Bill Clustering"
   ]
  },
  {
   "cell_type": "code",
   "execution_count": 41,
   "metadata": {},
   "outputs": [],
   "source": [
    "bid_heirarch = scipy.cluster.hierarchy.linkage(five_bid_pid_mat, 'ward')"
   ]
  },
  {
   "cell_type": "code",
   "execution_count": 44,
   "metadata": {
    "scrolled": true
   },
   "outputs": [
    {
     "data": {
      "image/png": "[encoded data removed]",
      "text/plain": [
       "<Figure size 1080x720 with 1 Axes>"
      ]
     },
     "metadata": {},
     "output_type": "display_data"
    }
   ],
   "source": [
    "plt.figure(figsize=(15, 10))\n",
    "plt.title('Hierarchical Clustering Dendrogram')\n",
    "plt.xlabel('sample index')\n",
    "plt.ylabel('distance')\n",
    "scipy.cluster.hierarchy.dendrogram(\n",
    "    bid_heirarch,\n",
    "    truncate_mode='lastp',\n",
    "    p = bid_clusters,\n",
    "    show_contracted=True\n",
    ")\n",
    "plt.show()"
   ]
  },
  {
   "cell_type": "markdown",
   "metadata": {},
   "source": [
    "#### Legislator Clustering"
   ]
  },
  {
   "cell_type": "code",
   "execution_count": 42,
   "metadata": {},
   "outputs": [],
   "source": [
    "pid_heirarch = scipy.cluster.hierarchy.linkage(five_pid_bid_mat, 'ward')"
   ]
  },
  {
   "cell_type": "code",
   "execution_count": 47,
   "metadata": {},
   "outputs": [
    {
     "data": {
      "image/png": "[encoded data removed]",
      "text/plain": [
       "<Figure size 1080x720 with 1 Axes>"
      ]
     },
     "metadata": {},
     "output_type": "display_data"
    }
   ],
   "source": [
    "plt.figure(figsize=(15, 10))\n",
    "plt.title('Hierarchical Clustering Dendrogram')\n",
    "plt.xlabel('sample index')\n",
    "plt.ylabel('distance')\n",
    "scipy.cluster.hierarchy.dendrogram(\n",
    "    pid_heirarch,\n",
    "    truncate_mode='lastp',\n",
    "    p = pid_clusters,\n",
    "    show_contracted=True\n",
    ")\n",
    "plt.show()"
   ]
  },
  {
   "cell_type": "markdown",
   "metadata": {},
   "source": [
    "### Output Cluster Groupings"
   ]
  },
  {
   "cell_type": "markdown",
   "metadata": {},
   "source": [
    "#### Bill Clusters"
   ]
  },
  {
   "cell_type": "code",
   "execution_count": 43,
   "metadata": {},
   "outputs": [],
   "source": [
    "bid_cut_tree = scipy.cluster.hierarchy.cut_tree(bid_heirarch, bid_clusters)"
   ]
  },
  {
   "cell_type": "code",
   "execution_count": 44,
   "metadata": {},
   "outputs": [],
   "source": [
    "bid_cluster_dict = {'cluster': bid_cut_tree.flatten(), 'bid': np.unique(data.loc[data['is_unanimous'] != 1, 'bid'])}"
   ]
  },
  {
   "cell_type": "code",
   "execution_count": 45,
   "metadata": {},
   "outputs": [],
   "source": [
    "bill_cluster_df = pd.DataFrame(bid_cluster_dict)"
   ]
  },
  {
   "cell_type": "code",
   "execution_count": 46,
   "metadata": {},
   "outputs": [],
   "source": [
    "bill_subj = pd.read_csv('Data/bill_subjects.csv')"
   ]
  },
  {
   "cell_type": "code",
   "execution_count": 47,
   "metadata": {},
   "outputs": [],
   "source": [
    "bill_cluster_df = pd.merge(bill_cluster_df, bill_subj, on='bid', how='left')"
   ]
  },
  {
   "cell_type": "code",
   "execution_count": 48,
   "metadata": {},
   "outputs": [],
   "source": [
    "bill_file_name = \"bill_cluster_\" + str(bid_clusters) + \".csv\"\n",
    "bill_cluster_df.to_csv(bill_file_name, index=False)"
   ]
  },
  {
   "cell_type": "code",
   "execution_count": 55,
   "metadata": {},
   "outputs": [
    {
     "data": {
      "text/html": [
       "<div>\n",
       "<style scoped>\n",
       "    .dataframe tbody tr th:only-of-type {\n",
       "        vertical-align: middle;\n",
       "    }\n",
       "\n",
       "    .dataframe tbody tr th {\n",
       "        vertical-align: top;\n",
       "    }\n",
       "\n",
       "    .dataframe thead th {\n",
       "        text-align: right;\n",
       "    }\n",
       "</style>\n",
       "<table border=\"1\" class=\"dataframe\">\n",
       "  <thead>\n",
       "    <tr style=\"text-align: right;\">\n",
       "      <th></th>\n",
       "      <th>bid</th>\n",
       "      <th>cluster</th>\n",
       "      <th>subject</th>\n",
       "    </tr>\n",
       "  </thead>\n",
       "  <tbody>\n",
       "    <tr>\n",
       "      <th>0</th>\n",
       "      <td>CA_201520160AB1005</td>\n",
       "      <td>0</td>\n",
       "      <td>California Beverage Container Recycling and Li...</td>\n",
       "    </tr>\n",
       "    <tr>\n",
       "      <th>1</th>\n",
       "      <td>CA_201520160AB1006</td>\n",
       "      <td>1</td>\n",
       "      <td>Prisoners: mental health treatment.</td>\n",
       "    </tr>\n",
       "    <tr>\n",
       "      <th>2</th>\n",
       "      <td>CA_201520160AB101</td>\n",
       "      <td>2</td>\n",
       "      <td>Pupil instruction: ethnic studies.</td>\n",
       "    </tr>\n",
       "    <tr>\n",
       "      <th>3</th>\n",
       "      <td>CA_201520160AB1010</td>\n",
       "      <td>3</td>\n",
       "      <td>Community colleges: part-time, temporary emplo...</td>\n",
       "    </tr>\n",
       "    <tr>\n",
       "      <th>4</th>\n",
       "      <td>CA_201520160AB1014</td>\n",
       "      <td>3</td>\n",
       "      <td>Education finance: Safe Neighborhoods and Scho...</td>\n",
       "    </tr>\n",
       "  </tbody>\n",
       "</table>\n",
       "</div>"
      ],
      "text/plain": [
       "                  bid  cluster  \\\n",
       "0  CA_201520160AB1005        0   \n",
       "1  CA_201520160AB1006        1   \n",
       "2   CA_201520160AB101        2   \n",
       "3  CA_201520160AB1010        3   \n",
       "4  CA_201520160AB1014        3   \n",
       "\n",
       "                                             subject  \n",
       "0  California Beverage Container Recycling and Li...  \n",
       "1                Prisoners: mental health treatment.  \n",
       "2                 Pupil instruction: ethnic studies.  \n",
       "3  Community colleges: part-time, temporary emplo...  \n",
       "4  Education finance: Safe Neighborhoods and Scho...  "
      ]
     },
     "execution_count": 55,
     "metadata": {},
     "output_type": "execute_result"
    }
   ],
   "source": [
    "bill_cluster_df.head()"
   ]
  },
  {
   "cell_type": "markdown",
   "metadata": {},
   "source": [
    "#### Legislator Clusters"
   ]
  },
  {
   "cell_type": "code",
   "execution_count": 49,
   "metadata": {},
   "outputs": [],
   "source": [
    "pid_cut_tree = scipy.cluster.hierarchy.cut_tree(pid_heirarch, pid_clusters)"
   ]
  },
  {
   "cell_type": "code",
   "execution_count": 50,
   "metadata": {},
   "outputs": [],
   "source": [
    "pid_cluster_dict = {'cluster': pid_cut_tree.flatten(), 'pid': np.unique(data.loc[data['is_unanimous'] != 1, 'pid'])}"
   ]
  },
  {
   "cell_type": "code",
   "execution_count": 51,
   "metadata": {},
   "outputs": [],
   "source": [
    "legislator_cluster_df = pd.DataFrame(pid_cluster_dict)"
   ]
  },
  {
   "cell_type": "code",
   "execution_count": 52,
   "metadata": {},
   "outputs": [],
   "source": [
    "leg_names = pd.read_csv('Data/leg_names.csv')\n",
    "leg_names.columns = ['pid', 'name']\n",
    "legislator_cluster_df = pd.merge(legislator_cluster_df, leg_names, on='pid', how='left')"
   ]
  },
  {
   "cell_type": "code",
   "execution_count": 53,
   "metadata": {},
   "outputs": [
    {
     "data": {
      "text/html": [
       "<div>\n",
       "<style scoped>\n",
       "    .dataframe tbody tr th:only-of-type {\n",
       "        vertical-align: middle;\n",
       "    }\n",
       "\n",
       "    .dataframe tbody tr th {\n",
       "        vertical-align: top;\n",
       "    }\n",
       "\n",
       "    .dataframe thead th {\n",
       "        text-align: right;\n",
       "    }\n",
       "</style>\n",
       "<table border=\"1\" class=\"dataframe\">\n",
       "  <thead>\n",
       "    <tr style=\"text-align: right;\">\n",
       "      <th></th>\n",
       "      <th>cluster</th>\n",
       "      <th>pid</th>\n",
       "      <th>name</th>\n",
       "    </tr>\n",
       "  </thead>\n",
       "  <tbody>\n",
       "    <tr>\n",
       "      <th>0</th>\n",
       "      <td>0</td>\n",
       "      <td>1</td>\n",
       "      <td>Isadore Hall</td>\n",
       "    </tr>\n",
       "    <tr>\n",
       "      <th>1</th>\n",
       "      <td>1</td>\n",
       "      <td>2</td>\n",
       "      <td>Richard Bloom</td>\n",
       "    </tr>\n",
       "    <tr>\n",
       "      <th>2</th>\n",
       "      <td>1</td>\n",
       "      <td>3</td>\n",
       "      <td>Susan Bonilla</td>\n",
       "    </tr>\n",
       "    <tr>\n",
       "      <th>3</th>\n",
       "      <td>1</td>\n",
       "      <td>4</td>\n",
       "      <td>Tony Thurmond</td>\n",
       "    </tr>\n",
       "    <tr>\n",
       "      <th>4</th>\n",
       "      <td>2</td>\n",
       "      <td>5</td>\n",
       "      <td>K.H. \"Katcho\" Achadjian</td>\n",
       "    </tr>\n",
       "  </tbody>\n",
       "</table>\n",
       "</div>"
      ],
      "text/plain": [
       "   cluster  pid                     name\n",
       "0        0    1             Isadore Hall\n",
       "1        1    2            Richard Bloom\n",
       "2        1    3            Susan Bonilla\n",
       "3        1    4            Tony Thurmond\n",
       "4        2    5  K.H. \"Katcho\" Achadjian"
      ]
     },
     "execution_count": 53,
     "metadata": {},
     "output_type": "execute_result"
    }
   ],
   "source": [
    "legislator_cluster_df.head()"
   ]
  },
  {
   "cell_type": "code",
   "execution_count": 54,
   "metadata": {},
   "outputs": [],
   "source": [
    "leg_file_name = \"legislator_cluster_\" + str(pid_clusters) + \".csv\"\n",
    "legislator_cluster_df.to_csv(leg_file_name, index=False)"
   ]
  },
  {
   "cell_type": "markdown",
   "metadata": {},
   "source": [
    "### Run Subgroup Clustering"
   ]
  },
  {
   "cell_type": "markdown",
   "metadata": {},
   "source": [
    "#### Legislators (Doesn't work, don't run this)"
   ]
  },
  {
   "cell_type": "code",
   "execution_count": 39,
   "metadata": {},
   "outputs": [
    {
     "data": {
      "text/plain": [
       "cluster\n",
       "0    36\n",
       "1    79\n",
       "2     2\n",
       "3     2\n",
       "4     2\n",
       "Name: pid, dtype: int64"
      ]
     },
     "execution_count": 39,
     "metadata": {},
     "output_type": "execute_result"
    }
   ],
   "source": [
    "legislator_clusters.groupby(legislator_clusters['cluster'])['pid'].count()"
   ]
  },
  {
   "cell_type": "code",
   "execution_count": 40,
   "metadata": {},
   "outputs": [],
   "source": [
    "clust_zero = legislator_clusters.loc[legislator_clusters['cluster'] == 0, :]"
   ]
  },
  {
   "cell_type": "code",
   "execution_count": 41,
   "metadata": {},
   "outputs": [],
   "source": [
    "subgroup_data = pd.merge(non_unan_data, clust_zero, how='inner', on='pid')"
   ]
  },
  {
   "cell_type": "code",
   "execution_count": 54,
   "metadata": {},
   "outputs": [],
   "source": [
    "subgroup_loadings = StandardScaler().fit_transform(subgroup_data.iloc[:,:12])"
   ]
  },
  {
   "cell_type": "code",
   "execution_count": 55,
   "metadata": {},
   "outputs": [],
   "source": [
    "subgroup_pca = nu_pca.fit_transform(subgroup_loadings)"
   ]
  },
  {
   "cell_type": "code",
   "execution_count": 56,
   "metadata": {},
   "outputs": [
    {
     "data": {
      "text/plain": [
       "(64188, 5)"
      ]
     },
     "execution_count": 56,
     "metadata": {},
     "output_type": "execute_result"
    }
   ],
   "source": [
    "subgroup_pca.shape"
   ]
  },
  {
   "cell_type": "code",
   "execution_count": null,
   "metadata": {},
   "outputs": [],
   "source": [
    "zero_clusters = scipy.cluster.hierarchy.linkage(subgroup_data, 'ward')"
   ]
  },
  {
   "cell_type": "markdown",
   "metadata": {},
   "source": [
    "## Produce Human Readable Output"
   ]
  },
  {
   "cell_type": "markdown",
   "metadata": {},
   "source": [
    "### Bills"
   ]
  },
  {
   "cell_type": "code",
   "execution_count": 62,
   "metadata": {},
   "outputs": [],
   "source": [
    "bill_cluster_df = pd.read_csv(\"bill_cluster_15.csv\")"
   ]
  },
  {
   "cell_type": "code",
   "execution_count": 63,
   "metadata": {},
   "outputs": [
    {
     "data": {
      "text/html": [
       "<div>\n",
       "<style scoped>\n",
       "    .dataframe tbody tr th:only-of-type {\n",
       "        vertical-align: middle;\n",
       "    }\n",
       "\n",
       "    .dataframe tbody tr th {\n",
       "        vertical-align: top;\n",
       "    }\n",
       "\n",
       "    .dataframe thead th {\n",
       "        text-align: right;\n",
       "    }\n",
       "</style>\n",
       "<table border=\"1\" class=\"dataframe\">\n",
       "  <thead>\n",
       "    <tr style=\"text-align: right;\">\n",
       "      <th></th>\n",
       "      <th>bid</th>\n",
       "      <th>cluster</th>\n",
       "      <th>subject</th>\n",
       "    </tr>\n",
       "  </thead>\n",
       "  <tbody>\n",
       "    <tr>\n",
       "      <th>0</th>\n",
       "      <td>CA_201520160AB1005</td>\n",
       "      <td>0</td>\n",
       "      <td>California Beverage Container Recycling and Li...</td>\n",
       "    </tr>\n",
       "    <tr>\n",
       "      <th>1</th>\n",
       "      <td>CA_201520160AB1006</td>\n",
       "      <td>1</td>\n",
       "      <td>Prisoners: mental health treatment.</td>\n",
       "    </tr>\n",
       "    <tr>\n",
       "      <th>2</th>\n",
       "      <td>CA_201520160AB101</td>\n",
       "      <td>0</td>\n",
       "      <td>Pupil instruction: ethnic studies.</td>\n",
       "    </tr>\n",
       "    <tr>\n",
       "      <th>3</th>\n",
       "      <td>CA_201520160AB1010</td>\n",
       "      <td>0</td>\n",
       "      <td>Community colleges: part-time, temporary emplo...</td>\n",
       "    </tr>\n",
       "    <tr>\n",
       "      <th>4</th>\n",
       "      <td>CA_201520160AB1014</td>\n",
       "      <td>0</td>\n",
       "      <td>Education finance: Safe Neighborhoods and Scho...</td>\n",
       "    </tr>\n",
       "  </tbody>\n",
       "</table>\n",
       "</div>"
      ],
      "text/plain": [
       "                  bid  cluster  \\\n",
       "0  CA_201520160AB1005        0   \n",
       "1  CA_201520160AB1006        1   \n",
       "2   CA_201520160AB101        0   \n",
       "3  CA_201520160AB1010        0   \n",
       "4  CA_201520160AB1014        0   \n",
       "\n",
       "                                             subject  \n",
       "0  California Beverage Container Recycling and Li...  \n",
       "1                Prisoners: mental health treatment.  \n",
       "2                 Pupil instruction: ethnic studies.  \n",
       "3  Community colleges: part-time, temporary emplo...  \n",
       "4  Education finance: Safe Neighborhoods and Scho...  "
      ]
     },
     "execution_count": 63,
     "metadata": {},
     "output_type": "execute_result"
    }
   ],
   "source": [
    "bill_cluster_df.head()"
   ]
  },
  {
   "cell_type": "code",
   "execution_count": 100,
   "metadata": {},
   "outputs": [],
   "source": [
    "def output_bill_clusters(cluster_list, num_clusters):\n",
    "    with open('readable_bill_clusters.txt', 'w') as f:\n",
    "        for i in range(0, num_clusters):\n",
    "            cluster_group = cluster_list.loc[cluster_list['cluster'] == i, :]\n",
    "            print(\"Cluster \" + str(i) + ' (Size ' + str(len(cluster_group)) + ')' + \":\")\n",
    "            f.write(\"Cluster \" + str(i) + ' (Size ' + str(len(cluster_group)) + ')' + \":\\n\\n\")\n",
    "            if len(cluster_group) > 30:\n",
    "                clust_sample = cluster_group.sample(n=20)\n",
    "                print(\"Showing sample of 20 bills\")\n",
    "                f.write(\"Showing sample of 20 bills\\n\")\n",
    "                for i in range(20):\n",
    "                    print('BID:', clust_sample.iloc[i, 0], '    Subject:', clust_sample.iloc[i, 2])\n",
    "                    f.write('BID:' + str(clust_sample.iloc[i, 0]) + '    Subject:' + str(clust_sample.iloc[i, 2]) + '\\n')\n",
    "            else:\n",
    "                for i in range(len(cluster_group)):\n",
    "                    print('BID:', cluster_group.iloc[i, 0], '    Subject:', cluster_group.iloc[i, 2])\n",
    "                    f.write('BID:' + str(cluster_group.iloc[i, 0]) + '    Subject:' + str(cluster_group.iloc[i, 2]) + '\\n')\n",
    "            print(\"\\n\")\n",
    "            f.write('\\n\\n')"
   ]
  },
  {
   "cell_type": "code",
   "execution_count": 101,
   "metadata": {},
   "outputs": [
    {
     "name": "stdout",
     "output_type": "stream",
     "text": [
      "Cluster 0 (Size 725):\n",
      "Showing sample of 20 bills\n",
      "BID: CA_201520160AB374     Subject: Health care coverage: prescription drugs.\n",
      "BID: CA_201520160AB359     Subject: Grocery workers.\n",
      "BID: CA_201520160AB679     Subject: Controlled substances.\n",
      "BID: CA_201520160AB1110     Subject: Greenhouse gases emissions intensity reporting: retail electricity suppliers.\n",
      "BID: CA_201520160AB2153     Subject: The Lead-Acid Battery Recycling Act of 2016.\n",
      "BID: CA_201520160AB199     Subject: Alternative energy: recycled feedstock.\n",
      "BID: CA_201520160AB1690     Subject: Community colleges: part-time, temporary employees.\n",
      "BID: CA_201520160AB1995     Subject: Community colleges: homeless students: access to shower facilities.\n",
      "BID: CA_201520160AB1461     Subject: Voter registration: California New Motor Voter Program.\n",
      "BID: CA_201520160AB2892     Subject: Pesticide poisoning.\n",
      "BID: CA_201520160AB2004     Subject: Hearing aids: minors.\n",
      "BID: CA_201520160AJR4     Subject: Berryessa Snow Mountain National Monument.\n",
      "BID: CA_201520160AB2243     Subject: Medical cannabis: taxation: cannabis production and environment mitigation.\n",
      "BID: CA_201520160AB2091     Subject: Special education: individualized education programs: translation services.\n",
      "BID: CA_201520160AB1385     Subject: Community colleges: accreditation.\n",
      "BID: CA_201520160AB2501     Subject: Housing: density bonuses.\n",
      "BID: CA_201520160AB2180     Subject: Land use: development project review.\n",
      "BID: CA_201520160AB332     Subject: Long-term care insurance.\n",
      "BID: CA_201520160AB1755     Subject: The Open and Transparent Water Data Act. \n",
      "BID: CA_201520160AB2815     Subject: Pupil attendance: supervisors of attendance.\n",
      "\n",
      "\n",
      "Cluster 1 (Size 466):\n",
      "Showing sample of 20 bills\n",
      "BID: CA_201520160ACR145     Subject: Presidential primary elections: advisory ballots.\n",
      "BID: CA_201520160SB950     Subject: Excluded employees: arbitration.\n",
      "BID: CA_201520160AB2809     Subject: Developmental services: regional centers.\n",
      "BID: CA_201520160AB1609     Subject: State government.\n",
      "BID: CA_201520160AB2369     Subject: Proposition 47: repeat offenses within 12 months.\n",
      "BID: CA_201520160AB2210     Subject: California State University: student success fees.\n",
      "BID: CA_201520160SB858     Subject: No Place Like Home Program: financing.\n",
      "BID: CA_201520160AB1902     Subject: Time for commencing civil actions: Aliso Canyon gas leak.\n",
      "BID: CA_201520160AB2576     Subject: Recycling: glass container manufacturers: market development payments.\n",
      "BID: CA_201520160AB1601     Subject: Budget Act of 2016.\n",
      "BID: CA_201520160SB1141     Subject: State highways: transfer to local agencies: pilot program.\n",
      "BID: CA_201520160AJR30     Subject: Convention of states: application.\n",
      "BID: CA_201520160AB2253     Subject: Specialized license plates.\n",
      "BID: CA_201520160SB173     Subject: Groundwater: de minimis extractors.\n",
      "BID: CA_201520160AB1326     Subject: Digital currency.\n",
      "BID: CA_201520160SB985     Subject: Employment: work hours.\n",
      "BID: CA_201520160SB1217     Subject: Healing arts: reporting requirements: professional liability resulting in death or personal injury.\n",
      "BID: CA_201520160AB2174     Subject: Ken Maddy California Cancer Registry.\n",
      "BID: CA_201520160AB1860     Subject: Local law enforcement: body-worn cameras: grant program.\n",
      "BID: CA_201520160AB1112     Subject: Adult education: consortia: parenting education: family literacy education.\n",
      "\n",
      "\n",
      "Cluster 2 (Size 532):\n",
      "Showing sample of 20 bills\n",
      "BID: CA_201520160SB759     Subject: Prisoners: segregation housing.\n",
      "BID: CA_201520162SB9     Subject: Local taxes: authorization: cigarettes and tobacco products.\n",
      "BID: CA_201520160AB2002     Subject: Political Reform Act of 1974: California Coastal Commission: communications.\n",
      "BID: CA_201520160SB1006     Subject: Firearm Violence Research Center.\n",
      "BID: CA_201520160SB842     Subject: California Beverage Container Recycling and Litter Reduction Act.\n",
      "BID: CA_201520160SB93     Subject: Budget Act of 2015. \n",
      "BID: CA_201520160SB224     Subject: Elderly Parole Program.\n",
      "BID: CA_201520160SB814     Subject: Drought: excessive water use: urban retail water suppliers.\n",
      "BID: CA_201520160AB116     Subject: Budget Act of 2014: augmentation.\n",
      "BID: CA_201520160SB13     Subject: Groundwater.\n",
      "BID: CA_201520160SB1250     Subject: Telecommunications: Warren-911-Emergency Assistance Act: notification of rural outages.\n",
      "BID: CA_201520160SB722     Subject: Sex offenders: GPS monitoring: removal.\n",
      "BID: CA_201520160AB112     Subject: Public safety.\n",
      "BID: CA_201520160SB7     Subject: Housing: water meters: multiunit structures.\n",
      "BID: CA_201520160SB599     Subject: Employment: public transit service contracts.\n",
      "BID: CA_201520160SB517     Subject: Supervised persons: release.\n",
      "BID: CA_201520160SB192     Subject: Bicycles: helmets.\n",
      "BID: CA_201520160SB320     Subject: Pupil fees: complaint of noncompliance: appeal procedures.\n",
      "BID: CA_201520160SB1432     Subject: School attendance: pupil transfer options: school districts of choice.\n",
      "BID: CA_201520160SB1433     Subject: Incarcerated persons: contraceptive counseling and services.\n",
      "\n",
      "\n",
      "Cluster 3 (Size 25):\n",
      "BID: CA_201520160AB1561     Subject: Sales and use taxes: exemption: sanitary napkins: tampons: menstrual sponges and menstrual cups.\n",
      "BID: CA_201520160AB1668     Subject: Investigational drugs, biological products, and devices.\n",
      "BID: CA_201520160AB366     Subject: Transactions and use taxes: City of Alameda.\n",
      "BID: CA_201520160ACR114     Subject: Grand Jury Awareness Month.\n",
      "BID: CA_201520160ACR117     Subject: Ronald Reagan Day. \n",
      "BID: CA_201520160ACR131     Subject: Professions and vocations: licensing fees: equity.\n",
      "BID: CA_201520160ACR92     Subject: 50th Anniversary of the Watts Revolt.\n",
      "BID: CA_201520160ACR93     Subject: Fire safety: municipal ordinances.\n",
      "BID: CA_201520160AJR12     Subject: H-1B Visa program: investigation of misuse.\n",
      "BID: CA_201520160AJR14     Subject: Export-Import Bank of the United States: reauthorization.\n",
      "BID: CA_201520160AJR16     Subject: Blood donations.\n",
      "BID: CA_201520160AJR19     Subject: Military service.\n",
      "BID: CA_201520160AJR23     Subject: Title IX: 43rd anniversary.\n",
      "BID: CA_201520160AJR27     Subject: The Land and Water Conservation Fund.\n",
      "BID: CA_201520160AJR28     Subject: Daylight saving time.\n",
      "BID: CA_201520160AJR45     Subject: Civil rights: the Equality Act. \n",
      "BID: CA_201520160AJR46     Subject: Unemployment: Workforce Innovation and Opportunities Act.\n",
      "BID: CA_201520160HR56     Subject: nan\n",
      "BID: CA_201520160SJR10     Subject: Federal Investment Tax Credit: solar energy.\n",
      "BID: CA_201520160SJR13     Subject: Voting: apportionment.\n",
      "BID: CA_201520160SJR15     Subject: Confederate States of America.\n",
      "BID: CA_201520160SJR19     Subject: Women’s reproductive health.\n",
      "BID: CA_201520160SJR2     Subject: Immigration.\n",
      "BID: CA_201520160SJR3     Subject: Smith River watershed protection.\n",
      "BID: CA_201520162AB1     Subject: Developmental services: Medi-Cal: funding.\n",
      "\n",
      "\n",
      "Cluster 4 (Size 8):\n",
      "BID: CA_201520160AB1612     Subject: Public resources: energy.\n",
      "BID: CA_201520160SB1150     Subject: Mortgages and deeds of trust: mortgage servicers: successors in interest. \n",
      "BID: CA_201520160SB140     Subject: Electronic cigarettes.\n",
      "BID: CA_201520160SB3     Subject: Minimum wage: in-home supportive services: paid sick days.\n",
      "BID: CA_201520160SB364     Subject: Residential real property: withdrawal of accommodations. \n",
      "BID: CA_201520160SB763     Subject: Medical professionals: probation.\n",
      "BID: CA_201520161SB3     Subject: Transportation bonds: highway, street, and road projects.\n",
      "BID: CA_201520162SB5     Subject: Electronic cigarettes.\n",
      "\n",
      "\n",
      "Cluster 5 (Size 1):\n",
      "BID: CA_201520160AJR3     Subject: Cuban embargo.\n",
      "\n",
      "\n",
      "Cluster 6 (Size 17):\n",
      "BID: CA_201520160SB1078     Subject: Civil procedure: arbitration.\n",
      "BID: CA_201520160SB1166     Subject: Unlawful employment practice: parental leave.\n",
      "BID: CA_201520160SB1190     Subject: California Coastal Commission: ex parte communications: staff communications.\n",
      "BID: CA_201520160SB122     Subject: California Environmental Quality Act: record of proceedings.\n",
      "BID: CA_201520160SB1336     Subject: Dependent children: investigation: relatives.\n",
      "BID: CA_201520160SB142     Subject: Civil law: unmanned aerial vehicles.\n",
      "BID: CA_201520160SB1435     Subject: School curriculum: health framework: healthy relationships.\n",
      "BID: CA_201520160SB180     Subject: Electricity: emissions of greenhouse gases.\n",
      "BID: CA_201520160SB358     Subject: Conditions of employment: gender wage differential. \n",
      "BID: CA_201520160SB379     Subject: Land use: general plan: safety element.\n",
      "BID: CA_201520160SB406     Subject: Employment: leave.\n",
      "BID: CA_201520160SB414     Subject: Oil spill response.\n",
      "BID: CA_201520160SB570     Subject: Personal information: privacy: breach.\n",
      "BID: CA_201520160SB654     Subject: Unlawful employment practice: parental leave.\n",
      "BID: CA_201520160SB868     Subject: State Remote Piloted Aircraft Act.\n",
      "BID: CA_201520160SB885     Subject: Contracts: design professionals: indemnity. \n",
      "BID: CA_201520160SB894     Subject: Firearms: lost or stolen: reports.\n",
      "\n",
      "\n",
      "Cluster 7 (Size 3):\n",
      "BID: CA_201520160SB1174     Subject: Medi-Cal: children: prescribing patterns: psychotropic medications.\n",
      "BID: CA_201520160SB593     Subject: Residential units for tourist or transient use: transient residential hosting platforms.\n",
      "BID: CA_201520160SB643     Subject: Medical marijuana.\n",
      "\n",
      "\n",
      "Cluster 8 (Size 1):\n",
      "BID: CA_201520160SB1219     Subject: Small Business Procurement and Contract Act: employment social enterprises.\n",
      "\n",
      "\n",
      "Cluster 9 (Size 5):\n",
      "BID: CA_201520160SB1329     Subject: Property taxation: certificated aircraft.\n",
      "BID: CA_201520160SB163     Subject: Bail: pretrial release.\n",
      "BID: CA_201520160SB286     Subject: Electricity: direct transactions.\n",
      "BID: CA_201520160SB881     Subject: Vehicles: violations: payment of fines and bail.\n",
      "BID: CA_201520160SCA14     Subject: Legislative procedure.\n",
      "\n",
      "\n",
      "Cluster 10 (Size 1):\n",
      "BID: CA_201520160SB189     Subject: Clean Energy and Low-Carbon Economic and Jobs Growth Blue Ribbon Committee.\n",
      "\n",
      "\n",
      "Cluster 11 (Size 4):\n",
      "BID: CA_201520160SB218     Subject: Vehicles: local authorities.\n",
      "BID: CA_201520160SB32     Subject: California Global Warming Solutions Act of 2006: emissions limit.\n",
      "BID: CA_201520160SB380     Subject: Natural gas storage: moratorium.\n",
      "BID: CA_201520160SB999     Subject: Health care coverage: contraceptives: annual supply.\n",
      "\n",
      "\n",
      "Cluster 12 (Size 1):\n",
      "BID: CA_201520160SB277     Subject: Public health: vaccinations.\n",
      "\n",
      "\n",
      "Cluster 13 (Size 1):\n",
      "BID: CA_201520160SB350     Subject: Clean Energy and Pollution Reduction Act of 2015.\n",
      "\n",
      "\n",
      "Cluster 14 (Size 1):\n",
      "BID: CA_201520160SB826     Subject: Budget Act of 2016. \n",
      "\n",
      "\n"
     ]
    }
   ],
   "source": [
    "output_bill_clusters(bill_cluster_df, bid_clusters)"
   ]
  },
  {
   "cell_type": "markdown",
   "metadata": {},
   "source": [
    "### Legislators "
   ]
  },
  {
   "cell_type": "code",
   "execution_count": 85,
   "metadata": {},
   "outputs": [],
   "source": [
    "leg_cluster_df = pd.read_csv(\"legislator_cluster_5.csv\")"
   ]
  },
  {
   "cell_type": "code",
   "execution_count": 64,
   "metadata": {},
   "outputs": [],
   "source": [
    "def output_legislator_clusters(cluster_list, num_clusters):\n",
    "    with open('readable_legislator_clusters.txt', 'w') as f:\n",
    "        for i in range(0, num_clusters):\n",
    "            cluster_group = cluster_list.loc[cluster_list['cluster'] == i, :]\n",
    "            print(\"Cluster \" + str(i) + ' (Size ' + str(len(cluster_group)) + ')' + \":\")\n",
    "            print(\"\")\n",
    "            f.write(\"Cluster \" + str(i) + ' (Size ' + str(len(cluster_group)) + ')' + \":\\n\\n\")\n",
    "\n",
    "            if len(cluster_group) > 30:\n",
    "                clust_sample = cluster_group.sample(n=20)\n",
    "                print(\"Showing sample of 20 legislators\")\n",
    "                f.write(\"Showing sample of 20 legislators\\n\")\n",
    "                for i in range(20):\n",
    "                    print('PID:', clust_sample.iloc[i, 1], '     Name:', clust_sample.iloc[i, 2])\n",
    "                    f.write('PID: ' + str(clust_sample.iloc[i, 1]) + '     Name: ' + str(clust_sample.iloc[i, 2]) + '\\n')\n",
    "            else:\n",
    "                for i in range(len(cluster_group)):\n",
    "                    print('PID: ' + str(cluster_group.iloc[i, 1]) + '     Name:' + str(cluster_group.iloc[i, 2]))\n",
    "                    f.write('PID: ' + str(cluster_group.iloc[i, 1]) + '     Name:' + str(cluster_group.iloc[i, 2]) + '\\n')\n",
    "            print(\"\\n\")\n",
    "            f.write('\\n\\n')"
   ]
  },
  {
   "cell_type": "code",
   "execution_count": 65,
   "metadata": {},
   "outputs": [
    {
     "name": "stdout",
     "output_type": "stream",
     "text": [
      "Cluster 0 (Size 29):\n",
      "\n",
      "PID: 1     Name:Isadore Hall\n",
      "PID: 25     Name:Bill Monning\n",
      "PID: 33     Name:Henry Perea\n",
      "PID: 48     Name:Ben Hueso\n",
      "PID: 52     Name:Tony Mendoza\n",
      "PID: 55     Name:Bob Wieckowski\n",
      "PID: 59     Name:Marty Block\n",
      "PID: 61     Name:Anthony Cannella\n",
      "PID: 62     Name:Connie Leyva\n",
      "PID: 63     Name:Carol Liu\n",
      "PID: 64     Name:Holly Mitchell\n",
      "PID: 66     Name:Jerry Hill\n",
      "PID: 70     Name:Benjamin Allen\n",
      "PID: 92     Name:Jim Beall\n",
      "PID: 93     Name:Mike McGuire\n",
      "PID: 94     Name:Lois Wolk\n",
      "PID: 95     Name:Cathleen Galgiani\n",
      "PID: 96     Name:Richard Pan\n",
      "PID: 98     Name:Loni Hancock\n",
      "PID: 99     Name:Robert Hertzberg\n",
      "PID: 100     Name:Hannah-Beth Jackson\n",
      "PID: 102     Name:Kevin De Leon\n",
      "PID: 103     Name:Ed Hernandez\n",
      "PID: 104     Name:Fran Pavley\n",
      "PID: 106     Name:Richard Roth\n",
      "PID: 107     Name:Ricardo Lara\n",
      "PID: 4656     Name:Sharon Runner\n",
      "PID: 10481     Name:Steve Glazer\n",
      "PID: 17377     Name:Joaquin Arambula\n",
      "\n",
      "\n",
      "Cluster 1 (Size 49):\n",
      "\n",
      "Showing sample of 20 legislators\n",
      "PID: 21      Name: Jim Cooper\n",
      "PID: 118      Name: Tom Daly\n",
      "PID: 81      Name: Jose Medina\n",
      "PID: 89      Name: Patty Lopez\n",
      "PID: 28      Name: Mike Gipson\n",
      "PID: 23      Name: Bill Quirk\n",
      "PID: 46      Name: Mike Gatto\n",
      "PID: 116      Name: Ed Chau\n",
      "PID: 22      Name: Kevin McCarty\n",
      "PID: 8      Name: Marc Levine\n",
      "PID: 44      Name: Shirley Weber\n",
      "PID: 112      Name: Cristina Garcia\n",
      "PID: 73      Name: Susan Eggman\n",
      "PID: 69      Name: Freddie Rodriguez\n",
      "PID: 12      Name: Das Williams\n",
      "PID: 120      Name: Anthony Rendon\n",
      "PID: 110      Name: Toni Atkins\n",
      "PID: 71      Name: Bill Dodd\n",
      "PID: 34      Name: Rudy Salas\n",
      "PID: 117      Name: Richard Gordon\n",
      "\n",
      "\n",
      "Cluster 2 (Size 39):\n",
      "\n",
      "Showing sample of 20 legislators\n",
      "PID: 47      Name: Brian Dahle\n",
      "PID: 5      Name: K.H. \"Katcho\" Achadjian\n",
      "PID: 15      Name: Kristin Olsen\n",
      "PID: 40      Name: David Hadley\n",
      "PID: 18      Name: Ling Ling Chang\n",
      "PID: 108      Name: James Gallagher\n",
      "PID: 42      Name: Brian Jones\n",
      "PID: 84      Name: Brian Maienschein\n",
      "PID: 57      Name: Joel Anderson\n",
      "PID: 39      Name: Eric Linder\n",
      "PID: 109      Name: Beth Gaines\n",
      "PID: 43      Name: Travis Allen\n",
      "PID: 68      Name: Jim Nielsen\n",
      "PID: 51      Name: Mike Morrell\n",
      "PID: 49      Name: Jean Fuller\n",
      "PID: 29      Name: Marie Waldron\n",
      "PID: 35      Name: Marc Steinorth\n",
      "PID: 111      Name: William Brough\n",
      "PID: 24      Name: Ted Gaines\n",
      "PID: 91      Name: Frank Bigelow\n",
      "\n",
      "\n",
      "Cluster 3 (Size 2):\n",
      "\n",
      "PID: 9     Name:Luis Alejo\n",
      "PID: 38     Name:Eduardo Garcia\n",
      "\n",
      "\n",
      "Cluster 4 (Size 2):\n",
      "\n",
      "PID: 30     Name:Philip Ting\n",
      "PID: 60     Name:Mark Leno\n",
      "\n",
      "\n"
     ]
    }
   ],
   "source": [
    "output_legislator_clusters(legislator_cluster_df, pid_clusters)"
   ]
  },
  {
   "cell_type": "markdown",
   "metadata": {},
   "source": [
    "## Graphs"
   ]
  },
  {
   "cell_type": "code",
   "execution_count": 51,
   "metadata": {
    "collapsed": true
   },
   "outputs": [],
   "source": [
    "import matplotlib.pyplot as plt\n",
    "from mpl_toolkits.mplot3d import Axes3D\n",
    "\n",
    "%matplotlib inline"
   ]
  },
  {
   "cell_type": "markdown",
   "metadata": {
    "collapsed": true
   },
   "source": [
    "### Non-Unanimous"
   ]
  },
  {
   "cell_type": "code",
   "execution_count": 46,
   "metadata": {
    "collapsed": true
   },
   "outputs": [],
   "source": [
    "nu_data = data.loc[data['is_unanimous'] != 1, :].copy()"
   ]
  },
  {
   "cell_type": "code",
   "execution_count": 47,
   "metadata": {},
   "outputs": [],
   "source": [
    "nu_data['party_col'] = 'g'\n",
    "nu_data.loc[nu_data['party'] == 'Democrat', 'party_col'] = 'b'\n",
    "nu_data.loc[nu_data['party'] == 'Republican', 'party_col'] = 'r'"
   ]
  },
  {
   "cell_type": "code",
   "execution_count": 49,
   "metadata": {},
   "outputs": [],
   "source": [
    "nu_pca_data = pd.DataFrame(nu_pca.transform(non_unan))"
   ]
  },
  {
   "cell_type": "code",
   "execution_count": 54,
   "metadata": {
    "collapsed": true
   },
   "outputs": [],
   "source": [
    "nu_data['house_col'] = 'g'\n",
    "nu_data.loc[data['house']=='Senate','house_col'] = 'r'"
   ]
  },
  {
   "cell_type": "code",
   "execution_count": 78,
   "metadata": {},
   "outputs": [
    {
     "data": {
      "image/png": "[encoded data removed]",
      "text/plain": [
       "<matplotlib.figure.Figure at 0x7f193ba2f240>"
      ]
     },
     "metadata": {},
     "output_type": "display_data"
    }
   ],
   "source": [
    "plt.scatter(nu_pca_data.iloc[:,0], nu_pca_data.iloc[:,1], c=nu_data['wordCount'])\n",
    "plt.show()"
   ]
  },
  {
   "cell_type": "code",
   "execution_count": 80,
   "metadata": {
    "scrolled": true
   },
   "outputs": [
    {
     "name": "stderr",
     "output_type": "stream",
     "text": [
      "/opt/conda/lib/python3.5/site-packages/matplotlib/figure.py:402: UserWarning:\n",
      "\n",
      "matplotlib is currently using a non-GUI backend, so cannot show the figure\n",
      "\n"
     ]
    },
    {
     "data": {
      "image/png": "[encoded data removed]",
      "text/plain": [
       "<matplotlib.figure.Figure at 0x7f18ebb46518>"
      ]
     },
     "metadata": {},
     "output_type": "display_data"
    }
   ],
   "source": [
    "scatter_plt = plt.figure()\n",
    "\n",
    "ax = scatter_plt.add_subplot(111, projection='3d')\n",
    "\n",
    "ax.scatter(nu_pca_data.iloc[:,0], nu_pca_data.iloc[:,1], nu_pca_data.iloc[:,2], c=nu_data['wordCount'])\n",
    "scatter_plt.show()"
   ]
  }
 ],
 "metadata": {
  "kernelspec": {
   "display_name": "Python 3",
   "language": "python",
   "name": "python3"
  },
  "language_info": {
   "codemirror_mode": {
    "name": "ipython",
    "version": 3
   },
   "file_extension": ".py",
   "mimetype": "text/x-python",
   "name": "python",
   "nbconvert_exporter": "python",
   "pygments_lexer": "ipython3",
   "version": "3.6.3"
  }
 },
 "nbformat": 4,
 "nbformat_minor": 2
}
