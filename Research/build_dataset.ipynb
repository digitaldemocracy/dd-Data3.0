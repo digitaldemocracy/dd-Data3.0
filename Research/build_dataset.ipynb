{
 "cells": [
  {
   "cell_type": "code",
   "execution_count": 1,
   "metadata": {},
   "outputs": [],
   "source": [
    "import os\n",
    "\n",
    "import numpy as np\n",
    "import pandas as pd"
   ]
  },
  {
   "cell_type": "code",
   "execution_count": 2,
   "metadata": {},
   "outputs": [],
   "source": [
    "datafiles = os.listdir(\"Data\")"
   ]
  },
  {
   "cell_type": "code",
   "execution_count": 3,
   "metadata": {},
   "outputs": [],
   "source": [
    "datafiles.sort()"
   ]
  },
  {
   "cell_type": "code",
   "execution_count": 4,
   "metadata": {},
   "outputs": [
    {
     "data": {
      "text/plain": [
       "['bill_info.csv',\n",
       " 'bill_subjects.csv',\n",
       " 'full_data.csv',\n",
       " 'leg_bill_absvotes.csv',\n",
       " 'leg_bill_authorflag.csv',\n",
       " 'leg_bill_ayevotes.csv',\n",
       " 'leg_bill_bdcount_comm.csv',\n",
       " 'leg_bill_bdcount_no_comm.csv',\n",
       " 'leg_bill_bdcountall.csv',\n",
       " 'leg_bill_naevotes.csv',\n",
       " 'leg_bill_unanimous.csv',\n",
       " 'leg_bill_utteranceDuration.csv',\n",
       " 'leg_bill_utteranceDuration_not_comm.csv',\n",
       " 'leg_bill_utteranceduration_comm.csv',\n",
       " 'leg_bill_votes.csv',\n",
       " 'leg_bill_wordcount.csv',\n",
       " 'leg_names.csv',\n",
       " 'term_info.csv']"
      ]
     },
     "execution_count": 4,
     "metadata": {},
     "output_type": "execute_result"
    }
   ],
   "source": [
    "datafiles"
   ]
  },
  {
   "cell_type": "code",
   "execution_count": 5,
   "metadata": {},
   "outputs": [],
   "source": [
    "data = pd.read_csv(\"Data/leg_bill_authorflag.csv\")"
   ]
  },
  {
   "cell_type": "code",
   "execution_count": 6,
   "metadata": {},
   "outputs": [],
   "source": [
    "for file in datafiles[3:-2]:\n",
    "    data2 = pd.read_csv(\"Data/\" + file)\n",
    "    data = pd.merge(data, data2, how='left')\n",
    "    \n",
    "data = data.fillna(0)"
   ]
  },
  {
   "cell_type": "code",
   "execution_count": 7,
   "metadata": {},
   "outputs": [
    {
     "data": {
      "text/html": [
       "<div>\n",
       "<style scoped>\n",
       "    .dataframe tbody tr th:only-of-type {\n",
       "        vertical-align: middle;\n",
       "    }\n",
       "\n",
       "    .dataframe tbody tr th {\n",
       "        vertical-align: top;\n",
       "    }\n",
       "\n",
       "    .dataframe thead th {\n",
       "        text-align: right;\n",
       "    }\n",
       "</style>\n",
       "<table border=\"1\" class=\"dataframe\">\n",
       "  <thead>\n",
       "    <tr style=\"text-align: right;\">\n",
       "      <th></th>\n",
       "      <th>pid</th>\n",
       "      <th>bid</th>\n",
       "      <th>author_flag</th>\n",
       "      <th>co_author_flag</th>\n",
       "      <th>lead_author_flag</th>\n",
       "      <th>abstainVotes</th>\n",
       "      <th>ayeVotes</th>\n",
       "      <th>bdCount_comm</th>\n",
       "      <th>bdCount_no_comm</th>\n",
       "      <th>bdCount_all</th>\n",
       "      <th>naeVotes</th>\n",
       "      <th>is_unanimous</th>\n",
       "      <th>utteranceDuration_all</th>\n",
       "      <th>utteranceDuration_not_comm</th>\n",
       "      <th>utteranceDuration_comm</th>\n",
       "      <th>voteCount</th>\n",
       "      <th>wordCount</th>\n",
       "    </tr>\n",
       "  </thead>\n",
       "  <tbody>\n",
       "    <tr>\n",
       "      <th>0</th>\n",
       "      <td>1</td>\n",
       "      <td>CA_201520160AB1</td>\n",
       "      <td>0</td>\n",
       "      <td>0</td>\n",
       "      <td>0</td>\n",
       "      <td>1.0</td>\n",
       "      <td>0.0</td>\n",
       "      <td>0.0</td>\n",
       "      <td>0.0</td>\n",
       "      <td>0.0</td>\n",
       "      <td>0.0</td>\n",
       "      <td>1</td>\n",
       "      <td>0.0</td>\n",
       "      <td>0.0</td>\n",
       "      <td>0.0</td>\n",
       "      <td>1</td>\n",
       "      <td>0.0</td>\n",
       "    </tr>\n",
       "    <tr>\n",
       "      <th>1</th>\n",
       "      <td>2</td>\n",
       "      <td>CA_201520160AB1</td>\n",
       "      <td>0</td>\n",
       "      <td>0</td>\n",
       "      <td>0</td>\n",
       "      <td>0.0</td>\n",
       "      <td>2.0</td>\n",
       "      <td>0.0</td>\n",
       "      <td>0.0</td>\n",
       "      <td>0.0</td>\n",
       "      <td>0.0</td>\n",
       "      <td>1</td>\n",
       "      <td>0.0</td>\n",
       "      <td>0.0</td>\n",
       "      <td>0.0</td>\n",
       "      <td>2</td>\n",
       "      <td>0.0</td>\n",
       "    </tr>\n",
       "    <tr>\n",
       "      <th>2</th>\n",
       "      <td>3</td>\n",
       "      <td>CA_201520160AB1</td>\n",
       "      <td>0</td>\n",
       "      <td>0</td>\n",
       "      <td>0</td>\n",
       "      <td>0.0</td>\n",
       "      <td>2.0</td>\n",
       "      <td>0.0</td>\n",
       "      <td>0.0</td>\n",
       "      <td>0.0</td>\n",
       "      <td>0.0</td>\n",
       "      <td>1</td>\n",
       "      <td>0.0</td>\n",
       "      <td>0.0</td>\n",
       "      <td>0.0</td>\n",
       "      <td>2</td>\n",
       "      <td>0.0</td>\n",
       "    </tr>\n",
       "    <tr>\n",
       "      <th>3</th>\n",
       "      <td>4</td>\n",
       "      <td>CA_201520160AB1</td>\n",
       "      <td>0</td>\n",
       "      <td>0</td>\n",
       "      <td>0</td>\n",
       "      <td>0.0</td>\n",
       "      <td>2.0</td>\n",
       "      <td>0.0</td>\n",
       "      <td>0.0</td>\n",
       "      <td>0.0</td>\n",
       "      <td>0.0</td>\n",
       "      <td>1</td>\n",
       "      <td>0.0</td>\n",
       "      <td>0.0</td>\n",
       "      <td>0.0</td>\n",
       "      <td>2</td>\n",
       "      <td>0.0</td>\n",
       "    </tr>\n",
       "    <tr>\n",
       "      <th>4</th>\n",
       "      <td>5</td>\n",
       "      <td>CA_201520160AB1</td>\n",
       "      <td>0</td>\n",
       "      <td>0</td>\n",
       "      <td>0</td>\n",
       "      <td>0.0</td>\n",
       "      <td>2.0</td>\n",
       "      <td>0.0</td>\n",
       "      <td>0.0</td>\n",
       "      <td>0.0</td>\n",
       "      <td>0.0</td>\n",
       "      <td>1</td>\n",
       "      <td>0.0</td>\n",
       "      <td>0.0</td>\n",
       "      <td>0.0</td>\n",
       "      <td>2</td>\n",
       "      <td>0.0</td>\n",
       "    </tr>\n",
       "  </tbody>\n",
       "</table>\n",
       "</div>"
      ],
      "text/plain": [
       "   pid              bid  author_flag  co_author_flag  lead_author_flag  \\\n",
       "0    1  CA_201520160AB1            0               0                 0   \n",
       "1    2  CA_201520160AB1            0               0                 0   \n",
       "2    3  CA_201520160AB1            0               0                 0   \n",
       "3    4  CA_201520160AB1            0               0                 0   \n",
       "4    5  CA_201520160AB1            0               0                 0   \n",
       "\n",
       "   abstainVotes  ayeVotes  bdCount_comm  bdCount_no_comm  bdCount_all  \\\n",
       "0           1.0       0.0           0.0              0.0          0.0   \n",
       "1           0.0       2.0           0.0              0.0          0.0   \n",
       "2           0.0       2.0           0.0              0.0          0.0   \n",
       "3           0.0       2.0           0.0              0.0          0.0   \n",
       "4           0.0       2.0           0.0              0.0          0.0   \n",
       "\n",
       "   naeVotes  is_unanimous  utteranceDuration_all  utteranceDuration_not_comm  \\\n",
       "0       0.0             1                    0.0                         0.0   \n",
       "1       0.0             1                    0.0                         0.0   \n",
       "2       0.0             1                    0.0                         0.0   \n",
       "3       0.0             1                    0.0                         0.0   \n",
       "4       0.0             1                    0.0                         0.0   \n",
       "\n",
       "   utteranceDuration_comm  voteCount  wordCount  \n",
       "0                     0.0          1        0.0  \n",
       "1                     0.0          2        0.0  \n",
       "2                     0.0          2        0.0  \n",
       "3                     0.0          2        0.0  \n",
       "4                     0.0          2        0.0  "
      ]
     },
     "execution_count": 7,
     "metadata": {},
     "output_type": "execute_result"
    }
   ],
   "source": [
    "data.head()"
   ]
  },
  {
   "cell_type": "code",
   "execution_count": 8,
   "metadata": {},
   "outputs": [],
   "source": [
    "data.to_csv(\"Data/full_data.csv\", header=True, index=False)"
   ]
  },
  {
   "cell_type": "code",
   "execution_count": null,
   "metadata": {},
   "outputs": [],
   "source": []
  }
 ],
 "metadata": {
  "kernelspec": {
   "display_name": "Python 3",
   "language": "python",
   "name": "python3"
  },
  "language_info": {
   "codemirror_mode": {
    "name": "ipython",
    "version": 3
   },
   "file_extension": ".py",
   "mimetype": "text/x-python",
   "name": "python",
   "nbconvert_exporter": "python",
   "pygments_lexer": "ipython3",
   "version": "3.6.3"
  }
 },
 "nbformat": 4,
 "nbformat_minor": 2
}
