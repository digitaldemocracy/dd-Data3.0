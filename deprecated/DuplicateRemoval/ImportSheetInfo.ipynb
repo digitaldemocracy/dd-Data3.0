{
 "cells": [
  {
   "cell_type": "code",
   "execution_count": 4,
   "metadata": {
    "collapsed": true
   },
   "outputs": [],
   "source": [
    "from openpyxl import load_workbook\n",
    "import re\n",
    "import pymysql"
   ]
  },
  {
   "cell_type": "code",
   "execution_count": 5,
   "metadata": {
    "collapsed": true
   },
   "outputs": [],
   "source": [
    "wb = load_workbook(filename = 'duplicate_removal_final.xlsx')"
   ]
  },
  {
   "cell_type": "code",
   "execution_count": 6,
   "metadata": {
    "collapsed": false
   },
   "outputs": [],
   "source": [
    " ws = wb.get_sheet_by_name(name = 'duplicate_removal_final')"
   ]
  },
  {
   "cell_type": "code",
   "execution_count": 7,
   "metadata": {
    "collapsed": true
   },
   "outputs": [],
   "source": [
    "GREEN = 'FFC6EFCE'"
   ]
  },
  {
   "cell_type": "code",
   "execution_count": 8,
   "metadata": {
    "collapsed": false
   },
   "outputs": [],
   "source": [
    "first = True\n",
    "row_itr = ws.iter_rows()\n",
    "col_names = [cell.value for cell in next(row_itr)]\n",
    "\n",
    "replace_dict = {}\n",
    "\n",
    "for row in row_itr:\n",
    "    replace_oids = []\n",
    "    base_oid = None\n",
    "\n",
    "    for col_name, cell in zip(col_names, row):\n",
    "        \n",
    "        if col_name == 'oid':\n",
    "            base_oid = cell.value\n",
    "        elif re.match(r'oid_(\\d){1,4}', col_name):\n",
    "            if cell.value is None:\n",
    "                break\n",
    "            elif cell.fill.start_color.index == GREEN:\n",
    "                replace_oids.append(cell.value)\n",
    "                \n",
    "    replace_dict[base_oid] = replace_oids"
   ]
  },
  {
   "cell_type": "code",
   "execution_count": null,
   "metadata": {
    "collapsed": true
   },
   "outputs": [],
   "source": [
    "def update_oid(cursor, old_oid=None, new_oid=None):\n",
    "    tables = [\n",
    "    ('Gift', 'oid'), \n",
    "    ('Contribution', 'oid'),\n",
    "    ('LobbyistDirectEmployment', 'lobbyist_employer'),\n",
    "    ('LobbyingContracts', 'lobbyist_employer'),\n",
    "    ('LobbyistRepresentation', 'oid'),\n",
    "    ('GeneralPublic', 'oid'),\n",
    "    ('Behests', 'payee'),\n",
    "    ('OrgAlignments', 'oid'),\n",
    "    ('LobbyistEmployer', 'oid')\n",
    "    ]\n",
    "    \n",
    "    for table, field in tables:\n",
    "        query = '''UPDATE {table}\n",
    "                   SET {field} = {new_oid}\n",
    "                   WHERE {field} = {old_oid}'''\n",
    "        d = {'table': table,\n",
    "             'field': field,\n",
    "             'new_oid': new_oid,\n",
    "             'old_oid': old_oid}\n",
    "        \n",
    "        try:\n",
    "            cursor.execute(query.format(**d))\n",
    "        except pymysql.IntegrityError as e:\n",
    "            err_num = e.args[0]\n",
    "            if err_num == 1062:\n",
    "                query = 'DELETE FROM {table} WHERE {field} = {old_oid}'\n",
    "                cursor.execute(query.format(**d))\n",
    "            else:\n",
    "                print(e)\n",
    "                print('table', table)\n",
    "                print('field', field)\n",
    "                print('old_oid', old_oid)\n",
    "                print('new_oid', new_oid)\n",
    "                assert False\n",
    "    \n",
    "    query = 'DELETE FROM OrgConceptAffiliation WHERE old_oid = %s'\n",
    "    cursor.execute(query % old_oid)\n",
    "    \n",
    "    query = 'DELETE FROM Organizations WHERE oid = %s'\n",
    "    cursor.execute(query % old_oid)"
   ]
  },
  {
   "cell_type": "code",
   "execution_count": 18,
   "metadata": {
    "collapsed": true
   },
   "outputs": [],
   "source": [
    "CONN_INFO = {'host': 'dddb2016-mysql5-7-11.chzg5zpujwmo.us-west-2.rds.amazonaws.com',\n",
    "             'port': 3306,\n",
    "#              'db': 'EricTest',\n",
    "             'db': 'DDDB2016Aug',\n",
    "             'user': 'awsDB',\n",
    "             'passwd': 'digitaldemocracy789'}"
   ]
  },
  {
   "cell_type": "code",
   "execution_count": null,
   "metadata": {
    "collapsed": false
   },
   "outputs": [],
   "source": [
    "with pymysql.connect(**CONN_INFO) as cursor:\n",
    "\n",
    "    for new_oid, values in replace_dict.items():\n",
    "        for old_oid in values:\n",
    "            update_oid(cursor, old_oid=old_oid, new_oid=new_oid)\n"
   ]
  },
  {
   "cell_type": "code",
   "execution_count": 16,
   "metadata": {
    "collapsed": false
   },
   "outputs": [],
   "source": [
    "values = ''\n",
    "for k, v in replace_dict.items():\n",
    "    for oid in v:\n",
    "        values += ' (' + str(oid) + '),'\n",
    "\n",
    "values = values[:-1]    "
   ]
  },
  {
   "cell_type": "code",
   "execution_count": 21,
   "metadata": {
    "collapsed": false
   },
   "outputs": [],
   "source": [
    "with pymysql.connect(**CONN_INFO) as cursor:\n",
    "    stmt = \"\"\"insert into DeprecatedOrganization\n",
    "                (oid) \n",
    "               values\n",
    "               %s\"\"\"\n",
    "\n",
    "    cursor.execute(stmt % values)"
   ]
  }
 ],
 "metadata": {
  "anaconda-cloud": {},
  "kernelspec": {
   "display_name": "Python [Root]",
   "language": "python",
   "name": "Python [Root]"
  },
  "language_info": {
   "codemirror_mode": {
    "name": "ipython",
    "version": 3
   },
   "file_extension": ".py",
   "mimetype": "text/x-python",
   "name": "python",
   "nbconvert_exporter": "python",
   "pygments_lexer": "ipython3",
   "version": "3.5.2"
  }
 },
 "nbformat": 4,
 "nbformat_minor": 0
}
