{
 "cells": [
  {
   "cell_type": "code",
   "execution_count": 49,
   "metadata": {
    "collapsed": false
   },
   "outputs": [
    {
     "name": "stdout",
     "output_type": "stream",
     "text": [
      "The autoreload extension is already loaded. To reload it, use:\n",
      "  %reload_ext autoreload\n"
     ]
    }
   ],
   "source": [
    "from Functions import *\n",
    "%load_ext autoreload\n",
    "%autoreload 2\n",
    "\n",
    "%matplotlib inline"
   ]
  },
  {
   "cell_type": "code",
   "execution_count": 3,
   "metadata": {
    "collapsed": false
   },
   "outputs": [],
   "source": [
    "data = pd.read_csv('labeled_utterances.csv')\n",
    "\n",
    "data.uids = data.uids.apply(eval)"
   ]
  },
  {
   "cell_type": "code",
   "execution_count": 3,
   "metadata": {
    "collapsed": false
   },
   "outputs": [
    {
     "data": {
      "text/plain": [
       "Index(['committee_position', 'pid', 'pid_next', 'simple_label_next', 'text',\n",
       "       'text_next', 'uids', 'vid', 'question', 'procedural_question',\n",
       "       'weak_question'],\n",
       "      dtype='object')"
      ]
     },
     "execution_count": 3,
     "metadata": {},
     "output_type": "execute_result"
    }
   ],
   "source": [
    "data.columns"
   ]
  },
  {
   "cell_type": "code",
   "execution_count": 4,
   "metadata": {
    "collapsed": false
   },
   "outputs": [
    {
     "data": {
      "text/plain": [
       "209"
      ]
     },
     "execution_count": 4,
     "metadata": {},
     "output_type": "execute_result"
    }
   ],
   "source": [
    "len(data)"
   ]
  },
  {
   "cell_type": "code",
   "execution_count": 5,
   "metadata": {
    "collapsed": false
   },
   "outputs": [
    {
     "data": {
      "text/plain": [
       "committee_position     209\n",
       "pid                    209\n",
       "pid_next               206\n",
       "simple_label_next      209\n",
       "text                   209\n",
       "text_next              209\n",
       "uids                   209\n",
       "vid                    209\n",
       "question               209\n",
       "procedural_question    209\n",
       "weak_question          209\n",
       "dtype: int64"
      ]
     },
     "execution_count": 5,
     "metadata": {},
     "output_type": "execute_result"
    }
   ],
   "source": [
    "data.count()"
   ]
  },
  {
   "cell_type": "code",
   "execution_count": 6,
   "metadata": {
    "collapsed": false
   },
   "outputs": [
    {
     "data": {
      "text/plain": [
       "False    123\n",
       "True      86\n",
       "Name: question, dtype: int64"
      ]
     },
     "execution_count": 6,
     "metadata": {},
     "output_type": "execute_result"
    }
   ],
   "source": [
    "data.question.value_counts()"
   ]
  },
  {
   "cell_type": "code",
   "execution_count": 7,
   "metadata": {
    "collapsed": false
   },
   "outputs": [
    {
     "data": {
      "text/plain": [
       "General Public       108\n",
       "State Agency Rep      37\n",
       "Bill Author           30\n",
       "Unlabeled             13\n",
       "Lobbyist              10\n",
       "LAO                    8\n",
       "Staff                  2\n",
       "State Const Ofice      1\n",
       "Name: simple_label_next, dtype: int64"
      ]
     },
     "execution_count": 7,
     "metadata": {},
     "output_type": "execute_result"
    }
   ],
   "source": [
    "data.simple_label_next.value_counts()"
   ]
  },
  {
   "cell_type": "markdown",
   "metadata": {},
   "source": [
    "## Looking at word frequency for questions vs non-questions"
   ]
  },
  {
   "cell_type": "code",
   "execution_count": 35,
   "metadata": {
    "collapsed": false
   },
   "outputs": [],
   "source": [
    "stop_words = set(stopwords.words('english'))\n",
    "stemmer = SnowballStemmer(\"english\")\n",
    "translator = str.maketrans(dict.fromkeys(string.punctuation))"
   ]
  },
  {
   "cell_type": "code",
   "execution_count": 40,
   "metadata": {
    "collapsed": false
   },
   "outputs": [],
   "source": [
    "data['processed_text'] = data.text.apply(preprocess_text, stemmer=stemmer, translator=translator, stop_words=stop_words)"
   ]
  },
  {
   "cell_type": "markdown",
   "metadata": {},
   "source": [
    "## Trying to work out word frequencies"
   ]
  },
  {
   "cell_type": "code",
   "execution_count": 49,
   "metadata": {
    "collapsed": false
   },
   "outputs": [],
   "source": [
    "word_freq = get_word_freq(data.processed_text)"
   ]
  },
  {
   "cell_type": "code",
   "execution_count": 50,
   "metadata": {
    "collapsed": false
   },
   "outputs": [
    {
     "data": {
      "text/plain": [
       "thank    0.056698\n",
       "would    0.025849\n",
       "bill     0.025704\n",
       "go       0.021856\n",
       "senat    0.019059\n",
       "mr       0.018860\n",
       "vote     0.018769\n",
       "like     0.017305\n",
       "well     0.017128\n",
       "make     0.016876\n",
       "dtype: float64"
      ]
     },
     "execution_count": 50,
     "metadata": {},
     "output_type": "execute_result"
    }
   ],
   "source": [
    "word_freq.head(10)"
   ]
  },
  {
   "cell_type": "code",
   "execution_count": 51,
   "metadata": {
    "collapsed": false
   },
   "outputs": [],
   "source": [
    "q_word_freq = get_word_freq(data.loc[data.question, 'processed_text'])"
   ]
  },
  {
   "cell_type": "code",
   "execution_count": 52,
   "metadata": {
    "collapsed": false
   },
   "outputs": [
    {
     "data": {
      "text/plain": [
       "would       0.030838\n",
       "thank       0.030248\n",
       "bill        0.029078\n",
       "question    0.027708\n",
       "go          0.026579\n",
       "get         0.023830\n",
       "ani         0.023175\n",
       "im          0.021493\n",
       "say         0.020205\n",
       "make        0.019811\n",
       "dtype: float64"
      ]
     },
     "execution_count": 52,
     "metadata": {},
     "output_type": "execute_result"
    }
   ],
   "source": [
    "q_word_freq.head(10)"
   ]
  },
  {
   "cell_type": "code",
   "execution_count": 53,
   "metadata": {
    "collapsed": false
   },
   "outputs": [],
   "source": [
    "non_q_word_freq = get_word_freq(data.loc[~data.question, 'processed_text'])"
   ]
  },
  {
   "cell_type": "code",
   "execution_count": 54,
   "metadata": {
    "collapsed": false
   },
   "outputs": [
    {
     "data": {
      "text/plain": [
       "thank     0.078829\n",
       "vote      0.029321\n",
       "bill      0.026602\n",
       "senat     0.026315\n",
       "would     0.025211\n",
       "pleas     0.024619\n",
       "item      0.023488\n",
       "mr        0.023168\n",
       "member    0.022789\n",
       "wit       0.022244\n",
       "dtype: float64"
      ]
     },
     "execution_count": 54,
     "metadata": {},
     "output_type": "execute_result"
    }
   ],
   "source": [
    "non_q_word_freq.head(10)"
   ]
  },
  {
   "cell_type": "code",
   "execution_count": 55,
   "metadata": {
    "collapsed": true
   },
   "outputs": [],
   "source": [
    "custom_stopwords = set(['bill', ])"
   ]
  },
  {
   "cell_type": "markdown",
   "metadata": {},
   "source": [
    "## Finding least different word"
   ]
  },
  {
   "cell_type": "code",
   "execution_count": 56,
   "metadata": {
    "collapsed": false
   },
   "outputs": [],
   "source": [
    "q_df = q_word_freq.to_frame('q_tf_idf').reset_index().rename(columns={'index': 'word'})\n",
    "non_q_df = non_q_word_freq.to_frame('non_q_tf_idf').reset_index().rename(columns={'index': 'word'})"
   ]
  },
  {
   "cell_type": "code",
   "execution_count": 57,
   "metadata": {
    "collapsed": true
   },
   "outputs": [],
   "source": [
    "df = q_df.merge(non_q_df, on='word')"
   ]
  },
  {
   "cell_type": "code",
   "execution_count": 58,
   "metadata": {
    "collapsed": false
   },
   "outputs": [],
   "source": [
    "df['score_diff'] = df.apply(lambda row: abs(row['q_tf_idf'] - row['non_q_tf_idf']), axis=1)\n",
    "df['score_diff_pct'] = df.apply(lambda row: abs(1 - row.q_tf_idf / row.non_q_tf_idf)*100, axis=1)"
   ]
  },
  {
   "cell_type": "code",
   "execution_count": 59,
   "metadata": {
    "collapsed": false
   },
   "outputs": [],
   "source": [
    "# df.sort_values('score_diff', ascending=False, inplace=True)"
   ]
  },
  {
   "cell_type": "code",
   "execution_count": 60,
   "metadata": {
    "collapsed": true
   },
   "outputs": [],
   "source": [
    "df.sort_values('score_diff_pct', ascending=False, inplace=True)"
   ]
  },
  {
   "cell_type": "code",
   "execution_count": 61,
   "metadata": {
    "collapsed": false
   },
   "outputs": [
    {
     "data": {
      "text/html": [
       "<div>\n",
       "<table border=\"1\" class=\"dataframe\">\n",
       "  <thead>\n",
       "    <tr style=\"text-align: right;\">\n",
       "      <th></th>\n",
       "      <th>word</th>\n",
       "      <th>q_tf_idf</th>\n",
       "      <th>non_q_tf_idf</th>\n",
       "      <th>score_diff</th>\n",
       "      <th>score_diff_pct</th>\n",
       "    </tr>\n",
       "  </thead>\n",
       "  <tbody>\n",
       "    <tr>\n",
       "      <th>132</th>\n",
       "      <td>confus</td>\n",
       "      <td>0.007485</td>\n",
       "      <td>0.000279</td>\n",
       "      <td>0.007206</td>\n",
       "      <td>2580.496511</td>\n",
       "    </tr>\n",
       "    <tr>\n",
       "      <th>115</th>\n",
       "      <td>lower</td>\n",
       "      <td>0.008059</td>\n",
       "      <td>0.000368</td>\n",
       "      <td>0.007691</td>\n",
       "      <td>2091.711867</td>\n",
       "    </tr>\n",
       "    <tr>\n",
       "      <th>208</th>\n",
       "      <td>spend</td>\n",
       "      <td>0.005726</td>\n",
       "      <td>0.000279</td>\n",
       "      <td>0.005447</td>\n",
       "      <td>1950.530722</td>\n",
       "    </tr>\n",
       "    <tr>\n",
       "      <th>15</th>\n",
       "      <td>board</td>\n",
       "      <td>0.016402</td>\n",
       "      <td>0.000846</td>\n",
       "      <td>0.015556</td>\n",
       "      <td>1839.305260</td>\n",
       "    </tr>\n",
       "    <tr>\n",
       "      <th>172</th>\n",
       "      <td>cal</td>\n",
       "      <td>0.006317</td>\n",
       "      <td>0.000368</td>\n",
       "      <td>0.005949</td>\n",
       "      <td>1617.858168</td>\n",
       "    </tr>\n",
       "  </tbody>\n",
       "</table>\n",
       "</div>"
      ],
      "text/plain": [
       "       word  q_tf_idf  non_q_tf_idf  score_diff  score_diff_pct\n",
       "132  confus  0.007485      0.000279    0.007206     2580.496511\n",
       "115   lower  0.008059      0.000368    0.007691     2091.711867\n",
       "208   spend  0.005726      0.000279    0.005447     1950.530722\n",
       "15    board  0.016402      0.000846    0.015556     1839.305260\n",
       "172     cal  0.006317      0.000368    0.005949     1617.858168"
      ]
     },
     "execution_count": 61,
     "metadata": {},
     "output_type": "execute_result"
    }
   ],
   "source": [
    "df.head()"
   ]
  },
  {
   "cell_type": "markdown",
   "metadata": {},
   "source": [
    "## Episode II: A New Approach"
   ]
  },
  {
   "cell_type": "code",
   "execution_count": 65,
   "metadata": {
    "collapsed": false
   },
   "outputs": [],
   "source": [
    "all_text = ''.join(data.processed_text)\n",
    "all_words = nltk.FreqDist(w for w in word_tokenize(all_text))"
   ]
  },
  {
   "cell_type": "code",
   "execution_count": 66,
   "metadata": {
    "collapsed": false
   },
   "outputs": [
    {
     "data": {
      "text/plain": [
       "2270"
      ]
     },
     "execution_count": 66,
     "metadata": {},
     "output_type": "execute_result"
    }
   ],
   "source": [
    "len(all_words)"
   ]
  },
  {
   "cell_type": "code",
   "execution_count": 79,
   "metadata": {
    "collapsed": false
   },
   "outputs": [],
   "source": [
    "word_features = [w[0] for w in all_words.most_common()[:50]]"
   ]
  },
  {
   "cell_type": "code",
   "execution_count": null,
   "metadata": {
    "collapsed": true
   },
   "outputs": [],
   "source": []
  },
  {
   "cell_type": "markdown",
   "metadata": {},
   "source": [
    "## Naive Bayes with TFIDF"
   ]
  },
  {
   "cell_type": "code",
   "execution_count": 97,
   "metadata": {
    "collapsed": false
   },
   "outputs": [],
   "source": [
    "vect = TfidfVectorizer()\n",
    "X = vect.fit_transform(data.processed_text)\n",
    "y = data.question"
   ]
  },
  {
   "cell_type": "code",
   "execution_count": 86,
   "metadata": {
    "collapsed": false
   },
   "outputs": [
    {
     "data": {
      "text/plain": [
       "(209, 2108)"
      ]
     },
     "execution_count": 86,
     "metadata": {},
     "output_type": "execute_result"
    }
   ],
   "source": [
    "X_train_tfidf.shape"
   ]
  },
  {
   "cell_type": "code",
   "execution_count": 87,
   "metadata": {
    "collapsed": false
   },
   "outputs": [
    {
     "data": {
      "text/plain": [
       "(209, 12)"
      ]
     },
     "execution_count": 87,
     "metadata": {},
     "output_type": "execute_result"
    }
   ],
   "source": [
    "data.shape"
   ]
  },
  {
   "cell_type": "markdown",
   "metadata": {},
   "source": [
    "#### The Model"
   ]
  },
  {
   "cell_type": "code",
   "execution_count": 45,
   "metadata": {
    "collapsed": true
   },
   "outputs": [],
   "source": [
    "model = GaussianNB()"
   ]
  },
  {
   "cell_type": "code",
   "execution_count": 250,
   "metadata": {
    "collapsed": false
   },
   "outputs": [
    {
     "data": {
      "text/plain": [
       "0.50239234449760761"
      ]
     },
     "execution_count": 250,
     "metadata": {},
     "output_type": "execute_result"
    }
   ],
   "source": [
    "scores = cross_val_score(model, X.toarray(), y, cv=LeaveOneOut(X.shape[0]))\n",
    "scores.mean()"
   ]
  },
  {
   "cell_type": "markdown",
   "metadata": {},
   "source": [
    "#### Results"
   ]
  },
  {
   "cell_type": "code",
   "execution_count": 310,
   "metadata": {
    "collapsed": false
   },
   "outputs": [
    {
     "data": {
      "image/png": "[encoded data removed]",
      "text/plain": [
       "<matplotlib.figure.Figure at 0x1459b9d5da0>"
      ]
     },
     "metadata": {},
     "output_type": "display_data"
    }
   ],
   "source": [
    "results = assess_results(model, X, y)"
   ]
  },
  {
   "cell_type": "code",
   "execution_count": 313,
   "metadata": {
    "collapsed": false
   },
   "outputs": [
    {
     "data": {
      "text/plain": [
       "committee_position                                            Vice-Chair\n",
       "pid                                                                   14\n",
       "pid_next                                                          108894\n",
       "simple_label_next                                         General Public\n",
       "text                   Thank you very much. If you could help me unde...\n",
       "text_next              Yeah, so charter cities would be required to c...\n",
       "uids                                                          {12002091}\n",
       "vid                                                                26664\n",
       "question                                                            True\n",
       "procedural_question                                                False\n",
       "weak_question                                                      False\n",
       "processed_text         thank veri much could help understand affect c...\n",
       "Name: 33, dtype: object"
      ]
     },
     "execution_count": 313,
     "metadata": {},
     "output_type": "execute_result"
    }
   ],
   "source": [
    "row = results['true_positive'].iloc[0]\n",
    "row"
   ]
  },
  {
   "cell_type": "code",
   "execution_count": 260,
   "metadata": {
    "collapsed": false
   },
   "outputs": [
    {
     "data": {
      "text/plain": [
       "'Thank you very much. If you could help me understand how this affects charter cities and potential charter amendments that are required to be able to modify city charters.'"
      ]
     },
     "execution_count": 260,
     "metadata": {},
     "output_type": "execute_result"
    }
   ],
   "source": [
    "row.text"
   ]
  },
  {
   "cell_type": "markdown",
   "metadata": {},
   "source": [
    "### Linear SVC for the sparse text matrix"
   ]
  },
  {
   "cell_type": "code",
   "execution_count": 164,
   "metadata": {
    "collapsed": false
   },
   "outputs": [],
   "source": [
    "vect = TfidfVectorizer()\n",
    "X = vect.fit_transform(data.processed_text)\n",
    "y = data.question"
   ]
  },
  {
   "cell_type": "code",
   "execution_count": 167,
   "metadata": {
    "collapsed": false
   },
   "outputs": [
    {
     "data": {
      "text/plain": [
       "(209, 2108)"
      ]
     },
     "execution_count": 167,
     "metadata": {},
     "output_type": "execute_result"
    }
   ],
   "source": [
    "X.shape"
   ]
  },
  {
   "cell_type": "markdown",
   "metadata": {},
   "source": [
    "#### The Model"
   ]
  },
  {
   "cell_type": "code",
   "execution_count": 168,
   "metadata": {
    "collapsed": true
   },
   "outputs": [],
   "source": [
    "model = LinearSVC(dual=False)"
   ]
  },
  {
   "cell_type": "code",
   "execution_count": 169,
   "metadata": {
    "collapsed": false
   },
   "outputs": [
    {
     "data": {
      "text/plain": [
       "0.66985645933014359"
      ]
     },
     "execution_count": 169,
     "metadata": {},
     "output_type": "execute_result"
    }
   ],
   "source": [
    "scores = cross_val_score(model, X.toarray(), y, cv=LeaveOneOut(X.shape[0]))\n",
    "scores.mean()"
   ]
  },
  {
   "cell_type": "markdown",
   "metadata": {},
   "source": [
    "#### Results"
   ]
  },
  {
   "cell_type": "code",
   "execution_count": 171,
   "metadata": {
    "collapsed": false
   },
   "outputs": [
    {
     "data": {
      "image/png": "[encoded data removed]",
      "text/plain": [
       "<matplotlib.figure.Figure at 0x28ecad047f0>"
      ]
     },
     "metadata": {},
     "output_type": "display_data"
    }
   ],
   "source": [
    "results = assess_results(model, X, y, data)"
   ]
  },
  {
   "cell_type": "code",
   "execution_count": 179,
   "metadata": {
    "collapsed": false
   },
   "outputs": [],
   "source": [
    "model = LogisticRegression()"
   ]
  },
  {
   "cell_type": "code",
   "execution_count": 180,
   "metadata": {
    "collapsed": false
   },
   "outputs": [
    {
     "data": {
      "text/plain": [
       "0.62200956937799046"
      ]
     },
     "execution_count": 180,
     "metadata": {},
     "output_type": "execute_result"
    }
   ],
   "source": [
    "scores = cross_val_score(model, X.toarray(), y, cv=LeaveOneOut(X.shape[0]))\n",
    "scores.mean()"
   ]
  },
  {
   "cell_type": "code",
   "execution_count": 181,
   "metadata": {
    "collapsed": false
   },
   "outputs": [
    {
     "data": {
      "image/png": "[encoded data removed]",
      "text/plain": [
       "<matplotlib.figure.Figure at 0x28ecadf8668>"
      ]
     },
     "metadata": {},
     "output_type": "display_data"
    }
   ],
   "source": [
    "results = assess_results(model, X, y, data)"
   ]
  },
  {
   "cell_type": "markdown",
   "metadata": {},
   "source": [
    "## Naive Bayes with Word Counts"
   ]
  },
  {
   "cell_type": "code",
   "execution_count": 186,
   "metadata": {
    "collapsed": true
   },
   "outputs": [],
   "source": [
    "vect = CountVectorizer()\n",
    "X = vect.fit_transform(data.processed_text)\n",
    "y = data.question"
   ]
  },
  {
   "cell_type": "code",
   "execution_count": 192,
   "metadata": {
    "collapsed": false
   },
   "outputs": [],
   "source": [
    "model = MultinomialNB()"
   ]
  },
  {
   "cell_type": "code",
   "execution_count": 193,
   "metadata": {
    "collapsed": false
   },
   "outputs": [
    {
     "data": {
      "text/plain": [
       "0.66028708133971292"
      ]
     },
     "execution_count": 193,
     "metadata": {},
     "output_type": "execute_result"
    }
   ],
   "source": [
    "scores = cross_val_score(model, X.toarray(), y, cv=LeaveOneOut(X.shape[0]))\n",
    "scores.mean()"
   ]
  },
  {
   "cell_type": "code",
   "execution_count": 194,
   "metadata": {
    "collapsed": false
   },
   "outputs": [
    {
     "data": {
      "image/png": "[encoded data removed]",
      "text/plain": [
       "<matplotlib.figure.Figure at 0x28ecac4c588>"
      ]
     },
     "metadata": {},
     "output_type": "display_data"
    }
   ],
   "source": [
    "results = assess_results(model, X, y, data)"
   ]
  },
  {
   "cell_type": "markdown",
   "metadata": {},
   "source": [
    "### Optimizing with Grid Search"
   ]
  },
  {
   "cell_type": "code",
   "execution_count": 205,
   "metadata": {
    "collapsed": false
   },
   "outputs": [
    {
     "name": "stderr",
     "output_type": "stream",
     "text": [
      "C:\\Program Files\\Anaconda3\\lib\\site-packages\\sklearn\\grid_search.py:43: DeprecationWarning: This module was deprecated in version 0.18 in favor of the model_selection module into which all the refactored classes and functions are moved. This module will be removed in 0.20.\n",
      "  DeprecationWarning)\n"
     ]
    }
   ],
   "source": [
    "from sklearn.grid_search import GridSearchCV"
   ]
  },
  {
   "cell_type": "code",
   "execution_count": 211,
   "metadata": {
    "collapsed": true
   },
   "outputs": [],
   "source": [
    "vect = CountVectorizer()\n",
    "X = vect.fit_transform(data.processed_text)\n",
    "y = data.question"
   ]
  },
  {
   "cell_type": "code",
   "execution_count": 216,
   "metadata": {
    "collapsed": true
   },
   "outputs": [],
   "source": [
    "param_grid = {'alpha': np.linspace(0, 1, 100)}"
   ]
  },
  {
   "cell_type": "code",
   "execution_count": 217,
   "metadata": {
    "collapsed": false
   },
   "outputs": [],
   "source": [
    "grid = GridSearchCV(MultinomialNB(), param_grid=param_grid, cv=4)"
   ]
  },
  {
   "cell_type": "code",
   "execution_count": 218,
   "metadata": {
    "collapsed": false
   },
   "outputs": [
    {
     "data": {
      "text/plain": [
       "GridSearchCV(cv=4, error_score='raise',\n",
       "       estimator=MultinomialNB(alpha=1.0, class_prior=None, fit_prior=True),\n",
       "       fit_params={}, iid=True, n_jobs=1,\n",
       "       param_grid={'alpha': array([ 0.    ,  0.0101, ...,  0.9899,  1.    ])},\n",
       "       pre_dispatch='2*n_jobs', refit=True, scoring=None, verbose=0)"
      ]
     },
     "execution_count": 218,
     "metadata": {},
     "output_type": "execute_result"
    }
   ],
   "source": [
    "grid.fit(X, y)"
   ]
  },
  {
   "cell_type": "code",
   "execution_count": 220,
   "metadata": {
    "collapsed": false
   },
   "outputs": [],
   "source": [
    "best = grid.best_params_"
   ]
  },
  {
   "cell_type": "code",
   "execution_count": 221,
   "metadata": {
    "collapsed": true
   },
   "outputs": [],
   "source": [
    "model = MultinomialNB(alpha=best['alpha'])"
   ]
  },
  {
   "cell_type": "code",
   "execution_count": 222,
   "metadata": {
    "collapsed": false
   },
   "outputs": [
    {
     "data": {
      "text/plain": [
       "0.64114832535885169"
      ]
     },
     "execution_count": 222,
     "metadata": {},
     "output_type": "execute_result"
    }
   ],
   "source": [
    "scores = cross_val_score(model, X.toarray(), y, cv=LeaveOneOut(X.shape[0]))\n",
    "scores.mean()"
   ]
  },
  {
   "cell_type": "markdown",
   "metadata": {},
   "source": [
    "## Linear SVC with Word Counts"
   ]
  },
  {
   "cell_type": "code",
   "execution_count": 195,
   "metadata": {
    "collapsed": true
   },
   "outputs": [],
   "source": [
    "vect = CountVectorizer()\n",
    "X = vect.fit_transform(data.processed_text)\n",
    "y = data.question"
   ]
  },
  {
   "cell_type": "code",
   "execution_count": 196,
   "metadata": {
    "collapsed": false
   },
   "outputs": [],
   "source": [
    "model = LinearSVC(dual=False)"
   ]
  },
  {
   "cell_type": "code",
   "execution_count": 197,
   "metadata": {
    "collapsed": false
   },
   "outputs": [
    {
     "data": {
      "text/plain": [
       "0.58851674641148322"
      ]
     },
     "execution_count": 197,
     "metadata": {},
     "output_type": "execute_result"
    }
   ],
   "source": [
    "scores = cross_val_score(model, X.toarray(), y, cv=LeaveOneOut(X.shape[0]))\n",
    "scores.mean()"
   ]
  },
  {
   "cell_type": "code",
   "execution_count": 198,
   "metadata": {
    "collapsed": false
   },
   "outputs": [
    {
     "data": {
      "image/png": "[encoded data removed]",
      "text/plain": [
       "<matplotlib.figure.Figure at 0x28ecab38d30>"
      ]
     },
     "metadata": {},
     "output_type": "display_data"
    }
   ],
   "source": [
    "results = assess_results(model, X, y, data)"
   ]
  },
  {
   "cell_type": "markdown",
   "metadata": {},
   "source": [
    "## Classifying Based on Other Features"
   ]
  },
  {
   "cell_type": "markdown",
   "metadata": {},
   "source": [
    "Features:\n",
    "1. simple_label_next\n",
    "2. \\# of words in question\n",
    "3. \\# of words in response\n",
    "4. \\# of question marks\n",
    "5. Committee position"
   ]
  },
  {
   "cell_type": "code",
   "execution_count": 140,
   "metadata": {
    "collapsed": true
   },
   "outputs": [],
   "source": [
    "X = pd.get_dummies(data.simple_label_next)\n",
    "# X = pd.concat([X, pd.get_dummies(data['committee_position'])], axis=1)\n",
    "X['q_word_count'] = data.text.apply(lambda t: len(word_tokenize(t)))\n",
    "X['q_uid_count'] = data.uids.apply(len)\n",
    "X['r_word_count'] = data.text_next.apply(lambda t: len(word_tokenize(t)))\n",
    "X['?_count'] = data.text.apply(lambda t: t.count('?'))\n",
    "y = data.question"
   ]
  },
  {
   "cell_type": "markdown",
   "metadata": {},
   "source": [
    "### Logisitic Regression"
   ]
  },
  {
   "cell_type": "code",
   "execution_count": 143,
   "metadata": {
    "collapsed": false
   },
   "outputs": [
    {
     "data": {
      "text/plain": [
       "0.87081339712918659"
      ]
     },
     "execution_count": 143,
     "metadata": {},
     "output_type": "execute_result"
    }
   ],
   "source": [
    "model = LogisticRegression()\n",
    "scores = cross_val_score(model, X, y, cv=LeaveOneOut(X.shape[0]))\n",
    "scores.mean()"
   ]
  },
  {
   "cell_type": "markdown",
   "metadata": {},
   "source": [
    "#### Results"
   ]
  },
  {
   "cell_type": "code",
   "execution_count": 54,
   "metadata": {
    "collapsed": false
   },
   "outputs": [
    {
     "data": {
      "image/png": "[encoded data removed]",
      "text/plain": [
       "<matplotlib.figure.Figure at 0x28ec8f98f98>"
      ]
     },
     "metadata": {},
     "output_type": "display_data"
    }
   ],
   "source": [
    "results = assess_results(model, X, y, data)"
   ]
  },
  {
   "cell_type": "code",
   "execution_count": 59,
   "metadata": {
    "collapsed": false
   },
   "outputs": [
    {
     "data": {
      "text/plain": [
       "committee_position                                                Member\n",
       "pid                                                                  105\n",
       "pid_next                                                              52\n",
       "simple_label_next                                            Bill Author\n",
       "text                   Thank you, Madam Chair. Senator, is there anyt...\n",
       "text_next              Yes, I didn't put it as a, you're right, it's ...\n",
       "uids                                                           {5080805}\n",
       "vid                                                                 6374\n",
       "question                                                            True\n",
       "procedural_question                                                False\n",
       "weak_question                                                      False\n",
       "processed_text         thank madam chair senat anyth would ani requir...\n",
       "Name: 22, dtype: object"
      ]
     },
     "execution_count": 59,
     "metadata": {},
     "output_type": "execute_result"
    }
   ],
   "source": [
    "row = results['false_negative'].iloc[0]\n",
    "row"
   ]
  },
  {
   "cell_type": "code",
   "execution_count": 60,
   "metadata": {
    "collapsed": false
   },
   "outputs": [
    {
     "data": {
      "text/plain": [
       "\"Thank you, Madam Chair. Senator, is there anything in here that would have any requirement of quality, just a matter of time they spend and they get past some threshold and they're going to get a bonus, or?\""
      ]
     },
     "execution_count": 60,
     "metadata": {},
     "output_type": "execute_result"
    }
   ],
   "source": [
    "row.text"
   ]
  },
  {
   "cell_type": "markdown",
   "metadata": {},
   "source": [
    "### Random Forest"
   ]
  },
  {
   "cell_type": "code",
   "execution_count": 148,
   "metadata": {
    "collapsed": false
   },
   "outputs": [
    {
     "data": {
      "text/plain": [
       "0.86602870813397126"
      ]
     },
     "execution_count": 148,
     "metadata": {},
     "output_type": "execute_result"
    }
   ],
   "source": [
    "model = RandomForestClassifier()\n",
    "scores = cross_val_score(model, X, y, cv=LeaveOneOut(X.shape[0]))\n",
    "scores.mean()"
   ]
  },
  {
   "cell_type": "markdown",
   "metadata": {},
   "source": [
    "#### Results"
   ]
  },
  {
   "cell_type": "code",
   "execution_count": 149,
   "metadata": {
    "collapsed": false
   },
   "outputs": [
    {
     "data": {
      "image/png": "[encoded data removed]",
      "text/plain": [
       "<matplotlib.figure.Figure at 0x28ecac2b588>"
      ]
     },
     "metadata": {},
     "output_type": "display_data"
    }
   ],
   "source": [
    "results = assess_results(model, X, y, data)"
   ]
  },
  {
   "cell_type": "code",
   "execution_count": 150,
   "metadata": {
    "collapsed": false
   },
   "outputs": [
    {
     "data": {
      "text/plain": [
       "committee_position                                 Member\n",
       "pid                                                    31\n",
       "pid_next                                            14856\n",
       "simple_label_next                          General Public\n",
       "text                   Ayes 74, Noes 0., Ayes 74, Noes 0.\n",
       "text_next               Senate concur with resolution 44.\n",
       "uids                                   {2692544, 2695252}\n",
       "vid                                                  4223\n",
       "question                                            False\n",
       "procedural_question                                 False\n",
       "weak_question                                       False\n",
       "processed_text                  aye 74 noe 0 aye 74 noe 0\n",
       "Name: 92, dtype: object"
      ]
     },
     "execution_count": 150,
     "metadata": {},
     "output_type": "execute_result"
    }
   ],
   "source": [
    "fp = results['false_positive']\n",
    "row = fp.iloc[1]\n",
    "row"
   ]
  },
  {
   "cell_type": "code",
   "execution_count": 151,
   "metadata": {
    "collapsed": false
   },
   "outputs": [
    {
     "data": {
      "text/plain": [
       "Member              2\n",
       "Possible Chair      1\n",
       "Not In Committee    1\n",
       "Name: committee_position, dtype: int64"
      ]
     },
     "execution_count": 151,
     "metadata": {},
     "output_type": "execute_result"
    }
   ],
   "source": [
    "fp.committee_position.value_counts()"
   ]
  },
  {
   "cell_type": "code",
   "execution_count": 152,
   "metadata": {
    "collapsed": false
   },
   "outputs": [
    {
     "data": {
      "text/plain": [
       "General Public    4\n",
       "Name: simple_label_next, dtype: int64"
      ]
     },
     "execution_count": 152,
     "metadata": {},
     "output_type": "execute_result"
    }
   ],
   "source": [
    "fp.simple_label_next.value_counts()"
   ]
  },
  {
   "cell_type": "code",
   "execution_count": 153,
   "metadata": {
    "collapsed": false
   },
   "outputs": [
    {
     "data": {
      "text/plain": [
       "52      True\n",
       "92     False\n",
       "176     True\n",
       "186    False\n",
       "Name: procedural_question, dtype: bool"
      ]
     },
     "execution_count": 153,
     "metadata": {},
     "output_type": "execute_result"
    }
   ],
   "source": [
    "fp.procedural_question"
   ]
  },
  {
   "cell_type": "code",
   "execution_count": 154,
   "metadata": {
    "collapsed": false
   },
   "outputs": [
    {
     "data": {
      "text/plain": [
       "52     False\n",
       "92     False\n",
       "176    False\n",
       "186     True\n",
       "Name: weak_question, dtype: bool"
      ]
     },
     "execution_count": 154,
     "metadata": {},
     "output_type": "execute_result"
    }
   ],
   "source": [
    "fp.weak_question"
   ]
  },
  {
   "cell_type": "markdown",
   "metadata": {},
   "source": [
    "### Linear SVC"
   ]
  },
  {
   "cell_type": "code",
   "execution_count": 157,
   "metadata": {
    "collapsed": false
   },
   "outputs": [
    {
     "data": {
      "text/plain": [
       "0.77033492822966509"
      ]
     },
     "execution_count": 157,
     "metadata": {},
     "output_type": "execute_result"
    }
   ],
   "source": [
    "model = LinearSVC(dual=True)\n",
    "scores = cross_val_score(model, X, y, cv=LeaveOneOut(X.shape[0]))\n",
    "scores.mean()"
   ]
  },
  {
   "cell_type": "markdown",
   "metadata": {},
   "source": [
    "#### Results"
   ]
  },
  {
   "cell_type": "code",
   "execution_count": 158,
   "metadata": {
    "collapsed": false
   },
   "outputs": [
    {
     "data": {
      "image/png": "[encoded data removed]",
      "text/plain": [
       "<matplotlib.figure.Figure at 0x28ecac98128>"
      ]
     },
     "metadata": {},
     "output_type": "display_data"
    }
   ],
   "source": [
    "results = assess_results(model, X, y, data)"
   ]
  },
  {
   "cell_type": "code",
   "execution_count": 159,
   "metadata": {
    "collapsed": false
   },
   "outputs": [
    {
     "data": {
      "text/plain": [
       "committee_position                                                Member\n",
       "pid                                                                   66\n",
       "pid_next                                                             112\n",
       "simple_label_next                                            Bill Author\n",
       "text                   The bill has 9 votes. We will hold the roll op...\n",
       "text_next              Thank you, members. Out of AB 987 will simply ...\n",
       "uids                                                {14106004, 14106005}\n",
       "vid                                                                28952\n",
       "question                                                           False\n",
       "procedural_question                                                False\n",
       "weak_question                                                      False\n",
       "processed_text         bill 9 vote hold roll open absent member well ...\n",
       "Name: 12, dtype: object"
      ]
     },
     "execution_count": 159,
     "metadata": {},
     "output_type": "execute_result"
    }
   ],
   "source": [
    "fp = results['false_positive']\n",
    "row = fp.iloc[1]\n",
    "row"
   ]
  },
  {
   "cell_type": "code",
   "execution_count": 160,
   "metadata": {
    "collapsed": false
   },
   "outputs": [
    {
     "data": {
      "text/plain": [
       "Not In Committee    8\n",
       "Possible Chair      6\n",
       "Member              5\n",
       "Vice-Chair          1\n",
       "Name: committee_position, dtype: int64"
      ]
     },
     "execution_count": 160,
     "metadata": {},
     "output_type": "execute_result"
    }
   ],
   "source": [
    "fp.committee_position.value_counts()"
   ]
  },
  {
   "cell_type": "code",
   "execution_count": 161,
   "metadata": {
    "collapsed": false
   },
   "outputs": [
    {
     "data": {
      "text/plain": [
       "General Public      12\n",
       "Bill Author          2\n",
       "State Agency Rep     2\n",
       "Unlabeled            2\n",
       "Staff                1\n",
       "Lobbyist             1\n",
       "Name: simple_label_next, dtype: int64"
      ]
     },
     "execution_count": 161,
     "metadata": {},
     "output_type": "execute_result"
    }
   ],
   "source": [
    "fp.simple_label_next.value_counts()"
   ]
  },
  {
   "cell_type": "code",
   "execution_count": 162,
   "metadata": {
    "collapsed": false
   },
   "outputs": [
    {
     "data": {
      "text/plain": [
       "7      False\n",
       "12     False\n",
       "37     False\n",
       "45     False\n",
       "66     False\n",
       "71     False\n",
       "75     False\n",
       "80     False\n",
       "124    False\n",
       "134    False\n",
       "135    False\n",
       "138    False\n",
       "149    False\n",
       "154    False\n",
       "158    False\n",
       "170    False\n",
       "176     True\n",
       "184    False\n",
       "186    False\n",
       "187    False\n",
       "Name: procedural_question, dtype: bool"
      ]
     },
     "execution_count": 162,
     "metadata": {},
     "output_type": "execute_result"
    }
   ],
   "source": [
    "fp.procedural_question"
   ]
  },
  {
   "cell_type": "code",
   "execution_count": 163,
   "metadata": {
    "collapsed": false
   },
   "outputs": [
    {
     "data": {
      "text/plain": [
       "7      False\n",
       "12     False\n",
       "37     False\n",
       "45     False\n",
       "66     False\n",
       "71     False\n",
       "75      True\n",
       "80     False\n",
       "124    False\n",
       "134    False\n",
       "135    False\n",
       "138    False\n",
       "149    False\n",
       "154    False\n",
       "158    False\n",
       "170    False\n",
       "176    False\n",
       "184    False\n",
       "186     True\n",
       "187    False\n",
       "Name: weak_question, dtype: bool"
      ]
     },
     "execution_count": 163,
     "metadata": {},
     "output_type": "execute_result"
    }
   ],
   "source": [
    "fp.weak_question"
   ]
  },
  {
   "cell_type": "markdown",
   "metadata": {},
   "source": [
    "## Just Heuristics"
   ]
  },
  {
   "cell_type": "code",
   "execution_count": 103,
   "metadata": {
    "collapsed": false
   },
   "outputs": [],
   "source": [
    "class my_model(object):\n",
    "    def fit(self, X, y):\n",
    "        pass\n",
    "    \n",
    "    def predict(object, X):\n",
    "        rule_1 = X.q_uid_count < 5\n",
    "        rule_2 = X['?_count'] > 0\n",
    "        rule_3 = ((X['General Public'] == 1) | \n",
    "                  (X['Bill Author'] == 1) |\n",
    "                  (X['Lobbyist'] == 1) |\n",
    "                  (X['LAO'] == 1) | \n",
    "                  (X['State Const Ofice'] == 1)) \n",
    "        \n",
    "        return rule_1 & rule_2 & rule_3\n",
    "        "
   ]
  },
  {
   "cell_type": "code",
   "execution_count": 87,
   "metadata": {
    "collapsed": true
   },
   "outputs": [],
   "source": [
    "X = pd.get_dummies(data.simple_label_next)\n",
    "X['q_word_count'] = data.text.apply(lambda t: len(word_tokenize(t)))\n",
    "X['q_uid_count'] = data.uids.apply(len)\n",
    "X['r_word_count'] = data.text_next.apply(lambda t: len(word_tokenize(t)))\n",
    "X['?_count'] = data.text.apply(lambda t: t.count('?'))\n",
    "y = data.question"
   ]
  },
  {
   "cell_type": "code",
   "execution_count": 104,
   "metadata": {
    "collapsed": true
   },
   "outputs": [],
   "source": [
    "model = my_model()"
   ]
  },
  {
   "cell_type": "code",
   "execution_count": 107,
   "metadata": {
    "collapsed": false
   },
   "outputs": [
    {
     "data": {
      "image/png": "[encoded data removed]",
      "text/plain": [
       "<matplotlib.figure.Figure at 0x28ecaae10b8>"
      ]
     },
     "metadata": {},
     "output_type": "display_data"
    }
   ],
   "source": [
    "results = assess_results(model, X, y, data)"
   ]
  },
  {
   "cell_type": "code",
   "execution_count": 110,
   "metadata": {
    "collapsed": false
   },
   "outputs": [
    {
     "data": {
      "text/plain": [
       "committee_position                                        Possible Chair\n",
       "pid                                                                   13\n",
       "pid_next                                                           14925\n",
       "simple_label_next                                         General Public\n",
       "text                   So you're already there? Okay, good., San Bern...\n",
       "text_next              As part of Casa, we fought really hard for tha...\n",
       "uids                                                  {2913288, 2913290}\n",
       "vid                                                                 4394\n",
       "question                                                           False\n",
       "procedural_question                                                False\n",
       "weak_question                                                       True\n",
       "processed_text         alreadi okay good san bernardino doesnt peopl ...\n",
       "Name: 186, dtype: object"
      ]
     },
     "execution_count": 110,
     "metadata": {},
     "output_type": "execute_result"
    }
   ],
   "source": [
    "fp = results['false_positive']\n",
    "row = fp.iloc[1]\n",
    "row"
   ]
  },
  {
   "cell_type": "code",
   "execution_count": 111,
   "metadata": {
    "collapsed": false
   },
   "outputs": [
    {
     "data": {
      "text/plain": [
       "Possible Chair      1\n",
       "Not In Committee    1\n",
       "Name: committee_position, dtype: int64"
      ]
     },
     "execution_count": 111,
     "metadata": {},
     "output_type": "execute_result"
    }
   ],
   "source": [
    "fp.committee_position.value_counts()"
   ]
  },
  {
   "cell_type": "code",
   "execution_count": 112,
   "metadata": {
    "collapsed": false
   },
   "outputs": [
    {
     "data": {
      "text/plain": [
       "General Public    2\n",
       "Name: simple_label_next, dtype: int64"
      ]
     },
     "execution_count": 112,
     "metadata": {},
     "output_type": "execute_result"
    }
   ],
   "source": [
    "fp.simple_label_next.value_counts()"
   ]
  },
  {
   "cell_type": "code",
   "execution_count": 113,
   "metadata": {
    "collapsed": false
   },
   "outputs": [
    {
     "data": {
      "text/plain": [
       "176     True\n",
       "186    False\n",
       "Name: procedural_question, dtype: bool"
      ]
     },
     "execution_count": 113,
     "metadata": {},
     "output_type": "execute_result"
    }
   ],
   "source": [
    "fp.procedural_question"
   ]
  },
  {
   "cell_type": "code",
   "execution_count": 114,
   "metadata": {
    "collapsed": false
   },
   "outputs": [
    {
     "data": {
      "text/plain": [
       "176    False\n",
       "186     True\n",
       "Name: weak_question, dtype: bool"
      ]
     },
     "execution_count": 114,
     "metadata": {},
     "output_type": "execute_result"
    }
   ],
   "source": [
    "fp.weak_question"
   ]
  },
  {
   "cell_type": "markdown",
   "metadata": {},
   "source": [
    "### Thoughts\n",
    "False positives arise when questions are either weak or procedural. These are awfully hard to catch. "
   ]
  },
  {
   "cell_type": "markdown",
   "metadata": {},
   "source": [
    "### False Negatives"
   ]
  },
  {
   "cell_type": "code",
   "execution_count": 127,
   "metadata": {
    "collapsed": false
   },
   "outputs": [
    {
     "data": {
      "text/plain": [
       "committee_position                                                Member\n",
       "pid                                                                   16\n",
       "pid_next                                                          104121\n",
       "simple_label_next                                       State Agency Rep\n",
       "text                   And has there been any effort to encourage dep...\n",
       "text_next              We have engaged departments and agencies that ...\n",
       "uids                                                          {11324000}\n",
       "vid                                                                24311\n",
       "question                                                            True\n",
       "procedural_question                                                False\n",
       "weak_question                                                      False\n",
       "processed_text         ani effort encourag depart dont author assess ...\n",
       "Name: 83, dtype: object"
      ]
     },
     "execution_count": 127,
     "metadata": {},
     "output_type": "execute_result"
    }
   ],
   "source": [
    "fn = results['false_negative']\n",
    "row = fn.iloc[1]\n",
    "row"
   ]
  },
  {
   "cell_type": "code",
   "execution_count": 128,
   "metadata": {
    "collapsed": false
   },
   "outputs": [
    {
     "data": {
      "text/plain": [
       "\"And has there been any effort to encourage departments that you don't have authority over to do assessments, audits, self-assessments? And do you know of any of the departments that are doing that?\""
      ]
     },
     "execution_count": 128,
     "metadata": {},
     "output_type": "execute_result"
    }
   ],
   "source": [
    "row.text"
   ]
  },
  {
   "cell_type": "code",
   "execution_count": 121,
   "metadata": {
    "collapsed": false
   },
   "outputs": [
    {
     "data": {
      "text/plain": [
       "Member            4\n",
       "Possible Chair    1\n",
       "Vice-Chair        1\n",
       "Name: committee_position, dtype: int64"
      ]
     },
     "execution_count": 121,
     "metadata": {},
     "output_type": "execute_result"
    }
   ],
   "source": [
    "fn.committee_position.value_counts()"
   ]
  },
  {
   "cell_type": "code",
   "execution_count": 122,
   "metadata": {
    "collapsed": false
   },
   "outputs": [
    {
     "data": {
      "text/plain": [
       "State Agency Rep    5\n",
       "General Public      1\n",
       "Name: simple_label_next, dtype: int64"
      ]
     },
     "execution_count": 122,
     "metadata": {},
     "output_type": "execute_result"
    }
   ],
   "source": [
    "fn.simple_label_next.value_counts()"
   ]
  },
  {
   "cell_type": "code",
   "execution_count": 125,
   "metadata": {
    "collapsed": false
   },
   "outputs": [
    {
     "data": {
      "text/html": [
       "<div>\n",
       "<table border=\"1\" class=\"dataframe\">\n",
       "  <thead>\n",
       "    <tr style=\"text-align: right;\">\n",
       "      <th></th>\n",
       "      <th>procedural_question</th>\n",
       "      <th>weak_question</th>\n",
       "    </tr>\n",
       "  </thead>\n",
       "  <tbody>\n",
       "    <tr>\n",
       "      <th>33</th>\n",
       "      <td>False</td>\n",
       "      <td>False</td>\n",
       "    </tr>\n",
       "    <tr>\n",
       "      <th>83</th>\n",
       "      <td>False</td>\n",
       "      <td>False</td>\n",
       "    </tr>\n",
       "    <tr>\n",
       "      <th>86</th>\n",
       "      <td>False</td>\n",
       "      <td>False</td>\n",
       "    </tr>\n",
       "    <tr>\n",
       "      <th>90</th>\n",
       "      <td>False</td>\n",
       "      <td>False</td>\n",
       "    </tr>\n",
       "    <tr>\n",
       "      <th>156</th>\n",
       "      <td>False</td>\n",
       "      <td>False</td>\n",
       "    </tr>\n",
       "    <tr>\n",
       "      <th>189</th>\n",
       "      <td>False</td>\n",
       "      <td>False</td>\n",
       "    </tr>\n",
       "  </tbody>\n",
       "</table>\n",
       "</div>"
      ],
      "text/plain": [
       "    procedural_question weak_question\n",
       "33                False         False\n",
       "83                False         False\n",
       "86                False         False\n",
       "90                False         False\n",
       "156               False         False\n",
       "189               False         False"
      ]
     },
     "execution_count": 125,
     "metadata": {},
     "output_type": "execute_result"
    }
   ],
   "source": [
    "fn[['procedural_question', 'weak_question']]"
   ]
  },
  {
   "cell_type": "markdown",
   "metadata": {},
   "source": [
    "### Thoughts\n",
    "False negative appear to occur in cases where there is no question mark. Or they are talking to a state agency rep. "
   ]
  },
  {
   "cell_type": "markdown",
   "metadata": {},
   "source": [
    "## How well does tokenization work?"
   ]
  },
  {
   "cell_type": "code",
   "execution_count": 82,
   "metadata": {
    "collapsed": true
   },
   "outputs": [],
   "source": [
    "text = data.text.iloc[20]"
   ]
  },
  {
   "cell_type": "code",
   "execution_count": 85,
   "metadata": {
    "collapsed": false
   },
   "outputs": [
    {
     "data": {
      "text/plain": [
       "'Thank you, Senator Jackson. Members, seeing no discussion or debate, is there any objection to using a unanimous roll call? Seeing none, ayes 39, nos 0, measure passes. File Item 142, Senator Jackson, Mr. Secretary, please read.'"
      ]
     },
     "execution_count": 85,
     "metadata": {},
     "output_type": "execute_result"
    }
   ],
   "source": [
    "text"
   ]
  },
  {
   "cell_type": "code",
   "execution_count": 86,
   "metadata": {
    "collapsed": true
   },
   "outputs": [],
   "source": [
    "lst = sent_tokenize(text)"
   ]
  },
  {
   "cell_type": "markdown",
   "metadata": {},
   "source": [
    "Oh shit, it works great"
   ]
  },
  {
   "cell_type": "code",
   "execution_count": 87,
   "metadata": {
    "collapsed": false
   },
   "outputs": [
    {
     "data": {
      "text/plain": [
       "['Thank you, Senator Jackson.',\n",
       " 'Members, seeing no discussion or debate, is there any objection to using a unanimous roll call?',\n",
       " 'Seeing none, ayes 39, nos 0, measure passes.',\n",
       " 'File Item 142, Senator Jackson, Mr. Secretary, please read.']"
      ]
     },
     "execution_count": 87,
     "metadata": {},
     "output_type": "execute_result"
    }
   ],
   "source": [
    "lst"
   ]
  },
  {
   "cell_type": "markdown",
   "metadata": {},
   "source": [
    "# Parse Trees"
   ]
  },
  {
   "cell_type": "code",
   "execution_count": 228,
   "metadata": {
    "collapsed": true
   },
   "outputs": [],
   "source": [
    "from pycorenlp import StanfordCoreNLP"
   ]
  },
  {
   "cell_type": "code",
   "execution_count": 229,
   "metadata": {
    "collapsed": true
   },
   "outputs": [],
   "source": [
    "nlp = StanfordCoreNLP('http://localhost:9000')"
   ]
  },
  {
   "cell_type": "code",
   "execution_count": 274,
   "metadata": {
    "collapsed": true
   },
   "outputs": [],
   "source": [
    "syntactic_targets = set(['ADJP',\n",
    "                         'ADVP',\n",
    "                         'NP', \n",
    "                         'PP', \n",
    "                         'S', \n",
    "                         'SBAR', \n",
    "                         'SBARQ', \n",
    "                         'SINV', \n",
    "                         'SQ',\n",
    "                         'VP', \n",
    "                         'WHADVP', \n",
    "                         'WHNP', \n",
    "                         'WHPP'])"
   ]
  },
  {
   "cell_type": "code",
   "execution_count": 281,
   "metadata": {
    "collapsed": true
   },
   "outputs": [],
   "source": [
    "text = \"\"\"Hi Bob. And that works for the bill, correct?\"\"\""
   ]
  },
  {
   "cell_type": "code",
   "execution_count": 302,
   "metadata": {
    "collapsed": false
   },
   "outputs": [],
   "source": [
    "data['syn_tags'] = data.text.apply(stanford_parse, nlp=nlp, syntactic_targets=syntactic_targets)"
   ]
  },
  {
   "cell_type": "markdown",
   "metadata": {},
   "source": [
    "### Heuristic Based"
   ]
  },
  {
   "cell_type": "code",
   "execution_count": 367,
   "metadata": {
    "collapsed": true
   },
   "outputs": [],
   "source": [
    "question_tags = set(w.lower() for w in ['SBARQ', 'SQ', 'WHADVP', 'WHNP', 'WHPP', 'SINV'])\n"
   ]
  },
  {
   "cell_type": "code",
   "execution_count": 368,
   "metadata": {
    "collapsed": true
   },
   "outputs": [],
   "source": [
    "cnt_vect = CountVectorizer()"
   ]
  },
  {
   "cell_type": "code",
   "execution_count": 369,
   "metadata": {
    "collapsed": true
   },
   "outputs": [],
   "source": [
    "bag_of_tags = cnt_vect.fit_transform(data.syn_tags)"
   ]
  },
  {
   "cell_type": "code",
   "execution_count": 371,
   "metadata": {
    "collapsed": false
   },
   "outputs": [],
   "source": [
    "# You should be careful about this once your feature sets gets larger\n",
    "X = pd.DataFrame(bag_of_tags.toarray(), columns=cnt_vect.get_feature_names())\n",
    "X = X.loc[:,X.columns.isin(question_tags)]\n",
    "\n",
    "y = data.question"
   ]
  },
  {
   "cell_type": "code",
   "execution_count": 380,
   "metadata": {
    "collapsed": true
   },
   "outputs": [],
   "source": [
    "class my_model(object):\n",
    "    def fit(self, X, y):\n",
    "        pass\n",
    "    \n",
    "    def predict(object, X):\n",
    "        rule = X.apply(sum, axis=1) > 0\n",
    "        \n",
    "        return rule\n",
    "        "
   ]
  },
  {
   "cell_type": "code",
   "execution_count": 381,
   "metadata": {
    "collapsed": false
   },
   "outputs": [
    {
     "data": {
      "image/png": "[encoded data removed]",
      "text/plain": [
       "<matplotlib.figure.Figure at 0x28ecb347d30>"
      ]
     },
     "metadata": {},
     "output_type": "display_data"
    }
   ],
   "source": [
    "results = assess_results(model, X, y, data)"
   ]
  },
  {
   "cell_type": "code",
   "execution_count": 386,
   "metadata": {
    "collapsed": false
   },
   "outputs": [],
   "source": [
    "fp = results['false_positive']"
   ]
  },
  {
   "cell_type": "code",
   "execution_count": 388,
   "metadata": {
    "collapsed": false
   },
   "outputs": [
    {
     "data": {
      "text/plain": [
       "committee_position                                      Not In Committee\n",
       "pid                                                                   83\n",
       "pid_next                                                             431\n",
       "simple_label_next                                         General Public\n",
       "text                   Thank you. Is there anyone else in opposition?...\n",
       "text_next              Thank you Assembly Member, Alice Kessler here ...\n",
       "uids                                                           {1291267}\n",
       "vid                                                                 1248\n",
       "question                                                           False\n",
       "procedural_question                                                 True\n",
       "weak_question                                                      False\n",
       "processed_text         thank anyon els opposit testimoni pleas come m...\n",
       "syn_tags               S VP NP SQ NP NP NP PP NP PP NP S VP VP VP PP ...\n",
       "Name: 176, dtype: object"
      ]
     },
     "execution_count": 388,
     "metadata": {},
     "output_type": "execute_result"
    }
   ],
   "source": [
    "row = fp.iloc[0]\n",
    "row"
   ]
  },
  {
   "cell_type": "code",
   "execution_count": 389,
   "metadata": {
    "collapsed": false
   },
   "outputs": [
    {
     "data": {
      "text/plain": [
       "'Thank you. Is there anyone else in opposition? With testimony? Please come to the mic then and state your name and your organization.'"
      ]
     },
     "execution_count": 389,
     "metadata": {},
     "output_type": "execute_result"
    }
   ],
   "source": [
    "row.text"
   ]
  },
  {
   "cell_type": "code",
   "execution_count": 390,
   "metadata": {
    "collapsed": true
   },
   "outputs": [],
   "source": [
    "fn = results['false_negative']"
   ]
  },
  {
   "cell_type": "code",
   "execution_count": 392,
   "metadata": {
    "collapsed": false
   },
   "outputs": [
    {
     "data": {
      "text/plain": [
       "General Public      4\n",
       "State Agency Rep    2\n",
       "Name: simple_label_next, dtype: int64"
      ]
     },
     "execution_count": 392,
     "metadata": {},
     "output_type": "execute_result"
    }
   ],
   "source": [
    "fn.simple_label_next.value_counts()"
   ]
  },
  {
   "cell_type": "code",
   "execution_count": 391,
   "metadata": {
    "collapsed": false
   },
   "outputs": [
    {
     "data": {
      "text/plain": [
       "committee_position                                            Vice-Chair\n",
       "pid                                                                   14\n",
       "pid_next                                                          108894\n",
       "simple_label_next                                         General Public\n",
       "text                   Thank you very much. If you could help me unde...\n",
       "text_next              Yeah, so charter cities would be required to c...\n",
       "uids                                                          {12002091}\n",
       "vid                                                                26664\n",
       "question                                                            True\n",
       "procedural_question                                                False\n",
       "weak_question                                                      False\n",
       "processed_text         thank veri much could help understand affect c...\n",
       "syn_tags               S VP NP ADVP S SBAR S NP VP VP NP VP SBAR WHAD...\n",
       "Name: 33, dtype: object"
      ]
     },
     "execution_count": 391,
     "metadata": {},
     "output_type": "execute_result"
    }
   ],
   "source": [
    "row = fn.iloc[0]\n",
    "row"
   ]
  },
  {
   "cell_type": "code",
   "execution_count": 394,
   "metadata": {
    "collapsed": false
   },
   "outputs": [
    {
     "data": {
      "text/plain": [
       "['Thank you very much.',\n",
       " 'If you could help me understand how this affects charter cities and potential charter amendments that are required to be able to modify city charters.']"
      ]
     },
     "execution_count": 394,
     "metadata": {},
     "output_type": "execute_result"
    }
   ],
   "source": [
    "sent_tokenize(row.text)"
   ]
  },
  {
   "cell_type": "code",
   "execution_count": 395,
   "metadata": {
    "collapsed": false
   },
   "outputs": [
    {
     "name": "stdout",
     "output_type": "stream",
     "text": [
      "(ROOT\r\n",
      "  (S\r\n",
      "    (SBAR (IN If)\r\n",
      "      (S\r\n",
      "        (NP (PRP you))\r\n",
      "        (VP (MD could)\r\n",
      "          (VP (VB help)\r\n",
      "            (NP (PRP me))))))\r\n",
      "    (VP (VB understand)\r\n",
      "      (SBAR\r\n",
      "        (WHADVP (WRB how))\r\n",
      "        (S\r\n",
      "          (NP (DT this))\r\n",
      "          (VP (VBZ affects)\r\n",
      "            (NP\r\n",
      "              (NP (NN charter) (NNS cities))\r\n",
      "              (CC and)\r\n",
      "              (NP\r\n",
      "                (NP (JJ potential) (NN charter) (NNS amendments))\r\n",
      "                (SBAR\r\n",
      "                  (WHNP (WDT that))\r\n",
      "                  (S\r\n",
      "                    (VP (VBP are)\r\n",
      "                      (VP (VBN required)\r\n",
      "                        (S\r\n",
      "                          (VP (TO to)\r\n",
      "                            (VP (VB be)\r\n",
      "                              (ADJP (JJ able)\r\n",
      "                                (S\r\n",
      "                                  (VP (TO to)\r\n",
      "                                    (VP (VB modify)\r\n",
      "                                      (NP (NN city) (NNS charters)))))))))))))))))))\r\n",
      "    (. .)))\n"
     ]
    }
   ],
   "source": [
    "print_parse_tree(_394[1])"
   ]
  },
  {
   "cell_type": "code",
   "execution_count": 396,
   "metadata": {
    "collapsed": false
   },
   "outputs": [
    {
     "data": {
      "text/plain": [
       "'thank veri much could help understand affect charter citi potenti charter amend requir abl modifi citi charter'"
      ]
     },
     "execution_count": 396,
     "metadata": {},
     "output_type": "execute_result"
    }
   ],
   "source": [
    "row.processed_text"
   ]
  },
  {
   "cell_type": "markdown",
   "metadata": {},
   "source": [
    "## Naive Bayes and Parse Trees"
   ]
  },
  {
   "cell_type": "code",
   "execution_count": 408,
   "metadata": {
    "collapsed": true
   },
   "outputs": [],
   "source": [
    "X = pd.DataFrame(bag_of_tags.toarray(), columns=cnt_vect.get_feature_names())\n",
    "y = data.question"
   ]
  },
  {
   "cell_type": "code",
   "execution_count": 409,
   "metadata": {
    "collapsed": true
   },
   "outputs": [],
   "source": [
    "model = MultinomialNB()"
   ]
  },
  {
   "cell_type": "code",
   "execution_count": 410,
   "metadata": {
    "collapsed": false
   },
   "outputs": [
    {
     "data": {
      "text/plain": [
       "0.75598086124401909"
      ]
     },
     "execution_count": 410,
     "metadata": {},
     "output_type": "execute_result"
    }
   ],
   "source": [
    "scores = cross_val_score(model, X, y, cv=LeaveOneOut(X.shape[0]))\n",
    "scores.mean()"
   ]
  },
  {
   "cell_type": "code",
   "execution_count": 411,
   "metadata": {
    "collapsed": false
   },
   "outputs": [
    {
     "data": {
      "image/png": "[encoded data removed]",
      "text/plain": [
       "<matplotlib.figure.Figure at 0x28ecb4978d0>"
      ]
     },
     "metadata": {},
     "output_type": "display_data"
    }
   ],
   "source": [
    "results = assess_results(model, X, y, data)"
   ]
  },
  {
   "cell_type": "code",
   "execution_count": 404,
   "metadata": {
    "collapsed": true
   },
   "outputs": [],
   "source": [
    "fp, fn = results['false_positive'], results['false_negative']"
   ]
  },
  {
   "cell_type": "code",
   "execution_count": 406,
   "metadata": {
    "collapsed": false
   },
   "outputs": [
    {
     "data": {
      "text/plain": [
       "committee_position                                      Not In Committee\n",
       "pid                                                                   83\n",
       "pid_next                                                             431\n",
       "simple_label_next                                         General Public\n",
       "text                   Thank you. Is there anyone else in opposition?...\n",
       "text_next              Thank you Assembly Member, Alice Kessler here ...\n",
       "uids                                                           {1291267}\n",
       "vid                                                                 1248\n",
       "question                                                           False\n",
       "procedural_question                                                 True\n",
       "weak_question                                                      False\n",
       "processed_text         thank anyon els opposit testimoni pleas come m...\n",
       "syn_tags               S VP NP SQ NP NP NP PP NP PP NP S VP VP VP PP ...\n",
       "Name: 176, dtype: object"
      ]
     },
     "execution_count": 406,
     "metadata": {},
     "output_type": "execute_result"
    }
   ],
   "source": [
    "row = fp.iloc[0]\n",
    "row"
   ]
  },
  {
   "cell_type": "code",
   "execution_count": 407,
   "metadata": {
    "collapsed": false
   },
   "outputs": [
    {
     "data": {
      "text/plain": [
       "General Public      4\n",
       "State Agency Rep    2\n",
       "Name: simple_label_next, dtype: int64"
      ]
     },
     "execution_count": 407,
     "metadata": {},
     "output_type": "execute_result"
    }
   ],
   "source": [
    "fn.simple_label_next.value_counts()"
   ]
  },
  {
   "cell_type": "code",
   "execution_count": null,
   "metadata": {
    "collapsed": true
   },
   "outputs": [],
   "source": [
    "def vectorize_text(vect, field, data, prepend):\n",
    "    \"Vectorizes text and appends new fields to data. Returns new dataframe and the names of the columns\"\n",
    "    scores = vect.fit_transform(data[field])\n",
    "    scores = pd.DataFrame(scores.toarray(), columns=vect.get_feature_names())\n",
    "    \n",
    "    scores_cols = [prepend + c for c in scores.columns]\n",
    "    scores.columns = scores_cols\n",
    "    \n",
    "    data = pd.concat([data, scores], axis=1)\n",
    "    \n",
    "    return data, scores_cols"
   ]
  },
  {
   "cell_type": "code",
   "execution_count": 431,
   "metadata": {
    "collapsed": false
   },
   "outputs": [
    {
     "data": {
      "text/plain": [
       "5    Couple of a questions and a comment. One is ho...\n",
       "Name: text, dtype: object"
      ]
     },
     "execution_count": 431,
     "metadata": {},
     "output_type": "execute_result"
    }
   ],
   "source": [
    "data[data.question].text.sample()"
   ]
  },
  {
   "cell_type": "code",
   "execution_count": 432,
   "metadata": {
    "collapsed": false
   },
   "outputs": [
    {
     "data": {
      "text/plain": [
       "committee_position                                                Member\n",
       "pid                                                                   80\n",
       "pid_next                                                          100927\n",
       "simple_label_next                                            Bill Author\n",
       "text                   Couple of a questions and a comment. One is ho...\n",
       "text_next              So, as to the first question, I think it's an ...\n",
       "uids                                                          {11200169}\n",
       "vid                                                                24218\n",
       "question                                                            True\n",
       "procedural_question                                                False\n",
       "weak_question                                                      False\n",
       "processed_text         coupl question comment one think alreadi answe...\n",
       "syn_tags               NP NP PP NP NP NP S S NP VP SBAR WHADVP S NP V...\n",
       "Name: 5, dtype: object"
      ]
     },
     "execution_count": 432,
     "metadata": {},
     "output_type": "execute_result"
    }
   ],
   "source": [
    "data.iloc[5]"
   ]
  },
  {
   "cell_type": "code",
   "execution_count": 433,
   "metadata": {
    "collapsed": false
   },
   "outputs": [
    {
     "data": {
      "text/plain": [
       "\"Couple of a questions and a comment. One is how, I think it was already answered, I was going to ask you why do need a statewide goal if water agencies are all ready using desal as an option? Two, how do you account for the increased GHG emissions basically caused by desalinization since it's pretty energy intensive? The reason why I'm asking that, we just passed a bill, Bigelow's, based on the fact that his bill would actually decrease GHG emissions by\""
      ]
     },
     "execution_count": 433,
     "metadata": {},
     "output_type": "execute_result"
    }
   ],
   "source": [
    "_.text"
   ]
  }
 ],
 "metadata": {
  "anaconda-cloud": {},
  "kernelspec": {
   "display_name": "Python [conda root]",
   "language": "python",
   "name": "conda-root-py"
  },
  "language_info": {
   "codemirror_mode": {
    "name": "ipython",
    "version": 3
   },
   "file_extension": ".py",
   "mimetype": "text/x-python",
   "name": "python",
   "nbconvert_exporter": "python",
   "pygments_lexer": "ipython3",
   "version": "3.5.2"
  }
 },
 "nbformat": 4,
 "nbformat_minor": 1
}
