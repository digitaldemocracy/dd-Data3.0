{
 "cells": [
  {
   "cell_type": "code",
   "execution_count": 3,
   "metadata": {
    "collapsed": true
   },
   "outputs": [],
   "source": [
    "import pandas as pd\n",
    "import pickle\n",
    "import numpy as np"
   ]
  },
  {
   "cell_type": "code",
   "execution_count": 50,
   "metadata": {
    "collapsed": false
   },
   "outputs": [],
   "source": [
    "data = pd.read_csv('refined_utterances.csv')\n",
    "data.uids = data.uids.apply(eval)"
   ]
  },
  {
   "cell_type": "code",
   "execution_count": 51,
   "metadata": {
    "collapsed": true
   },
   "outputs": [],
   "source": [
    "# Want to make sure I'm not labeling data I already have\n",
    "labeled_data = pd.read_csv('merged_labeled_data.csv')\n",
    "labeled_data.uids = labeled_data.uids.apply(eval)\n",
    "\n",
    "labeled_uids = set()\n",
    "for uids in labeled_data.uids:\n",
    "    for uid in uids:\n",
    "        labeled_uids.add(uid)"
   ]
  },
  {
   "cell_type": "code",
   "execution_count": 55,
   "metadata": {
    "collapsed": false
   },
   "outputs": [],
   "source": [
    "idx = data.uids.apply(lambda x: set(x).isdisjoint(labeled_uids))\n",
    "data = data[idx]"
   ]
  },
  {
   "cell_type": "code",
   "execution_count": 56,
   "metadata": {
    "collapsed": true
   },
   "outputs": [],
   "source": [
    "# In this specific run I only want to label committee chair rows. Obviously in general I would want to drop this\n",
    "keep_types = set(['Chair'])\n",
    "\n",
    "data = data[data.committee_position.isin(keep_types)]"
   ]
  },
  {
   "cell_type": "markdown",
   "metadata": {},
   "source": [
    "From here you can just go through 10 utterances at a time and add the labels you want"
   ]
  },
  {
   "cell_type": "code",
   "execution_count": 58,
   "metadata": {
    "collapsed": true
   },
   "outputs": [],
   "source": [
    "np.random.seed(11)\n",
    "sample = data.sample(10)"
   ]
  },
  {
   "cell_type": "code",
   "execution_count": 59,
   "metadata": {
    "collapsed": true
   },
   "outputs": [],
   "source": [
    "start = 0\n",
    "stop = 10"
   ]
  },
  {
   "cell_type": "code",
   "execution_count": 276,
   "metadata": {
    "collapsed": true
   },
   "outputs": [],
   "source": [
    "start = stop\n",
    "stop += 10"
   ]
  },
  {
   "cell_type": "code",
   "execution_count": 64,
   "metadata": {
    "collapsed": false
   },
   "outputs": [
    {
     "name": "stdout",
     "output_type": "stream",
     "text": [
      "0 10 \n",
      "\n",
      "\n",
      "uids: {13998248, 13998249, 13998242, 13998245} committee_position: Chair\n",
      "------------------\n",
      "text: Thank you, the Chair asks for unanimous consent to include finances motion as part of the action for issue 3, under Science Center Trailer Bill language. Yes. A vote of 5-0 Assembly, 5-0 Senate., Issue 4, Department of Forestry and Fire Protection. State responsibility fire provision fund, prescribed burning and CR 40 bridge conference compromise. $800,000 for County Road 40 bridge. A Assembly vote of 3-2 and a Senate vote of 5-0., Issue 5 in the Department of Fish and Wildlife, monitoring and reporting water diversion and lifetime trust account. The compromise is to address the Fish and Game Preservation Fund shortfall by 1.87 million from lifetime license account transfer. Two, 900,000 from an increase in commercial landing fees., Three, 4 million from the Environmental License Plate Fund. Four, 5.1 million general fund. And five, budget bill language adopted by both houses. In addition, $900,000 to comply with regulations for measuring and reporting on water diversion. Miss Costa.\n",
      "------------------\n",
      "Follow Up Person: State Agency Rep 15930.0 \n",
      " The administration supports the conference compromise.\n",
      "=================================\n",
      "\n",
      "uids: {11527043, 11527044, 11527045, 11574917} committee_position: Chair\n",
      "------------------\n",
      "text: Okay., As a mandated reporter myself, I'm going to be sure that, we are collecting the information we need to figure out how we can continue to make our system better and certainly avoid, and unfortunately we do have children who die of child abuse in this state and in other states as well, and each one is a terrible tragedy so we want to be sure we're on top of this, and that we have the information we need to continue to improve our ability to prevent those tragedies.\n",
      "------------------\n",
      "Follow Up Person: State Agency Rep 5125.0 \n",
      " Yes. Often it's a shaken baby, blunt force trauma for the younger ones-\n",
      "=================================\n",
      "\n",
      "uids: {9071808, 9071815} committee_position: Chair\n",
      "------------------\n",
      "text: I'm very impressed myself, right now. Vidak, you're going to make me proud of you! You voted for two democratic bills yesterday and it felt good and now we have this. My God! I'm not counting, my God, man! I'm quite impressed! Madam Chair, you are such a delightful person and your members are just as delightful and it's something about you, quite honestly, that brings a sense of calm and it really, really, really demonstrates the leadership that you have and that you've been able to provide your counsel in bringing it to where we are today and we pray God's most choicest blessings on you and your tribe and for the economic vitality of your tribe and what you do for your community., And one thing I know that you've shared, it's just not about you, it's about making sure that everyone in your community rise as you rise and is demonstrated by the $130 million that you've provided to your local community. Making sure that the uptake of your tribe is also reflective in or by with your community and so, again, congratulate you and I look forward to supporting this compact when it comes to the floor. With that, are there any other folks in the audience that want to come up to support the compact? Please, yes please, go right ahead.\n",
      "------------------\n",
      "Follow Up Person: General Public 1471.0 \n",
      " Thank you, Mr. Chairman. My name is Afrack Vargas and on behalf of the California State Firefighters Association and the 34 members, dues paying members at the San Manuel fire department, we're in strong support. Also I'd like to point out, if I may, that Alex Rooker who is in New York is in the CWA, the Communications Workers of America is also in support.\n",
      "=================================\n",
      "\n",
      "uids: {3150153, 3150155} committee_position: Chair\n",
      "------------------\n",
      "text: Ms Sheehy., Thank you, welcome.\n",
      "------------------\n",
      "Follow Up Person: Unlabeled 15017.0 \n",
      " Oh, thank you.\n",
      "=================================\n",
      "\n",
      "uids: {7643084} committee_position: Chair\n",
      "------------------\n",
      "text: Thank you. Any other questions or comments by the panel? Seeing none, you may close if you wish.\n",
      "------------------\n",
      "Follow Up Person: Bill Author 4657.0 \n",
      " Thank you, Mr. Chairman Gatto. I think this is good common sense legislation, excuse me. I got you and Bob here.\n",
      "=================================\n",
      "\n",
      "uids: {5798823} committee_position: Chair\n",
      "------------------\n",
      "text: Any speakers in opposition? Department of Finance?\n",
      "------------------\n",
      "Follow Up Person: General Public 8974.0 \n",
      " No file.\n",
      "=================================\n",
      "\n",
      "uids: {2732132} committee_position: Chair\n",
      "------------------\n",
      "text: That schedule is, I mean is it... What is the potential schedule at this point? Is it by the six months period, or did you mention before about three months?\n",
      "------------------\n",
      "Follow Up Person: General Public 6297.0 \n",
      " So again bifurcating the registration component and the rollout of the full system.\n",
      "=================================\n",
      "\n",
      "uids: {1968946} committee_position: Chair\n",
      "------------------\n",
      "text: Thank you Mr. Chairman I just want to make sure you know you're on the red carpet.\n",
      "------------------\n",
      "Follow Up Person: Bill Author 19.0 \n",
      " I'm aware.\n",
      "=================================\n",
      "\n",
      "uids: {7549467, 7551991, 7551990, 7549463} committee_position: Chair\n",
      "------------------\n",
      "text: Let me ask you a question so I can understand or you can clarify better., So obviously, you identified the problem. What are you doing at the ALRB to provide a solution? Because obviously, if the workers don't understand, know their rights, your staff members, which I'm going to make the assumption, ALRB, a lot of folks speak mostly are mono-lingual speakers, English, and not bilingual., And then in this case it's tri-lingual or more than three languages perhaps. I understand the challenge. What are you doing to change staff culture?, So, I don't know if you're going to have staff members who are going to go learn a different language. I just don't know if that's in the cards, but if you hire folks, perhaps, to work with you in terms of the outreach that understand the various languages.\n",
      "------------------\n",
      "Follow Up Person: General Public 21151.0 \n",
      " Yes, so, first of all, is in fact, to garner, it's almost a word of mouth, to look at filling vacancies in the region where we can garner employees who speak some of the languages.\n",
      "=================================\n",
      "\n",
      "uids: {13148564} committee_position: Chair\n",
      "------------------\n",
      "text: Thank you. Addition of witnesses in support.\n",
      "------------------\n",
      "Follow Up Person: General Public 13534.0 \n",
      " Genevieve Abaddon, on behalf of Clean Water Actions Air Waste USA, 7th Generation Advisers, \r\n",
      "Plastic Pollution Coalition, Surfrider Foundation and Wishtoyo Chumash foundation, in strong support.\n",
      "=================================\n",
      "\n"
     ]
    }
   ],
   "source": [
    "bounds = range(start, stop)\n",
    "print(start, stop, '\\n\\n')\n",
    "for idx, row in sample.iloc[bounds].iterrows():\n",
    "    print('uids:', row['uids'], 'committee_position:', row['committee_position'])\n",
    "    print('------------------')\n",
    "    print('text:', row['text'])\n",
    "    print('------------------')\n",
    "    print('Follow Up Person:', row['simple_label_next'], row['pid_next'], '\\n', row['text_next'])\n",
    "    print('=================================\\n')"
   ]
  }
 ],
 "metadata": {
  "anaconda-cloud": {},
  "kernelspec": {
   "display_name": "Python [conda root]",
   "language": "python",
   "name": "conda-root-py"
  },
  "language_info": {
   "codemirror_mode": {
    "name": "ipython",
    "version": 3
   },
   "file_extension": ".py",
   "mimetype": "text/x-python",
   "name": "python",
   "nbconvert_exporter": "python",
   "pygments_lexer": "ipython3",
   "version": "3.5.2"
  }
 },
 "nbformat": 4,
 "nbformat_minor": 1
}
