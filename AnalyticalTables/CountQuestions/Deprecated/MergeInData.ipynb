{
 "cells": [
  {
   "cell_type": "code",
   "execution_count": 3,
   "metadata": {
    "collapsed": true
   },
   "outputs": [],
   "source": [
    "import pandas as pd\n",
    "import pickle"
   ]
  },
  {
   "cell_type": "code",
   "execution_count": 4,
   "metadata": {
    "collapsed": true
   },
   "outputs": [],
   "source": [
    "from GetUtteranceData import *"
   ]
  },
  {
   "cell_type": "code",
   "execution_count": null,
   "metadata": {
    "collapsed": true
   },
   "outputs": [],
   "source": [
    "# Generates the string necessary for joining on\n",
    "lbl_data = pd.read_csv('OldData/labeled_utterances.csv')\n",
    "lbl_data['uids'] = lbl_data.uids.apply(eval).apply(list).apply(sorted)\n",
    "lbl_data['uids_str'] = lbl_data.uids.apply(str)"
   ]
  },
  {
   "cell_type": "code",
   "execution_count": 14,
   "metadata": {
    "collapsed": false
   },
   "outputs": [],
   "source": [
    "utr_data = pd.read_csv('refined_utterances.csv')\n",
    "utr_data['uids'] = utr_data.uids.apply(eval).apply(list).apply(sorted)\n",
    "utr_data['uids_str'] = utr_data.uids.apply(str)"
   ]
  },
  {
   "cell_type": "code",
   "execution_count": 6,
   "metadata": {
    "collapsed": true
   },
   "outputs": [],
   "source": [
    "# Okay first things first, I need utterance times\n",
    "cnxn = pymysql.connect(**CONN_INFO)\n",
    "\n",
    "q = 'select uid, time, endTime from currentUtterance'\n",
    "utr_times = pd.read_sql(q, cnxn)\n",
    "\n",
    "cnxn.close()"
   ]
  },
  {
   "cell_type": "code",
   "execution_count": 16,
   "metadata": {
    "collapsed": false
   },
   "outputs": [],
   "source": [
    "joined = lbl_data.merge(utr_data, on='uids_str', suffixes=['_old', ''])\n",
    "\n",
    "unjoined = lbl_data[~lbl_data.uids_str.isin(joined.uids_str)]"
   ]
  },
  {
   "cell_type": "code",
   "execution_count": 19,
   "metadata": {
    "collapsed": false
   },
   "outputs": [
    {
     "name": "stderr",
     "output_type": "stream",
     "text": [
      "C:\\Program Files\\Anaconda3\\lib\\site-packages\\ipykernel\\__main__.py:2: SettingWithCopyWarning: \n",
      "A value is trying to be set on a copy of a slice from a DataFrame.\n",
      "Try using .loc[row_indexer,col_indexer] = value instead\n",
      "\n",
      "See the caveats in the documentation: http://pandas.pydata.org/pandas-docs/stable/indexing.html#indexing-view-versus-copy\n",
      "  from ipykernel import kernelapp as app\n",
      "C:\\Program Files\\Anaconda3\\lib\\site-packages\\ipykernel\\__main__.py:5: SettingWithCopyWarning: \n",
      "A value is trying to be set on a copy of a slice from a DataFrame.\n",
      "Try using .loc[row_indexer,col_indexer] = value instead\n",
      "\n",
      "See the caveats in the documentation: http://pandas.pydata.org/pandas-docs/stable/indexing.html#indexing-view-versus-copy\n"
     ]
    }
   ],
   "source": [
    "# I want to form a cartesian product so I can check every utr row for an intersection\n",
    "unjoined['key'] = 1\n",
    "utr_data['key'] = 1\n",
    "\n",
    "unjoined['uids'] = unjoined.uids.apply(set)\n",
    "utr_data['uids'] = utr_data.uids.apply(set)\n",
    "\n",
    "cart_prod = unjoined.merge(utr_data, on='key', suffixes=['_old', ''])"
   ]
  },
  {
   "cell_type": "code",
   "execution_count": 20,
   "metadata": {
    "collapsed": false
   },
   "outputs": [],
   "source": [
    "# Only keep rows with intersections\n",
    "idx = cart_prod[['uids_old', 'uids']].apply(lambda row: not row['uids_old'].isdisjoint(row['uids']), axis=1)\n",
    "cart_prod = cart_prod[idx]"
   ]
  },
  {
   "cell_type": "code",
   "execution_count": 22,
   "metadata": {
    "collapsed": false
   },
   "outputs": [],
   "source": [
    "# drop redundant columns\n",
    "cols = [col for col in joined.columns if '_old' not in col]\n",
    "\n",
    "joined = joined[cols]\n",
    "cart_prod = cart_prod[cols]"
   ]
  },
  {
   "cell_type": "code",
   "execution_count": 23,
   "metadata": {
    "collapsed": false
   },
   "outputs": [],
   "source": [
    "# concatenate data\n",
    "out_data = pd.concat([joined, cart_prod])"
   ]
  },
  {
   "cell_type": "code",
   "execution_count": 27,
   "metadata": {
    "collapsed": true
   },
   "outputs": [],
   "source": [
    "# Write to a new dataframe\n",
    "out_data.to_csv('merged_labeled_data.csv', index=False)"
   ]
  }
 ],
 "metadata": {
  "kernelspec": {
   "display_name": "Python [conda root]",
   "language": "python",
   "name": "conda-root-py"
  },
  "language_info": {
   "codemirror_mode": {
    "name": "ipython",
    "version": 3
   },
   "file_extension": ".py",
   "mimetype": "text/x-python",
   "name": "python",
   "nbconvert_exporter": "python",
   "pygments_lexer": "ipython3",
   "version": "3.5.2"
  }
 },
 "nbformat": 4,
 "nbformat_minor": 1
}
