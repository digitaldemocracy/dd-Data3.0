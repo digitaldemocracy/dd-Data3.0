{
 "cells": [
  {
   "cell_type": "code",
   "execution_count": 2,
   "metadata": {
    "collapsed": false
   },
   "outputs": [
    {
     "name": "stderr",
     "output_type": "stream",
     "text": [
      "C:\\Program Files\\Anaconda3\\lib\\site-packages\\sklearn\\cross_validation.py:41: DeprecationWarning: This module was deprecated in version 0.18 in favor of the model_selection module into which all the refactored classes and functions are moved. Also note that the interface of the new CV iterators are different from that of this module. This module will be removed in 0.20.\n",
      "  \"This module will be removed in 0.20.\", DeprecationWarning)\n"
     ]
    }
   ],
   "source": [
    "from Functions import *\n",
    "%load_ext autoreload\n",
    "%autoreload 2\n",
    "\n",
    "%matplotlib inline"
   ]
  },
  {
   "cell_type": "code",
   "execution_count": 6,
   "metadata": {
    "collapsed": true
   },
   "outputs": [],
   "source": [
    "a = None\n",
    "b = None\n",
    "c = None"
   ]
  },
  {
   "cell_type": "code",
   "execution_count": 5,
   "metadata": {
    "collapsed": false
   },
   "outputs": [
    {
     "ename": "AssertionError",
     "evalue": "",
     "output_type": "error",
     "traceback": [
      "\u001b[0;31m---------------------------------------------------------------------------\u001b[0m",
      "\u001b[0;31mAssertionError\u001b[0m                            Traceback (most recent call last)",
      "\u001b[0;32m<ipython-input-5-eaa6ff6edcc0>\u001b[0m in \u001b[0;36m<module>\u001b[0;34m()\u001b[0m\n\u001b[0;32m----> 1\u001b[0;31m \u001b[1;32massert\u001b[0m \u001b[0ma\u001b[0m \u001b[1;32mor\u001b[0m \u001b[1;33m(\u001b[0m\u001b[0mb\u001b[0m \u001b[1;32mand\u001b[0m \u001b[0mc\u001b[0m\u001b[1;33m)\u001b[0m\u001b[1;33m\u001b[0m\u001b[0m\n\u001b[0m",
      "\u001b[0;31mAssertionError\u001b[0m: "
     ]
    }
   ],
   "source": [
    "assert a or (b and c)"
   ]
  },
  {
   "cell_type": "code",
   "execution_count": 6,
   "metadata": {
    "collapsed": false
   },
   "outputs": [],
   "source": [
    "data = pd.read_csv('labeled_utterances.csv')\n",
    "data.uids = data.uids.apply(eval)"
   ]
  },
  {
   "cell_type": "markdown",
   "metadata": {},
   "source": [
    "# Overview of the Data"
   ]
  },
  {
   "cell_type": "code",
   "execution_count": 97,
   "metadata": {
    "collapsed": false
   },
   "outputs": [
    {
     "data": {
      "text/plain": [
       "['committee_position',\n",
       " 'pid',\n",
       " 'pid_next',\n",
       " 'simple_label_next',\n",
       " 'text',\n",
       " 'text_next',\n",
       " 'uids',\n",
       " 'vid',\n",
       " 'question',\n",
       " 'procedural_question',\n",
       " 'weak_question']"
      ]
     },
     "execution_count": 97,
     "metadata": {},
     "output_type": "execute_result"
    }
   ],
   "source": [
    "list(data.columns)"
   ]
  },
  {
   "cell_type": "markdown",
   "metadata": {},
   "source": [
    "Really quickly, I want to cover where the data comes from. Basically what I did was query the utterance table for all cases where a legislator spoke and was then followed by a non-legislator or the bill author. I excluded committee chairs, assuming most these interactions would be procedural. \n",
    "\n",
    "pid -> The legislator who spoke initially<br>\n",
    "pid_next -> The person who spoke after the legislator. <br>\n",
    "simple_label_next -> The person type for the next speaker\n",
    "\n",
    "From there I rolled the string of utterances spoken by the legislator into a single long utterance so that context is not missing.\n",
    "\n",
    "uids -> All the utterance ids for the initial string of utterances<br>\n",
    "text -> The rolled up string of utterances<br>\n",
    "text_next -> The response from the non-leg/bill author\n",
    "\n",
    "From there I went through and labeled by hand about 200 rows just for the sake of exploration. \n",
    "\n",
    "Labels Explained:\n",
    "\n",
    "question -> The kinds of question we're interested in. Questions directed at the witness or bill author\n",
    "procedural_question -> These are questions, but not the kind we're interested in. E.g. (And Finance, you have a comment?)\n",
    "weak_question -> These are poorly formed questions\n",
    "\n"
   ]
  },
  {
   "cell_type": "markdown",
   "metadata": {},
   "source": [
    "## Initializing Features"
   ]
  },
  {
   "cell_type": "markdown",
   "metadata": {},
   "source": [
    "#### Basic Features"
   ]
  },
  {
   "cell_type": "code",
   "execution_count": 98,
   "metadata": {
    "collapsed": true
   },
   "outputs": [],
   "source": [
    "# Dummy encoding for person type\n",
    "tmp = pd.get_dummies(data.simple_label_next)\n",
    "person_type_cols = list(tmp.columns)\n",
    "data = pd.concat([data, tmp], axis=1)"
   ]
  },
  {
   "cell_type": "code",
   "execution_count": 99,
   "metadata": {
    "collapsed": true
   },
   "outputs": [],
   "source": [
    "data['q_word_count'] = data.text.apply(lambda t: len(word_tokenize(t)))\n",
    "data['q_uid_count'] = data.uids.apply(len)\n",
    "data['r_word_count'] = data.text_next.apply(lambda t: len(word_tokenize(t)))\n",
    "data['?_count'] = data.text.apply(lambda t: t.count('?'))"
   ]
  },
  {
   "cell_type": "code",
   "execution_count": 100,
   "metadata": {
    "collapsed": true
   },
   "outputs": [],
   "source": [
    "simple_features = ['q_word_count', \n",
    "                   'q_uid_count', \n",
    "                   'r_word_count', \n",
    "                   '?_count']"
   ]
  },
  {
   "cell_type": "markdown",
   "metadata": {},
   "source": [
    "#### Processing the Text"
   ]
  },
  {
   "cell_type": "code",
   "execution_count": 101,
   "metadata": {
    "collapsed": true
   },
   "outputs": [],
   "source": [
    "stop_words = set(stopwords.words('english'))\n",
    "stemmer = SnowballStemmer(\"english\")\n",
    "translator = str.maketrans(dict.fromkeys(string.punctuation))\n",
    "\n",
    "data['processed_text'] = data.text.apply(preprocess_text, \n",
    "                                         stemmer=stemmer, \n",
    "                                         translator=translator, \n",
    "                                         stop_words=stop_words)"
   ]
  },
  {
   "cell_type": "code",
   "execution_count": 102,
   "metadata": {
    "collapsed": true
   },
   "outputs": [],
   "source": [
    "data['processed_text_answer'] = data.text_next.apply(preprocess_text, \n",
    "                                                     stemmer=stemmer, \n",
    "                                                     translator=translator, \n",
    "                                                     stop_words=stop_words)"
   ]
  },
  {
   "cell_type": "markdown",
   "metadata": {},
   "source": [
    "Basically all question words are stop-words, so I thought it might be useful to have a separate way to compute these. "
   ]
  },
  {
   "cell_type": "code",
   "execution_count": 135,
   "metadata": {
    "collapsed": false
   },
   "outputs": [],
   "source": [
    "# from wikipedia\n",
    "interrogative_words = set(['which', \n",
    "                           'what',\n",
    "                           'whose', \n",
    "                           'who', \n",
    "                           'whom', \n",
    "                           'where', \n",
    "                           'whither', \n",
    "                           'whence', \n",
    "                           'when', \n",
    "                           'how', \n",
    "                           'why', \n",
    "                           'whether'])\n",
    "def only_q_words(s, interrogative_words=None):\n",
    "    return ' '.join([w.lower() for w in word_tokenize(s) if w.lower() in interrogative_words])\n",
    "\n",
    "data['q_text'] = data.text.apply(only_q_words, interrogative_words=interrogative_words)"
   ]
  },
  {
   "cell_type": "markdown",
   "metadata": {},
   "source": [
    "#### TF-IDF Scores for processed text"
   ]
  },
  {
   "cell_type": "code",
   "execution_count": 104,
   "metadata": {
    "collapsed": false
   },
   "outputs": [],
   "source": [
    "data, tfidf_score_cols = vectorize_text(TfidfVectorizer(), \n",
    "                                        'processed_text', \n",
    "                                        data, \n",
    "                                        'tfidf_score_')"
   ]
  },
  {
   "cell_type": "markdown",
   "metadata": {},
   "source": [
    "#### TF-IDF Scores for processed answer text"
   ]
  },
  {
   "cell_type": "code",
   "execution_count": 105,
   "metadata": {
    "collapsed": false
   },
   "outputs": [],
   "source": [
    "data, tfidf_score_answer_cols = vectorize_text(TfidfVectorizer(), \n",
    "                                        'processed_text_answer', \n",
    "                                        data, \n",
    "                                        'tfidf_score_answer_')"
   ]
  },
  {
   "cell_type": "markdown",
   "metadata": {},
   "source": [
    "#### Raw Counts for processed text"
   ]
  },
  {
   "cell_type": "code",
   "execution_count": 106,
   "metadata": {
    "collapsed": false
   },
   "outputs": [],
   "source": [
    "data, word_count_cols = vectorize_text(CountVectorizer(), \n",
    "                                        'processed_text', \n",
    "                                        data, \n",
    "                                        'raw_count_')"
   ]
  },
  {
   "cell_type": "markdown",
   "metadata": {},
   "source": [
    "#### Raw Counts for processed text answer"
   ]
  },
  {
   "cell_type": "code",
   "execution_count": 107,
   "metadata": {
    "collapsed": false
   },
   "outputs": [],
   "source": [
    "data, word_count_answer_cols = vectorize_text(CountVectorizer(), \n",
    "                                        'processed_text_answer', \n",
    "                                        data, \n",
    "                                        'raw_count_answer_')"
   ]
  },
  {
   "cell_type": "markdown",
   "metadata": {},
   "source": [
    "#### Raw Counts for question w-rods"
   ]
  },
  {
   "cell_type": "code",
   "execution_count": 136,
   "metadata": {
    "collapsed": false
   },
   "outputs": [],
   "source": [
    "data, q_word_count_cols = vectorize_text(CountVectorizer(), \n",
    "                                        'q_text', \n",
    "                                        data, \n",
    "                                        'q_raw_count_')"
   ]
  },
  {
   "cell_type": "markdown",
   "metadata": {},
   "source": [
    "#### TF-IDF Scores for unprocessed text bigrams"
   ]
  },
  {
   "cell_type": "code",
   "execution_count": 108,
   "metadata": {
    "collapsed": false
   },
   "outputs": [],
   "source": [
    "data, tfidf_bigram_cols = vectorize_text(TfidfVectorizer(ngram_range=(2,2)), \n",
    "                                        'text', \n",
    "                                        data, \n",
    "                                        'tfidf_bigram_')"
   ]
  },
  {
   "cell_type": "markdown",
   "metadata": {},
   "source": [
    "#### TF-IDF Scores for unprocessed text answer bigrams"
   ]
  },
  {
   "cell_type": "code",
   "execution_count": 109,
   "metadata": {
    "collapsed": false
   },
   "outputs": [],
   "source": [
    "data, tfidf_bigram_answer_cols = vectorize_text(TfidfVectorizer(ngram_range=(2,2)), \n",
    "                                        'text_next', \n",
    "                                        data, \n",
    "                                        'tfidf_bigram_answer_')"
   ]
  },
  {
   "cell_type": "markdown",
   "metadata": {},
   "source": [
    "#### Parse Tree Node Counts (Syntactic Tags)"
   ]
  },
  {
   "cell_type": "markdown",
   "metadata": {},
   "source": [
    "For reference:\n",
    "<img src='tag_names.png'>"
   ]
  },
  {
   "cell_type": "code",
   "execution_count": 145,
   "metadata": {
    "collapsed": false
   },
   "outputs": [],
   "source": [
    "# For this to run, you need to be running the server locally\n",
    "nlp = StanfordCoreNLP('http://localhost:9000')"
   ]
  },
  {
   "cell_type": "code",
   "execution_count": 110,
   "metadata": {
    "collapsed": false
   },
   "outputs": [],
   "source": [
    "syntactic_targets = set(['ADJP',\n",
    "                         'ADVP',\n",
    "                         'NP', \n",
    "                         'PP', \n",
    "                         'S', \n",
    "                         'SBAR', \n",
    "                         'SBARQ', \n",
    "                         'SINV', \n",
    "                         'SQ',\n",
    "                         'VP', \n",
    "                         'WHADVP', \n",
    "                         'WHNP', \n",
    "                         'WHPP'])\n",
    "\n",
    "# Unstructured cores tags\n",
    "# data['syn_tags'] = data.text.apply(stanford_parse, nlp=nlp, syntactic_targets=syntactic_targets)\n",
    "data['syn_tags'] = pickle.load(open('syn_tags_series.p', 'rb'))"
   ]
  },
  {
   "cell_type": "code",
   "execution_count": 111,
   "metadata": {
    "collapsed": false
   },
   "outputs": [],
   "source": [
    "data, tfidf_syn_tags_cols = vectorize_text(TfidfVectorizer(), \n",
    "                                        'syn_tags', \n",
    "                                        data, \n",
    "                                        'tfidf_syn_tags_')"
   ]
  },
  {
   "cell_type": "code",
   "execution_count": 161,
   "metadata": {
    "collapsed": false
   },
   "outputs": [],
   "source": [
    "data, count_syn_tags_cols = vectorize_text(CountVectorizer(), \n",
    "                                        'syn_tags', \n",
    "                                        data, \n",
    "                                        'count_syn_tags_')"
   ]
  },
  {
   "cell_type": "markdown",
   "metadata": {},
   "source": [
    "## Defining the Problem\n",
    "\n",
    "The original problem was to find a set of \"business rules\" to help us identify questions. When grabbing utterance data, I try and limit myself to only interactions of interest. This means:\n",
    "\n",
    "1. First speaker must be a legislator\n",
    "2. Second speaker must be non-legislator or bill author\n",
    "3. First speaker cannot be committee chair"
   ]
  },
  {
   "cell_type": "markdown",
   "metadata": {},
   "source": [
    "At first blush, it might seem that all of these interactions would be representative of \"engagement\" (what we're really trying to measure) on the part of the legislator. However, there are some issues. "
   ]
  },
  {
   "cell_type": "markdown",
   "metadata": {},
   "source": [
    "**Problem 1**\n",
    "\n",
    "Lot's of interactions are procedural. \n",
    "\n",
    "E.g."
   ]
  },
  {
   "cell_type": "code",
   "execution_count": 141,
   "metadata": {
    "collapsed": false
   },
   "outputs": [
    {
     "data": {
      "text/plain": [
       "'Ms. Gonzalez, you are recognized.'"
      ]
     },
     "execution_count": 141,
     "metadata": {},
     "output_type": "execute_result"
    }
   ],
   "source": [
    "data.iloc[10].text"
   ]
  },
  {
   "cell_type": "markdown",
   "metadata": {},
   "source": [
    "Gonzalez is the bill author here and the speaker is just a regular member of the committee, not a chair. Even though this utterance was grabbed as a possible interaction, we obviously don't want to count it as an actual engagement."
   ]
  },
  {
   "cell_type": "markdown",
   "metadata": {},
   "source": [
    "**Problem 2**\n",
    "\n",
    "The committee chair themselves can ask questions of the witness. I don't have a ready example of this, but often times a committee chair will ask useful questions of the bill author or witness, so we don't want to exclude all of their interactions. "
   ]
  },
  {
   "cell_type": "markdown",
   "metadata": {},
   "source": [
    "**Problem 3**\n",
    "\n",
    "Person type classifications are often times incorrect. For example, I can assume an interaction with a member of legislative staff is merely procedural, but often times LAO members are listed with this classification. "
   ]
  },
  {
   "cell_type": "markdown",
   "metadata": {},
   "source": [
    "**Solution**\n",
    "\n",
    "Clearly what we need is some basic text analysis for identifying questions, rather than just relying on context alone.  "
   ]
  },
  {
   "cell_type": "markdown",
   "metadata": {},
   "source": [
    "## Exploring Methods of Classifying Questions"
   ]
  },
  {
   "cell_type": "markdown",
   "metadata": {},
   "source": [
    "### Heuristic Methods"
   ]
  },
  {
   "cell_type": "markdown",
   "metadata": {},
   "source": [
    "#### Parse Trees\n",
    "\n",
    "When I first did some Googling for this problem I found [this](https://stackoverflow.com/questions/17879551/nltk-find-if-a-sentence-is-in-a-questioning-form) post on SO which suggests matching the sentence to a generic parse tree with the format of a question. This works pretty well for simple questions. "
   ]
  },
  {
   "cell_type": "code",
   "execution_count": 148,
   "metadata": {
    "collapsed": false
   },
   "outputs": [
    {
     "name": "stdout",
     "output_type": "stream",
     "text": [
      "(ROOT\r\n",
      "  (SBARQ\r\n",
      "    (WHNP (WP What))\r\n",
      "    (SQ (VBZ is)\r\n",
      "      (NP\r\n",
      "        (NP (DT the) (NN capital))\r\n",
      "        (PP (IN of)\r\n",
      "          (NP (NNP Scotland)))))\r\n",
      "    (. ?)))\n"
     ]
    }
   ],
   "source": [
    "q = \"What is the capital of Scotland?\"\n",
    "print_parse_tree(q, nlp)"
   ]
  },
  {
   "cell_type": "markdown",
   "metadata": {},
   "source": [
    "But for actual examples spoken by legislators, it pretty quickly become clear this isn't going to work. "
   ]
  },
  {
   "cell_type": "code",
   "execution_count": 150,
   "metadata": {
    "collapsed": false
   },
   "outputs": [
    {
     "name": "stdout",
     "output_type": "stream",
     "text": [
      "(ROOT\r\n",
      "  (S\r\n",
      "    (S\r\n",
      "      (NP (CD One))\r\n",
      "      (VP (VBZ is)\r\n",
      "        (SBAR\r\n",
      "          (WHADVP (WRB how))\r\n",
      "          (, ,)\r\n",
      "          (S\r\n",
      "            (NP (PRP I))\r\n",
      "            (VP (VBP think)\r\n",
      "              (SBAR\r\n",
      "                (S\r\n",
      "                  (NP (PRP it))\r\n",
      "                  (VP (VBD was)\r\n",
      "                    (VP\r\n",
      "                      (ADVP (RB already))\r\n",
      "                      (VBN answered))))))))))\r\n",
      "    (, ,)\r\n",
      "    (NP (PRP I))\r\n",
      "    (VP (VBD was)\r\n",
      "      (VP (VBG going)\r\n",
      "        (S\r\n",
      "          (VP (TO to)\r\n",
      "            (VP (VB ask)\r\n",
      "              (NP (PRP you))\r\n",
      "              (SBAR\r\n",
      "                (WHADVP (WRB why))\r\n",
      "                (S\r\n",
      "                  (VP (VBP do)\r\n",
      "                    (VP (VB need)\r\n",
      "                      (NP (DT a) (JJ statewide) (NN goal))\r\n",
      "                      (SBAR (IN if)\r\n",
      "                        (S\r\n",
      "                          (NP (NN water) (NNS agencies))\r\n",
      "                          (VP (VBP are)\r\n",
      "                            (ADVP (DT all))\r\n",
      "                            (ADJP (JJ ready)\r\n",
      "                              (S\r\n",
      "                                (VP (VBG using)\r\n",
      "                                  (NP (NN desal))\r\n",
      "                                  (PP (IN as)\r\n",
      "                                    (NP (DT an) (NN option))))))))))))))))))\r\n",
      "    (. ?)))\n"
     ]
    }
   ],
   "source": [
    "q = \"\"\"One is how, I think it was already answered, I was going to ask you why do need a statewide goal if water agencies are all ready using desal as an option?\"\"\"\n",
    "print_parse_tree(q, nlp)"
   ]
  },
  {
   "cell_type": "markdown",
   "metadata": {},
   "source": [
    "#### Thoughts\n",
    "Questions aren't always well formed and are sometimes implied almost indirectly. I later came back to this approach, but also tried some other simple heuristics. "
   ]
  },
  {
   "cell_type": "markdown",
   "metadata": {},
   "source": [
    "### Looking just at additional context\n",
    "\n",
    "**Rules**\n",
    "1. Is there a question mark\n",
    "2. There can't be too many utterances strung together (these are usually just legs introducing something)\n",
    "3. Limit myself to a subset of second speaker types"
   ]
  },
  {
   "cell_type": "code",
   "execution_count": 151,
   "metadata": {
    "collapsed": true
   },
   "outputs": [],
   "source": [
    "class my_model(object):\n",
    "    def fit(self, X, y):\n",
    "        pass\n",
    "    \n",
    "    def predict(object, X):\n",
    "        rule_1 = X.q_uid_count < 5\n",
    "        rule_2 = X['?_count'] > 0\n",
    "        rule_3 = ((X['General Public'] == 1) | \n",
    "                  (X['Bill Author'] == 1) |\n",
    "                  (X['Lobbyist'] == 1) |\n",
    "                  (X['LAO'] == 1) | \n",
    "                  (X['State Const Ofice'] == 1)) \n",
    "        \n",
    "        return rule_1 & rule_2 & rule_3"
   ]
  },
  {
   "cell_type": "code",
   "execution_count": 153,
   "metadata": {
    "collapsed": true
   },
   "outputs": [],
   "source": [
    "model = my_model()\n",
    "X = data[simple_features + person_type_cols]\n",
    "y = data.question"
   ]
  },
  {
   "cell_type": "code",
   "execution_count": 154,
   "metadata": {
    "collapsed": false
   },
   "outputs": [
    {
     "data": {
      "image/png": "[encoded data removed]",
      "text/plain": [
       "<matplotlib.figure.Figure at 0x1b61e7316a0>"
      ]
     },
     "metadata": {},
     "output_type": "display_data"
    }
   ],
   "source": [
    "results = assess_results(model, X, y, data)"
   ]
  },
  {
   "cell_type": "markdown",
   "metadata": {},
   "source": [
    "#### Thoughts\n",
    "\n",
    "False positives arise when questions are either weak or procedural. These are awfully hard to catch. \n",
    "\n",
    "False negative appear to occur in cases where there is no question mark. Or they are talking to a state agency rep."
   ]
  },
  {
   "cell_type": "markdown",
   "metadata": {},
   "source": [
    "### Looking for specific syntactic tags\n",
    "\n",
    "**Rules**\n",
    "If it contains any question implying tags, label it a question. "
   ]
  },
  {
   "cell_type": "code",
   "execution_count": 156,
   "metadata": {
    "collapsed": true
   },
   "outputs": [],
   "source": [
    "class my_model(object):\n",
    "    def fit(self, X, y):\n",
    "        pass\n",
    "    \n",
    "    def predict(object, X)\n",
    "        rule = X.apply(sum, axis=1) > 0\n",
    "        \n",
    "        return rule"
   ]
  },
  {
   "cell_type": "code",
   "execution_count": 162,
   "metadata": {
    "collapsed": true
   },
   "outputs": [],
   "source": [
    "model = my_model()\n",
    "X = data[count_syn_tags_cols]\n",
    "y = data.question"
   ]
  },
  {
   "cell_type": "code",
   "execution_count": 163,
   "metadata": {
    "collapsed": false
   },
   "outputs": [
    {
     "data": {
      "image/png": "[encoded data removed]",
      "text/plain": [
       "<matplotlib.figure.Figure at 0x1b61ebc3978>"
      ]
     },
     "metadata": {},
     "output_type": "display_data"
    }
   ],
   "source": [
    "results = assess_results(model, X, y, data)"
   ]
  },
  {
   "cell_type": "markdown",
   "metadata": {},
   "source": [
    "#### Thoughts\n",
    "\n",
    "Clearly, I need something more sophisticated. "
   ]
  },
  {
   "cell_type": "markdown",
   "metadata": {},
   "source": [
    "## Machine Learning Approach\n",
    "\n",
    "Obviously my sample size is super small here, but I'm just throwing a bunch of stuff against the wall to see what sticks. Later I can go through and label some more questions as well as merge my dataset with a prelabeled one to refine this. "
   ]
  },
  {
   "cell_type": "markdown",
   "metadata": {},
   "source": [
    "### Naive Bayes with TFIDF"
   ]
  },
  {
   "cell_type": "code",
   "execution_count": 171,
   "metadata": {
    "collapsed": true
   },
   "outputs": [],
   "source": [
    "model = MultinomialNB()\n",
    "X = data[tfidf_score_cols + tfidf_score_answer_cols]\n",
    "y = data.question"
   ]
  },
  {
   "cell_type": "code",
   "execution_count": 167,
   "metadata": {
    "collapsed": false
   },
   "outputs": [
    {
     "data": {
      "text/plain": [
       "0.76555023923444976"
      ]
     },
     "execution_count": 167,
     "metadata": {},
     "output_type": "execute_result"
    }
   ],
   "source": [
    "scores = cross_val_score(model, X, y, cv=LeaveOneOut(X.shape[0]))\n",
    "scores.mean()"
   ]
  },
  {
   "cell_type": "code",
   "execution_count": 172,
   "metadata": {
    "collapsed": false
   },
   "outputs": [
    {
     "data": {
      "image/png": "[encoded data removed]",
      "text/plain": [
       "<matplotlib.figure.Figure at 0x1b61ec09630>"
      ]
     },
     "metadata": {},
     "output_type": "display_data"
    }
   ],
   "source": [
    "results = assess_results(model, X, y, data)"
   ]
  },
  {
   "cell_type": "markdown",
   "metadata": {},
   "source": [
    "### Linear SVC for the sparse text matrix\n",
    "\n",
    "Internet suggested this might be a good classifier with small number of documents"
   ]
  },
  {
   "cell_type": "code",
   "execution_count": 168,
   "metadata": {
    "collapsed": true
   },
   "outputs": [],
   "source": [
    "model = LinearSVC(dual=False)\n",
    "X = data[tfidf_score_cols + tfidf_score_answer_cols]\n",
    "y = data.question"
   ]
  },
  {
   "cell_type": "code",
   "execution_count": 169,
   "metadata": {
    "collapsed": false
   },
   "outputs": [
    {
     "data": {
      "text/plain": [
       "0.69856459330143539"
      ]
     },
     "execution_count": 169,
     "metadata": {},
     "output_type": "execute_result"
    }
   ],
   "source": [
    "scores = cross_val_score(model, X, y, cv=LeaveOneOut(X.shape[0]))\n",
    "scores.mean()"
   ]
  },
  {
   "cell_type": "code",
   "execution_count": 170,
   "metadata": {
    "collapsed": false
   },
   "outputs": [
    {
     "data": {
      "image/png": "[encoded data removed]",
      "text/plain": [
       "<matplotlib.figure.Figure at 0x1b61ec09278>"
      ]
     },
     "metadata": {},
     "output_type": "display_data"
    }
   ],
   "source": [
    "results = assess_results(model, X, y, data)"
   ]
  },
  {
   "cell_type": "markdown",
   "metadata": {},
   "source": [
    "### Logistic Regression with TF-IDF"
   ]
  },
  {
   "cell_type": "code",
   "execution_count": 173,
   "metadata": {
    "collapsed": true
   },
   "outputs": [],
   "source": [
    "model = LogisticRegression()\n",
    "X = data[tfidf_score_cols + tfidf_score_answer_cols]\n",
    "y = data.question"
   ]
  },
  {
   "cell_type": "code",
   "execution_count": 174,
   "metadata": {
    "collapsed": false
   },
   "outputs": [
    {
     "data": {
      "text/plain": [
       "0.74641148325358853"
      ]
     },
     "execution_count": 174,
     "metadata": {},
     "output_type": "execute_result"
    }
   ],
   "source": [
    "scores = cross_val_score(model, X, y, cv=LeaveOneOut(X.shape[0]))\n",
    "scores.mean()"
   ]
  },
  {
   "cell_type": "code",
   "execution_count": 175,
   "metadata": {
    "collapsed": false
   },
   "outputs": [
    {
     "data": {
      "image/png": "[encoded data removed]",
      "text/plain": [
       "<matplotlib.figure.Figure at 0x1b61d7d7b38>"
      ]
     },
     "metadata": {},
     "output_type": "display_data"
    }
   ],
   "source": [
    "results = assess_results(model, X, y, data)"
   ]
  },
  {
   "cell_type": "markdown",
   "metadata": {},
   "source": [
    "### Naive Bayes with Word Counts"
   ]
  },
  {
   "cell_type": "code",
   "execution_count": 176,
   "metadata": {
    "collapsed": true
   },
   "outputs": [],
   "source": [
    "model = MultinomialNB()\n",
    "X = data[word_count_cols + word_count_answer_cols]\n",
    "y = data.question"
   ]
  },
  {
   "cell_type": "code",
   "execution_count": 177,
   "metadata": {
    "collapsed": false
   },
   "outputs": [
    {
     "data": {
      "text/plain": [
       "0.71770334928229662"
      ]
     },
     "execution_count": 177,
     "metadata": {},
     "output_type": "execute_result"
    }
   ],
   "source": [
    "scores = cross_val_score(model, X, y, cv=LeaveOneOut(X.shape[0]))\n",
    "scores.mean()"
   ]
  },
  {
   "cell_type": "code",
   "execution_count": 178,
   "metadata": {
    "collapsed": false
   },
   "outputs": [
    {
     "data": {
      "image/png": "[encoded data removed]",
      "text/plain": [
       "<matplotlib.figure.Figure at 0x1b61ebf7e48>"
      ]
     },
     "metadata": {},
     "output_type": "display_data"
    }
   ],
   "source": [
    "results = assess_results(model, X, y, data)"
   ]
  },
  {
   "cell_type": "markdown",
   "metadata": {},
   "source": [
    "### Linear SVC with Word Counts"
   ]
  },
  {
   "cell_type": "code",
   "execution_count": 179,
   "metadata": {
    "collapsed": true
   },
   "outputs": [],
   "source": [
    "model = LinearSVC(dual=False)\n",
    "X = data[word_count_cols + word_count_answer_cols]\n",
    "y = data.question"
   ]
  },
  {
   "cell_type": "code",
   "execution_count": 180,
   "metadata": {
    "collapsed": false
   },
   "outputs": [
    {
     "data": {
      "text/plain": [
       "0.66507177033492826"
      ]
     },
     "execution_count": 180,
     "metadata": {},
     "output_type": "execute_result"
    }
   ],
   "source": [
    "scores = cross_val_score(model, X, y, cv=LeaveOneOut(X.shape[0]))\n",
    "scores.mean()"
   ]
  },
  {
   "cell_type": "code",
   "execution_count": 181,
   "metadata": {
    "collapsed": false
   },
   "outputs": [
    {
     "data": {
      "image/png": "[encoded data removed]",
      "text/plain": [
       "<matplotlib.figure.Figure at 0x1b61e594f98>"
      ]
     },
     "metadata": {},
     "output_type": "display_data"
    }
   ],
   "source": [
    "results = assess_results(model, X, y, data)"
   ]
  },
  {
   "cell_type": "markdown",
   "metadata": {},
   "source": [
    "### Naive Bayes and Bigrams"
   ]
  },
  {
   "cell_type": "code",
   "execution_count": 182,
   "metadata": {
    "collapsed": true
   },
   "outputs": [],
   "source": [
    "model = MultinomialNB()\n",
    "X = data[tfidf_bigram_cols + tfidf_bigram_answer_cols]\n",
    "y = data.question"
   ]
  },
  {
   "cell_type": "code",
   "execution_count": 183,
   "metadata": {
    "collapsed": false
   },
   "outputs": [
    {
     "data": {
      "text/plain": [
       "0.69377990430622005"
      ]
     },
     "execution_count": 183,
     "metadata": {},
     "output_type": "execute_result"
    }
   ],
   "source": [
    "scores = cross_val_score(model, X, y, cv=LeaveOneOut(X.shape[0]))\n",
    "scores.mean()"
   ]
  },
  {
   "cell_type": "code",
   "execution_count": 184,
   "metadata": {
    "collapsed": false
   },
   "outputs": [
    {
     "data": {
      "image/png": "[encoded data removed]",
      "text/plain": [
       "<matplotlib.figure.Figure at 0x1b6207bb3c8>"
      ]
     },
     "metadata": {},
     "output_type": "display_data"
    }
   ],
   "source": [
    "results = assess_results(model, X, y, data)"
   ]
  },
  {
   "cell_type": "markdown",
   "metadata": {},
   "source": [
    "### Naive Bayes and Parse Trees"
   ]
  },
  {
   "cell_type": "code",
   "execution_count": 185,
   "metadata": {
    "collapsed": true
   },
   "outputs": [],
   "source": [
    "model = MultinomialNB()\n",
    "X = data[tfidf_syn_tags_cols]\n",
    "y = data.question"
   ]
  },
  {
   "cell_type": "code",
   "execution_count": 186,
   "metadata": {
    "collapsed": false
   },
   "outputs": [
    {
     "data": {
      "text/plain": [
       "0.61244019138755978"
      ]
     },
     "execution_count": 186,
     "metadata": {},
     "output_type": "execute_result"
    }
   ],
   "source": [
    "scores = cross_val_score(model, X, y, cv=LeaveOneOut(X.shape[0]))\n",
    "scores.mean()"
   ]
  },
  {
   "cell_type": "code",
   "execution_count": 187,
   "metadata": {
    "collapsed": false
   },
   "outputs": [
    {
     "data": {
      "image/png": "[encoded data removed]",
      "text/plain": [
       "<matplotlib.figure.Figure at 0x1b6207c68d0>"
      ]
     },
     "metadata": {},
     "output_type": "display_data"
    }
   ],
   "source": [
    "results = assess_results(model, X, y, data)"
   ]
  }
 ],
 "metadata": {
  "anaconda-cloud": {},
  "kernelspec": {
   "display_name": "Python [conda root]",
   "language": "python",
   "name": "conda-root-py"
  },
  "language_info": {
   "codemirror_mode": {
    "name": "ipython",
    "version": 3
   },
   "file_extension": ".py",
   "mimetype": "text/x-python",
   "name": "python",
   "nbconvert_exporter": "python",
   "pygments_lexer": "ipython3",
   "version": "3.5.2"
  }
 },
 "nbformat": 4,
 "nbformat_minor": 1
}
