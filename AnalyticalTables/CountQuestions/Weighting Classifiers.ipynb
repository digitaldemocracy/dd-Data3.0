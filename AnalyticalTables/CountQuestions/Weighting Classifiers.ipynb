{
 "cells": [
  {
   "cell_type": "markdown",
   "metadata": {},
   "source": [
    "# Overview\n",
    "Takes all of my other classifiers and finds the optimal weights for a voting classifier that I defined."
   ]
  },
  {
   "cell_type": "code",
   "execution_count": 4,
   "metadata": {
    "collapsed": false
   },
   "outputs": [
    {
     "name": "stdout",
     "output_type": "stream",
     "text": [
      "The autoreload extension is already loaded. To reload it, use:\n",
      "  %reload_ext autoreload\n"
     ]
    }
   ],
   "source": [
    "from ClassifierFunctions import *\n",
    "import os\n",
    "\n",
    "%load_ext autoreload\n",
    "%autoreload 2\n",
    "\n",
    "%matplotlib inline"
   ]
  },
  {
   "cell_type": "code",
   "execution_count": 5,
   "metadata": {
    "collapsed": true
   },
   "outputs": [],
   "source": [
    "data_dir = 'SavedData'"
   ]
  },
  {
   "cell_type": "code",
   "execution_count": 6,
   "metadata": {
    "collapsed": false
   },
   "outputs": [],
   "source": [
    "data = pickle.load(open(os.path.join(data_dir, 'processed_data.pkl'), 'rb'))"
   ]
  },
  {
   "cell_type": "code",
   "execution_count": 7,
   "metadata": {
    "collapsed": false
   },
   "outputs": [],
   "source": [
    "clf_text = pickle.load(open(os.path.join(data_dir, 'clf_text.p'), 'rb'))\n",
    "clf_text_next = pickle.load(open(os.path.join(data_dir, 'clf_text_next.p'), 'rb'))\n",
    "clf_text_prev = pickle.load(open(os.path.join(data_dir, 'clf_text_prev.p'), 'rb'))"
   ]
  },
  {
   "cell_type": "code",
   "execution_count": 8,
   "metadata": {
    "collapsed": true
   },
   "outputs": [],
   "source": [
    "clf_context = pickle.load(open(os.path.join(data_dir, 'clf_context.p'), 'rb'))"
   ]
  },
  {
   "cell_type": "code",
   "execution_count": 9,
   "metadata": {
    "collapsed": false
   },
   "outputs": [],
   "source": [
    "features_dict = pickle.load(open(os.path.join(data_dir, 'features_dict.pkl'), 'rb'))"
   ]
  },
  {
   "cell_type": "code",
   "execution_count": 10,
   "metadata": {
    "collapsed": false
   },
   "outputs": [],
   "source": [
    "model_features = []\n",
    "\n",
    "# context features w/o simple label\n",
    "top_features =  ['committee_position_prev',\n",
    "                'committee_position',\n",
    "                'committee_position_next',\n",
    "\n",
    "                'simple_label_prev',\n",
    "                'simple_label_next'\n",
    "                ]\n",
    "for feat in top_features:\n",
    "    # adds every feature in the bottom level list\n",
    "    model_features += features_dict['context_features'][feat]\n",
    "    \n",
    "extra_features =  ['word_count', \n",
    "                   '?_count']\n",
    "model_features += extra_features"
   ]
  },
  {
   "cell_type": "markdown",
   "metadata": {},
   "source": [
    "Having experimented with this a bit, clf_text_next and clf_text_prev are basically always just set to 0. To simplify my grid search, I've just commented them out. "
   ]
  },
  {
   "cell_type": "code",
   "execution_count": 11,
   "metadata": {
    "collapsed": true
   },
   "outputs": [],
   "source": [
    "classifiers = [(clf_text, 'text'), \n",
    "#                (clf_text_next, 'text_next'),\n",
    "#                (clf_text_prev, 'text_prev'),\n",
    "               (clf_context, model_features)\n",
    "               ]"
   ]
  },
  {
   "cell_type": "code",
   "execution_count": 12,
   "metadata": {
    "collapsed": true
   },
   "outputs": [],
   "source": [
    "param_grid = {'weights': [None, \n",
    "                         [.7, .3], \n",
    "                         [.8, .2],\n",
    "                         [.9, .1], \n",
    "                         [1, 0]]}"
   ]
  },
  {
   "cell_type": "code",
   "execution_count": 13,
   "metadata": {
    "collapsed": false
   },
   "outputs": [],
   "source": [
    "model = MyVotingClassifier(classifiers)"
   ]
  },
  {
   "cell_type": "code",
   "execution_count": 14,
   "metadata": {
    "collapsed": false
   },
   "outputs": [
    {
     "name": "stdout",
     "output_type": "stream",
     "text": [
      "\n",
      "SCORES:\n",
      "\n",
      "Average Accuracy: 0.906989063568\n",
      "Average Precision:  0.880980903036\n",
      "Average Recall: 0.975555555556\n",
      "Average F1:  0.925320476076\n",
      "\n",
      "Pipeline Parameters:\n",
      "{'weights': [0.9, 0.1]}\n",
      "\n"
     ]
    },
    {
     "data": {
      "image/png": "[encoded data removed]",
      "text/plain": [
       "<matplotlib.figure.Figure at 0x241ec543710>"
      ]
     },
     "metadata": {},
     "output_type": "display_data"
    }
   ],
   "source": [
    "grid = evaluate_model(model, param_grid, data, data.binary_label)"
   ]
  },
  {
   "cell_type": "markdown",
   "metadata": {},
   "source": [
    "My best estimator is bascially just naive bayes on the text field with a little bit of weighting for the SVM classifier with the context fields. This is the classifier I use for prediction with on the true dataset. "
   ]
  }
 ],
 "metadata": {
  "kernelspec": {
   "display_name": "Python [conda root]",
   "language": "python",
   "name": "conda-root-py"
  },
  "language_info": {
   "codemirror_mode": {
    "name": "ipython",
    "version": 3
   },
   "file_extension": ".py",
   "mimetype": "text/x-python",
   "name": "python",
   "nbconvert_exporter": "python",
   "pygments_lexer": "ipython3",
   "version": "3.5.2"
  }
 },
 "nbformat": 4,
 "nbformat_minor": 1
}
