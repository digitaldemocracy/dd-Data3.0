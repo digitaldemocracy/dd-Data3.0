{
 "cells": [
  {
   "cell_type": "markdown",
   "metadata": {},
   "source": [
    "# Overview\n",
    "File contains the steps for building a classifier based just on the context features, (ie ignoring the step features)."
   ]
  },
  {
   "cell_type": "code",
   "execution_count": 1,
   "metadata": {
    "collapsed": true
   },
   "outputs": [],
   "source": [
    "from ClassifierFunctions import *\n",
    "\n",
    "import os\n",
    "\n",
    "%load_ext autoreload\n",
    "%autoreload 2\n",
    "\n",
    "%matplotlib inline"
   ]
  },
  {
   "cell_type": "code",
   "execution_count": 2,
   "metadata": {
    "collapsed": true
   },
   "outputs": [],
   "source": [
    "data_dir = 'SavedData'"
   ]
  },
  {
   "cell_type": "code",
   "execution_count": 3,
   "metadata": {
    "collapsed": false
   },
   "outputs": [],
   "source": [
    "data = pickle.load(open(os.path.join(data_dir, 'processed_data.pkl'), 'rb'))\n",
    "features_dict = pickle.load(open(os.path.join(data_dir, 'features_dict.pkl'), 'rb'))"
   ]
  },
  {
   "cell_type": "markdown",
   "metadata": {},
   "source": [
    "## Classifying without text features\n",
    "\n",
    "Before examing the words, I want to just look at my context features and my simple engineered features. "
   ]
  },
  {
   "cell_type": "markdown",
   "metadata": {},
   "source": [
    "### Decision Tree\n",
    "I want to try a super simple decision tree, as this could give us our \"business rules\" that we were originally looking for when making classifications. "
   ]
  },
  {
   "cell_type": "code",
   "execution_count": 4,
   "metadata": {
    "collapsed": false
   },
   "outputs": [],
   "source": [
    "# context features w/o simple label\n",
    "top_features =  ['committee_position_prev',\n",
    "                'committee_position',\n",
    "                'committee_position_next',\n",
    "\n",
    "                'simple_label_prev',\n",
    "#                 'simple_label',\n",
    "                'simple_label_next'\n",
    "                ]\n",
    "\n",
    "model_features = []\n",
    "for feat in top_features:\n",
    "    # adds every feature in the bottom level list\n",
    "    model_features += features_dict['context_features'][feat]"
   ]
  },
  {
   "cell_type": "code",
   "execution_count": 5,
   "metadata": {
    "collapsed": false
   },
   "outputs": [],
   "source": [
    "X, y = data[model_features], data.binary_label"
   ]
  },
  {
   "cell_type": "code",
   "execution_count": 7,
   "metadata": {
    "collapsed": false
   },
   "outputs": [
    {
     "name": "stdout",
     "output_type": "stream",
     "text": [
      "\n",
      "SCORES:\n",
      "\n",
      "Average Accuracy: 0.671468443837\n",
      "Average Precision:  0.75685096081\n",
      "Average Recall: 0.660740740741\n",
      "Average F1:  0.701315881942\n",
      "\n",
      "Pipeline Parameters:\n",
      "{'clf__max_depth': 10}\n",
      "\n"
     ]
    },
    {
     "data": {
      "image/png": "[encoded data removed]",
      "text/plain": [
       "<matplotlib.figure.Figure at 0x2bc7dd2af28>"
      ]
     },
     "metadata": {},
     "output_type": "display_data"
    }
   ],
   "source": [
    "# Using a pipeline so I can add more preprocessing later\n",
    "clf = DecisionTreeClassifier()\n",
    "dt_param_grid = {'clf__max_depth': [3, 5, 7, 10, None]}\n",
    "\n",
    "pipeline = [('clf', clf)]\n",
    "model = Pipeline(pipeline)\n",
    "\n",
    "grid = evaluate_model(model, dt_param_grid, X, y)"
   ]
  },
  {
   "cell_type": "markdown",
   "metadata": {},
   "source": [
    "Before examining the tree, I want to look at how a few other classifiers perform. "
   ]
  },
  {
   "cell_type": "markdown",
   "metadata": {},
   "source": [
    "### Logistic Regression\n",
    "\n",
    "I just want to see how this performs with a basic classification algorithm"
   ]
  },
  {
   "cell_type": "code",
   "execution_count": 8,
   "metadata": {
    "collapsed": false
   },
   "outputs": [
    {
     "name": "stdout",
     "output_type": "stream",
     "text": [
      "\n",
      "SCORES:\n",
      "\n",
      "Average Accuracy: 0.624014581909\n",
      "Average Precision:  0.614729264938\n",
      "Average Recall: 0.965185185185\n",
      "Average F1:  0.750831280867\n",
      "\n",
      "Pipeline Parameters:\n",
      "{'clf__C': 0.01, 'clf__fit_intercept': False}\n",
      "\n"
     ]
    },
    {
     "data": {
      "text/plain": [
       "GridSearchCV(cv=<sklearn.model_selection._split.RepeatedStratifiedKFold object at 0x000002BC7E08AD68>,\n",
       "       error_score='raise',\n",
       "       estimator=Pipeline(memory=None,\n",
       "     steps=[('clf', LogisticRegression(C=1.0, class_weight=None, dual=False, fit_intercept=True,\n",
       "          intercept_scaling=1, max_iter=100, multi_class='ovr', n_jobs=1,\n",
       "          penalty='l2', random_state=None, solver='liblinear', tol=0.0001,\n",
       "          verbose=0, warm_start=False))]),\n",
       "       fit_params=None, iid=True, n_jobs=1,\n",
       "       param_grid={'clf__fit_intercept': [True, False], 'clf__C': [0.001, 0.01, 0.1, 1, 100]},\n",
       "       pre_dispatch='2*n_jobs', refit=True, return_train_score=True,\n",
       "       scoring='f1', verbose=0)"
      ]
     },
     "execution_count": 8,
     "metadata": {},
     "output_type": "execute_result"
    },
    {
     "data": {
      "image/png": "[encoded data removed]",
      "text/plain": [
       "<matplotlib.figure.Figure at 0x2bc7e112208>"
      ]
     },
     "metadata": {},
     "output_type": "display_data"
    }
   ],
   "source": [
    "# Using a pipeline so I can add more preprocessing later\n",
    "clf = LogisticRegression()\n",
    "dt_param_grid = {'clf__C': [.001, .01, .1, 1, 100], \n",
    "                 'clf__fit_intercept': [True, False]}\n",
    "\n",
    "pipeline = [('clf', clf)]\n",
    "model = Pipeline(pipeline)\n",
    "\n",
    "evaluate_model(model, dt_param_grid, X, y)"
   ]
  },
  {
   "cell_type": "markdown",
   "metadata": {},
   "source": [
    "## Looking at engineered features and context"
   ]
  },
  {
   "cell_type": "code",
   "execution_count": 9,
   "metadata": {
    "collapsed": true
   },
   "outputs": [],
   "source": [
    "model_features = []\n",
    "\n",
    "# context features w/o simple label\n",
    "top_features =  ['committee_position_prev',\n",
    "                'committee_position',\n",
    "                'committee_position_next',\n",
    "\n",
    "                'simple_label_prev',\n",
    "                'simple_label_next'\n",
    "                ]\n",
    "for feat in top_features:\n",
    "    # adds every feature in the bottom level list\n",
    "    model_features += features_dict['context_features'][feat]\n",
    "    \n",
    "extra_features =  ['word_count', \n",
    "                   '?_count']\n",
    "model_features += extra_features"
   ]
  },
  {
   "cell_type": "code",
   "execution_count": 10,
   "metadata": {
    "collapsed": false
   },
   "outputs": [],
   "source": [
    "X, y = data[model_features], data.binary_label"
   ]
  },
  {
   "cell_type": "markdown",
   "metadata": {},
   "source": [
    "#### Logistic Regression"
   ]
  },
  {
   "cell_type": "code",
   "execution_count": 11,
   "metadata": {
    "collapsed": false
   },
   "outputs": [
    {
     "name": "stdout",
     "output_type": "stream",
     "text": [
      "\n",
      "SCORES:\n",
      "\n",
      "Average Accuracy: 0.770938710412\n",
      "Average Precision:  0.749300899786\n",
      "Average Recall: 0.922222222222\n",
      "Average F1:  0.825730522064\n",
      "\n",
      "Pipeline Parameters:\n",
      "{'clf__C': 0.01, 'clf__fit_intercept': True}\n",
      "\n"
     ]
    },
    {
     "data": {
      "text/plain": [
       "GridSearchCV(cv=<sklearn.model_selection._split.RepeatedStratifiedKFold object at 0x000002BC7E383B38>,\n",
       "       error_score='raise',\n",
       "       estimator=Pipeline(memory=None,\n",
       "     steps=[('clf', LogisticRegression(C=1.0, class_weight=None, dual=False, fit_intercept=True,\n",
       "          intercept_scaling=1, max_iter=100, multi_class='ovr', n_jobs=1,\n",
       "          penalty='l2', random_state=None, solver='liblinear', tol=0.0001,\n",
       "          verbose=0, warm_start=False))]),\n",
       "       fit_params=None, iid=True, n_jobs=1,\n",
       "       param_grid={'clf__fit_intercept': [True, False], 'clf__C': [0.001, 0.01, 0.1, 1, 100]},\n",
       "       pre_dispatch='2*n_jobs', refit=True, return_train_score=True,\n",
       "       scoring='f1', verbose=0)"
      ]
     },
     "execution_count": 11,
     "metadata": {},
     "output_type": "execute_result"
    },
    {
     "data": {
      "image/png": "[encoded data removed]",
      "text/plain": [
       "<matplotlib.figure.Figure at 0x2bc7e39c588>"
      ]
     },
     "metadata": {},
     "output_type": "display_data"
    }
   ],
   "source": [
    "clf = LogisticRegression()\n",
    "param_grid = {'clf__C': [.001, .01, .1, 1, 100], \n",
    "                 'clf__fit_intercept': [True, False]}\n",
    "\n",
    "pipeline = [('clf', clf)]\n",
    "model = Pipeline(pipeline)\n",
    "\n",
    "evaluate_model(model, param_grid, X, y)"
   ]
  },
  {
   "cell_type": "markdown",
   "metadata": {},
   "source": [
    "Woah, this is pretty good actually"
   ]
  },
  {
   "cell_type": "markdown",
   "metadata": {},
   "source": [
    "#### RandomForest"
   ]
  },
  {
   "cell_type": "code",
   "execution_count": 12,
   "metadata": {
    "collapsed": false
   },
   "outputs": [
    {
     "name": "stdout",
     "output_type": "stream",
     "text": [
      "\n",
      "SCORES:\n",
      "\n",
      "Average Accuracy: 0.758350421508\n",
      "Average Precision:  0.785844956878\n",
      "Average Recall: 0.814814814815\n",
      "Average F1:  0.797547030675\n",
      "\n",
      "Pipeline Parameters:\n",
      "{'clf__max_depth': 5, 'clf__n_estimators': 10}\n",
      "\n"
     ]
    },
    {
     "data": {
      "text/plain": [
       "GridSearchCV(cv=<sklearn.model_selection._split.RepeatedStratifiedKFold object at 0x000002BC7E383C88>,\n",
       "       error_score='raise',\n",
       "       estimator=Pipeline(memory=None,\n",
       "     steps=[('clf', RandomForestClassifier(bootstrap=True, class_weight=None, criterion='gini',\n",
       "            max_depth=None, max_features='auto', max_leaf_nodes=None,\n",
       "            min_impurity_decrease=0.0, min_impurity_split=None,\n",
       "            min_samples_leaf=1, min_samples_split=2,\n",
       "            min_weight_fraction_leaf=0.0, n_estimators=10, n_jobs=1,\n",
       "            oob_score=False, random_state=None, verbose=0,\n",
       "            warm_start=False))]),\n",
       "       fit_params=None, iid=True, n_jobs=1,\n",
       "       param_grid={'clf__max_depth': [5, 10, None], 'clf__n_estimators': [5, 10, 15]},\n",
       "       pre_dispatch='2*n_jobs', refit=True, return_train_score=True,\n",
       "       scoring='f1', verbose=0)"
      ]
     },
     "execution_count": 12,
     "metadata": {},
     "output_type": "execute_result"
    },
    {
     "data": {
      "image/png": "[encoded data removed]",
      "text/plain": [
       "<matplotlib.figure.Figure at 0x2bc7e3b5e48>"
      ]
     },
     "metadata": {},
     "output_type": "display_data"
    }
   ],
   "source": [
    "clf = RandomForestClassifier()\n",
    "param_grid = {'clf__n_estimators': [5, 10, 15], \n",
    "              'clf__max_depth': [5, 10, None]}\n",
    "\n",
    "pipeline = [('clf', clf)]\n",
    "model = Pipeline(pipeline)\n",
    "\n",
    "evaluate_model(model, param_grid, X, y)"
   ]
  },
  {
   "cell_type": "markdown",
   "metadata": {},
   "source": [
    "#### SVM"
   ]
  },
  {
   "cell_type": "code",
   "execution_count": 13,
   "metadata": {
    "collapsed": false
   },
   "outputs": [
    {
     "name": "stdout",
     "output_type": "stream",
     "text": [
      "\n",
      "SCORES:\n",
      "\n",
      "Average Accuracy: 0.793939393939\n",
      "Average Precision:  0.772231534005\n",
      "Average Recall: 0.923703703704\n",
      "Average F1:  0.84050828406\n",
      "\n",
      "Pipeline Parameters:\n",
      "{'clf__C': 1, 'clf__gamma': 0.2}\n",
      "\n"
     ]
    },
    {
     "data": {
      "image/png": "[encoded data removed]",
      "text/plain": [
       "<matplotlib.figure.Figure at 0x2bc7f441f28>"
      ]
     },
     "metadata": {},
     "output_type": "display_data"
    }
   ],
   "source": [
    "clf = SVC(probability=True)\n",
    "param_grid = {'clf__C': [.01, .1, 1, 10], \n",
    "              'clf__gamma': [.01, .1, .2, 1]}\n",
    "\n",
    "pipeline = [('clf', clf)]\n",
    "model = Pipeline(pipeline)\n",
    "\n",
    "grid = evaluate_model(model, param_grid, X, y)"
   ]
  },
  {
   "cell_type": "markdown",
   "metadata": {},
   "source": [
    "My SVM actually ended up being a great estimator all on it's own. I considered using this without even looking at text. "
   ]
  },
  {
   "cell_type": "markdown",
   "metadata": {},
   "source": [
    "Estimator is pickled for other notebooks. "
   ]
  },
  {
   "cell_type": "code",
   "execution_count": 15,
   "metadata": {
    "collapsed": true
   },
   "outputs": [],
   "source": [
    "clf_context = grid.best_estimator_\n",
    "pickle.dump(clf_context, open(os.path.join(data_dir, 'clf_context.p'), 'wb'))"
   ]
  }
 ],
 "metadata": {
  "anaconda-cloud": {},
  "kernelspec": {
   "display_name": "Python [conda root]",
   "language": "python",
   "name": "conda-root-py"
  },
  "language_info": {
   "codemirror_mode": {
    "name": "ipython",
    "version": 3
   },
   "file_extension": ".py",
   "mimetype": "text/x-python",
   "name": "python",
   "nbconvert_exporter": "python",
   "pygments_lexer": "ipython3",
   "version": "3.5.2"
  }
 },
 "nbformat": 4,
 "nbformat_minor": 1
}
