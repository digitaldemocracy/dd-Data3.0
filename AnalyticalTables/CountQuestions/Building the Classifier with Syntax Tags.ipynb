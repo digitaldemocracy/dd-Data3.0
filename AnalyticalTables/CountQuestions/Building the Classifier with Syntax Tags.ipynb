{
 "cells": [
  {
   "cell_type": "markdown",
   "metadata": {},
   "source": [
    "# Overview\n",
    "\n",
    "This file explores attempts to build a classifier by looking at the syntax tags, rather than specific words. "
   ]
  },
  {
   "cell_type": "code",
   "execution_count": 1,
   "metadata": {
    "collapsed": true
   },
   "outputs": [],
   "source": [
    "from ClassifierFunctions import *\n",
    "\n",
    "import os\n",
    "\n",
    "%load_ext autoreload\n",
    "%autoreload 2\n",
    "\n",
    "%matplotlib inline"
   ]
  },
  {
   "cell_type": "code",
   "execution_count": 2,
   "metadata": {
    "collapsed": true
   },
   "outputs": [],
   "source": [
    "data_dir = 'SavedData'"
   ]
  },
  {
   "cell_type": "code",
   "execution_count": 3,
   "metadata": {
    "collapsed": true
   },
   "outputs": [],
   "source": [
    "data = pickle.load(open(os.path.join(data_dir, 'processed_data.pkl'), 'rb'))\n",
    "features_dict = pickle.load(open(os.path.join(data_dir, 'features_dict.pkl'), 'rb'))"
   ]
  },
  {
   "cell_type": "code",
   "execution_count": 15,
   "metadata": {
    "collapsed": true
   },
   "outputs": [],
   "source": [
    "# Using a pipeline so I can add more preprocessing later\n",
    "param_grid = {'vect__ngram_range': [(1,1), (1,2), (1, 3)]}\n",
    "\n",
    "pipeline = [('vect', TfidfVectorizer(encoding='unicode')),\n",
    "            ('clf', MultinomialNB())]\n",
    "model = Pipeline(pipeline)"
   ]
  },
  {
   "cell_type": "code",
   "execution_count": 16,
   "metadata": {
    "collapsed": false
   },
   "outputs": [
    {
     "name": "stdout",
     "output_type": "stream",
     "text": [
      "\n",
      "SCORES:\n",
      "\n",
      "Average Accuracy: 0.662269309638\n",
      "Average Precision:  0.638843742415\n",
      "Average Recall: 0.98\n",
      "Average F1:  0.773236774452\n",
      "\n",
      "Pipeline Parameters:\n",
      "{'vect__ngram_range': (1, 2)}\n",
      "\n"
     ]
    },
    {
     "data": {
      "image/png": "[encoded data removed]",
      "text/plain": [
       "<matplotlib.figure.Figure at 0x18bce548748>"
      ]
     },
     "metadata": {},
     "output_type": "display_data"
    }
   ],
   "source": [
    "X, y = data['syn_tags'], data.binary_label\n",
    "\n",
    "grid = evaluate_model(model, param_grid, X, y)\n",
    "clf_tags = grid.best_estimator_"
   ]
  },
  {
   "cell_type": "markdown",
   "metadata": {},
   "source": [
    "Yikes, this performs worse than all of my word based classifiers. I suspect that given more exploration this could be effective. However, plain Naive Bayes on a simple bag of words approach is effective enough that it feels unecessary. "
   ]
  }
 ],
 "metadata": {
  "anaconda-cloud": {},
  "kernelspec": {
   "display_name": "Python [conda root]",
   "language": "python",
   "name": "conda-root-py"
  },
  "language_info": {
   "codemirror_mode": {
    "name": "ipython",
    "version": 3
   },
   "file_extension": ".py",
   "mimetype": "text/x-python",
   "name": "python",
   "nbconvert_exporter": "python",
   "pygments_lexer": "ipython3",
   "version": "3.5.2"
  }
 },
 "nbformat": 4,
 "nbformat_minor": 1
}
