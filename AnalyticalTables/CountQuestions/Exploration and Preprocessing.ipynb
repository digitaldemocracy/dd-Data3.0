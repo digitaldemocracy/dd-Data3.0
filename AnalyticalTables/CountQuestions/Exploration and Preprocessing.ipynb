{
 "cells": [
  {
   "cell_type": "markdown",
   "metadata": {},
   "source": [
    "# Overview\n",
    "This file contains a basic exploration of the dataset as well as some preprocessing for the features. It modifies the dataset and pickles a new version, so it is necessary to be run prior to any of the classifer notebooks. "
   ]
  },
  {
   "cell_type": "code",
   "execution_count": 39,
   "metadata": {
    "collapsed": false
   },
   "outputs": [],
   "source": [
    "from ExploratoryFunctions import *\n",
    "\n",
    "import seaborn as sns\n",
    "import scipy.stats as stats\n",
    "import os"
   ]
  },
  {
   "cell_type": "code",
   "execution_count": 2,
   "metadata": {
    "collapsed": false
   },
   "outputs": [],
   "source": [
    "%load_ext autoreload\n",
    "%autoreload 2"
   ]
  },
  {
   "cell_type": "code",
   "execution_count": 3,
   "metadata": {
    "collapsed": true
   },
   "outputs": [],
   "source": [
    "%matplotlib inline"
   ]
  },
  {
   "cell_type": "code",
   "execution_count": 4,
   "metadata": {
    "collapsed": true
   },
   "outputs": [],
   "source": [
    "data_dir = 'SavedData'"
   ]
  },
  {
   "cell_type": "code",
   "execution_count": 5,
   "metadata": {
    "collapsed": false
   },
   "outputs": [],
   "source": [
    "data = pd.read_csv(os.path.join(data_dir, 'merged_labeled_data.csv'))\n",
    "data.uids = data.uids.apply(eval)"
   ]
  },
  {
   "cell_type": "code",
   "execution_count": 6,
   "metadata": {
    "collapsed": false
   },
   "outputs": [
    {
     "data": {
      "text/plain": [
       "Index(['engagement', 'procedural', 'procedural_question', 'question',\n",
       "       'weak_question', 'topic_intro', 'uids_str', 'committee_position',\n",
       "       'committee_position_next', 'committee_position_prev', 'pid', 'pid_next',\n",
       "       'pid_prev', 'simple_label', 'simple_label_next', 'simple_label_prev',\n",
       "       'text', 'text_next', 'text_prev', 'uid_next', 'uid_prev', 'uids',\n",
       "       'vid'],\n",
       "      dtype='object')"
      ]
     },
     "execution_count": 6,
     "metadata": {},
     "output_type": "execute_result"
    }
   ],
   "source": [
    "data.columns"
   ]
  },
  {
   "cell_type": "markdown",
   "metadata": {},
   "source": [
    "### Defining my classes\n",
    "After looking over all of the utterances I realized I wanted to simplifiy my labels to two cases. \n",
    "1. The utterance implies the legislator is engaging with a witness or the bill author in a way that adds to the discussion.\n",
    "    * engagement\n",
    "    * question\n",
    "2. The utterance is just part of legislative procedure. \n",
    "    * procedural\n",
    "    * procedural_question\n",
    "\n",
    "I'll combine these into my two classes."
   ]
  },
  {
   "cell_type": "code",
   "execution_count": 7,
   "metadata": {
    "collapsed": false
   },
   "outputs": [],
   "source": [
    "data['label'] = data.apply(lambda row: get_classes(row), axis=1)\n",
    "# Not totally sure why, but some classifiers need this\n",
    "data['binary_label'] = [0 if lab == 'procedural' else 1 for lab in data.label]"
   ]
  },
  {
   "cell_type": "markdown",
   "metadata": {},
   "source": [
    "Okay let's checkout the break down of the classes"
   ]
  },
  {
   "cell_type": "code",
   "execution_count": 8,
   "metadata": {
    "collapsed": false
   },
   "outputs": [
    {
     "data": {
      "text/plain": [
       "engagement    135\n",
       "procedural     95\n",
       "Name: label, dtype: int64"
      ]
     },
     "execution_count": 8,
     "metadata": {},
     "output_type": "execute_result"
    }
   ],
   "source": [
    "data.label.value_counts()"
   ]
  },
  {
   "cell_type": "code",
   "execution_count": 9,
   "metadata": {
    "collapsed": true
   },
   "outputs": [],
   "source": [
    "# A nested dictionary containing lists of all the features columns names in the \"data\" dataframe\n",
    "features_dict = {}"
   ]
  },
  {
   "cell_type": "markdown",
   "metadata": {},
   "source": [
    "### Examining Context\n",
    "I already filtered to include only utterances that I thought would be likely to indicate engagement. However, logically the committee position and category of the speaker as well as those preceding and suceeding the speaker might still be important in determining the label."
   ]
  },
  {
   "cell_type": "code",
   "execution_count": 11,
   "metadata": {
    "collapsed": false
   },
   "outputs": [
    {
     "data": {
      "text/plain": [
       "['committee_position_prev',\n",
       " 'committee_position',\n",
       " 'committee_position_next',\n",
       " 'simple_label_prev',\n",
       " 'simple_label',\n",
       " 'simple_label_next']"
      ]
     },
     "execution_count": 11,
     "metadata": {},
     "output_type": "execute_result"
    }
   ],
   "source": [
    "# From ExploratoryFunctions\n",
    "context_features"
   ]
  },
  {
   "cell_type": "markdown",
   "metadata": {},
   "source": [
    "I'll use a Chi-Square test to examine how well these variables define differences between my classes"
   ]
  },
  {
   "cell_type": "code",
   "execution_count": 12,
   "metadata": {
    "collapsed": false
   },
   "outputs": [
    {
     "name": "stdout",
     "output_type": "stream",
     "text": [
      "Feature: committee_position_prev \n",
      "\n",
      "Value Counts:\n",
      " Not In Committee    80\n",
      "Member              77\n",
      "Chair               57\n",
      "Possible Chair       8\n",
      "Vice-Chair           7\n",
      "Co-Chair             1\n",
      "Name: committee_position_prev, dtype: int64 \n",
      "\n",
      "Test Stat: 30.4961721822 P-Val: 1.17763969646e-05 \n",
      "\n",
      "=========================================\n",
      "Feature: committee_position \n",
      "\n",
      "Value Counts:\n",
      " Member                 159\n",
      "Not In Committee        37\n",
      "Vice-Chair              18\n",
      "Possible Chair          15\n",
      "Possible Vice-Chair      1\n",
      "Name: committee_position, dtype: int64 \n",
      "\n",
      "Test Stat: 2.89604378736 P-Val: 0.575370219385 \n",
      "\n",
      "=========================================\n",
      "Feature: committee_position_next \n",
      "\n",
      "Value Counts:\n",
      " Not In Committee    199\n",
      "Member               30\n",
      "Chair                 1\n",
      "Name: committee_position_next, dtype: int64 \n",
      "\n",
      "Test Stat: 12.2854114628 P-Val: 0.0021491008548 \n",
      "\n",
      "=========================================\n",
      "Feature: simple_label_prev \n",
      "\n",
      "Value Counts:\n",
      " Legislator          161\n",
      "General Public       33\n",
      "Bill Author          16\n",
      "State Agency Rep     11\n",
      "LAO                   4\n",
      "Unlabeled             3\n",
      "Lobbyist              2\n",
      "Name: simple_label_prev, dtype: int64 \n",
      "\n",
      "Test Stat: 22.0125292187 P-Val: 0.00120455941036 \n",
      "\n",
      "=========================================\n",
      "Feature: simple_label \n",
      "\n",
      "Value Counts:\n",
      " Legislator    230\n",
      "Name: simple_label, dtype: int64 \n",
      "\n",
      "Test Stat: 0.0 P-Val: 1.0 \n",
      "\n",
      "=========================================\n",
      "Feature: simple_label_next \n",
      "\n",
      "Value Counts:\n",
      " General Public        102\n",
      "Bill Author            61\n",
      "State Agency Rep       37\n",
      "Unlabeled              11\n",
      "Lobbyist                9\n",
      "LAO                     8\n",
      "State Const Office      1\n",
      "Staff                   1\n",
      "Name: simple_label_next, dtype: int64 \n",
      "\n",
      "Test Stat: 24.7592069437 P-Val: 0.000837088646534 \n",
      "\n",
      "=========================================\n"
     ]
    }
   ],
   "source": [
    "scores = {}\n",
    "for feat in context_features:\n",
    "    # Creates my contigency table\n",
    "    counts = pd.crosstab(data[feat], data.label)\n",
    "    X_sq, p_val, df, expected = stats.chi2_contingency(observed= counts)\n",
    "    scores[feat] = X_sq\n",
    "    print('Feature:', feat, '\\n')\n",
    "    print('Value Counts:\\n', data[feat].value_counts(), '\\n')\n",
    "    print('Test Stat:', X_sq, 'P-Val:', p_val, '\\n')\n",
    "    print('=========================================')"
   ]
  },
  {
   "cell_type": "code",
   "execution_count": 13,
   "metadata": {
    "collapsed": false
   },
   "outputs": [
    {
     "data": {
      "image/png": "[encoded data removed]",
      "text/plain": [
       "<matplotlib.figure.Figure at 0x2d8230d4f28>"
      ]
     },
     "metadata": {},
     "output_type": "display_data"
    }
   ],
   "source": [
    "scores = pd.Series(scores)\n",
    "ax = sns.barplot(x=scores.values, y=scores.keys())"
   ]
  },
  {
   "cell_type": "markdown",
   "metadata": {},
   "source": [
    "Most features have really high test statistics indicating that they are not independent of my classes. \"simple_label\" is obviously 0 because it is always legislator. "
   ]
  },
  {
   "cell_type": "code",
   "execution_count": 14,
   "metadata": {
    "collapsed": false
   },
   "outputs": [],
   "source": [
    "# Hot encoding for 'context' features\n",
    "d = {}\n",
    "features_dict['context_features'] = d\n",
    "for feat in context_features:\n",
    "    dummies = pd.get_dummies(data[feat])\n",
    "    dummies.columns = [feat + '_' + col for col in dummies]\n",
    "    \n",
    "    d[feat] = list(dummies.columns)\n",
    "    data = pd.concat([data, dummies], axis=1)\n",
    "    "
   ]
  },
  {
   "cell_type": "markdown",
   "metadata": {},
   "source": [
    "### Engineered Features\n",
    "Before moving on to text based features, I want to create a couple of features based around the length of the interaction to help separate the classes. Typically engagement interactions are longer than procedural ones, so it seems reasonable that this might help.  "
   ]
  },
  {
   "cell_type": "code",
   "execution_count": 15,
   "metadata": {
    "collapsed": false
   },
   "outputs": [],
   "source": [
    "data['word_count'] = data.text.apply(lambda t: len(word_tokenize(t)))\n",
    "data['prev_word_count'] = data.text_prev.apply(lambda t: len(word_tokenize(t)))\n",
    "data['next_word_count'] = data.text_next.apply(lambda t: len(word_tokenize(t)))\n",
    "\n",
    "data['uid_count'] = data.uids.apply(len)\n",
    "data['?_count'] = data.text.apply(lambda t: t.count('?'))\n",
    "# Ratio of question marks to total words\n",
    "data['?_ratio'] = data['?_count'] / data.word_count"
   ]
  },
  {
   "cell_type": "code",
   "execution_count": 16,
   "metadata": {
    "collapsed": false
   },
   "outputs": [
    {
     "data": {
      "text/plain": [
       "['word_count',\n",
       " 'prev_word_count',\n",
       " 'next_word_count',\n",
       " 'uid_count',\n",
       " '?_count',\n",
       " '?_ratio']"
      ]
     },
     "execution_count": 16,
     "metadata": {},
     "output_type": "execute_result"
    }
   ],
   "source": [
    "eng_features"
   ]
  },
  {
   "cell_type": "code",
   "execution_count": 17,
   "metadata": {
    "collapsed": false
   },
   "outputs": [
    {
     "name": "stdout",
     "output_type": "stream",
     "text": [
      "Feature: word_count \n",
      "\n",
      "Test Stat: 5.61807504198 P-Val: 9.01963727698e-08 \n",
      "\n",
      "=========================================\n",
      "Feature: prev_word_count \n",
      "\n",
      "Test Stat: -0.440936126263 P-Val: 0.659736396099 \n",
      "\n",
      "=========================================\n",
      "Feature: next_word_count \n",
      "\n",
      "Test Stat: 1.41475813732 P-Val: 0.158657475061 \n",
      "\n",
      "=========================================\n",
      "Feature: uid_count \n",
      "\n",
      "Test Stat: 2.28476038465 P-Val: 0.0232868332849 \n",
      "\n",
      "=========================================\n",
      "Feature: ?_count \n",
      "\n",
      "Test Stat: 5.44428738205 P-Val: 1.34400447224e-07 \n",
      "\n",
      "=========================================\n",
      "Feature: ?_ratio \n",
      "\n",
      "Test Stat: -1.16110998676 P-Val: 0.247970973467 \n",
      "\n",
      "=========================================\n"
     ]
    }
   ],
   "source": [
    "scores = {}\n",
    "for feat in eng_features:\n",
    "    a = data.loc[data.label == 'engagement', feat]\n",
    "    b = data.loc[data.label == 'procedural', feat]\n",
    "    \n",
    "    t, p_val = stats.ttest_ind(a, b, equal_var=False)\n",
    "    scores[feat] = t\n",
    "    \n",
    "    print('Feature:', feat, '\\n')\n",
    "    print('Test Stat:', t, 'P-Val:', p_val, '\\n')\n",
    "    print('=========================================')"
   ]
  },
  {
   "cell_type": "code",
   "execution_count": 18,
   "metadata": {
    "collapsed": false
   },
   "outputs": [
    {
     "data": {
      "image/png": "[encoded data removed]",
      "text/plain": [
       "<matplotlib.figure.Figure at 0x2d82324c0f0>"
      ]
     },
     "metadata": {},
     "output_type": "display_data"
    }
   ],
   "source": [
    "scores = pd.Series(scores)\n",
    "ax = sns.barplot(x=scores.values, y=scores.keys())"
   ]
  },
  {
   "cell_type": "markdown",
   "metadata": {},
   "source": [
    "Hmm, I definitely want to retain word count and \"?\" count in the final model and I'll probably ignore the others. "
   ]
  },
  {
   "cell_type": "code",
   "execution_count": 19,
   "metadata": {
    "collapsed": true
   },
   "outputs": [],
   "source": [
    "features_dict['eng_features'] = eng_features"
   ]
  },
  {
   "cell_type": "markdown",
   "metadata": {},
   "source": [
    "### Text Features\n",
    "All text feature preprocessing is handled by TFIDF vectorizer in the classifier pipeline. However, there was one exception. \n",
    "\n",
    "Basically all question words are stop-words, so I thought it might be useful to have a separate way to compute these. I want to single these out in particular because they often times signal engagement."
   ]
  },
  {
   "cell_type": "code",
   "execution_count": 20,
   "metadata": {
    "collapsed": false
   },
   "outputs": [
    {
     "data": {
      "text/plain": [
       "{'how',\n",
       " 'what',\n",
       " 'when',\n",
       " 'whence',\n",
       " 'where',\n",
       " 'whether',\n",
       " 'which',\n",
       " 'whither',\n",
       " 'who',\n",
       " 'whom',\n",
       " 'whose',\n",
       " 'why'}"
      ]
     },
     "execution_count": 20,
     "metadata": {},
     "output_type": "execute_result"
    }
   ],
   "source": [
    "# from wikipedia\n",
    "interrogative_words"
   ]
  },
  {
   "cell_type": "code",
   "execution_count": 23,
   "metadata": {
    "collapsed": false
   },
   "outputs": [],
   "source": [
    "for feat in text_features:\n",
    "    feat = 'q_' + feat\n",
    "    data[feat] = data.text.apply(only_q_words, interrogative_words=interrogative_words)\n",
    "    "
   ]
  },
  {
   "cell_type": "markdown",
   "metadata": {},
   "source": [
    "**Note:** I ended up not using these because instead of filtering out stopwords directly I just set a maximum document frequency. However I left this piece in in case a future user might want to go this route"
   ]
  },
  {
   "cell_type": "markdown",
   "metadata": {},
   "source": [
    "## Examining Parse Trees with Stanford Core NLP"
   ]
  },
  {
   "cell_type": "markdown",
   "metadata": {},
   "source": [
    "#### Parse Tree Node Counts (Syntactic Tags)\n",
    "\n",
    "For reference:\n",
    "<img src='tag_names.png'>"
   ]
  },
  {
   "cell_type": "markdown",
   "metadata": {},
   "source": [
    "**Note** For this next line of code to work you need to download Stanford Core NLP be running the server locally. \n",
    "[Instructions](https://stanfordnlp.github.io/CoreNLP/corenlp-server.html#getting-started)"
   ]
  },
  {
   "cell_type": "code",
   "execution_count": 34,
   "metadata": {
    "collapsed": true
   },
   "outputs": [],
   "source": [
    "nlp = StanfordCoreNLP('http://localhost:9000')"
   ]
  },
  {
   "cell_type": "markdown",
   "metadata": {},
   "source": [
    "### Parse Trees\n",
    "\n",
    "When I first did some Googling for this problem I found [this](https://stackoverflow.com/questions/17879551/nltk-find-if-a-sentence-is-in-a-questioning-form) post on SO which suggests matching the sentence to a generic parse tree with the format of a question. This works pretty well for simple questions. "
   ]
  },
  {
   "cell_type": "code",
   "execution_count": 35,
   "metadata": {
    "collapsed": false
   },
   "outputs": [
    {
     "name": "stdout",
     "output_type": "stream",
     "text": [
      "(ROOT\r\n",
      "  (SBARQ\r\n",
      "    (WHNP (WP What))\r\n",
      "    (SQ (VBZ is)\r\n",
      "      (NP\r\n",
      "        (NP (DT the) (NN capital))\r\n",
      "        (PP (IN of)\r\n",
      "          (NP (NNP Scotland)))))\r\n",
      "    (. ?)))\n"
     ]
    }
   ],
   "source": [
    "q = \"What is the capital of Scotland?\"\n",
    "print_parse_tree(q, nlp)"
   ]
  },
  {
   "cell_type": "markdown",
   "metadata": {},
   "source": [
    "But for actual examples spoken by legislators, it pretty quickly become clear this isn't going to work. "
   ]
  },
  {
   "cell_type": "code",
   "execution_count": 36,
   "metadata": {
    "collapsed": false
   },
   "outputs": [
    {
     "name": "stdout",
     "output_type": "stream",
     "text": [
      "(ROOT\r\n",
      "  (S\r\n",
      "    (S\r\n",
      "      (NP (CD One))\r\n",
      "      (VP (VBZ is)\r\n",
      "        (SBAR\r\n",
      "          (WHADVP (WRB how))\r\n",
      "          (, ,)\r\n",
      "          (S\r\n",
      "            (NP (PRP I))\r\n",
      "            (VP (VBP think)\r\n",
      "              (SBAR\r\n",
      "                (S\r\n",
      "                  (NP (PRP it))\r\n",
      "                  (VP (VBD was)\r\n",
      "                    (VP\r\n",
      "                      (ADVP (RB already))\r\n",
      "                      (VBN answered))))))))))\r\n",
      "    (, ,)\r\n",
      "    (NP (PRP I))\r\n",
      "    (VP (VBD was)\r\n",
      "      (VP (VBG going)\r\n",
      "        (S\r\n",
      "          (VP (TO to)\r\n",
      "            (VP (VB ask)\r\n",
      "              (NP (PRP you))\r\n",
      "              (SBAR\r\n",
      "                (WHADVP (WRB why))\r\n",
      "                (S\r\n",
      "                  (VP (VBP do)\r\n",
      "                    (VP (VB need)\r\n",
      "                      (NP (DT a) (JJ statewide) (NN goal))\r\n",
      "                      (SBAR (IN if)\r\n",
      "                        (S\r\n",
      "                          (NP (NN water) (NNS agencies))\r\n",
      "                          (VP (VBP are)\r\n",
      "                            (ADVP (DT all))\r\n",
      "                            (ADJP (JJ ready)\r\n",
      "                              (S\r\n",
      "                                (VP (VBG using)\r\n",
      "                                  (NP (NN desal))\r\n",
      "                                  (PP (IN as)\r\n",
      "                                    (NP (DT an) (NN option))))))))))))))))))\r\n",
      "    (. ?)))\n"
     ]
    }
   ],
   "source": [
    "q = \"\"\"One is how, I think it was already answered, I was going to ask you why do need a statewide goal if water agencies are all ready using desal as an option?\"\"\"\n",
    "print_parse_tree(q, nlp)"
   ]
  },
  {
   "cell_type": "markdown",
   "metadata": {},
   "source": [
    "It becomes clear that matching specific types of senteces, such as questions isn't really feasible. However, it occurred to me that I could simply treat these syntax tags in the same way the bag of words approach looks at text. Instead I'll build a classifier with \"bag of syntax tags\". This makes sense because engaging utterances will often times use specific tags more than procedural. "
   ]
  },
  {
   "cell_type": "code",
   "execution_count": 37,
   "metadata": {
    "collapsed": true
   },
   "outputs": [],
   "source": [
    "# I need to combine my parse tree so that it looks like a sentence\n",
    "syntactic_targets = set(['ADJP',\n",
    "                         'ADVP',\n",
    "                         'NP', \n",
    "                         'PP', \n",
    "                         'S', \n",
    "                         'SBAR', \n",
    "                         'SBARQ', \n",
    "                         'SINV', \n",
    "                         'SQ',\n",
    "                         'VP', \n",
    "                         'WHADVP', \n",
    "                         'WHNP', \n",
    "                         'WHPP'])"
   ]
  },
  {
   "cell_type": "code",
   "execution_count": 40,
   "metadata": {
    "collapsed": false
   },
   "outputs": [],
   "source": [
    "data['syn_tags'] = data.text.apply(stanford_parse, nlp=nlp, syntactic_targets=syntactic_targets)"
   ]
  },
  {
   "cell_type": "markdown",
   "metadata": {},
   "source": [
    "The processed data and features dictionary are pickled for other notebooks. "
   ]
  },
  {
   "cell_type": "code",
   "execution_count": 43,
   "metadata": {
    "collapsed": false
   },
   "outputs": [],
   "source": [
    "pickle.dump(data, open(os.path.join(data_dir, 'processed_data.pkl'), 'wb'))\n",
    "pickle.dump(features_dict, open(os.path.join(data_dir, 'features_dict.pkl'), 'wb'))"
   ]
  }
 ],
 "metadata": {
  "anaconda-cloud": {},
  "kernelspec": {
   "display_name": "Python [conda root]",
   "language": "python",
   "name": "conda-root-py"
  },
  "language_info": {
   "codemirror_mode": {
    "name": "ipython",
    "version": 3
   },
   "file_extension": ".py",
   "mimetype": "text/x-python",
   "name": "python",
   "nbconvert_exporter": "python",
   "pygments_lexer": "ipython3",
   "version": "3.5.2"
  }
 },
 "nbformat": 4,
 "nbformat_minor": 1
}
