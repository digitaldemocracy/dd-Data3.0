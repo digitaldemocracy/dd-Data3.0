{
 "cells": [
  {
   "cell_type": "code",
   "execution_count": 97,
   "metadata": {
    "collapsed": false
   },
   "outputs": [],
   "source": [
    "from ExploratoryFunctions import *"
   ]
  },
  {
   "cell_type": "code",
   "execution_count": 98,
   "metadata": {
    "collapsed": true
   },
   "outputs": [],
   "source": [
    "import seaborn as sns"
   ]
  },
  {
   "cell_type": "code",
   "execution_count": 99,
   "metadata": {
    "collapsed": true
   },
   "outputs": [],
   "source": [
    "import scipy.stats as stats"
   ]
  },
  {
   "cell_type": "code",
   "execution_count": 100,
   "metadata": {
    "collapsed": false
   },
   "outputs": [
    {
     "name": "stdout",
     "output_type": "stream",
     "text": [
      "The autoreload extension is already loaded. To reload it, use:\n",
      "  %reload_ext autoreload\n"
     ]
    }
   ],
   "source": [
    "%load_ext autoreload\n",
    "%autoreload 2"
   ]
  },
  {
   "cell_type": "code",
   "execution_count": 101,
   "metadata": {
    "collapsed": true
   },
   "outputs": [],
   "source": [
    "%matplotlib inline"
   ]
  },
  {
   "cell_type": "code",
   "execution_count": 102,
   "metadata": {
    "collapsed": true
   },
   "outputs": [],
   "source": [
    "data = pd.read_csv('merged_labeled_data.csv')\n",
    "data.uids = data.uids.apply(eval)"
   ]
  },
  {
   "cell_type": "code",
   "execution_count": 103,
   "metadata": {
    "collapsed": false
   },
   "outputs": [
    {
     "data": {
      "text/plain": [
       "Index(['engagement', 'procedural', 'procedural_question', 'question',\n",
       "       'weak_question', 'topic_intro', 'uids_str', 'Unnamed: 0',\n",
       "       'committee_position', 'committee_position_next',\n",
       "       'committee_position_prev', 'pid', 'pid_next', 'pid_prev',\n",
       "       'simple_label', 'simple_label_next', 'simple_label_prev', 'text',\n",
       "       'text_next', 'text_prev', 'uid_next', 'uid_prev', 'uids', 'vid'],\n",
       "      dtype='object')"
      ]
     },
     "execution_count": 103,
     "metadata": {},
     "output_type": "execute_result"
    }
   ],
   "source": [
    "data.columns"
   ]
  },
  {
   "cell_type": "markdown",
   "metadata": {},
   "source": [
    "### Defining my classes\n",
    "After looking over all of the utterances I realized I wanted to simplifiy my labels to two cases. \n",
    "1. The utterance implies the legislator is engaging with a witness or the bill author in a way that adds to the discussion.\n",
    "    * engagement\n",
    "    * question\n",
    "2. The utterance is just part of legislative procedure. \n",
    "    * procedural\n",
    "    * procedural_question\n",
    "\n",
    "I'll combine these into my two classes."
   ]
  },
  {
   "cell_type": "code",
   "execution_count": 104,
   "metadata": {
    "collapsed": false
   },
   "outputs": [],
   "source": [
    "data['label'] = data.apply(lambda row: get_classes(row), axis=1)"
   ]
  },
  {
   "cell_type": "markdown",
   "metadata": {},
   "source": [
    "Okay let's checkout the break down of the classes"
   ]
  },
  {
   "cell_type": "code",
   "execution_count": 105,
   "metadata": {
    "collapsed": false
   },
   "outputs": [
    {
     "data": {
      "text/plain": [
       "engagement     134\n",
       "procedural      95\n",
       "topic_intro      1\n",
       "Name: label, dtype: int64"
      ]
     },
     "execution_count": 105,
     "metadata": {},
     "output_type": "execute_result"
    }
   ],
   "source": [
    "data.label.value_counts()"
   ]
  },
  {
   "cell_type": "code",
   "execution_count": 106,
   "metadata": {
    "collapsed": true
   },
   "outputs": [],
   "source": [
    "# A nested dictionary containing lists of all the features columns names in the \"data\" dataframe\n",
    "features_dict = {}"
   ]
  },
  {
   "cell_type": "markdown",
   "metadata": {},
   "source": [
    "### Examining Context\n",
    "I already filtered to include only utterances that I thought would be likely to indicate engagement. However, logically the committee position and category of the speaker as well as those preceding and suceeding the speaker might still be important in determining the label."
   ]
  },
  {
   "cell_type": "code",
   "execution_count": 107,
   "metadata": {
    "collapsed": false
   },
   "outputs": [
    {
     "data": {
      "text/plain": [
       "['committee_position_prev',\n",
       " 'committee_position',\n",
       " 'committee_position_next',\n",
       " 'simple_label_prev',\n",
       " 'simple_label',\n",
       " 'simple_label_next']"
      ]
     },
     "execution_count": 107,
     "metadata": {},
     "output_type": "execute_result"
    }
   ],
   "source": [
    "context_features"
   ]
  },
  {
   "cell_type": "markdown",
   "metadata": {},
   "source": [
    "I'll use a Chi-Square test to examine how well these variables define differences between my classes"
   ]
  },
  {
   "cell_type": "code",
   "execution_count": 108,
   "metadata": {
    "collapsed": false
   },
   "outputs": [
    {
     "name": "stdout",
     "output_type": "stream",
     "text": [
      "Feature: committee_position_prev \n",
      "\n",
      "Value Counts:\n",
      " Not In Committee    80\n",
      "Member              77\n",
      "Chair               57\n",
      "Possible Chair       8\n",
      "Vice-Chair           7\n",
      "Co-Chair             1\n",
      "Name: committee_position_prev, dtype: int64 \n",
      "\n",
      "Test Stat: 57.5584575929 P-Val: 1.04675819112e-08 \n",
      "\n",
      "=========================================\n",
      "Feature: committee_position \n",
      "\n",
      "Value Counts:\n",
      " Member                 159\n",
      "Not In Committee        37\n",
      "Vice-Chair              18\n",
      "Possible Chair          15\n",
      "Possible Vice-Chair      1\n",
      "Name: committee_position, dtype: int64 \n",
      "\n",
      "Test Stat: 17.07163726 P-Val: 0.0293717112817 \n",
      "\n",
      "=========================================\n",
      "Feature: committee_position_next \n",
      "\n",
      "Value Counts:\n",
      " Not In Committee    199\n",
      "Member               30\n",
      "Chair                 1\n",
      "Name: committee_position_next, dtype: int64 \n",
      "\n",
      "Test Stat: 12.3388430763 P-Val: 0.0150016277831 \n",
      "\n",
      "=========================================\n",
      "Feature: simple_label_prev \n",
      "\n",
      "Value Counts:\n",
      " Legislator          161\n",
      "General Public       33\n",
      "Bill Author          16\n",
      "State Agency Rep     11\n",
      "LAO                   4\n",
      "Unlabeled             3\n",
      "Lobbyist              2\n",
      "Name: simple_label_prev, dtype: int64 \n",
      "\n",
      "Test Stat: 22.2456261498 P-Val: 0.0348573846622 \n",
      "\n",
      "=========================================\n",
      "Feature: simple_label \n",
      "\n",
      "Value Counts:\n",
      " Legislator    230\n",
      "Name: simple_label, dtype: int64 \n",
      "\n",
      "Test Stat: 0.0 P-Val: 1.0 \n",
      "\n",
      "=========================================\n",
      "Feature: simple_label_next \n",
      "\n",
      "Value Counts:\n",
      " General Public        102\n",
      "Bill Author            61\n",
      "State Agency Rep       37\n",
      "Unlabeled              11\n",
      "Lobbyist                9\n",
      "LAO                     8\n",
      "State Const Office      1\n",
      "Staff                   1\n",
      "Name: simple_label_next, dtype: int64 \n",
      "\n",
      "Test Stat: 26.3309889274 P-Val: 0.0234880404247 \n",
      "\n",
      "=========================================\n"
     ]
    }
   ],
   "source": [
    "scores = {}\n",
    "for feat in context_features:\n",
    "    # Creates my contigency table\n",
    "    counts = pd.crosstab(data[feat], data.label)\n",
    "    X_sq, p_val, df, expected = stats.chi2_contingency(observed= counts)\n",
    "    scores[feat] = X_sq\n",
    "    print('Feature:', feat, '\\n')\n",
    "    print('Value Counts:\\n', data[feat].value_counts(), '\\n')\n",
    "    print('Test Stat:', X_sq, 'P-Val:', p_val, '\\n')\n",
    "    print('=========================================')"
   ]
  },
  {
   "cell_type": "code",
   "execution_count": 109,
   "metadata": {
    "collapsed": false
   },
   "outputs": [
    {
     "data": {
      "image/png": "[encoded data removed]",
      "text/plain": [
       "<matplotlib.figure.Figure at 0x25c6f08f898>"
      ]
     },
     "metadata": {},
     "output_type": "display_data"
    }
   ],
   "source": [
    "scores = pd.Series(scores)\n",
    "ax = sns.barplot(x=scores.values, y=scores.keys())"
   ]
  },
  {
   "cell_type": "markdown",
   "metadata": {},
   "source": [
    "Most features have really high test statistics indicating that they are not independent of my classes. \"simple_label\" is obviously 0 because it is always legislator. "
   ]
  },
  {
   "cell_type": "code",
   "execution_count": 110,
   "metadata": {
    "collapsed": false
   },
   "outputs": [],
   "source": [
    "# Hot encoding for 'context' features\n",
    "d = {}\n",
    "features_dict['context_features'] = d\n",
    "for feat in context_features:\n",
    "    dummies = pd.get_dummies(data[feat])\n",
    "    dummies.columns = [feat + '_' + col for col in dummies]\n",
    "    \n",
    "    d[feat] = list(dummies.columns)\n",
    "    data = pd.concat([data, dummies], axis=1)\n",
    "    "
   ]
  },
  {
   "cell_type": "markdown",
   "metadata": {},
   "source": [
    "### Engineered Features\n",
    "Before moving on to text based features, I want to create a couple of features based around the length of the interaction to help separate the classes. Typically engagement interactions are longer than procedural ones, so it seems reasonable that this might help.  "
   ]
  },
  {
   "cell_type": "code",
   "execution_count": 111,
   "metadata": {
    "collapsed": false
   },
   "outputs": [],
   "source": [
    "data['word_count'] = data.text.apply(lambda t: len(word_tokenize(t)))\n",
    "data['prev_word_count'] = data.text_prev.apply(lambda t: len(word_tokenize(t)))\n",
    "data['next_word_count'] = data.text_next.apply(lambda t: len(word_tokenize(t)))\n",
    "\n",
    "data['uid_count'] = data.uids.apply(len)\n",
    "data['?_count'] = data.text.apply(lambda t: t.count('?'))\n",
    "# Ratio of question marks to total words\n",
    "data['?_ratio'] = data['?_count'] / data.word_count"
   ]
  },
  {
   "cell_type": "code",
   "execution_count": 112,
   "metadata": {
    "collapsed": false
   },
   "outputs": [
    {
     "data": {
      "text/plain": [
       "['word_count',\n",
       " 'prev_word_count',\n",
       " 'next_word_count',\n",
       " 'uid_count',\n",
       " '?_count',\n",
       " '?_ratio']"
      ]
     },
     "execution_count": 112,
     "metadata": {},
     "output_type": "execute_result"
    }
   ],
   "source": [
    "eng_features"
   ]
  },
  {
   "cell_type": "code",
   "execution_count": 113,
   "metadata": {
    "collapsed": false
   },
   "outputs": [
    {
     "name": "stdout",
     "output_type": "stream",
     "text": [
      "Feature: word_count \n",
      "\n",
      "Test Stat: 5.50318019645 P-Val: 1.56771236264e-07 \n",
      "\n",
      "=========================================\n",
      "Feature: prev_word_count \n",
      "\n",
      "Test Stat: -0.575952341431 P-Val: 0.565303459093 \n",
      "\n",
      "=========================================\n",
      "Feature: next_word_count \n",
      "\n",
      "Test Stat: 1.48340115549 P-Val: 0.139505857597 \n",
      "\n",
      "=========================================\n",
      "Feature: uid_count \n",
      "\n",
      "Test Stat: 2.152242483 P-Val: 0.0324779266918 \n",
      "\n",
      "=========================================\n",
      "Feature: ?_count \n",
      "\n",
      "Test Stat: 5.4978710857 P-Val: 1.0324216843e-07 \n",
      "\n",
      "=========================================\n",
      "Feature: ?_ratio \n",
      "\n",
      "Test Stat: -1.14023613865 P-Val: 0.256522084888 \n",
      "\n",
      "=========================================\n"
     ]
    }
   ],
   "source": [
    "scores = {}\n",
    "for feat in eng_features:\n",
    "    a = data.loc[data.label == 'engagement', feat]\n",
    "    b = data.loc[data.label == 'procedural', feat]\n",
    "    \n",
    "    t, p_val = stats.ttest_ind(a, b, equal_var=False)\n",
    "    scores[feat] = t\n",
    "    \n",
    "    print('Feature:', feat, '\\n')\n",
    "    print('Test Stat:', t, 'P-Val:', p_val, '\\n')\n",
    "    print('=========================================')"
   ]
  },
  {
   "cell_type": "code",
   "execution_count": 114,
   "metadata": {
    "collapsed": false
   },
   "outputs": [
    {
     "data": {
      "image/png": "[encoded data removed]",
      "text/plain": [
       "<matplotlib.figure.Figure at 0x25c6f08efd0>"
      ]
     },
     "metadata": {},
     "output_type": "display_data"
    }
   ],
   "source": [
    "scores = pd.Series(scores)\n",
    "ax = sns.barplot(x=scores.values, y=scores.keys())"
   ]
  },
  {
   "cell_type": "markdown",
   "metadata": {},
   "source": [
    "Hmm, I definitely want to retain word count and \"?\" count in the final model and I'll probably ignore the others. "
   ]
  },
  {
   "cell_type": "code",
   "execution_count": 115,
   "metadata": {
    "collapsed": true
   },
   "outputs": [],
   "source": [
    "features_dict['eng_features'] = eng_features"
   ]
  },
  {
   "cell_type": "markdown",
   "metadata": {},
   "source": [
    "### Text Features\n",
    "\n",
    "I want to create text based features for my model. This involves looking at specific words as well as generating tf-idf scores for words a n-grams. \n"
   ]
  },
  {
   "cell_type": "code",
   "execution_count": 116,
   "metadata": {
    "collapsed": false
   },
   "outputs": [],
   "source": [
    "# objects needed for text processing\n",
    "stop_words = set(stopwords.words('english'))\n",
    "stemmer = SnowballStemmer(\"english\")\n",
    "translator = str.maketrans(dict.fromkeys(string.punctuation))"
   ]
  },
  {
   "cell_type": "code",
   "execution_count": 117,
   "metadata": {
    "collapsed": false
   },
   "outputs": [],
   "source": [
    "# creates processed versions of the three texts\n",
    "text_features = ['text', 'text_next', 'text_prev']\n",
    "\n",
    "processed_text_features = []\n",
    "for feat in text_features:\n",
    "    feat = 'processed_' + feat\n",
    "    data[feat] = data.text.apply(process_text, \n",
    "                                 stemmer=stemmer, \n",
    "                                 translator=translator, \n",
    "                                 stop_words=stop_words)"
   ]
  },
  {
   "cell_type": "markdown",
   "metadata": {},
   "source": [
    "Basically all question words are stop-words, so I thought it might be useful to have a separate way to compute these. I want to single these out in particular because they often times signal engagement."
   ]
  },
  {
   "cell_type": "code",
   "execution_count": 118,
   "metadata": {
    "collapsed": false
   },
   "outputs": [
    {
     "data": {
      "text/plain": [
       "{'how',\n",
       " 'what',\n",
       " 'when',\n",
       " 'whence',\n",
       " 'where',\n",
       " 'whether',\n",
       " 'which',\n",
       " 'whither',\n",
       " 'who',\n",
       " 'whom',\n",
       " 'whose',\n",
       " 'why'}"
      ]
     },
     "execution_count": 118,
     "metadata": {},
     "output_type": "execute_result"
    }
   ],
   "source": [
    "# from wikipedia\n",
    "interrogative_words"
   ]
  },
  {
   "cell_type": "code",
   "execution_count": 119,
   "metadata": {
    "collapsed": true
   },
   "outputs": [],
   "source": [
    "for feat in text_features:\n",
    "    feat = 'q_' + feat\n",
    "    data[feat] = data.text.apply(only_q_words, interrogative_words=interrogative_words)\n",
    "    "
   ]
  },
  {
   "cell_type": "markdown",
   "metadata": {},
   "source": [
    "**Note:** I ended up not using these because instead of filtering out stopwords directly I just set a maximum document frequency. However I left this piece in in case a future user might want to go this route"
   ]
  },
  {
   "cell_type": "code",
   "execution_count": 120,
   "metadata": {
    "collapsed": true
   },
   "outputs": [],
   "source": [
    "# Not totally sure why, but some classifiers need this\n",
    "data['binary_label'] = [0 if lab == 'procedural' else 1 for lab in data.label]"
   ]
  },
  {
   "cell_type": "code",
   "execution_count": 121,
   "metadata": {
    "collapsed": false
   },
   "outputs": [],
   "source": [
    "pickle.dump(data, open('processed_data.pkl', 'wb'))\n",
    "\n",
    "pickle.dump(features_dict, open('features_dict.pkl', 'wb'))"
   ]
  }
 ],
 "metadata": {
  "anaconda-cloud": {},
  "kernelspec": {
   "display_name": "Python [conda root]",
   "language": "python",
   "name": "conda-root-py"
  },
  "language_info": {
   "codemirror_mode": {
    "name": "ipython",
    "version": 3
   },
   "file_extension": ".py",
   "mimetype": "text/x-python",
   "name": "python",
   "nbconvert_exporter": "python",
   "pygments_lexer": "ipython3",
   "version": "3.5.2"
  }
 },
 "nbformat": 4,
 "nbformat_minor": 1
}
