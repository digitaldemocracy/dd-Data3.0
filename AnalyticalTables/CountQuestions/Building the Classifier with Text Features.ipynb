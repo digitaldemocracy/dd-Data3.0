{
 "cells": [
  {
   "cell_type": "markdown",
   "metadata": {},
   "source": [
    "# Overview\n",
    "\n",
    "Contains the steps for building a classifier that ignores context and looks only at the text features. "
   ]
  },
  {
   "cell_type": "code",
   "execution_count": 6,
   "metadata": {
    "collapsed": false
   },
   "outputs": [
    {
     "name": "stdout",
     "output_type": "stream",
     "text": [
      "The autoreload extension is already loaded. To reload it, use:\n",
      "  %reload_ext autoreload\n"
     ]
    }
   ],
   "source": [
    "from ClassifierFunctions import *\n",
    "import os\n",
    "\n",
    "%load_ext autoreload\n",
    "%autoreload 2\n",
    "\n",
    "%matplotlib inline"
   ]
  },
  {
   "cell_type": "code",
   "execution_count": 7,
   "metadata": {
    "collapsed": true
   },
   "outputs": [],
   "source": [
    "data_dir = 'SavedData'"
   ]
  },
  {
   "cell_type": "code",
   "execution_count": 8,
   "metadata": {
    "collapsed": false
   },
   "outputs": [],
   "source": [
    "data = pickle.load(open(os.path.join(data_dir, 'processed_data.pkl'), 'rb'))\n",
    "features_dict = pickle.load(open(os.path.join(data_dir, 'features_dict.pkl'), 'rb'))"
   ]
  },
  {
   "cell_type": "code",
   "execution_count": 9,
   "metadata": {
    "collapsed": false
   },
   "outputs": [],
   "source": [
    "# Using a pipeline so I can add more preprocessing later\n",
    "param_grid = {'vect__ngram_range': [(1,1), (1,2), (1, 3)], \n",
    "              'vect__max_df':[.1, .3, .5, .7, 1], # handles the necessity of checking stopwords\n",
    "              }\n",
    "pipeline = [('vect', TfidfVectorizer(encoding='unicode')),\n",
    "            ('clf', MultinomialNB())]\n",
    "model = Pipeline(pipeline)"
   ]
  },
  {
   "cell_type": "code",
   "execution_count": 10,
   "metadata": {
    "collapsed": false
   },
   "outputs": [
    {
     "name": "stdout",
     "output_type": "stream",
     "text": [
      "\n",
      "SCORES:\n",
      "\n",
      "Average Accuracy: 0.898268398268\n",
      "Average Precision:  0.866090333042\n",
      "Average Recall: 0.980740740741\n",
      "Average F1:  0.919310679663\n",
      "\n",
      "Pipeline Parameters:\n",
      "{'vect__max_df': 0.5, 'vect__ngram_range': (1, 1)}\n",
      "\n"
     ]
    },
    {
     "data": {
      "image/png": "[encoded data removed]",
      "text/plain": [
       "<matplotlib.figure.Figure at 0x141a0277f98>"
      ]
     },
     "metadata": {},
     "output_type": "display_data"
    }
   ],
   "source": [
    "X, y = data['text'], data.binary_label\n",
    "\n",
    "grid = evaluate_model(model, param_grid, X, y)\n",
    "clf_text = grid.best_estimator_"
   ]
  },
  {
   "cell_type": "markdown",
   "metadata": {},
   "source": [
    "This worked amazingly well, but I want to look at how a weighted voting classifier will perform."
   ]
  },
  {
   "cell_type": "code",
   "execution_count": 14,
   "metadata": {
    "collapsed": true
   },
   "outputs": [],
   "source": [
    "pickle.dump(clf_text, open(os.path.join(data_dir, 'clf_text.p'), 'wb'))"
   ]
  },
  {
   "cell_type": "markdown",
   "metadata": {},
   "source": [
    "## Next"
   ]
  },
  {
   "cell_type": "code",
   "execution_count": 12,
   "metadata": {
    "collapsed": false
   },
   "outputs": [
    {
     "name": "stdout",
     "output_type": "stream",
     "text": [
      "\n",
      "SCORES:\n",
      "\n",
      "Average Accuracy: 0.802597402597\n",
      "Average Precision:  0.769444421159\n",
      "Average Recall: 0.95037037037\n",
      "Average F1:  0.849961313331\n",
      "\n",
      "Pipeline Parameters:\n",
      "{'vect__max_df': 0.3, 'vect__ngram_range': (1, 2)}\n",
      "\n"
     ]
    },
    {
     "data": {
      "image/png": "[encoded data removed]",
      "text/plain": [
       "<matplotlib.figure.Figure at 0x141a029b0b8>"
      ]
     },
     "metadata": {},
     "output_type": "display_data"
    }
   ],
   "source": [
    "X, y = data['text_next'], data.binary_label\n",
    "\n",
    "grid = evaluate_model(model, param_grid, X, y)\n",
    "clf_text_next = grid.best_estimator_"
   ]
  },
  {
   "cell_type": "code",
   "execution_count": 15,
   "metadata": {
    "collapsed": true
   },
   "outputs": [],
   "source": [
    "pickle.dump(clf_text_next, open(os.path.join(data_dir, 'clf_text_next.p'), 'wb'))"
   ]
  },
  {
   "cell_type": "markdown",
   "metadata": {},
   "source": [
    "## Previous"
   ]
  },
  {
   "cell_type": "code",
   "execution_count": 16,
   "metadata": {
    "collapsed": false
   },
   "outputs": [
    {
     "name": "stdout",
     "output_type": "stream",
     "text": [
      "\n",
      "SCORES:\n",
      "\n",
      "Average Accuracy: 0.747881066302\n",
      "Average Precision:  0.72325861293\n",
      "Average Recall: 0.92962962963\n",
      "Average F1:  0.812832104044\n",
      "\n",
      "Pipeline Parameters:\n",
      "{'vect__max_df': 0.1, 'vect__ngram_range': (1, 1)}\n",
      "\n"
     ]
    },
    {
     "data": {
      "image/png": "[encoded data removed]",
      "text/plain": [
       "<matplotlib.figure.Figure at 0x141a0036ac8>"
      ]
     },
     "metadata": {},
     "output_type": "display_data"
    }
   ],
   "source": [
    "X, y = data['text_prev'], data.binary_label\n",
    "\n",
    "grid = evaluate_model(model, param_grid, X, y)\n",
    "clf_text_prev = grid.best_estimator_"
   ]
  },
  {
   "cell_type": "code",
   "execution_count": 17,
   "metadata": {
    "collapsed": true
   },
   "outputs": [],
   "source": [
    "pickle.dump(clf_text_prev, open(os.path.join(data_dir, 'clf_text_prev.p'), 'wb'))"
   ]
  }
 ],
 "metadata": {
  "kernelspec": {
   "display_name": "Python [conda root]",
   "language": "python",
   "name": "conda-root-py"
  },
  "language_info": {
   "codemirror_mode": {
    "name": "ipython",
    "version": 3
   },
   "file_extension": ".py",
   "mimetype": "text/x-python",
   "name": "python",
   "nbconvert_exporter": "python",
   "pygments_lexer": "ipython3",
   "version": "3.5.2"
  }
 },
 "nbformat": 4,
 "nbformat_minor": 1
}
