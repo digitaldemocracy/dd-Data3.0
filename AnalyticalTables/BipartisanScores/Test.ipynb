{
 "cells": [
  {
   "cell_type": "code",
   "execution_count": 405,
   "metadata": {
    "collapsed": false
   },
   "outputs": [
    {
     "name": "stdout",
     "output_type": "stream",
     "text": [
      "The autoreload extension is already loaded. To reload it, use:\n",
      "  %reload_ext autoreload\n"
     ]
    }
   ],
   "source": [
    "%load_ext autoreload\n",
    "%autoreload 2"
   ]
  },
  {
   "cell_type": "code",
   "execution_count": 406,
   "metadata": {
    "collapsed": false
   },
   "outputs": [],
   "source": [
    "from CalcBipartisanScores import *"
   ]
  },
  {
   "cell_type": "code",
   "execution_count": 243,
   "metadata": {
    "collapsed": false
   },
   "outputs": [
    {
     "data": {
      "text/plain": [
       "{'db': 'DDDB2016Aug',\n",
       " 'host': 'dddb.chzg5zpujwmo.us-west-2.rds.amazonaws.com',\n",
       " 'passwd': 'D1d2d3b4',\n",
       " 'port': 3306,\n",
       " 'user': 'awsDB'}"
      ]
     },
     "execution_count": 243,
     "metadata": {},
     "output_type": "execute_result"
    }
   ],
   "source": [
    "CONN_INFO"
   ]
  },
  {
   "cell_type": "code",
   "execution_count": 397,
   "metadata": {
    "collapsed": true
   },
   "outputs": [],
   "source": [
    "cnxn = pymysql.connect(**CONN_INFO)\n",
    "\n",
    "votes_df = get_passing_votes(cnxn)\n",
    "\n",
    "cnxn.close()"
   ]
  },
  {
   "cell_type": "code",
   "execution_count": 399,
   "metadata": {
    "collapsed": false
   },
   "outputs": [
    {
     "data": {
      "text/plain": [
       "(499601, 241)"
      ]
     },
     "execution_count": 399,
     "metadata": {},
     "output_type": "execute_result"
    }
   ],
   "source": [
    "len(votes_df), len(votes_df[['pid', 'session_year']].drop_duplicates())"
   ]
  },
  {
   "cell_type": "code",
   "execution_count": 400,
   "metadata": {
    "collapsed": true
   },
   "outputs": [],
   "source": [
    "votes_df = get_full_vote_info(votes_df)"
   ]
  },
  {
   "cell_type": "code",
   "execution_count": 401,
   "metadata": {
    "collapsed": false
   },
   "outputs": [
    {
     "data": {
      "text/plain": [
       "(499601, 241)"
      ]
     },
     "execution_count": 401,
     "metadata": {},
     "output_type": "execute_result"
    }
   ],
   "source": [
    "len(votes_df), len(votes_df[['pid', 'session_year']].drop_duplicates())"
   ]
  },
  {
   "cell_type": "code",
   "execution_count": 402,
   "metadata": {
    "collapsed": false
   },
   "outputs": [
    {
     "name": "stdout",
     "output_type": "stream",
     "text": [
      "Combo ()\n",
      "2017-08-30 10:37:23.342535\n"
     ]
    },
    {
     "name": "stderr",
     "output_type": "stream",
     "text": [
      "C:\\Users\\andre\\Documents\\GitHub\\dd-Data3.0\\BipartisanScores\\CalcBipartisanScores.py:162: SettingWithCopyWarning: \n",
      "A value is trying to be set on a copy of a slice from a DataFrame.\n",
      "Try using .loc[row_indexer,col_indexer] = value instead\n",
      "\n",
      "See the caveats in the documentation: http://pandas.pydata.org/pandas-docs/stable/indexing.html#indexing-view-versus-copy\n",
      "  votes_df['vote_score'] = votes_df.apply(calc_vote_score, axis=1)\n",
      "C:\\Users\\andre\\Documents\\GitHub\\dd-Data3.0\\BipartisanScores\\CalcBipartisanScores.py:129: SettingWithCopyWarning: \n",
      "A value is trying to be set on a copy of a slice from a DataFrame.\n",
      "Try using .loc[row_indexer,col_indexer] = value instead\n",
      "\n",
      "See the caveats in the documentation: http://pandas.pydata.org/pandas-docs/stable/indexing.html#indexing-view-versus-copy\n",
      "  df['normed_score'] = (s - s.min()) / (s.max() - s.min())\n"
     ]
    },
    {
     "name": "stdout",
     "output_type": "stream",
     "text": [
      "Combo ('unanimous',)\n",
      "2017-08-30 10:39:50.615300\n",
      "Combo ('abstain_vote',)\n",
      "2017-08-30 10:42:17.494472\n",
      "Combo ('resolution',)\n",
      "2017-08-30 10:44:43.137859\n",
      "Combo ('unanimous', 'abstain_vote')\n",
      "2017-08-30 10:47:09.926946\n",
      "Combo ('unanimous', 'resolution')\n",
      "2017-08-30 10:49:33.628031\n",
      "Combo ('abstain_vote', 'resolution')\n",
      "2017-08-30 10:52:00.087636\n",
      "Combo ('unanimous', 'abstain_vote', 'resolution')\n",
      "2017-08-30 10:54:24.498955\n"
     ]
    }
   ],
   "source": [
    "filters = ['unanimous', 'abstain_vote', 'resolution']\n",
    "leg_scores_df = generate_full_scores_df(votes_df, filters)"
   ]
  },
  {
   "cell_type": "code",
   "execution_count": 407,
   "metadata": {
    "collapsed": false
   },
   "outputs": [],
   "source": [
    "cnxn = pymysql.connect(**CONN_INFO)"
   ]
  },
  {
   "cell_type": "code",
   "execution_count": 408,
   "metadata": {
    "collapsed": false
   },
   "outputs": [
    {
     "name": "stderr",
     "output_type": "stream",
     "text": [
      "C:\\Program Files\\Anaconda3\\lib\\site-packages\\pandas\\core\\generic.py:1165: FutureWarning: The 'mysql' flavor with DBAPI connection is deprecated and will be removed in future versions. MySQL will be further supported with SQLAlchemy connectables.\n",
      "  chunksize=chunksize, dtype=dtype)\n"
     ]
    }
   ],
   "source": [
    "cols = ['pid', 'session_year', 'normed_score']\n",
    "leg_scores_df[cols].rename(columns={'normed_score': 'score'}).to_sql('BipartisanshipScores',\n",
    "                                                                     cnxn,\n",
    "                                                                     'mysql',\n",
    "                                                                     if_exists='replace',\n",
    "                                                                     index=False)"
   ]
  },
  {
   "cell_type": "code",
   "execution_count": 409,
   "metadata": {
    "collapsed": false
   },
   "outputs": [],
   "source": [
    "\n",
    "cnxn.close()"
   ]
  },
  {
   "cell_type": "code",
   "execution_count": null,
   "metadata": {
    "collapsed": true
   },
   "outputs": [],
   "source": []
  }
 ],
 "metadata": {
  "anaconda-cloud": {},
  "kernelspec": {
   "display_name": "Python [conda root]",
   "language": "python",
   "name": "conda-root-py"
  },
  "language_info": {
   "codemirror_mode": {
    "name": "ipython",
    "version": 3
   },
   "file_extension": ".py",
   "mimetype": "text/x-python",
   "name": "python",
   "nbconvert_exporter": "python",
   "pygments_lexer": "ipython3",
   "version": "3.5.2"
  }
 },
 "nbformat": 4,
 "nbformat_minor": 1
}
