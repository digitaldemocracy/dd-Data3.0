{
 "cells": [
  {
   "cell_type": "code",
   "execution_count": 1,
   "metadata": {
    "collapsed": true
   },
   "outputs": [],
   "source": [
    "from ClusteringCode import *\n",
    "%reload_ext autoreload\n",
    "%autoreload 2"
   ]
  },
  {
   "cell_type": "code",
   "execution_count": 2,
   "metadata": {
    "collapsed": false
   },
   "outputs": [],
   "source": [
    "%matplotlib inline"
   ]
  },
  {
   "cell_type": "code",
   "execution_count": 3,
   "metadata": {
    "collapsed": true
   },
   "outputs": [],
   "source": [
    "from sklearn.cluster import AgglomerativeClustering\n",
    "from sklearn.decomposition import PCA\n",
    "from sklearn import preprocessing\n",
    "from scipy.stats import ttest_ind"
   ]
  },
  {
   "cell_type": "markdown",
   "metadata": {},
   "source": [
    "# Setting up data"
   ]
  },
  {
   "cell_type": "code",
   "execution_count": 4,
   "metadata": {
    "collapsed": false
   },
   "outputs": [],
   "source": [
    "cnxn = pymysql.connect(**CONN_INFO)"
   ]
  },
  {
   "cell_type": "code",
   "execution_count": 5,
   "metadata": {
    "collapsed": false
   },
   "outputs": [],
   "source": [
    "data = get_data(cnxn)\n",
    "data = data[data.oid >= -21]\n",
    "\n",
    "# The index gives the legislator\n",
    "leg_scores_df = make_leg_scores(data)"
   ]
  },
  {
   "cell_type": "markdown",
   "metadata": {},
   "source": [
    "# Running PCA"
   ]
  },
  {
   "cell_type": "code",
   "execution_count": 6,
   "metadata": {
    "collapsed": false
   },
   "outputs": [
    {
     "data": {
      "text/plain": [
       "PCA(copy=True, iterated_power='auto', n_components=3, random_state=None,\n",
       "  svd_solver='auto', tol=0.0, whiten=False)"
      ]
     },
     "execution_count": 6,
     "metadata": {},
     "output_type": "execute_result"
    }
   ],
   "source": [
    "# Set each columns to have mean 0 std 1\n",
    "X = preprocessing.scale(leg_scores_df)\n",
    "\n",
    "pca = PCA(n_components=3)\n",
    "pca.fit(X)"
   ]
  },
  {
   "cell_type": "markdown",
   "metadata": {},
   "source": [
    "### Explained Variance"
   ]
  },
  {
   "cell_type": "code",
   "execution_count": 7,
   "metadata": {
    "collapsed": false
   },
   "outputs": [
    {
     "data": {
      "text/plain": [
       "array([ 0.87729227,  0.04518477,  0.02218102])"
      ]
     },
     "execution_count": 7,
     "metadata": {},
     "output_type": "execute_result"
    }
   ],
   "source": [
    "pca.explained_variance_ratio_"
   ]
  },
  {
   "cell_type": "markdown",
   "metadata": {},
   "source": [
    "With over 85% of the variance explained by the first PC, it's clear that we would like to retain just one Principle Component. <br>\n",
    "<br>\n",
    "Next we see the coefficients associated with each feature in PC 1. "
   ]
  },
  {
   "cell_type": "markdown",
   "metadata": {},
   "source": [
    "### Interpretation"
   ]
  },
  {
   "cell_type": "code",
   "execution_count": 8,
   "metadata": {
    "collapsed": false
   },
   "outputs": [
    {
     "name": "stdout",
     "output_type": "stream",
     "text": [
      "-0.24 --> California Labor Federation\n",
      "-0.24 --> California Teachers Association\n",
      "-0.24 --> American Federation of State, County and Municipal Employees\n",
      "-0.24 --> Consumer Attorneys Of California\n",
      "-0.24 --> California Immigrant Policy Center\n",
      "-0.24 --> Western Center on Law and Poverty\n",
      "-0.23 --> Sierra Club California\n",
      "-0.23 --> American Civil Liberties Union of California\n",
      "0.23 --> California Chamber of Commerce\n",
      "0.23 --> California Manufacturers And Technology Association\n",
      "0.23 --> California Farm Bureau Federation\n",
      "0.23 --> Howard Jarvis Taxpayers Association\n",
      "0.23 --> California Building Industry Association\n",
      "-0.23 --> Children Now\n",
      "-0.23 --> California Catholic Conference\n",
      "-0.22 --> California Medical Association\n",
      "-0.2 --> Disability Rights California\n",
      "0.2 --> California District Attorneys Association\n",
      "0.18 --> Association Of California Water Agencies\n",
      "-0.14 --> California State Association Of Counties\n"
     ]
    }
   ],
   "source": [
    "org_info_df = get_org_info(data)\n",
    "oid_to_name = pd.Series(data=org_info_df.name.values,\n",
    "                        index=org_info_df.oid)\n",
    "\n",
    "org_names = [oid_to_name[oid] for oid in leg_scores_df.columns]\n",
    "\n",
    "for co, name in sorted(zip(pca.components_[0], org_names), \n",
    "                       key=lambda x: np.abs(x[0]), \n",
    "                       reverse=True):\n",
    "    print(round(co, 2), '-->', name)"
   ]
  },
  {
   "cell_type": "markdown",
   "metadata": {},
   "source": [
    "It's obvious from the coefficients that the separation between legislators is based on their votes with partisan organizations. Liberal organization get a negative coefficient while conservative organizations get a positive coefficient. It is possible we might be able to get a second dimension out of PCA if we include a wider array of organizations. "
   ]
  },
  {
   "cell_type": "code",
   "execution_count": 9,
   "metadata": {
    "collapsed": false
   },
   "outputs": [],
   "source": [
    "pca = PCA(n_components=1)\n",
    "pca.fit(X)\n",
    "\n",
    "prj_X = pca.transform(X)"
   ]
  },
  {
   "cell_type": "markdown",
   "metadata": {},
   "source": [
    "# Agglomerative Clustering"
   ]
  },
  {
   "cell_type": "markdown",
   "metadata": {},
   "source": [
    "## The Dendogram for Legislators\n",
    "*This code was actually run in R studio for convenience*\n",
    "<br><br>\n",
    "clusters = hclust(dist(prj_X))\n",
    "<br>\n",
    "plot(clusters)"
   ]
  },
  {
   "cell_type": "markdown",
   "metadata": {},
   "source": [
    "<img src=\"legislator_dendogram.png\">"
   ]
  },
  {
   "cell_type": "markdown",
   "metadata": {},
   "source": [
    "From the dendogram is is obvious that we should generate *4* clusters"
   ]
  },
  {
   "cell_type": "code",
   "execution_count": 10,
   "metadata": {
    "collapsed": false
   },
   "outputs": [],
   "source": [
    "model = AgglomerativeClustering(linkage = 'ward', \n",
    "                                n_clusters = 4)\n",
    "model.fit(prj_X);\n",
    "\n",
    "leg_scores_df['cluster'] = model.labels_\n",
    "\n",
    "leg_scores_df = leg_scores_df.reset_index()\n",
    "leg_scores_df.rename(columns={'index': 'pid'}, inplace=True)\n",
    "\n",
    "leg_info_df = get_leg_info(data)\n",
    "keep = list(leg_scores_df.columns) + ['party', 'district', 'house']\n",
    "\n",
    "leg_scores_df = leg_scores_df.merge(leg_info_df, on='pid')[keep]\n",
    "\n",
    "\n",
    "cluster_metrics_df = leg_scores_df.groupby('cluster').apply(group_metrics, \n",
    "                                                            org_info_df)"
   ]
  },
  {
   "cell_type": "code",
   "execution_count": 11,
   "metadata": {
    "collapsed": false
   },
   "outputs": [
    {
     "data": {
      "text/html": [
       "<div>\n",
       "<table border=\"1\" class=\"dataframe\">\n",
       "  <thead>\n",
       "    <tr style=\"text-align: right;\">\n",
       "      <th>name</th>\n",
       "      <th>American Federation of State, County and Municipal Employees</th>\n",
       "      <th>Western Center on Law and Poverty</th>\n",
       "      <th>California Medical Association</th>\n",
       "      <th>Disability Rights California</th>\n",
       "      <th>Consumer Attorneys Of California</th>\n",
       "      <th>American Civil Liberties Union of California</th>\n",
       "      <th>California Immigrant Policy Center</th>\n",
       "      <th>California Labor Federation</th>\n",
       "      <th>California Building Industry Association</th>\n",
       "      <th>Association Of California Water Agencies</th>\n",
       "      <th>...</th>\n",
       "      <th>Children Now</th>\n",
       "      <th>California District Attorneys Association</th>\n",
       "      <th>California State Association Of Counties</th>\n",
       "      <th>California Chamber of Commerce</th>\n",
       "      <th>Sierra Club California</th>\n",
       "      <th>California Teachers Association</th>\n",
       "      <th>assembly</th>\n",
       "      <th>dems</th>\n",
       "      <th>reps</th>\n",
       "      <th>senate</th>\n",
       "    </tr>\n",
       "    <tr>\n",
       "      <th>cluster</th>\n",
       "      <th></th>\n",
       "      <th></th>\n",
       "      <th></th>\n",
       "      <th></th>\n",
       "      <th></th>\n",
       "      <th></th>\n",
       "      <th></th>\n",
       "      <th></th>\n",
       "      <th></th>\n",
       "      <th></th>\n",
       "      <th></th>\n",
       "      <th></th>\n",
       "      <th></th>\n",
       "      <th></th>\n",
       "      <th></th>\n",
       "      <th></th>\n",
       "      <th></th>\n",
       "      <th></th>\n",
       "      <th></th>\n",
       "      <th></th>\n",
       "      <th></th>\n",
       "    </tr>\n",
       "  </thead>\n",
       "  <tbody>\n",
       "    <tr>\n",
       "      <th>0</th>\n",
       "      <td>0.237669</td>\n",
       "      <td>0.295461</td>\n",
       "      <td>0.369244</td>\n",
       "      <td>0.484328</td>\n",
       "      <td>0.207276</td>\n",
       "      <td>0.191398</td>\n",
       "      <td>0.200965</td>\n",
       "      <td>0.106954</td>\n",
       "      <td>0.812423</td>\n",
       "      <td>0.658615</td>\n",
       "      <td>...</td>\n",
       "      <td>0.329524</td>\n",
       "      <td>0.723724</td>\n",
       "      <td>0.507771</td>\n",
       "      <td>0.877452</td>\n",
       "      <td>0.204676</td>\n",
       "      <td>0.141979</td>\n",
       "      <td>20</td>\n",
       "      <td>0</td>\n",
       "      <td>33</td>\n",
       "      <td>13</td>\n",
       "    </tr>\n",
       "    <tr>\n",
       "      <th>1</th>\n",
       "      <td>0.900493</td>\n",
       "      <td>0.897135</td>\n",
       "      <td>0.697810</td>\n",
       "      <td>0.677835</td>\n",
       "      <td>0.877244</td>\n",
       "      <td>0.668611</td>\n",
       "      <td>0.897738</td>\n",
       "      <td>0.891594</td>\n",
       "      <td>0.449597</td>\n",
       "      <td>0.574061</td>\n",
       "      <td>...</td>\n",
       "      <td>0.939361</td>\n",
       "      <td>0.615248</td>\n",
       "      <td>0.600528</td>\n",
       "      <td>0.414776</td>\n",
       "      <td>0.748692</td>\n",
       "      <td>0.891287</td>\n",
       "      <td>12</td>\n",
       "      <td>15</td>\n",
       "      <td>0</td>\n",
       "      <td>3</td>\n",
       "    </tr>\n",
       "    <tr>\n",
       "      <th>2</th>\n",
       "      <td>0.476041</td>\n",
       "      <td>0.550127</td>\n",
       "      <td>0.537443</td>\n",
       "      <td>0.621551</td>\n",
       "      <td>0.473268</td>\n",
       "      <td>0.402023</td>\n",
       "      <td>0.513124</td>\n",
       "      <td>0.317969</td>\n",
       "      <td>0.742031</td>\n",
       "      <td>0.693884</td>\n",
       "      <td>...</td>\n",
       "      <td>0.691893</td>\n",
       "      <td>0.665735</td>\n",
       "      <td>0.523433</td>\n",
       "      <td>0.773088</td>\n",
       "      <td>0.442284</td>\n",
       "      <td>0.424699</td>\n",
       "      <td>8</td>\n",
       "      <td>0</td>\n",
       "      <td>9</td>\n",
       "      <td>1</td>\n",
       "    </tr>\n",
       "    <tr>\n",
       "      <th>3</th>\n",
       "      <td>0.950767</td>\n",
       "      <td>0.987267</td>\n",
       "      <td>0.728902</td>\n",
       "      <td>0.740999</td>\n",
       "      <td>0.940766</td>\n",
       "      <td>0.801192</td>\n",
       "      <td>0.982147</td>\n",
       "      <td>0.978405</td>\n",
       "      <td>0.350529</td>\n",
       "      <td>0.511781</td>\n",
       "      <td>...</td>\n",
       "      <td>0.972584</td>\n",
       "      <td>0.370253</td>\n",
       "      <td>0.608551</td>\n",
       "      <td>0.239635</td>\n",
       "      <td>0.856914</td>\n",
       "      <td>0.966452</td>\n",
       "      <td>41</td>\n",
       "      <td>64</td>\n",
       "      <td>0</td>\n",
       "      <td>23</td>\n",
       "    </tr>\n",
       "  </tbody>\n",
       "</table>\n",
       "<p>4 rows × 24 columns</p>\n",
       "</div>"
      ],
      "text/plain": [
       "name     American Federation of State, County and Municipal Employees  \\\n",
       "cluster                                                                 \n",
       "0                                                 0.237669              \n",
       "1                                                 0.900493              \n",
       "2                                                 0.476041              \n",
       "3                                                 0.950767              \n",
       "\n",
       "name     Western Center on Law and Poverty  California Medical Association  \\\n",
       "cluster                                                                      \n",
       "0                                 0.295461                        0.369244   \n",
       "1                                 0.897135                        0.697810   \n",
       "2                                 0.550127                        0.537443   \n",
       "3                                 0.987267                        0.728902   \n",
       "\n",
       "name     Disability Rights California  Consumer Attorneys Of California  \\\n",
       "cluster                                                                   \n",
       "0                            0.484328                          0.207276   \n",
       "1                            0.677835                          0.877244   \n",
       "2                            0.621551                          0.473268   \n",
       "3                            0.740999                          0.940766   \n",
       "\n",
       "name     American Civil Liberties Union of California  \\\n",
       "cluster                                                 \n",
       "0                                            0.191398   \n",
       "1                                            0.668611   \n",
       "2                                            0.402023   \n",
       "3                                            0.801192   \n",
       "\n",
       "name     California Immigrant Policy Center  California Labor Federation  \\\n",
       "cluster                                                                    \n",
       "0                                  0.200965                     0.106954   \n",
       "1                                  0.897738                     0.891594   \n",
       "2                                  0.513124                     0.317969   \n",
       "3                                  0.982147                     0.978405   \n",
       "\n",
       "name     California Building Industry Association  \\\n",
       "cluster                                             \n",
       "0                                        0.812423   \n",
       "1                                        0.449597   \n",
       "2                                        0.742031   \n",
       "3                                        0.350529   \n",
       "\n",
       "name     Association Of California Water Agencies   ...    Children Now  \\\n",
       "cluster                                             ...                   \n",
       "0                                        0.658615   ...        0.329524   \n",
       "1                                        0.574061   ...        0.939361   \n",
       "2                                        0.693884   ...        0.691893   \n",
       "3                                        0.511781   ...        0.972584   \n",
       "\n",
       "name     California District Attorneys Association  \\\n",
       "cluster                                              \n",
       "0                                         0.723724   \n",
       "1                                         0.615248   \n",
       "2                                         0.665735   \n",
       "3                                         0.370253   \n",
       "\n",
       "name     California State Association Of Counties  \\\n",
       "cluster                                             \n",
       "0                                        0.507771   \n",
       "1                                        0.600528   \n",
       "2                                        0.523433   \n",
       "3                                        0.608551   \n",
       "\n",
       "name     California Chamber of Commerce  Sierra Club California  \\\n",
       "cluster                                                           \n",
       "0                              0.877452                0.204676   \n",
       "1                              0.414776                0.748692   \n",
       "2                              0.773088                0.442284   \n",
       "3                              0.239635                0.856914   \n",
       "\n",
       "name     California Teachers Association  assembly  dems  reps  senate  \n",
       "cluster                                                                 \n",
       "0                               0.141979        20     0    33      13  \n",
       "1                               0.891287        12    15     0       3  \n",
       "2                               0.424699         8     0     9       1  \n",
       "3                               0.966452        41    64     0      23  \n",
       "\n",
       "[4 rows x 24 columns]"
      ]
     },
     "execution_count": 11,
     "metadata": {},
     "output_type": "execute_result"
    }
   ],
   "source": [
    "cluster_metrics_df"
   ]
  },
  {
   "cell_type": "code",
   "execution_count": 12,
   "metadata": {
    "collapsed": false
   },
   "outputs": [],
   "source": [
    "cluster_names = {0: 'conservative', \n",
    "                 1: 'moderate liberal', \n",
    "                 2: 'moderate conservative', \n",
    "                 3: 'liberal'}\n",
    "leg_scores_df['cluster_name'] = leg_scores_df['cluster'].apply(lambda x: \n",
    "                                                               cluster_names[x])"
   ]
  },
  {
   "cell_type": "markdown",
   "metadata": {},
   "source": [
    "# Generating the Maps"
   ]
  },
  {
   "cell_type": "markdown",
   "metadata": {},
   "source": [
    "## Mapping for Senate"
   ]
  },
  {
   "cell_type": "code",
   "execution_count": 13,
   "metadata": {
    "collapsed": false
   },
   "outputs": [],
   "source": [
    "%%capture\n",
    "s_m = make_base_map('Senate')"
   ]
  },
  {
   "cell_type": "code",
   "execution_count": 14,
   "metadata": {
    "collapsed": false
   },
   "outputs": [],
   "source": [
    "s_df_poly = create_poly_df(leg_scores_df, s_m, 'Senate')"
   ]
  },
  {
   "cell_type": "code",
   "execution_count": 15,
   "metadata": {
    "collapsed": false
   },
   "outputs": [
    {
     "data": {
      "text/plain": [
       "<matplotlib.text.Text at 0x1d7fb2b92e8>"
      ]
     },
     "execution_count": 15,
     "metadata": {},
     "output_type": "execute_result"
    },
    {
     "data": {
      "image/png": "[encoded data removed]",
      "text/plain": [
       "<matplotlib.figure.Figure at 0x1d7fb2a5cc0>"
      ]
     },
     "metadata": {},
     "output_type": "display_data"
    }
   ],
   "source": [
    "plot_map(s_df_poly, s_m)\n",
    "plt.title('Senate Districts by Cluster', fontsize=30)"
   ]
  },
  {
   "cell_type": "markdown",
   "metadata": {},
   "source": [
    "## Mapping for assembly"
   ]
  },
  {
   "cell_type": "code",
   "execution_count": 16,
   "metadata": {
    "collapsed": true
   },
   "outputs": [],
   "source": [
    "%%capture\n",
    "a_m = make_base_map('Assembly')"
   ]
  },
  {
   "cell_type": "code",
   "execution_count": 17,
   "metadata": {
    "collapsed": false
   },
   "outputs": [],
   "source": [
    "a_df_poly = create_poly_df(leg_scores_df, a_m, 'Assembly')"
   ]
  },
  {
   "cell_type": "code",
   "execution_count": 18,
   "metadata": {
    "collapsed": false
   },
   "outputs": [
    {
     "data": {
      "image/png": "[encoded data removed]",
      "text/plain": [
       "<matplotlib.figure.Figure at 0x1d78040da90>"
      ]
     },
     "metadata": {},
     "output_type": "display_data"
    }
   ],
   "source": [
    "plot_map(a_df_poly, a_m)"
   ]
  },
  {
   "cell_type": "markdown",
   "metadata": {},
   "source": [
    "# T Tests"
   ]
  },
  {
   "cell_type": "code",
   "execution_count": 19,
   "metadata": {
    "collapsed": true
   },
   "outputs": [],
   "source": [
    "from itertools import combinations"
   ]
  },
  {
   "cell_type": "code",
   "execution_count": 20,
   "metadata": {
    "collapsed": false
   },
   "outputs": [],
   "source": [
    "import statsmodels.stats.api as sms"
   ]
  },
  {
   "cell_type": "code",
   "execution_count": 21,
   "metadata": {
    "collapsed": true
   },
   "outputs": [],
   "source": [
    "oids = org_info_df.oid.unique()"
   ]
  },
  {
   "cell_type": "code",
   "execution_count": 22,
   "metadata": {
    "collapsed": false
   },
   "outputs": [
    {
     "data": {
      "text/plain": [
       "dict_values(['conservative', 'moderate liberal', 'moderate conservative', 'liberal'])"
      ]
     },
     "execution_count": 22,
     "metadata": {},
     "output_type": "execute_result"
    }
   ],
   "source": [
    "cluster_names.values()"
   ]
  },
  {
   "cell_type": "code",
   "execution_count": 53,
   "metadata": {
    "collapsed": false
   },
   "outputs": [
    {
     "name": "stdout",
     "output_type": "stream",
     "text": [
      "conservative moderate liberal\n",
      "conservative moderate conservative\n",
      "conservative liberal\n",
      "moderate liberal moderate conservative\n",
      "moderate liberal liberal\n",
      "moderate conservative liberal\n"
     ]
    }
   ],
   "source": [
    "out = []\n",
    "ci_out = []\n",
    "for c1, c2 in combinations(cluster_names.values(), 2):\n",
    "    x1 = leg_scores_df[leg_scores_df.cluster_name == c1].loc[:, oids]\n",
    "    x2 = leg_scores_df[leg_scores_df.cluster_name == c2].loc[:, oids]\n",
    "\n",
    "    results = ttest_ind(x1, x2)\n",
    "\n",
    "    results_df = pd.DataFrame({'oid': oids, \n",
    "                               't_stat': results[0], \n",
    "                               'p_value': results[1]})\n",
    "    results_df = results_df.merge(org_info_df, \n",
    "                                  on='oid')[list(results_df.columns) + ['name']]\n",
    "    \n",
    "    mean_diff = x1.mean() - x2.mean()\n",
    "    cm = sms.CompareMeans(sms.DescrStatsW(x1), sms.DescrStatsW(x2))\n",
    "    ci = cm.tconfint_diff(usevar='unequal')\n",
    "    ci_l = ci[0]\n",
    "    ci_u = ci[1]\n",
    "    \n",
    "    results_df['ci_lower'] = ci_l\n",
    "    results_df['ci_upper'] = ci_u\n",
    "    \n",
    "    results_df['mean_diff'] = mean_diff.values\n",
    "    \n",
    "    results_df = results_df[results_df.p_value > .05]\n",
    "\n",
    "    \n",
    "#     ci_df = pd.DataFrame({'oid': oids,\n",
    "#                           'mean_diff': mean_diff,\n",
    "#                           'lower': ci_l,\n",
    "#                           'upper': ci_u})\n",
    "#     ci_df = ci_df.merge(org_info_df, \n",
    "#                                   on='oid')[list(ci_df.columns) + ['name']]\n",
    "#     ci_out.append(ci_df)\n",
    "\n",
    "    print(c1, c2)\n",
    "    out.append(results_df)"
   ]
  },
  {
   "cell_type": "markdown",
   "metadata": {},
   "source": [
    "Displayed below is the output of the confidence intervals and the T tests comparings the different clusters alignments relative to the organizations. Only *non-significant* differences are included. Ie we want to see where the groups clusters are most similary. An empty dataframe means that all differences were signficant. "
   ]
  },
  {
   "cell_type": "markdown",
   "metadata": {},
   "source": [
    "### conservative vs. moderate liberal"
   ]
  },
  {
   "cell_type": "code",
   "execution_count": 62,
   "metadata": {
    "collapsed": false
   },
   "outputs": [
    {
     "data": {
      "text/html": [
       "<div>\n",
       "<table border=\"1\" class=\"dataframe\">\n",
       "  <thead>\n",
       "    <tr style=\"text-align: right;\">\n",
       "      <th></th>\n",
       "      <th>oid</th>\n",
       "      <th>p_value</th>\n",
       "      <th>t_stat</th>\n",
       "      <th>name</th>\n",
       "      <th>ci_lower</th>\n",
       "      <th>ci_upper</th>\n",
       "      <th>mean_diff</th>\n",
       "    </tr>\n",
       "  </thead>\n",
       "  <tbody>\n",
       "  </tbody>\n",
       "</table>\n",
       "</div>"
      ],
      "text/plain": [
       "Empty DataFrame\n",
       "Columns: [oid, p_value, t_stat, name, ci_lower, ci_upper, mean_diff]\n",
       "Index: []"
      ]
     },
     "execution_count": 62,
     "metadata": {},
     "output_type": "execute_result"
    }
   ],
   "source": [
    "out[0].sort_values('mean_diff')"
   ]
  },
  {
   "cell_type": "markdown",
   "metadata": {},
   "source": [
    "### conservative vs moderate conservative"
   ]
  },
  {
   "cell_type": "code",
   "execution_count": 63,
   "metadata": {
    "collapsed": false
   },
   "outputs": [
    {
     "data": {
      "text/html": [
       "<div>\n",
       "<table border=\"1\" class=\"dataframe\">\n",
       "  <thead>\n",
       "    <tr style=\"text-align: right;\">\n",
       "      <th></th>\n",
       "      <th>oid</th>\n",
       "      <th>p_value</th>\n",
       "      <th>t_stat</th>\n",
       "      <th>name</th>\n",
       "      <th>ci_lower</th>\n",
       "      <th>ci_upper</th>\n",
       "      <th>mean_diff</th>\n",
       "    </tr>\n",
       "  </thead>\n",
       "  <tbody>\n",
       "    <tr>\n",
       "      <th>9</th>\n",
       "      <td>-12</td>\n",
       "      <td>0.144744</td>\n",
       "      <td>-1.487425</td>\n",
       "      <td>Association Of California Water Agencies</td>\n",
       "      <td>-0.089857</td>\n",
       "      <td>0.019318</td>\n",
       "      <td>-0.035269</td>\n",
       "    </tr>\n",
       "    <tr>\n",
       "      <th>16</th>\n",
       "      <td>-5</td>\n",
       "      <td>0.503262</td>\n",
       "      <td>-0.675473</td>\n",
       "      <td>California State Association Of Counties</td>\n",
       "      <td>-0.066099</td>\n",
       "      <td>0.034774</td>\n",
       "      <td>-0.015663</td>\n",
       "    </tr>\n",
       "    <tr>\n",
       "      <th>11</th>\n",
       "      <td>-10</td>\n",
       "      <td>0.076372</td>\n",
       "      <td>1.819199</td>\n",
       "      <td>California Farm Bureau Federation</td>\n",
       "      <td>-0.014881</td>\n",
       "      <td>0.097703</td>\n",
       "      <td>0.041411</td>\n",
       "    </tr>\n",
       "    <tr>\n",
       "      <th>12</th>\n",
       "      <td>-9</td>\n",
       "      <td>0.290460</td>\n",
       "      <td>1.071291</td>\n",
       "      <td>Howard Jarvis Taxpayers Association</td>\n",
       "      <td>-0.085850</td>\n",
       "      <td>0.173628</td>\n",
       "      <td>0.043889</td>\n",
       "    </tr>\n",
       "  </tbody>\n",
       "</table>\n",
       "</div>"
      ],
      "text/plain": [
       "    oid   p_value    t_stat                                      name  \\\n",
       "9   -12  0.144744 -1.487425  Association Of California Water Agencies   \n",
       "16   -5  0.503262 -0.675473  California State Association Of Counties   \n",
       "11  -10  0.076372  1.819199         California Farm Bureau Federation   \n",
       "12   -9  0.290460  1.071291       Howard Jarvis Taxpayers Association   \n",
       "\n",
       "    ci_lower  ci_upper  mean_diff  \n",
       "9  -0.089857  0.019318  -0.035269  \n",
       "16 -0.066099  0.034774  -0.015663  \n",
       "11 -0.014881  0.097703   0.041411  \n",
       "12 -0.085850  0.173628   0.043889  "
      ]
     },
     "execution_count": 63,
     "metadata": {},
     "output_type": "execute_result"
    }
   ],
   "source": [
    "out[1].sort_values('mean_diff')"
   ]
  },
  {
   "cell_type": "markdown",
   "metadata": {},
   "source": [
    "### conservative vs liberal"
   ]
  },
  {
   "cell_type": "code",
   "execution_count": 64,
   "metadata": {
    "collapsed": false
   },
   "outputs": [
    {
     "data": {
      "text/html": [
       "<div>\n",
       "<table border=\"1\" class=\"dataframe\">\n",
       "  <thead>\n",
       "    <tr style=\"text-align: right;\">\n",
       "      <th></th>\n",
       "      <th>oid</th>\n",
       "      <th>p_value</th>\n",
       "      <th>t_stat</th>\n",
       "      <th>name</th>\n",
       "      <th>ci_lower</th>\n",
       "      <th>ci_upper</th>\n",
       "      <th>mean_diff</th>\n",
       "    </tr>\n",
       "  </thead>\n",
       "  <tbody>\n",
       "  </tbody>\n",
       "</table>\n",
       "</div>"
      ],
      "text/plain": [
       "Empty DataFrame\n",
       "Columns: [oid, p_value, t_stat, name, ci_lower, ci_upper, mean_diff]\n",
       "Index: []"
      ]
     },
     "execution_count": 64,
     "metadata": {},
     "output_type": "execute_result"
    }
   ],
   "source": [
    "out[2].sort_values('mean_diff')"
   ]
  },
  {
   "cell_type": "markdown",
   "metadata": {},
   "source": [
    "### moderate liberal vs moderate conservative"
   ]
  },
  {
   "cell_type": "code",
   "execution_count": 65,
   "metadata": {
    "collapsed": false
   },
   "outputs": [
    {
     "data": {
      "text/html": [
       "<div>\n",
       "<table border=\"1\" class=\"dataframe\">\n",
       "  <thead>\n",
       "    <tr style=\"text-align: right;\">\n",
       "      <th></th>\n",
       "      <th>oid</th>\n",
       "      <th>p_value</th>\n",
       "      <th>t_stat</th>\n",
       "      <th>name</th>\n",
       "      <th>ci_lower</th>\n",
       "      <th>ci_upper</th>\n",
       "      <th>mean_diff</th>\n",
       "    </tr>\n",
       "  </thead>\n",
       "  <tbody>\n",
       "    <tr>\n",
       "      <th>15</th>\n",
       "      <td>-6</td>\n",
       "      <td>0.176124</td>\n",
       "      <td>-1.397752</td>\n",
       "      <td>California District Attorneys Association</td>\n",
       "      <td>-0.121513</td>\n",
       "      <td>0.020539</td>\n",
       "      <td>-0.050487</td>\n",
       "    </tr>\n",
       "    <tr>\n",
       "      <th>3</th>\n",
       "      <td>-18</td>\n",
       "      <td>0.152422</td>\n",
       "      <td>1.482385</td>\n",
       "      <td>Disability Rights California</td>\n",
       "      <td>-0.040438</td>\n",
       "      <td>0.153006</td>\n",
       "      <td>0.056284</td>\n",
       "    </tr>\n",
       "  </tbody>\n",
       "</table>\n",
       "</div>"
      ],
      "text/plain": [
       "    oid   p_value    t_stat                                       name  \\\n",
       "15   -6  0.176124 -1.397752  California District Attorneys Association   \n",
       "3   -18  0.152422  1.482385               Disability Rights California   \n",
       "\n",
       "    ci_lower  ci_upper  mean_diff  \n",
       "15 -0.121513  0.020539  -0.050487  \n",
       "3  -0.040438  0.153006   0.056284  "
      ]
     },
     "execution_count": 65,
     "metadata": {},
     "output_type": "execute_result"
    }
   ],
   "source": [
    "out[3].sort_values('mean_diff')"
   ]
  },
  {
   "cell_type": "markdown",
   "metadata": {},
   "source": [
    "### moderate liberal vs liberal"
   ]
  },
  {
   "cell_type": "code",
   "execution_count": 66,
   "metadata": {
    "collapsed": false
   },
   "outputs": [
    {
     "data": {
      "text/html": [
       "<div>\n",
       "<table border=\"1\" class=\"dataframe\">\n",
       "  <thead>\n",
       "    <tr style=\"text-align: right;\">\n",
       "      <th></th>\n",
       "      <th>oid</th>\n",
       "      <th>p_value</th>\n",
       "      <th>t_stat</th>\n",
       "      <th>name</th>\n",
       "      <th>ci_lower</th>\n",
       "      <th>ci_upper</th>\n",
       "      <th>mean_diff</th>\n",
       "    </tr>\n",
       "  </thead>\n",
       "  <tbody>\n",
       "    <tr>\n",
       "      <th>2</th>\n",
       "      <td>-19</td>\n",
       "      <td>0.055458</td>\n",
       "      <td>-1.944737</td>\n",
       "      <td>California Medical Association</td>\n",
       "      <td>-0.084875</td>\n",
       "      <td>0.022691</td>\n",
       "      <td>-0.031092</td>\n",
       "    </tr>\n",
       "    <tr>\n",
       "      <th>16</th>\n",
       "      <td>-5</td>\n",
       "      <td>0.646809</td>\n",
       "      <td>-0.460005</td>\n",
       "      <td>California State Association Of Counties</td>\n",
       "      <td>-0.048495</td>\n",
       "      <td>0.032449</td>\n",
       "      <td>-0.008023</td>\n",
       "    </tr>\n",
       "  </tbody>\n",
       "</table>\n",
       "</div>"
      ],
      "text/plain": [
       "    oid   p_value    t_stat                                      name  \\\n",
       "2   -19  0.055458 -1.944737            California Medical Association   \n",
       "16   -5  0.646809 -0.460005  California State Association Of Counties   \n",
       "\n",
       "    ci_lower  ci_upper  mean_diff  \n",
       "2  -0.084875  0.022691  -0.031092  \n",
       "16 -0.048495  0.032449  -0.008023  "
      ]
     },
     "execution_count": 66,
     "metadata": {},
     "output_type": "execute_result"
    }
   ],
   "source": [
    "out[4].sort_values('mean_diff')"
   ]
  },
  {
   "cell_type": "markdown",
   "metadata": {},
   "source": [
    "### moderate conservative vs liberal"
   ]
  },
  {
   "cell_type": "code",
   "execution_count": 67,
   "metadata": {
    "collapsed": false
   },
   "outputs": [
    {
     "data": {
      "text/html": [
       "<div>\n",
       "<table border=\"1\" class=\"dataframe\">\n",
       "  <thead>\n",
       "    <tr style=\"text-align: right;\">\n",
       "      <th></th>\n",
       "      <th>oid</th>\n",
       "      <th>p_value</th>\n",
       "      <th>t_stat</th>\n",
       "      <th>name</th>\n",
       "      <th>ci_lower</th>\n",
       "      <th>ci_upper</th>\n",
       "      <th>mean_diff</th>\n",
       "    </tr>\n",
       "  </thead>\n",
       "  <tbody>\n",
       "  </tbody>\n",
       "</table>\n",
       "</div>"
      ],
      "text/plain": [
       "Empty DataFrame\n",
       "Columns: [oid, p_value, t_stat, name, ci_lower, ci_upper, mean_diff]\n",
       "Index: []"
      ]
     },
     "execution_count": 67,
     "metadata": {},
     "output_type": "execute_result"
    }
   ],
   "source": [
    "out[5].sort_values('mean_diff')"
   ]
  },
  {
   "cell_type": "markdown",
   "metadata": {},
   "source": [
    "## Clustering for Organizations\n",
    "This is just done for fun. Organizations cluster nicely. "
   ]
  },
  {
   "cell_type": "code",
   "execution_count": 76,
   "metadata": {
    "collapsed": true
   },
   "outputs": [],
   "source": [
    "q = \"\"\"SELECT p.first, p.last, o.name, s.*\n",
    "       FROM Person p \n",
    "           JOIN LegAlignmentScores s \n",
    "               ON p.pid = s.pid\n",
    "           JOIN OrgConcept o \n",
    "               on s.oid = o.oid\n",
    "       WHERE s.no_unanimous = 1\n",
    "           and s.no_resolutions = 1\n",
    "           and s.no_abstain_votes = 1\n",
    "           and session_year = '2015'\n",
    "    \"\"\"\n",
    "data = pd.read_sql(q, cnxn)"
   ]
  },
  {
   "cell_type": "code",
   "execution_count": 77,
   "metadata": {
    "collapsed": true
   },
   "outputs": [],
   "source": [
    "df_lst = []\n",
    "for g, g_df in data.groupby(['oid']):\n",
    "    df = g_df[['pid', 'score']].transpose()\n",
    "    df.columns = df.loc['pid']\n",
    "    df.drop('pid', inplace=True)\n",
    "    df.index = [g]\n",
    "    df_lst.append(df)\n",
    "data = pd.concat(df_lst)"
   ]
  },
  {
   "cell_type": "markdown",
   "metadata": {},
   "source": [
    "## The Dendogram for Organizations\n",
    "*This code was actually run in R studio for convenience*\n",
    "<br><br>\n",
    "clusters = hclust(dist(data))\n",
    "<br>\n",
    "plot(clusters)\n",
    "\n",
    "<img src=\"organization_dendogram.png\">"
   ]
  },
  {
   "cell_type": "code",
   "execution_count": 78,
   "metadata": {
    "collapsed": true
   },
   "outputs": [],
   "source": [
    "model = AgglomerativeClustering(linkage = 'ward', \n",
    "                                n_clusters = 4)"
   ]
  },
  {
   "cell_type": "code",
   "execution_count": 79,
   "metadata": {
    "collapsed": false
   },
   "outputs": [
    {
     "data": {
      "text/plain": [
       "AgglomerativeClustering(affinity='euclidean', compute_full_tree='auto',\n",
       "            connectivity=None, linkage='ward',\n",
       "            memory=Memory(cachedir=None), n_clusters=4,\n",
       "            pooling_func=<function mean at 0x000001D7F5754598>)"
      ]
     },
     "execution_count": 79,
     "metadata": {},
     "output_type": "execute_result"
    }
   ],
   "source": [
    "model.fit(data)"
   ]
  },
  {
   "cell_type": "code",
   "execution_count": 80,
   "metadata": {
    "collapsed": true
   },
   "outputs": [],
   "source": [
    "data['cluster'] = model.labels_"
   ]
  },
  {
   "cell_type": "code",
   "execution_count": 81,
   "metadata": {
    "collapsed": false
   },
   "outputs": [],
   "source": [
    "data = data.reset_index()\n",
    "data.rename(columns={'index': 'oid'}, inplace=True)\n",
    "keep = ['oid', 'cluster', 'name']\n",
    "data = data.merge(org_info_df, on='oid')[keep]"
   ]
  },
  {
   "cell_type": "markdown",
   "metadata": {},
   "source": [
    "## The clusters"
   ]
  },
  {
   "cell_type": "code",
   "execution_count": 82,
   "metadata": {
    "collapsed": false
   },
   "outputs": [
    {
     "data": {
      "text/html": [
       "<div>\n",
       "<table border=\"1\" class=\"dataframe\">\n",
       "  <thead>\n",
       "    <tr style=\"text-align: right;\">\n",
       "      <th>pid</th>\n",
       "      <th>oid</th>\n",
       "      <th>cluster</th>\n",
       "      <th>name</th>\n",
       "    </tr>\n",
       "  </thead>\n",
       "  <tbody>\n",
       "    <tr>\n",
       "      <th>8</th>\n",
       "      <td>-13</td>\n",
       "      <td>0</td>\n",
       "      <td>California Building Industry Association</td>\n",
       "    </tr>\n",
       "    <tr>\n",
       "      <th>11</th>\n",
       "      <td>-10</td>\n",
       "      <td>0</td>\n",
       "      <td>California Farm Bureau Federation</td>\n",
       "    </tr>\n",
       "    <tr>\n",
       "      <th>12</th>\n",
       "      <td>-9</td>\n",
       "      <td>0</td>\n",
       "      <td>Howard Jarvis Taxpayers Association</td>\n",
       "    </tr>\n",
       "    <tr>\n",
       "      <th>13</th>\n",
       "      <td>-8</td>\n",
       "      <td>0</td>\n",
       "      <td>California Manufacturers And Technology Associ...</td>\n",
       "    </tr>\n",
       "    <tr>\n",
       "      <th>15</th>\n",
       "      <td>-6</td>\n",
       "      <td>0</td>\n",
       "      <td>California District Attorneys Association</td>\n",
       "    </tr>\n",
       "    <tr>\n",
       "      <th>17</th>\n",
       "      <td>-4</td>\n",
       "      <td>0</td>\n",
       "      <td>California Chamber of Commerce</td>\n",
       "    </tr>\n",
       "  </tbody>\n",
       "</table>\n",
       "</div>"
      ],
      "text/plain": [
       "pid  oid  cluster                                               name\n",
       "8    -13        0           California Building Industry Association\n",
       "11   -10        0                  California Farm Bureau Federation\n",
       "12    -9        0                Howard Jarvis Taxpayers Association\n",
       "13    -8        0  California Manufacturers And Technology Associ...\n",
       "15    -6        0          California District Attorneys Association\n",
       "17    -4        0                     California Chamber of Commerce"
      ]
     },
     "execution_count": 82,
     "metadata": {},
     "output_type": "execute_result"
    }
   ],
   "source": [
    "data[data.cluster == 0]"
   ]
  },
  {
   "cell_type": "code",
   "execution_count": 83,
   "metadata": {
    "collapsed": false
   },
   "outputs": [
    {
     "data": {
      "text/html": [
       "<div>\n",
       "<table border=\"1\" class=\"dataframe\">\n",
       "  <thead>\n",
       "    <tr style=\"text-align: right;\">\n",
       "      <th>pid</th>\n",
       "      <th>oid</th>\n",
       "      <th>cluster</th>\n",
       "      <th>name</th>\n",
       "    </tr>\n",
       "  </thead>\n",
       "  <tbody>\n",
       "    <tr>\n",
       "      <th>2</th>\n",
       "      <td>-19</td>\n",
       "      <td>1</td>\n",
       "      <td>California Medical Association</td>\n",
       "    </tr>\n",
       "    <tr>\n",
       "      <th>3</th>\n",
       "      <td>-18</td>\n",
       "      <td>1</td>\n",
       "      <td>Disability Rights California</td>\n",
       "    </tr>\n",
       "    <tr>\n",
       "      <th>5</th>\n",
       "      <td>-16</td>\n",
       "      <td>1</td>\n",
       "      <td>American Civil Liberties Union of California</td>\n",
       "    </tr>\n",
       "    <tr>\n",
       "      <th>10</th>\n",
       "      <td>-11</td>\n",
       "      <td>1</td>\n",
       "      <td>California Catholic Conference</td>\n",
       "    </tr>\n",
       "    <tr>\n",
       "      <th>18</th>\n",
       "      <td>-3</td>\n",
       "      <td>1</td>\n",
       "      <td>Sierra Club California</td>\n",
       "    </tr>\n",
       "  </tbody>\n",
       "</table>\n",
       "</div>"
      ],
      "text/plain": [
       "pid  oid  cluster                                          name\n",
       "2    -19        1                California Medical Association\n",
       "3    -18        1                  Disability Rights California\n",
       "5    -16        1  American Civil Liberties Union of California\n",
       "10   -11        1                California Catholic Conference\n",
       "18    -3        1                        Sierra Club California"
      ]
     },
     "execution_count": 83,
     "metadata": {},
     "output_type": "execute_result"
    }
   ],
   "source": [
    "data[data.cluster == 1]"
   ]
  },
  {
   "cell_type": "code",
   "execution_count": 84,
   "metadata": {
    "collapsed": false
   },
   "outputs": [
    {
     "data": {
      "text/html": [
       "<div>\n",
       "<table border=\"1\" class=\"dataframe\">\n",
       "  <thead>\n",
       "    <tr style=\"text-align: right;\">\n",
       "      <th>pid</th>\n",
       "      <th>oid</th>\n",
       "      <th>cluster</th>\n",
       "      <th>name</th>\n",
       "    </tr>\n",
       "  </thead>\n",
       "  <tbody>\n",
       "    <tr>\n",
       "      <th>0</th>\n",
       "      <td>-21</td>\n",
       "      <td>2</td>\n",
       "      <td>American Federation of State, County and Munic...</td>\n",
       "    </tr>\n",
       "    <tr>\n",
       "      <th>1</th>\n",
       "      <td>-20</td>\n",
       "      <td>2</td>\n",
       "      <td>Western Center on Law and Poverty</td>\n",
       "    </tr>\n",
       "    <tr>\n",
       "      <th>4</th>\n",
       "      <td>-17</td>\n",
       "      <td>2</td>\n",
       "      <td>Consumer Attorneys Of California</td>\n",
       "    </tr>\n",
       "    <tr>\n",
       "      <th>6</th>\n",
       "      <td>-15</td>\n",
       "      <td>2</td>\n",
       "      <td>California Immigrant Policy Center</td>\n",
       "    </tr>\n",
       "    <tr>\n",
       "      <th>7</th>\n",
       "      <td>-14</td>\n",
       "      <td>2</td>\n",
       "      <td>California Labor Federation</td>\n",
       "    </tr>\n",
       "    <tr>\n",
       "      <th>14</th>\n",
       "      <td>-7</td>\n",
       "      <td>2</td>\n",
       "      <td>Children Now</td>\n",
       "    </tr>\n",
       "    <tr>\n",
       "      <th>19</th>\n",
       "      <td>-1</td>\n",
       "      <td>2</td>\n",
       "      <td>California Teachers Association</td>\n",
       "    </tr>\n",
       "  </tbody>\n",
       "</table>\n",
       "</div>"
      ],
      "text/plain": [
       "pid  oid  cluster                                               name\n",
       "0    -21        2  American Federation of State, County and Munic...\n",
       "1    -20        2                  Western Center on Law and Poverty\n",
       "4    -17        2                   Consumer Attorneys Of California\n",
       "6    -15        2                 California Immigrant Policy Center\n",
       "7    -14        2                        California Labor Federation\n",
       "14    -7        2                                       Children Now\n",
       "19    -1        2                    California Teachers Association"
      ]
     },
     "execution_count": 84,
     "metadata": {},
     "output_type": "execute_result"
    }
   ],
   "source": [
    "data[data.cluster == 2]"
   ]
  },
  {
   "cell_type": "code",
   "execution_count": 85,
   "metadata": {
    "collapsed": false
   },
   "outputs": [
    {
     "data": {
      "text/html": [
       "<div>\n",
       "<table border=\"1\" class=\"dataframe\">\n",
       "  <thead>\n",
       "    <tr style=\"text-align: right;\">\n",
       "      <th>pid</th>\n",
       "      <th>oid</th>\n",
       "      <th>cluster</th>\n",
       "      <th>name</th>\n",
       "    </tr>\n",
       "  </thead>\n",
       "  <tbody>\n",
       "    <tr>\n",
       "      <th>9</th>\n",
       "      <td>-12</td>\n",
       "      <td>3</td>\n",
       "      <td>Association Of California Water Agencies</td>\n",
       "    </tr>\n",
       "    <tr>\n",
       "      <th>16</th>\n",
       "      <td>-5</td>\n",
       "      <td>3</td>\n",
       "      <td>California State Association Of Counties</td>\n",
       "    </tr>\n",
       "  </tbody>\n",
       "</table>\n",
       "</div>"
      ],
      "text/plain": [
       "pid  oid  cluster                                      name\n",
       "9    -12        3  Association Of California Water Agencies\n",
       "16    -5        3  California State Association Of Counties"
      ]
     },
     "execution_count": 85,
     "metadata": {},
     "output_type": "execute_result"
    }
   ],
   "source": [
    "data[data.cluster == 3]"
   ]
  },
  {
   "cell_type": "code",
   "execution_count": null,
   "metadata": {
    "collapsed": true
   },
   "outputs": [],
   "source": []
  }
 ],
 "metadata": {
  "anaconda-cloud": {},
  "kernelspec": {
   "display_name": "Python [conda root]",
   "language": "python",
   "name": "conda-root-py"
  },
  "language_info": {
   "codemirror_mode": {
    "name": "ipython",
    "version": 3
   },
   "file_extension": ".py",
   "mimetype": "text/x-python",
   "name": "python",
   "nbconvert_exporter": "python",
   "pygments_lexer": "ipython3",
   "version": "3.5.2"
  }
 },
 "nbformat": 4,
 "nbformat_minor": 1
}
