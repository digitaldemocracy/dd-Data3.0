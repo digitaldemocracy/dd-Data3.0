{
 "cells": [
  {
   "cell_type": "code",
   "execution_count": 151,
   "metadata": {
    "collapsed": false
   },
   "outputs": [],
   "source": [
    "import docx\n",
    "from io import StringIO\n",
    "import re\n",
    "import docx2txt\n",
    "from datetime import datetime"
   ]
  },
  {
   "cell_type": "code",
   "execution_count": 211,
   "metadata": {
    "collapsed": true
   },
   "outputs": [],
   "source": [
    "import glob"
   ]
  },
  {
   "cell_type": "code",
   "execution_count": 214,
   "metadata": {
    "collapsed": false
   },
   "outputs": [
    {
     "name": "stdout",
     "output_type": "stream",
     "text": [
      "BillAnalysisPdfs\\BILL_ANALYSIS_TBL_1.lob\n"
     ]
    }
   ],
   "source": [
    "for doc_name in glob.glob(data_dir+'*.lob'):\n",
    "    print(doc_name)"
   ]
  },
  {
   "cell_type": "code",
   "execution_count": 8,
   "metadata": {
    "collapsed": true
   },
   "outputs": [],
   "source": [
    "data_dir = 'BillAnalysisPdfs/'"
   ]
  },
  {
   "cell_type": "code",
   "execution_count": 9,
   "metadata": {
    "collapsed": true
   },
   "outputs": [],
   "source": [
    "doc_name = 'BILL_ANALYSIS_TBL_1.lob'"
   ]
  },
  {
   "cell_type": "code",
   "execution_count": 95,
   "metadata": {
    "collapsed": true
   },
   "outputs": [],
   "source": [
    "text = docx2txt.process(data_dir + doc_name)"
   ]
  },
  {
   "cell_type": "code",
   "execution_count": 144,
   "metadata": {
    "collapsed": false
   },
   "outputs": [],
   "source": [
    "date_match = re.search('Date of Hearing:\\s+ (\\w+ \\d{1,2}, \\d{4})', text)"
   ]
  },
  {
   "cell_type": "code",
   "execution_count": 164,
   "metadata": {
    "collapsed": false
   },
   "outputs": [],
   "source": [
    "date = date_match.group(1)"
   ]
  },
  {
   "cell_type": "code",
   "execution_count": 165,
   "metadata": {
    "collapsed": false
   },
   "outputs": [],
   "source": [
    "date = datetime.strptime(date, \"%B %d, %Y\")\n",
    "date = date.date()"
   ]
  },
  {
   "cell_type": "code",
   "execution_count": 201,
   "metadata": {
    "collapsed": false
   },
   "outputs": [],
   "source": [
    "bill_types = ['AB',\n",
    "'ACA',\n",
    "'ACR',\n",
    "'AJR',\n",
    "'HR',\n",
    "'SB',\n",
    "'SCA',\n",
    "'SCR',\n",
    "'SJR',\n",
    "'SR',\n",
    "'ABX1',\n",
    "'SBX1',\n",
    "'SCAX1',\n",
    "'SCRX1',\n",
    "'SRX1',\n",
    "'ABX2',\n",
    "'ACRX2',\n",
    "'SBX2',\n",
    "'SCRX2',\n",
    "'SRX2',\n",
    "'BUD',\n",
    "'NON']\n",
    "bill_types_str = r'|'.join(bill_types)"
   ]
  },
  {
   "cell_type": "code",
   "execution_count": 204,
   "metadata": {
    "collapsed": true
   },
   "outputs": [],
   "source": [
    "bill_re = \"(%s)\\s+\\d{1,4}\" % bill_types_str"
   ]
  },
  {
   "cell_type": "code",
   "execution_count": 206,
   "metadata": {
    "collapsed": true
   },
   "outputs": [],
   "source": [
    "bill_match = re.search(bill_re, text)"
   ]
  },
  {
   "cell_type": "code",
   "execution_count": 208,
   "metadata": {
    "collapsed": false
   },
   "outputs": [],
   "source": [
    "bill = bill_match.group(0)"
   ]
  },
  {
   "cell_type": "code",
   "execution_count": 49,
   "metadata": {
    "collapsed": false
   },
   "outputs": [],
   "source": [
    "pos_match = re.search(r'SUPPORT / OPPOSITION:\\s+Support\\s+(.*)\\s+Opposition\\s+(.*)\\s+Analysis Prepared by:', text, re.DOTALL)"
   ]
  },
  {
   "cell_type": "code",
   "execution_count": 57,
   "metadata": {
    "collapsed": true
   },
   "outputs": [],
   "source": [
    "support = re.split('\\n', pos_match.group(1).strip())\n",
    "opposition = re.split('\\n', pos_match.group(2).strip())"
   ]
  },
  {
   "cell_type": "code",
   "execution_count": 82,
   "metadata": {
    "collapsed": false
   },
   "outputs": [
    {
     "data": {
      "text/plain": [
       "['American Federation of State, County and Municipal Employees (AFSCME)',\n",
       " 'American Civil Liberties Union of California',\n",
       " 'American Congress of Obstetricians and Gynecologists',\n",
       " 'A Stronger California: Securing Economic Opportunity for all Women',\n",
       " 'California Latinas for Reproductive Justice',\n",
       " 'California School Nurses Organization',\n",
       " 'Courage Campaign',\n",
       " 'Downtown Women’s Action Coalition',\n",
       " 'Equal Rights Advocates',\n",
       " 'National Council of Jewish Women, Los Angeles',\n",
       " 'San Francisco Living Wage Coalition',\n",
       " 'Western Center on Law & Poverty']"
      ]
     },
     "execution_count": 82,
     "metadata": {},
     "output_type": "execute_result"
    }
   ],
   "source": [
    "support"
   ]
  },
  {
   "cell_type": "code",
   "execution_count": 210,
   "metadata": {
    "collapsed": false
   },
   "outputs": [
    {
     "data": {
      "text/plain": [
       "['California Right to Life Committee']"
      ]
     },
     "execution_count": 210,
     "metadata": {},
     "output_type": "execute_result"
    }
   ],
   "source": [
    "opposition"
   ]
  },
  {
   "cell_type": "code",
   "execution_count": null,
   "metadata": {
    "collapsed": true
   },
   "outputs": [],
   "source": [
    "# AttributeError"
   ]
  }
 ],
 "metadata": {
  "kernelspec": {
   "display_name": "Python 3",
   "language": "python",
   "name": "python3"
  },
  "language_info": {
   "codemirror_mode": {
    "name": "ipython",
    "version": 3
   },
   "file_extension": ".py",
   "mimetype": "text/x-python",
   "name": "python",
   "nbconvert_exporter": "python",
   "pygments_lexer": "ipython3",
   "version": "3.5.1"
  }
 },
 "nbformat": 4,
 "nbformat_minor": 0
}
