{
 "cells": [
  {
   "cell_type": "code",
   "execution_count": 9,
   "metadata": {
    "collapsed": true
   },
   "outputs": [],
   "source": [
    "from AlignmentMeter import *\n",
    "%reload_ext autoreload\n",
    "%autoreload 2\n",
    "from datetime import datetime"
   ]
  },
  {
   "cell_type": "markdown",
   "metadata": {},
   "source": [
    "**Test 1:** Really simple, just one alignment for the org and the leg"
   ]
  },
  {
   "cell_type": "code",
   "execution_count": 169,
   "metadata": {
    "collapsed": false
   },
   "outputs": [
    {
     "data": {
      "text/html": [
       "<div>\n",
       "<table border=\"1\" class=\"dataframe\">\n",
       "  <thead>\n",
       "    <tr style=\"text-align: right;\">\n",
       "      <th></th>\n",
       "      <th>oid</th>\n",
       "      <th>bid</th>\n",
       "      <th>hid</th>\n",
       "      <th>alignment</th>\n",
       "      <th>date</th>\n",
       "      <th>org_name</th>\n",
       "    </tr>\n",
       "  </thead>\n",
       "  <tbody>\n",
       "    <tr>\n",
       "      <th>0</th>\n",
       "      <td>-1</td>\n",
       "      <td>bill_A</td>\n",
       "      <td>0</td>\n",
       "      <td>For</td>\n",
       "      <td>2016-10-01</td>\n",
       "      <td>org_1</td>\n",
       "    </tr>\n",
       "    <tr>\n",
       "      <th>1</th>\n",
       "      <td>-1</td>\n",
       "      <td>bill_B</td>\n",
       "      <td>0</td>\n",
       "      <td>Against</td>\n",
       "      <td>2016-10-02</td>\n",
       "      <td>org_1</td>\n",
       "    </tr>\n",
       "  </tbody>\n",
       "</table>\n",
       "</div>"
      ],
      "text/plain": [
       "   oid     bid  hid alignment       date org_name\n",
       "0   -1  bill_A    0       For 2016-10-01    org_1\n",
       "1   -1  bill_B    0   Against 2016-10-02    org_1"
      ]
     },
     "execution_count": 169,
     "metadata": {},
     "output_type": "execute_result"
    }
   ],
   "source": [
    "#oid, bid, hid, alignment, date, org_name\n",
    "cols = ['oid', 'bid', 'hid', 'alignment', 'date', 'org_name']\n",
    "data = [\n",
    "        [-1, 'bill_A', 0, 'For', '2016-10-1', 'org_1'],\n",
    "        [-1, 'bill_B', 0, 'Against', '2016-10-2', 'org_1']\n",
    "       ]\n",
    "org_alignments_df = pd.DataFrame(data, columns=cols)\n",
    "org_alignments_df['date'] = org_alignments_df['date'].apply(datetime.strptime, args=['%Y-%m-%d'])\n",
    "org_alignments_df"
   ]
  },
  {
   "cell_type": "code",
   "execution_count": 170,
   "metadata": {
    "collapsed": false
   },
   "outputs": [
    {
     "data": {
      "text/html": [
       "<div>\n",
       "<table border=\"1\" class=\"dataframe\">\n",
       "  <thead>\n",
       "    <tr style=\"text-align: right;\">\n",
       "      <th></th>\n",
       "      <th>pid</th>\n",
       "      <th>result</th>\n",
       "      <th>bid</th>\n",
       "      <th>date</th>\n",
       "    </tr>\n",
       "  </thead>\n",
       "  <tbody>\n",
       "    <tr>\n",
       "      <th>0</th>\n",
       "      <td>1</td>\n",
       "      <td>For</td>\n",
       "      <td>bill_A</td>\n",
       "      <td>2016-10-03</td>\n",
       "    </tr>\n",
       "    <tr>\n",
       "      <th>1</th>\n",
       "      <td>1</td>\n",
       "      <td>For</td>\n",
       "      <td>bill_B</td>\n",
       "      <td>2016-10-03</td>\n",
       "    </tr>\n",
       "  </tbody>\n",
       "</table>\n",
       "</div>"
      ],
      "text/plain": [
       "   pid result     bid       date\n",
       "0    1    For  bill_A 2016-10-03\n",
       "1    1    For  bill_B 2016-10-03"
      ]
     },
     "execution_count": 170,
     "metadata": {},
     "output_type": "execute_result"
    }
   ],
   "source": [
    "cols = ['pid', 'result', 'bid', 'date']\n",
    "data = [\n",
    "        [1, 'For', 'bill_A', '2016-10-3'],\n",
    "        [1, 'For', 'bill_B', '2016-10-3']\n",
    "       ]\n",
    "leg_votes_df = pd.DataFrame(data, columns=cols)\n",
    "leg_votes_df['date'] = leg_votes_df['date'].apply(datetime.strptime, args=['%Y-%m-%d'])\n",
    "leg_votes_df"
   ]
  },
  {
   "cell_type": "code",
   "execution_count": 171,
   "metadata": {
    "collapsed": false
   },
   "outputs": [],
   "source": [
    "scores_df_lst = []\n",
    "for ((oid, bid), oid_alignments_df) in org_alignments_df.groupby(['oid', 'bid']):\n",
    "    if len(oid_alignments_df['alignment'].unique()) > 1:\n",
    "        scores_df = handle_multi_alignment(oid_alignments_df, leg_votes_df)\n",
    "        if len(scores_df.index):\n",
    "            assert type(scores_df) == pd.DataFrame\n",
    "            scores_df_lst.append(scores_df)\n",
    "    else:\n",
    "        scores_df = handle_single_alignment(oid_alignments_df, leg_votes_df)\n",
    "        if len(scores_df.index):\n",
    "            assert type(scores_df) == pd.DataFrame\n",
    "            scores_df_lst.append(scores_df)\n",
    "df = pd.concat(scores_df_lst)"
   ]
  },
  {
   "cell_type": "code",
   "execution_count": 172,
   "metadata": {
    "collapsed": false
   },
   "outputs": [
    {
     "data": {
      "text/html": [
       "<div>\n",
       "<table border=\"1\" class=\"dataframe\">\n",
       "  <thead>\n",
       "    <tr style=\"text-align: right;\">\n",
       "      <th></th>\n",
       "      <th>pid</th>\n",
       "      <th>total_votes</th>\n",
       "      <th>aligned_votes</th>\n",
       "      <th>alignment_percentage</th>\n",
       "      <th>bid</th>\n",
       "      <th>oid</th>\n",
       "    </tr>\n",
       "  </thead>\n",
       "  <tbody>\n",
       "    <tr>\n",
       "      <th>0</th>\n",
       "      <td>1</td>\n",
       "      <td>1</td>\n",
       "      <td>1</td>\n",
       "      <td>1.0</td>\n",
       "      <td>bill_A</td>\n",
       "      <td>-1</td>\n",
       "    </tr>\n",
       "    <tr>\n",
       "      <th>0</th>\n",
       "      <td>1</td>\n",
       "      <td>1</td>\n",
       "      <td>0</td>\n",
       "      <td>0.0</td>\n",
       "      <td>bill_B</td>\n",
       "      <td>-1</td>\n",
       "    </tr>\n",
       "  </tbody>\n",
       "</table>\n",
       "</div>"
      ],
      "text/plain": [
       "   pid  total_votes  aligned_votes  alignment_percentage     bid  oid\n",
       "0    1            1              1                   1.0  bill_A   -1\n",
       "0    1            1              0                   0.0  bill_B   -1"
      ]
     },
     "execution_count": 172,
     "metadata": {},
     "output_type": "execute_result"
    }
   ],
   "source": [
    "df"
   ]
  },
  {
   "cell_type": "code",
   "execution_count": 173,
   "metadata": {
    "collapsed": false
   },
   "outputs": [],
   "source": [
    "assert df.loc[df.bid=='bill_A', 'total_votes'][0] == 1\n",
    "assert df.loc[df.bid=='bill_A', 'aligned_votes'][0] == 1\n",
    "assert df.loc[df.bid=='bill_A', 'alignment_percentage'][0] == 1\n",
    "\n",
    "assert df.loc[df.bid=='bill_B', 'total_votes'][0] == 1\n",
    "assert df.loc[df.bid=='bill_B', 'aligned_votes'][0] == 0\n",
    "assert df.loc[df.bid=='bill_B', 'alignment_percentage'][0] == 0"
   ]
  },
  {
   "cell_type": "markdown",
   "metadata": {},
   "source": [
    "**Test 2:** 1 distinct alignment for the organization, but they registered multiple alignments. Multiple votes for the leg, but all with the same alignment"
   ]
  },
  {
   "cell_type": "code",
   "execution_count": 174,
   "metadata": {
    "collapsed": false
   },
   "outputs": [
    {
     "data": {
      "text/html": [
       "<div>\n",
       "<table border=\"1\" class=\"dataframe\">\n",
       "  <thead>\n",
       "    <tr style=\"text-align: right;\">\n",
       "      <th></th>\n",
       "      <th>oid</th>\n",
       "      <th>bid</th>\n",
       "      <th>hid</th>\n",
       "      <th>alignment</th>\n",
       "      <th>date</th>\n",
       "      <th>org_name</th>\n",
       "    </tr>\n",
       "  </thead>\n",
       "  <tbody>\n",
       "    <tr>\n",
       "      <th>0</th>\n",
       "      <td>-1</td>\n",
       "      <td>bill_A</td>\n",
       "      <td>0</td>\n",
       "      <td>For</td>\n",
       "      <td>2016-10-01</td>\n",
       "      <td>org_1</td>\n",
       "    </tr>\n",
       "    <tr>\n",
       "      <th>1</th>\n",
       "      <td>-1</td>\n",
       "      <td>bill_A</td>\n",
       "      <td>0</td>\n",
       "      <td>For</td>\n",
       "      <td>2016-10-02</td>\n",
       "      <td>org_1</td>\n",
       "    </tr>\n",
       "    <tr>\n",
       "      <th>2</th>\n",
       "      <td>-1</td>\n",
       "      <td>bill_B</td>\n",
       "      <td>0</td>\n",
       "      <td>Against</td>\n",
       "      <td>2016-10-01</td>\n",
       "      <td>org_1</td>\n",
       "    </tr>\n",
       "    <tr>\n",
       "      <th>3</th>\n",
       "      <td>-1</td>\n",
       "      <td>bill_B</td>\n",
       "      <td>0</td>\n",
       "      <td>Against</td>\n",
       "      <td>2016-10-02</td>\n",
       "      <td>org_1</td>\n",
       "    </tr>\n",
       "  </tbody>\n",
       "</table>\n",
       "</div>"
      ],
      "text/plain": [
       "   oid     bid  hid alignment       date org_name\n",
       "0   -1  bill_A    0       For 2016-10-01    org_1\n",
       "1   -1  bill_A    0       For 2016-10-02    org_1\n",
       "2   -1  bill_B    0   Against 2016-10-01    org_1\n",
       "3   -1  bill_B    0   Against 2016-10-02    org_1"
      ]
     },
     "execution_count": 174,
     "metadata": {},
     "output_type": "execute_result"
    }
   ],
   "source": [
    "#oid, bid, hid, alignment, date, org_name\n",
    "cols = ['oid', 'bid', 'hid', 'alignment', 'date', 'org_name']\n",
    "data = [\n",
    "        [-1, 'bill_A', 0, 'For', '2016-10-1', 'org_1'],\n",
    "        [-1, 'bill_A', 0, 'For', '2016-10-2', 'org_1'],\n",
    "        [-1, 'bill_B', 0, 'Against', '2016-10-1', 'org_1'],\n",
    "        [-1, 'bill_B', 0, 'Against', '2016-10-2', 'org_1']\n",
    "       ]\n",
    "org_alignments_df = pd.DataFrame(data, columns=cols)\n",
    "org_alignments_df['date'] = org_alignments_df['date'].apply(datetime.strptime, args=['%Y-%m-%d'])\n",
    "org_alignments_df"
   ]
  },
  {
   "cell_type": "code",
   "execution_count": 175,
   "metadata": {
    "collapsed": false
   },
   "outputs": [
    {
     "data": {
      "text/html": [
       "<div>\n",
       "<table border=\"1\" class=\"dataframe\">\n",
       "  <thead>\n",
       "    <tr style=\"text-align: right;\">\n",
       "      <th></th>\n",
       "      <th>pid</th>\n",
       "      <th>result</th>\n",
       "      <th>bid</th>\n",
       "      <th>date</th>\n",
       "    </tr>\n",
       "  </thead>\n",
       "  <tbody>\n",
       "    <tr>\n",
       "      <th>0</th>\n",
       "      <td>1</td>\n",
       "      <td>For</td>\n",
       "      <td>bill_A</td>\n",
       "      <td>2016-10-03</td>\n",
       "    </tr>\n",
       "    <tr>\n",
       "      <th>1</th>\n",
       "      <td>1</td>\n",
       "      <td>For</td>\n",
       "      <td>bill_A</td>\n",
       "      <td>2016-10-04</td>\n",
       "    </tr>\n",
       "    <tr>\n",
       "      <th>2</th>\n",
       "      <td>1</td>\n",
       "      <td>For</td>\n",
       "      <td>bill_B</td>\n",
       "      <td>2016-10-03</td>\n",
       "    </tr>\n",
       "    <tr>\n",
       "      <th>3</th>\n",
       "      <td>1</td>\n",
       "      <td>For</td>\n",
       "      <td>bill_B</td>\n",
       "      <td>2016-10-04</td>\n",
       "    </tr>\n",
       "  </tbody>\n",
       "</table>\n",
       "</div>"
      ],
      "text/plain": [
       "   pid result     bid       date\n",
       "0    1    For  bill_A 2016-10-03\n",
       "1    1    For  bill_A 2016-10-04\n",
       "2    1    For  bill_B 2016-10-03\n",
       "3    1    For  bill_B 2016-10-04"
      ]
     },
     "execution_count": 175,
     "metadata": {},
     "output_type": "execute_result"
    }
   ],
   "source": [
    "cols = ['pid', 'result', 'bid', 'date']\n",
    "data = [\n",
    "        [1, 'For', 'bill_A', '2016-10-3'],\n",
    "        [1, 'For', 'bill_A', '2016-10-4'],\n",
    "        [1, 'For', 'bill_B', '2016-10-3'],\n",
    "        [1, 'For', 'bill_B', '2016-10-4'],\n",
    "       ]\n",
    "leg_votes_df = pd.DataFrame(data, columns=cols)\n",
    "leg_votes_df['date'] = leg_votes_df['date'].apply(datetime.strptime, args=['%Y-%m-%d'])\n",
    "leg_votes_df"
   ]
  },
  {
   "cell_type": "code",
   "execution_count": 176,
   "metadata": {
    "collapsed": false
   },
   "outputs": [],
   "source": [
    "scores_df_lst = []\n",
    "for ((oid, bid), oid_alignments_df) in org_alignments_df.groupby(['oid', 'bid']):\n",
    "    if len(oid_alignments_df['alignment'].unique()) > 1:\n",
    "        scores_df = handle_multi_alignment(oid_alignments_df, leg_votes_df)\n",
    "        if len(scores_df.index):\n",
    "            assert type(scores_df) == pd.DataFrame\n",
    "            scores_df_lst.append(scores_df)\n",
    "    else:\n",
    "        scores_df = handle_single_alignment(oid_alignments_df, leg_votes_df)\n",
    "        if len(scores_df.index):\n",
    "            assert type(scores_df) == pd.DataFrame\n",
    "            scores_df_lst.append(scores_df)\n",
    "df = pd.concat(scores_df_lst)"
   ]
  },
  {
   "cell_type": "code",
   "execution_count": 177,
   "metadata": {
    "collapsed": false
   },
   "outputs": [
    {
     "data": {
      "text/html": [
       "<div>\n",
       "<table border=\"1\" class=\"dataframe\">\n",
       "  <thead>\n",
       "    <tr style=\"text-align: right;\">\n",
       "      <th></th>\n",
       "      <th>pid</th>\n",
       "      <th>total_votes</th>\n",
       "      <th>aligned_votes</th>\n",
       "      <th>alignment_percentage</th>\n",
       "      <th>bid</th>\n",
       "      <th>oid</th>\n",
       "    </tr>\n",
       "  </thead>\n",
       "  <tbody>\n",
       "    <tr>\n",
       "      <th>0</th>\n",
       "      <td>1</td>\n",
       "      <td>1</td>\n",
       "      <td>1</td>\n",
       "      <td>1.0</td>\n",
       "      <td>bill_A</td>\n",
       "      <td>-1</td>\n",
       "    </tr>\n",
       "    <tr>\n",
       "      <th>0</th>\n",
       "      <td>1</td>\n",
       "      <td>1</td>\n",
       "      <td>0</td>\n",
       "      <td>0.0</td>\n",
       "      <td>bill_B</td>\n",
       "      <td>-1</td>\n",
       "    </tr>\n",
       "  </tbody>\n",
       "</table>\n",
       "</div>"
      ],
      "text/plain": [
       "   pid  total_votes  aligned_votes  alignment_percentage     bid  oid\n",
       "0    1            1              1                   1.0  bill_A   -1\n",
       "0    1            1              0                   0.0  bill_B   -1"
      ]
     },
     "execution_count": 177,
     "metadata": {},
     "output_type": "execute_result"
    }
   ],
   "source": [
    "df"
   ]
  },
  {
   "cell_type": "code",
   "execution_count": 178,
   "metadata": {
    "collapsed": false
   },
   "outputs": [],
   "source": [
    "assert df.loc[df.bid=='bill_A', 'total_votes'][0] == 1\n",
    "assert df.loc[df.bid=='bill_A', 'aligned_votes'][0] == 1\n",
    "assert df.loc[df.bid=='bill_A', 'alignment_percentage'][0] == 1\n",
    "\n",
    "assert df.loc[df.bid=='bill_B', 'total_votes'][0] == 1\n",
    "assert df.loc[df.bid=='bill_B', 'aligned_votes'][0] == 0\n",
    "assert df.loc[df.bid=='bill_B', 'alignment_percentage'][0] == 0"
   ]
  },
  {
   "cell_type": "markdown",
   "metadata": {},
   "source": [
    "**Test 3:** 1 distinct alignment for the organization, but they registered multiple alignments. Multiple votes for the leg with differing alignments. Bill B should not be in this output"
   ]
  },
  {
   "cell_type": "code",
   "execution_count": 179,
   "metadata": {
    "collapsed": false
   },
   "outputs": [
    {
     "data": {
      "text/html": [
       "<div>\n",
       "<table border=\"1\" class=\"dataframe\">\n",
       "  <thead>\n",
       "    <tr style=\"text-align: right;\">\n",
       "      <th></th>\n",
       "      <th>oid</th>\n",
       "      <th>bid</th>\n",
       "      <th>hid</th>\n",
       "      <th>alignment</th>\n",
       "      <th>date</th>\n",
       "      <th>org_name</th>\n",
       "    </tr>\n",
       "  </thead>\n",
       "  <tbody>\n",
       "    <tr>\n",
       "      <th>0</th>\n",
       "      <td>-1</td>\n",
       "      <td>bill_A</td>\n",
       "      <td>0</td>\n",
       "      <td>For</td>\n",
       "      <td>2016-10-01</td>\n",
       "      <td>org_1</td>\n",
       "    </tr>\n",
       "    <tr>\n",
       "      <th>1</th>\n",
       "      <td>-1</td>\n",
       "      <td>bill_A</td>\n",
       "      <td>0</td>\n",
       "      <td>For</td>\n",
       "      <td>2016-10-02</td>\n",
       "      <td>org_1</td>\n",
       "    </tr>\n",
       "    <tr>\n",
       "      <th>2</th>\n",
       "      <td>-1</td>\n",
       "      <td>bill_B</td>\n",
       "      <td>0</td>\n",
       "      <td>Against</td>\n",
       "      <td>2016-10-05</td>\n",
       "      <td>org_1</td>\n",
       "    </tr>\n",
       "    <tr>\n",
       "      <th>3</th>\n",
       "      <td>-1</td>\n",
       "      <td>bill_B</td>\n",
       "      <td>0</td>\n",
       "      <td>Against</td>\n",
       "      <td>2016-10-06</td>\n",
       "      <td>org_1</td>\n",
       "    </tr>\n",
       "  </tbody>\n",
       "</table>\n",
       "</div>"
      ],
      "text/plain": [
       "   oid     bid  hid alignment       date org_name\n",
       "0   -1  bill_A    0       For 2016-10-01    org_1\n",
       "1   -1  bill_A    0       For 2016-10-02    org_1\n",
       "2   -1  bill_B    0   Against 2016-10-05    org_1\n",
       "3   -1  bill_B    0   Against 2016-10-06    org_1"
      ]
     },
     "execution_count": 179,
     "metadata": {},
     "output_type": "execute_result"
    }
   ],
   "source": [
    "#oid, bid, hid, alignment, date, org_name\n",
    "cols = ['oid', 'bid', 'hid', 'alignment', 'date', 'org_name']\n",
    "data = [\n",
    "        [-1, 'bill_A', 0, 'For', '2016-10-1', 'org_1'],\n",
    "        [-1, 'bill_A', 0, 'For', '2016-10-2', 'org_1'],\n",
    "        [-1, 'bill_B', 0, 'Against', '2016-10-5', 'org_1'],\n",
    "        [-1, 'bill_B', 0, 'Against', '2016-10-6', 'org_1']\n",
    "       ]\n",
    "org_alignments_df = pd.DataFrame(data, columns=cols)\n",
    "org_alignments_df['date'] = org_alignments_df['date'].apply(datetime.strptime, args=['%Y-%m-%d'])\n",
    "org_alignments_df"
   ]
  },
  {
   "cell_type": "code",
   "execution_count": 180,
   "metadata": {
    "collapsed": false
   },
   "outputs": [
    {
     "data": {
      "text/html": [
       "<div>\n",
       "<table border=\"1\" class=\"dataframe\">\n",
       "  <thead>\n",
       "    <tr style=\"text-align: right;\">\n",
       "      <th></th>\n",
       "      <th>pid</th>\n",
       "      <th>result</th>\n",
       "      <th>bid</th>\n",
       "      <th>date</th>\n",
       "    </tr>\n",
       "  </thead>\n",
       "  <tbody>\n",
       "    <tr>\n",
       "      <th>0</th>\n",
       "      <td>1</td>\n",
       "      <td>For</td>\n",
       "      <td>bill_A</td>\n",
       "      <td>2016-10-03</td>\n",
       "    </tr>\n",
       "    <tr>\n",
       "      <th>1</th>\n",
       "      <td>1</td>\n",
       "      <td>Against</td>\n",
       "      <td>bill_A</td>\n",
       "      <td>2016-10-04</td>\n",
       "    </tr>\n",
       "    <tr>\n",
       "      <th>2</th>\n",
       "      <td>1</td>\n",
       "      <td>For</td>\n",
       "      <td>bill_B</td>\n",
       "      <td>2016-10-03</td>\n",
       "    </tr>\n",
       "    <tr>\n",
       "      <th>3</th>\n",
       "      <td>1</td>\n",
       "      <td>For</td>\n",
       "      <td>bill_B</td>\n",
       "      <td>2016-10-04</td>\n",
       "    </tr>\n",
       "  </tbody>\n",
       "</table>\n",
       "</div>"
      ],
      "text/plain": [
       "   pid   result     bid       date\n",
       "0    1      For  bill_A 2016-10-03\n",
       "1    1  Against  bill_A 2016-10-04\n",
       "2    1      For  bill_B 2016-10-03\n",
       "3    1      For  bill_B 2016-10-04"
      ]
     },
     "execution_count": 180,
     "metadata": {},
     "output_type": "execute_result"
    }
   ],
   "source": [
    "cols = ['pid', 'result', 'bid', 'date']\n",
    "data = [\n",
    "        [1, 'For', 'bill_A', '2016-10-3'],\n",
    "        [1, 'Against', 'bill_A', '2016-10-4'],\n",
    "        [1, 'For', 'bill_B', '2016-10-3'],\n",
    "        [1, 'For', 'bill_B', '2016-10-4'],\n",
    "       ]\n",
    "leg_votes_df = pd.DataFrame(data, columns=cols)\n",
    "leg_votes_df['date'] = leg_votes_df['date'].apply(datetime.strptime, args=['%Y-%m-%d'])\n",
    "leg_votes_df"
   ]
  },
  {
   "cell_type": "code",
   "execution_count": 181,
   "metadata": {
    "collapsed": false
   },
   "outputs": [],
   "source": [
    "scores_df_lst = []\n",
    "for ((oid, bid), oid_alignments_df) in org_alignments_df.groupby(['oid', 'bid']):\n",
    "    if len(oid_alignments_df['alignment'].unique()) > 1:\n",
    "        scores_df = handle_multi_alignment(oid_alignments_df, leg_votes_df)\n",
    "        if len(scores_df.index):\n",
    "            assert type(scores_df) == pd.DataFrame\n",
    "            scores_df_lst.append(scores_df)\n",
    "    else:\n",
    "        scores_df = handle_single_alignment(oid_alignments_df, leg_votes_df)\n",
    "        if len(scores_df.index):\n",
    "            assert type(scores_df) == pd.DataFrame\n",
    "            scores_df_lst.append(scores_df)\n",
    "df = pd.concat(scores_df_lst)"
   ]
  },
  {
   "cell_type": "code",
   "execution_count": 182,
   "metadata": {
    "collapsed": false
   },
   "outputs": [
    {
     "data": {
      "text/html": [
       "<div>\n",
       "<table border=\"1\" class=\"dataframe\">\n",
       "  <thead>\n",
       "    <tr style=\"text-align: right;\">\n",
       "      <th></th>\n",
       "      <th>pid</th>\n",
       "      <th>total_votes</th>\n",
       "      <th>aligned_votes</th>\n",
       "      <th>alignment_percentage</th>\n",
       "      <th>bid</th>\n",
       "      <th>oid</th>\n",
       "    </tr>\n",
       "  </thead>\n",
       "  <tbody>\n",
       "    <tr>\n",
       "      <th>0</th>\n",
       "      <td>1</td>\n",
       "      <td>1</td>\n",
       "      <td>0</td>\n",
       "      <td>0.0</td>\n",
       "      <td>bill_A</td>\n",
       "      <td>-1</td>\n",
       "    </tr>\n",
       "  </tbody>\n",
       "</table>\n",
       "</div>"
      ],
      "text/plain": [
       "   pid  total_votes  aligned_votes  alignment_percentage     bid  oid\n",
       "0    1            1              0                   0.0  bill_A   -1"
      ]
     },
     "execution_count": 182,
     "metadata": {},
     "output_type": "execute_result"
    }
   ],
   "source": [
    "df"
   ]
  },
  {
   "cell_type": "code",
   "execution_count": 183,
   "metadata": {
    "collapsed": false
   },
   "outputs": [],
   "source": [
    "assert df.loc[df.bid=='bill_A', 'total_votes'][0] == 1\n",
    "assert df.loc[df.bid=='bill_A', 'aligned_votes'][0] == 0\n",
    "assert df.loc[df.bid=='bill_A', 'alignment_percentage'][0] == 0\n",
    "\n",
    "assert sum(df.bid=='bill_B') == 0"
   ]
  },
  {
   "cell_type": "markdown",
   "metadata": {},
   "source": [
    "**Test 4:** 2 full strata for the org. Leg takes alignments during all strata"
   ]
  },
  {
   "cell_type": "code",
   "execution_count": 184,
   "metadata": {
    "collapsed": false
   },
   "outputs": [
    {
     "data": {
      "text/html": [
       "<div>\n",
       "<table border=\"1\" class=\"dataframe\">\n",
       "  <thead>\n",
       "    <tr style=\"text-align: right;\">\n",
       "      <th></th>\n",
       "      <th>oid</th>\n",
       "      <th>bid</th>\n",
       "      <th>hid</th>\n",
       "      <th>alignment</th>\n",
       "      <th>date</th>\n",
       "      <th>org_name</th>\n",
       "    </tr>\n",
       "  </thead>\n",
       "  <tbody>\n",
       "    <tr>\n",
       "      <th>0</th>\n",
       "      <td>-1</td>\n",
       "      <td>bill_A</td>\n",
       "      <td>0</td>\n",
       "      <td>For</td>\n",
       "      <td>2016-10-02</td>\n",
       "      <td>org_1</td>\n",
       "    </tr>\n",
       "    <tr>\n",
       "      <th>1</th>\n",
       "      <td>-1</td>\n",
       "      <td>bill_A</td>\n",
       "      <td>0</td>\n",
       "      <td>Against</td>\n",
       "      <td>2016-10-03</td>\n",
       "      <td>org_1</td>\n",
       "    </tr>\n",
       "    <tr>\n",
       "      <th>2</th>\n",
       "      <td>-1</td>\n",
       "      <td>bill_A</td>\n",
       "      <td>0</td>\n",
       "      <td>For</td>\n",
       "      <td>2016-10-04</td>\n",
       "      <td>org_1</td>\n",
       "    </tr>\n",
       "    <tr>\n",
       "      <th>3</th>\n",
       "      <td>-1</td>\n",
       "      <td>bill_A</td>\n",
       "      <td>0</td>\n",
       "      <td>Against</td>\n",
       "      <td>2016-10-05</td>\n",
       "      <td>org_1</td>\n",
       "    </tr>\n",
       "  </tbody>\n",
       "</table>\n",
       "</div>"
      ],
      "text/plain": [
       "   oid     bid  hid alignment       date org_name\n",
       "0   -1  bill_A    0       For 2016-10-02    org_1\n",
       "1   -1  bill_A    0   Against 2016-10-03    org_1\n",
       "2   -1  bill_A    0       For 2016-10-04    org_1\n",
       "3   -1  bill_A    0   Against 2016-10-05    org_1"
      ]
     },
     "execution_count": 184,
     "metadata": {},
     "output_type": "execute_result"
    }
   ],
   "source": [
    "#oid, bid, hid, alignment, date, org_name\n",
    "cols = ['oid', 'bid', 'hid', 'alignment', 'date', 'org_name']\n",
    "data = [\n",
    "        [-1, 'bill_A', 0, 'For', '2016-10-2', 'org_1'],\n",
    "        [-1, 'bill_A', 0, 'Against', '2016-10-3', 'org_1'],\n",
    "        [-1, 'bill_A', 0, 'For', '2016-10-4', 'org_1'],\n",
    "        [-1, 'bill_A', 0, 'Against', '2016-10-5', 'org_1']\n",
    "       ]\n",
    "org_alignments_df = pd.DataFrame(data, columns=cols)\n",
    "org_alignments_df['date'] = org_alignments_df['date'].apply(datetime.strptime, args=['%Y-%m-%d'])\n",
    "org_alignments_df"
   ]
  },
  {
   "cell_type": "code",
   "execution_count": 185,
   "metadata": {
    "collapsed": false
   },
   "outputs": [
    {
     "data": {
      "text/html": [
       "<div>\n",
       "<table border=\"1\" class=\"dataframe\">\n",
       "  <thead>\n",
       "    <tr style=\"text-align: right;\">\n",
       "      <th></th>\n",
       "      <th>pid</th>\n",
       "      <th>result</th>\n",
       "      <th>bid</th>\n",
       "      <th>date</th>\n",
       "    </tr>\n",
       "  </thead>\n",
       "  <tbody>\n",
       "    <tr>\n",
       "      <th>0</th>\n",
       "      <td>1</td>\n",
       "      <td>For</td>\n",
       "      <td>bill_A</td>\n",
       "      <td>2016-10-01</td>\n",
       "    </tr>\n",
       "    <tr>\n",
       "      <th>1</th>\n",
       "      <td>1</td>\n",
       "      <td>For</td>\n",
       "      <td>bill_A</td>\n",
       "      <td>2016-10-02</td>\n",
       "    </tr>\n",
       "    <tr>\n",
       "      <th>2</th>\n",
       "      <td>1</td>\n",
       "      <td>For</td>\n",
       "      <td>bill_A</td>\n",
       "      <td>2016-10-03</td>\n",
       "    </tr>\n",
       "    <tr>\n",
       "      <th>3</th>\n",
       "      <td>1</td>\n",
       "      <td>For</td>\n",
       "      <td>bill_A</td>\n",
       "      <td>2016-10-04</td>\n",
       "    </tr>\n",
       "    <tr>\n",
       "      <th>4</th>\n",
       "      <td>1</td>\n",
       "      <td>For</td>\n",
       "      <td>bill_A</td>\n",
       "      <td>2016-10-05</td>\n",
       "    </tr>\n",
       "    <tr>\n",
       "      <th>5</th>\n",
       "      <td>1</td>\n",
       "      <td>For</td>\n",
       "      <td>bill_A</td>\n",
       "      <td>2016-10-06</td>\n",
       "    </tr>\n",
       "    <tr>\n",
       "      <th>6</th>\n",
       "      <td>2</td>\n",
       "      <td>Against</td>\n",
       "      <td>bill_A</td>\n",
       "      <td>2016-10-01</td>\n",
       "    </tr>\n",
       "    <tr>\n",
       "      <th>7</th>\n",
       "      <td>2</td>\n",
       "      <td>Against</td>\n",
       "      <td>bill_A</td>\n",
       "      <td>2016-10-02</td>\n",
       "    </tr>\n",
       "    <tr>\n",
       "      <th>8</th>\n",
       "      <td>2</td>\n",
       "      <td>Against</td>\n",
       "      <td>bill_A</td>\n",
       "      <td>2016-10-03</td>\n",
       "    </tr>\n",
       "    <tr>\n",
       "      <th>9</th>\n",
       "      <td>2</td>\n",
       "      <td>Against</td>\n",
       "      <td>bill_A</td>\n",
       "      <td>2016-10-04</td>\n",
       "    </tr>\n",
       "    <tr>\n",
       "      <th>10</th>\n",
       "      <td>2</td>\n",
       "      <td>Against</td>\n",
       "      <td>bill_A</td>\n",
       "      <td>2016-10-05</td>\n",
       "    </tr>\n",
       "    <tr>\n",
       "      <th>11</th>\n",
       "      <td>2</td>\n",
       "      <td>For</td>\n",
       "      <td>bill_A</td>\n",
       "      <td>2016-10-06</td>\n",
       "    </tr>\n",
       "  </tbody>\n",
       "</table>\n",
       "</div>"
      ],
      "text/plain": [
       "    pid   result     bid       date\n",
       "0     1      For  bill_A 2016-10-01\n",
       "1     1      For  bill_A 2016-10-02\n",
       "2     1      For  bill_A 2016-10-03\n",
       "3     1      For  bill_A 2016-10-04\n",
       "4     1      For  bill_A 2016-10-05\n",
       "5     1      For  bill_A 2016-10-06\n",
       "6     2  Against  bill_A 2016-10-01\n",
       "7     2  Against  bill_A 2016-10-02\n",
       "8     2  Against  bill_A 2016-10-03\n",
       "9     2  Against  bill_A 2016-10-04\n",
       "10    2  Against  bill_A 2016-10-05\n",
       "11    2      For  bill_A 2016-10-06"
      ]
     },
     "execution_count": 185,
     "metadata": {},
     "output_type": "execute_result"
    }
   ],
   "source": [
    "cols = ['pid', 'result', 'bid', 'date']\n",
    "data = [\n",
    "        [1, 'For', 'bill_A', '2016-10-1'],\n",
    "        [1, 'For', 'bill_A', '2016-10-2'],\n",
    "        [1, 'For', 'bill_A', '2016-10-3'],\n",
    "        [1, 'For', 'bill_A', '2016-10-4'],\n",
    "        [1, 'For', 'bill_A', '2016-10-5'],\n",
    "        [1, 'For', 'bill_A', '2016-10-6'],\n",
    "    \n",
    "        [2, 'Against', 'bill_A', '2016-10-1'],\n",
    "        [2, 'Against', 'bill_A', '2016-10-2'],\n",
    "        [2, 'Against', 'bill_A', '2016-10-3'],\n",
    "        [2, 'Against', 'bill_A', '2016-10-4'],\n",
    "        [2, 'Against', 'bill_A', '2016-10-5'],\n",
    "        [2, 'For', 'bill_A', '2016-10-6']\n",
    "       ]\n",
    "leg_votes_df = pd.DataFrame(data, columns=cols)\n",
    "leg_votes_df['date'] = leg_votes_df['date'].apply(datetime.strptime, args=['%Y-%m-%d'])\n",
    "leg_votes_df"
   ]
  },
  {
   "cell_type": "code",
   "execution_count": 186,
   "metadata": {
    "collapsed": false
   },
   "outputs": [],
   "source": [
    "scores_df_lst = []\n",
    "for ((oid, bid), oid_alignments_df) in org_alignments_df.groupby(['oid', 'bid']):\n",
    "    if len(oid_alignments_df['alignment'].unique()) > 1:\n",
    "        scores_df = handle_multi_alignment(oid_alignments_df, leg_votes_df)\n",
    "        if len(scores_df.index):\n",
    "            assert type(scores_df) == pd.DataFrame\n",
    "            scores_df_lst.append(scores_df)\n",
    "    else:\n",
    "        scores_df = handle_single_alignment(oid_alignments_df, leg_votes_df)\n",
    "        if len(scores_df.index):\n",
    "            assert type(scores_df) == pd.DataFrame\n",
    "            scores_df_lst.append(scores_df)\n",
    "df = pd.concat(scores_df_lst)"
   ]
  },
  {
   "cell_type": "code",
   "execution_count": 187,
   "metadata": {
    "collapsed": false
   },
   "outputs": [
    {
     "data": {
      "text/html": [
       "<div>\n",
       "<table border=\"1\" class=\"dataframe\">\n",
       "  <thead>\n",
       "    <tr style=\"text-align: right;\">\n",
       "      <th></th>\n",
       "      <th>aligned_votes</th>\n",
       "      <th>alignment_percentage</th>\n",
       "      <th>bid</th>\n",
       "      <th>oid</th>\n",
       "      <th>pid</th>\n",
       "      <th>total_votes</th>\n",
       "    </tr>\n",
       "    <tr>\n",
       "      <th>pid</th>\n",
       "      <th></th>\n",
       "      <th></th>\n",
       "      <th></th>\n",
       "      <th></th>\n",
       "      <th></th>\n",
       "      <th></th>\n",
       "    </tr>\n",
       "  </thead>\n",
       "  <tbody>\n",
       "    <tr>\n",
       "      <th>1</th>\n",
       "      <td>2</td>\n",
       "      <td>0.50</td>\n",
       "      <td>bill_A</td>\n",
       "      <td>-1</td>\n",
       "      <td>1</td>\n",
       "      <td>4</td>\n",
       "    </tr>\n",
       "    <tr>\n",
       "      <th>2</th>\n",
       "      <td>1</td>\n",
       "      <td>0.25</td>\n",
       "      <td>bill_A</td>\n",
       "      <td>-1</td>\n",
       "      <td>2</td>\n",
       "      <td>4</td>\n",
       "    </tr>\n",
       "  </tbody>\n",
       "</table>\n",
       "</div>"
      ],
      "text/plain": [
       "     aligned_votes  alignment_percentage     bid  oid  pid  total_votes\n",
       "pid                                                                    \n",
       "1                2                  0.50  bill_A   -1    1            4\n",
       "2                1                  0.25  bill_A   -1    2            4"
      ]
     },
     "execution_count": 187,
     "metadata": {},
     "output_type": "execute_result"
    }
   ],
   "source": [
    "df"
   ]
  },
  {
   "cell_type": "code",
   "execution_count": 188,
   "metadata": {
    "collapsed": false
   },
   "outputs": [],
   "source": [
    "assert df.loc[(df.bid=='bill_A') & (df.pid == 1), 'total_votes'].iloc[0] == 4\n",
    "assert df.loc[(df.bid=='bill_A') & (df.pid == 1), 'aligned_votes'].iloc[0] == 2\n",
    "assert df.loc[(df.bid=='bill_A') & (df.pid == 1), 'alignment_percentage'].iloc[0] == .5\n",
    "\n",
    "assert df.loc[(df.bid=='bill_A') & (df.pid == 2), 'total_votes'].iloc[0] == 4\n",
    "assert df.loc[(df.bid=='bill_A') & (df.pid == 2), 'aligned_votes'].iloc[0] == 1\n",
    "assert df.loc[(df.bid=='bill_A') & (df.pid == 2), 'alignment_percentage'].iloc[0] == .25"
   ]
  },
  {
   "cell_type": "markdown",
   "metadata": {},
   "source": [
    "**Test 5:** One strata vote, one single alignment"
   ]
  },
  {
   "cell_type": "code",
   "execution_count": 189,
   "metadata": {
    "collapsed": false
   },
   "outputs": [
    {
     "data": {
      "text/html": [
       "<div>\n",
       "<table border=\"1\" class=\"dataframe\">\n",
       "  <thead>\n",
       "    <tr style=\"text-align: right;\">\n",
       "      <th></th>\n",
       "      <th>oid</th>\n",
       "      <th>bid</th>\n",
       "      <th>hid</th>\n",
       "      <th>alignment</th>\n",
       "      <th>date</th>\n",
       "      <th>org_name</th>\n",
       "    </tr>\n",
       "  </thead>\n",
       "  <tbody>\n",
       "    <tr>\n",
       "      <th>0</th>\n",
       "      <td>-1</td>\n",
       "      <td>bill_A</td>\n",
       "      <td>0</td>\n",
       "      <td>For</td>\n",
       "      <td>2016-10-02</td>\n",
       "      <td>org_1</td>\n",
       "    </tr>\n",
       "    <tr>\n",
       "      <th>1</th>\n",
       "      <td>-1</td>\n",
       "      <td>bill_A</td>\n",
       "      <td>0</td>\n",
       "      <td>Against</td>\n",
       "      <td>2016-10-03</td>\n",
       "      <td>org_1</td>\n",
       "    </tr>\n",
       "    <tr>\n",
       "      <th>2</th>\n",
       "      <td>-1</td>\n",
       "      <td>bill_A</td>\n",
       "      <td>0</td>\n",
       "      <td>For</td>\n",
       "      <td>2016-10-04</td>\n",
       "      <td>org_1</td>\n",
       "    </tr>\n",
       "    <tr>\n",
       "      <th>3</th>\n",
       "      <td>-1</td>\n",
       "      <td>bill_A</td>\n",
       "      <td>0</td>\n",
       "      <td>Against</td>\n",
       "      <td>2016-10-05</td>\n",
       "      <td>org_1</td>\n",
       "    </tr>\n",
       "    <tr>\n",
       "      <th>4</th>\n",
       "      <td>-1</td>\n",
       "      <td>bill_B</td>\n",
       "      <td>0</td>\n",
       "      <td>For</td>\n",
       "      <td>2016-10-04</td>\n",
       "      <td>org_1</td>\n",
       "    </tr>\n",
       "  </tbody>\n",
       "</table>\n",
       "</div>"
      ],
      "text/plain": [
       "   oid     bid  hid alignment       date org_name\n",
       "0   -1  bill_A    0       For 2016-10-02    org_1\n",
       "1   -1  bill_A    0   Against 2016-10-03    org_1\n",
       "2   -1  bill_A    0       For 2016-10-04    org_1\n",
       "3   -1  bill_A    0   Against 2016-10-05    org_1\n",
       "4   -1  bill_B    0       For 2016-10-04    org_1"
      ]
     },
     "execution_count": 189,
     "metadata": {},
     "output_type": "execute_result"
    }
   ],
   "source": [
    "#oid, bid, hid, alignment, date, org_name\n",
    "cols = ['oid', 'bid', 'hid', 'alignment', 'date', 'org_name']\n",
    "data = [\n",
    "        [-1, 'bill_A', 0, 'For', '2016-10-2', 'org_1'],\n",
    "        [-1, 'bill_A', 0, 'Against', '2016-10-3', 'org_1'],\n",
    "        [-1, 'bill_A', 0, 'For', '2016-10-4', 'org_1'],\n",
    "        [-1, 'bill_A', 0, 'Against', '2016-10-5', 'org_1'],\n",
    "    \n",
    "        [-1, 'bill_B', 0, 'For', '2016-10-4', 'org_1']\n",
    "       ]\n",
    "org_alignments_df = pd.DataFrame(data, columns=cols)\n",
    "org_alignments_df['date'] = org_alignments_df['date'].apply(datetime.strptime, args=['%Y-%m-%d'])\n",
    "org_alignments_df"
   ]
  },
  {
   "cell_type": "code",
   "execution_count": 190,
   "metadata": {
    "collapsed": false
   },
   "outputs": [
    {
     "data": {
      "text/html": [
       "<div>\n",
       "<table border=\"1\" class=\"dataframe\">\n",
       "  <thead>\n",
       "    <tr style=\"text-align: right;\">\n",
       "      <th></th>\n",
       "      <th>pid</th>\n",
       "      <th>result</th>\n",
       "      <th>bid</th>\n",
       "      <th>date</th>\n",
       "    </tr>\n",
       "  </thead>\n",
       "  <tbody>\n",
       "    <tr>\n",
       "      <th>0</th>\n",
       "      <td>1</td>\n",
       "      <td>For</td>\n",
       "      <td>bill_A</td>\n",
       "      <td>2016-10-01</td>\n",
       "    </tr>\n",
       "    <tr>\n",
       "      <th>1</th>\n",
       "      <td>1</td>\n",
       "      <td>For</td>\n",
       "      <td>bill_A</td>\n",
       "      <td>2016-10-02</td>\n",
       "    </tr>\n",
       "    <tr>\n",
       "      <th>2</th>\n",
       "      <td>1</td>\n",
       "      <td>For</td>\n",
       "      <td>bill_A</td>\n",
       "      <td>2016-10-03</td>\n",
       "    </tr>\n",
       "    <tr>\n",
       "      <th>3</th>\n",
       "      <td>1</td>\n",
       "      <td>For</td>\n",
       "      <td>bill_A</td>\n",
       "      <td>2016-10-04</td>\n",
       "    </tr>\n",
       "    <tr>\n",
       "      <th>4</th>\n",
       "      <td>1</td>\n",
       "      <td>For</td>\n",
       "      <td>bill_A</td>\n",
       "      <td>2016-10-05</td>\n",
       "    </tr>\n",
       "    <tr>\n",
       "      <th>5</th>\n",
       "      <td>1</td>\n",
       "      <td>For</td>\n",
       "      <td>bill_A</td>\n",
       "      <td>2016-10-06</td>\n",
       "    </tr>\n",
       "    <tr>\n",
       "      <th>6</th>\n",
       "      <td>1</td>\n",
       "      <td>Against</td>\n",
       "      <td>bill_B</td>\n",
       "      <td>2016-10-05</td>\n",
       "    </tr>\n",
       "  </tbody>\n",
       "</table>\n",
       "</div>"
      ],
      "text/plain": [
       "   pid   result     bid       date\n",
       "0    1      For  bill_A 2016-10-01\n",
       "1    1      For  bill_A 2016-10-02\n",
       "2    1      For  bill_A 2016-10-03\n",
       "3    1      For  bill_A 2016-10-04\n",
       "4    1      For  bill_A 2016-10-05\n",
       "5    1      For  bill_A 2016-10-06\n",
       "6    1  Against  bill_B 2016-10-05"
      ]
     },
     "execution_count": 190,
     "metadata": {},
     "output_type": "execute_result"
    }
   ],
   "source": [
    "cols = ['pid', 'result', 'bid', 'date']\n",
    "data = [\n",
    "        [1, 'For', 'bill_A', '2016-10-1'],\n",
    "        [1, 'For', 'bill_A', '2016-10-2'],\n",
    "        [1, 'For', 'bill_A', '2016-10-3'],\n",
    "        [1, 'For', 'bill_A', '2016-10-4'],\n",
    "        [1, 'For', 'bill_A', '2016-10-5'],\n",
    "        [1, 'For', 'bill_A', '2016-10-6'],\n",
    "    \n",
    "        [1, 'Against', 'bill_B', '2016-10-5'],\n",
    "       ]\n",
    "leg_votes_df = pd.DataFrame(data, columns=cols)\n",
    "leg_votes_df['date'] = leg_votes_df['date'].apply(datetime.strptime, args=['%Y-%m-%d'])\n",
    "leg_votes_df"
   ]
  },
  {
   "cell_type": "code",
   "execution_count": 191,
   "metadata": {
    "collapsed": false
   },
   "outputs": [],
   "source": [
    "scores_df_lst = []\n",
    "for ((oid, bid), oid_alignments_df) in org_alignments_df.groupby(['oid', 'bid']):\n",
    "    if len(oid_alignments_df['alignment'].unique()) > 1:\n",
    "        scores_df = handle_multi_alignment(oid_alignments_df, leg_votes_df)\n",
    "        if len(scores_df.index):\n",
    "            assert type(scores_df) == pd.DataFrame\n",
    "            scores_df_lst.append(scores_df)\n",
    "    else:\n",
    "        scores_df = handle_single_alignment(oid_alignments_df, leg_votes_df)\n",
    "        if len(scores_df.index):\n",
    "            assert type(scores_df) == pd.DataFrame\n",
    "            scores_df_lst.append(scores_df)\n",
    "df = pd.concat(scores_df_lst)"
   ]
  },
  {
   "cell_type": "code",
   "execution_count": 192,
   "metadata": {
    "collapsed": false
   },
   "outputs": [
    {
     "data": {
      "text/html": [
       "<div>\n",
       "<table border=\"1\" class=\"dataframe\">\n",
       "  <thead>\n",
       "    <tr style=\"text-align: right;\">\n",
       "      <th></th>\n",
       "      <th>aligned_votes</th>\n",
       "      <th>alignment_percentage</th>\n",
       "      <th>bid</th>\n",
       "      <th>oid</th>\n",
       "      <th>pid</th>\n",
       "      <th>total_votes</th>\n",
       "    </tr>\n",
       "    <tr>\n",
       "      <th>pid</th>\n",
       "      <th></th>\n",
       "      <th></th>\n",
       "      <th></th>\n",
       "      <th></th>\n",
       "      <th></th>\n",
       "      <th></th>\n",
       "    </tr>\n",
       "  </thead>\n",
       "  <tbody>\n",
       "    <tr>\n",
       "      <th>1</th>\n",
       "      <td>2</td>\n",
       "      <td>0.5</td>\n",
       "      <td>bill_A</td>\n",
       "      <td>-1</td>\n",
       "      <td>1</td>\n",
       "      <td>4</td>\n",
       "    </tr>\n",
       "    <tr>\n",
       "      <th>0</th>\n",
       "      <td>0</td>\n",
       "      <td>0.0</td>\n",
       "      <td>bill_B</td>\n",
       "      <td>-1</td>\n",
       "      <td>1</td>\n",
       "      <td>1</td>\n",
       "    </tr>\n",
       "  </tbody>\n",
       "</table>\n",
       "</div>"
      ],
      "text/plain": [
       "     aligned_votes  alignment_percentage     bid  oid  pid  total_votes\n",
       "pid                                                                    \n",
       "1                2                   0.5  bill_A   -1    1            4\n",
       "0                0                   0.0  bill_B   -1    1            1"
      ]
     },
     "execution_count": 192,
     "metadata": {},
     "output_type": "execute_result"
    }
   ],
   "source": [
    "df"
   ]
  },
  {
   "cell_type": "code",
   "execution_count": 193,
   "metadata": {
    "collapsed": false
   },
   "outputs": [],
   "source": [
    "assert df.loc[(df.bid=='bill_A') & (df.pid == 1), 'total_votes'].iloc[0] == 4\n",
    "assert df.loc[(df.bid=='bill_A') & (df.pid == 1), 'aligned_votes'].iloc[0] == 2\n",
    "assert df.loc[(df.bid=='bill_A') & (df.pid == 1), 'alignment_percentage'].iloc[0] == .5\n",
    "\n",
    "assert df.loc[(df.bid=='bill_B') & (df.pid == 1), 'total_votes'].iloc[0] == 1\n",
    "assert df.loc[(df.bid=='bill_B') & (df.pid == 1), 'aligned_votes'].iloc[0] == 0\n",
    "assert df.loc[(df.bid=='bill_B') & (df.pid == 1), 'alignment_percentage'].iloc[0] == 0"
   ]
  },
  {
   "cell_type": "code",
   "execution_count": null,
   "metadata": {
    "collapsed": true
   },
   "outputs": [],
   "source": []
  }
 ],
 "metadata": {
  "anaconda-cloud": {},
  "kernelspec": {
   "display_name": "Python [conda root]",
   "language": "python",
   "name": "conda-root-py"
  },
  "language_info": {
   "codemirror_mode": {
    "name": "ipython",
    "version": 3
   },
   "file_extension": ".py",
   "mimetype": "text/x-python",
   "name": "python",
   "nbconvert_exporter": "python",
   "pygments_lexer": "ipython3",
   "version": "3.5.2"
  }
 },
 "nbformat": 4,
 "nbformat_minor": 0
}
