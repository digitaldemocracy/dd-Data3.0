{
 "cells": [
  {
   "cell_type": "code",
   "execution_count": 1,
   "metadata": {
    "collapsed": false
   },
   "outputs": [],
   "source": [
    "from AlignmentMeter import *\n",
    "%reload_ext autoreload\n",
    "%autoreload 2"
   ]
  },
  {
   "cell_type": "code",
   "execution_count": 3,
   "metadata": {
    "collapsed": true
   },
   "outputs": [],
   "source": [
    "from datetime import datetime"
   ]
  },
  {
   "cell_type": "code",
   "execution_count": 4,
   "metadata": {
    "collapsed": false
   },
   "outputs": [],
   "source": [
    "df = pickle.load(open(PCKL_DIR + 'final_df.p', 'rb'))"
   ]
  },
  {
   "cell_type": "code",
   "execution_count": 4,
   "metadata": {
    "collapsed": false
   },
   "outputs": [],
   "source": [
    "votes_df = pickle.load(open(PCKL_DIR + 'leg_votes_all_df.p', 'rb'))"
   ]
  },
  {
   "cell_type": "code",
   "execution_count": 13,
   "metadata": {
    "collapsed": false
   },
   "outputs": [],
   "source": [
    "org_alignments_df = pickle.load(open(PCKL_DIR + 'concept_alignments_df.p', 'rb'))"
   ]
  },
  {
   "cell_type": "code",
   "execution_count": 29,
   "metadata": {
    "collapsed": false
   },
   "outputs": [],
   "source": [
    "oid_alignments_df = pickle.load(open(PCKL_DIR + 'oid_alignments_df', 'rb'))"
   ]
  },
  {
   "cell_type": "code",
   "execution_count": 5,
   "metadata": {
    "collapsed": false
   },
   "outputs": [
    {
     "data": {
      "text/html": [
       "<div>\n",
       "<table border=\"1\" class=\"dataframe\">\n",
       "  <thead>\n",
       "    <tr style=\"text-align: right;\">\n",
       "      <th></th>\n",
       "      <th>pid</th>\n",
       "      <th>voteId</th>\n",
       "      <th>result</th>\n",
       "      <th>state</th>\n",
       "      <th>lastTouched</th>\n",
       "      <th>dr_id</th>\n",
       "      <th>lastTouched_ts</th>\n",
       "      <th>bid</th>\n",
       "      <th>date</th>\n",
       "      <th>unanimous</th>\n",
       "      <th>resolution</th>\n",
       "      <th>hid</th>\n",
       "      <th>first</th>\n",
       "      <th>middle</th>\n",
       "      <th>last</th>\n",
       "      <th>abstain_vote</th>\n",
       "    </tr>\n",
       "  </thead>\n",
       "  <tbody>\n",
       "    <tr>\n",
       "      <th>0</th>\n",
       "      <td>1</td>\n",
       "      <td>34690</td>\n",
       "      <td>For</td>\n",
       "      <td>CA</td>\n",
       "      <td>2016-07-12 23:24:54</td>\n",
       "      <td>2</td>\n",
       "      <td>1468365894</td>\n",
       "      <td>CA_201520160SCR10</td>\n",
       "      <td>2015-02-09</td>\n",
       "      <td>1</td>\n",
       "      <td>1</td>\n",
       "      <td>588</td>\n",
       "      <td>Isadore</td>\n",
       "      <td>None</td>\n",
       "      <td>Hall</td>\n",
       "      <td>False</td>\n",
       "    </tr>\n",
       "    <tr>\n",
       "      <th>1</th>\n",
       "      <td>1</td>\n",
       "      <td>34691</td>\n",
       "      <td>For</td>\n",
       "      <td>CA</td>\n",
       "      <td>2016-07-12 23:24:54</td>\n",
       "      <td>3</td>\n",
       "      <td>1468365894</td>\n",
       "      <td>CA_201520160SR11</td>\n",
       "      <td>2015-02-09</td>\n",
       "      <td>1</td>\n",
       "      <td>1</td>\n",
       "      <td>588</td>\n",
       "      <td>Isadore</td>\n",
       "      <td>None</td>\n",
       "      <td>Hall</td>\n",
       "      <td>False</td>\n",
       "    </tr>\n",
       "    <tr>\n",
       "      <th>2</th>\n",
       "      <td>1</td>\n",
       "      <td>34692</td>\n",
       "      <td>For</td>\n",
       "      <td>CA</td>\n",
       "      <td>2016-07-12 23:24:50</td>\n",
       "      <td>4</td>\n",
       "      <td>1468365890</td>\n",
       "      <td>CA_201520160SCR13</td>\n",
       "      <td>2015-02-05</td>\n",
       "      <td>1</td>\n",
       "      <td>1</td>\n",
       "      <td>587</td>\n",
       "      <td>Isadore</td>\n",
       "      <td>None</td>\n",
       "      <td>Hall</td>\n",
       "      <td>False</td>\n",
       "    </tr>\n",
       "    <tr>\n",
       "      <th>3</th>\n",
       "      <td>1</td>\n",
       "      <td>34693</td>\n",
       "      <td>For</td>\n",
       "      <td>CA</td>\n",
       "      <td>2016-07-12 23:24:54</td>\n",
       "      <td>5</td>\n",
       "      <td>1468365894</td>\n",
       "      <td>CA_201520160SCR5</td>\n",
       "      <td>2015-02-09</td>\n",
       "      <td>1</td>\n",
       "      <td>1</td>\n",
       "      <td>588</td>\n",
       "      <td>Isadore</td>\n",
       "      <td>None</td>\n",
       "      <td>Hall</td>\n",
       "      <td>False</td>\n",
       "    </tr>\n",
       "    <tr>\n",
       "      <th>4</th>\n",
       "      <td>1</td>\n",
       "      <td>34694</td>\n",
       "      <td>For</td>\n",
       "      <td>CA</td>\n",
       "      <td>2016-07-12 23:24:52</td>\n",
       "      <td>6</td>\n",
       "      <td>1468365892</td>\n",
       "      <td>CA_201520160SJR2</td>\n",
       "      <td>2015-02-13</td>\n",
       "      <td>1</td>\n",
       "      <td>1</td>\n",
       "      <td>591</td>\n",
       "      <td>Isadore</td>\n",
       "      <td>None</td>\n",
       "      <td>Hall</td>\n",
       "      <td>False</td>\n",
       "    </tr>\n",
       "  </tbody>\n",
       "</table>\n",
       "</div>"
      ],
      "text/plain": [
       "   pid  voteId result state         lastTouched  dr_id  lastTouched_ts  \\\n",
       "0    1   34690    For    CA 2016-07-12 23:24:54      2      1468365894   \n",
       "1    1   34691    For    CA 2016-07-12 23:24:54      3      1468365894   \n",
       "2    1   34692    For    CA 2016-07-12 23:24:50      4      1468365890   \n",
       "3    1   34693    For    CA 2016-07-12 23:24:54      5      1468365894   \n",
       "4    1   34694    For    CA 2016-07-12 23:24:52      6      1468365892   \n",
       "\n",
       "                 bid        date  unanimous  resolution  hid    first middle  \\\n",
       "0  CA_201520160SCR10  2015-02-09          1           1  588  Isadore   None   \n",
       "1   CA_201520160SR11  2015-02-09          1           1  588  Isadore   None   \n",
       "2  CA_201520160SCR13  2015-02-05          1           1  587  Isadore   None   \n",
       "3   CA_201520160SCR5  2015-02-09          1           1  588  Isadore   None   \n",
       "4   CA_201520160SJR2  2015-02-13          1           1  591  Isadore   None   \n",
       "\n",
       "   last abstain_vote  \n",
       "0  Hall        False  \n",
       "1  Hall        False  \n",
       "2  Hall        False  \n",
       "3  Hall        False  \n",
       "4  Hall        False  "
      ]
     },
     "execution_count": 5,
     "metadata": {},
     "output_type": "execute_result"
    }
   ],
   "source": [
    "votes_df.head()"
   ]
  },
  {
   "cell_type": "code",
   "execution_count": 15,
   "metadata": {
    "collapsed": false
   },
   "outputs": [
    {
     "data": {
      "text/plain": [
       "274892"
      ]
     },
     "execution_count": 15,
     "metadata": {},
     "output_type": "execute_result"
    }
   ],
   "source": [
    "len(votes_df)"
   ]
  },
  {
   "cell_type": "code",
   "execution_count": 20,
   "metadata": {
    "collapsed": false
   },
   "outputs": [
    {
     "data": {
      "text/plain": [
       "121013"
      ]
     },
     "execution_count": 20,
     "metadata": {},
     "output_type": "execute_result"
    }
   ],
   "source": [
    "idx = votes_df.unanimous != 1\n",
    "len(votes_df[idx])"
   ]
  },
  {
   "cell_type": "code",
   "execution_count": 21,
   "metadata": {
    "collapsed": false
   },
   "outputs": [
    {
     "data": {
      "text/plain": [
       "252644"
      ]
     },
     "execution_count": 21,
     "metadata": {},
     "output_type": "execute_result"
    }
   ],
   "source": [
    "idx = votes_df.resolution != 1\n",
    "len(votes_df[idx])"
   ]
  },
  {
   "cell_type": "code",
   "execution_count": 22,
   "metadata": {
    "collapsed": false
   },
   "outputs": [
    {
     "data": {
      "text/plain": [
       "260782"
      ]
     },
     "execution_count": 22,
     "metadata": {},
     "output_type": "execute_result"
    }
   ],
   "source": [
    "idx = votes_df.abstain_vote != 1\n",
    "len(votes_df[idx])"
   ]
  },
  {
   "cell_type": "code",
   "execution_count": 23,
   "metadata": {
    "collapsed": false
   },
   "outputs": [
    {
     "data": {
      "text/plain": [
       "115821"
      ]
     },
     "execution_count": 23,
     "metadata": {},
     "output_type": "execute_result"
    }
   ],
   "source": [
    "idx = (votes_df.unanimous != 1) & (votes_df.resolution != 1)\n",
    "len(votes_df[idx])"
   ]
  },
  {
   "cell_type": "code",
   "execution_count": 24,
   "metadata": {
    "collapsed": false
   },
   "outputs": [
    {
     "data": {
      "text/plain": [
       "240191"
      ]
     },
     "execution_count": 24,
     "metadata": {},
     "output_type": "execute_result"
    }
   ],
   "source": [
    "idx = (votes_df.abstain_vote != 1) & (votes_df.resolution != 1)\n",
    "len(votes_df[idx])"
   ]
  },
  {
   "cell_type": "code",
   "execution_count": 31,
   "metadata": {
    "collapsed": false
   },
   "outputs": [
    {
     "data": {
      "text/html": [
       "<div>\n",
       "<table border=\"1\" class=\"dataframe\">\n",
       "  <thead>\n",
       "    <tr style=\"text-align: right;\">\n",
       "      <th></th>\n",
       "      <th>oid</th>\n",
       "      <th>bid</th>\n",
       "      <th>hid</th>\n",
       "      <th>alignment</th>\n",
       "      <th>date</th>\n",
       "      <th>org_name</th>\n",
       "    </tr>\n",
       "  </thead>\n",
       "  <tbody>\n",
       "    <tr>\n",
       "      <th>545</th>\n",
       "      <td>-20</td>\n",
       "      <td>CA_20152016BUD4800</td>\n",
       "      <td>243</td>\n",
       "      <td>For</td>\n",
       "      <td>2015-05-18</td>\n",
       "      <td>Western Center on Law and Poverty</td>\n",
       "    </tr>\n",
       "    <tr>\n",
       "      <th>819</th>\n",
       "      <td>-20</td>\n",
       "      <td>CA_20152016BUD4800</td>\n",
       "      <td>242</td>\n",
       "      <td>For</td>\n",
       "      <td>2015-05-18</td>\n",
       "      <td>Western Center on Law and Poverty</td>\n",
       "    </tr>\n",
       "  </tbody>\n",
       "</table>\n",
       "</div>"
      ],
      "text/plain": [
       "     oid                 bid  hid alignment        date  \\\n",
       "545  -20  CA_20152016BUD4800  243       For  2015-05-18   \n",
       "819  -20  CA_20152016BUD4800  242       For  2015-05-18   \n",
       "\n",
       "                              org_name  \n",
       "545  Western Center on Law and Poverty  \n",
       "819  Western Center on Law and Poverty  "
      ]
     },
     "execution_count": 31,
     "metadata": {},
     "output_type": "execute_result"
    }
   ],
   "source": [
    "oid_alignments_df"
   ]
  },
  {
   "cell_type": "code",
   "execution_count": 44,
   "metadata": {
    "collapsed": true
   },
   "outputs": [],
   "source": [
    "import subprocess\n",
    "from datetime import datetime\n",
    "import os"
   ]
  },
  {
   "cell_type": "code",
   "execution_count": 47,
   "metadata": {
    "collapsed": true
   },
   "outputs": [],
   "source": [
    "data_dir = 'BillAnalysisLobs/'\n",
    "zip_url = 'http://downloads.leginfo.legislature.ca.gov/pubinfo_2017.zip'\n",
    "zip_name = 'pubinfo_2017.zip'"
   ]
  },
  {
   "cell_type": "code",
   "execution_count": 63,
   "metadata": {
    "collapsed": false
   },
   "outputs": [],
   "source": [
    "import requests\n",
    "import zipfile\n",
    "from io import BytesIO"
   ]
  },
  {
   "cell_type": "code",
   "execution_count": 57,
   "metadata": {
    "collapsed": true
   },
   "outputs": [],
   "source": [
    "results = requests.get(zip_url)"
   ]
  },
  {
   "cell_type": "code",
   "execution_count": 64,
   "metadata": {
    "collapsed": false
   },
   "outputs": [],
   "source": [
    "file = zipfile.ZipFile(BytesIO(results.content))"
   ]
  },
  {
   "cell_type": "code",
   "execution_count": 65,
   "metadata": {
    "collapsed": true
   },
   "outputs": [],
   "source": [
    "file.extractall(data_dir)"
   ]
  }
 ],
 "metadata": {
  "anaconda-cloud": {},
  "kernelspec": {
   "display_name": "Python [default]",
   "language": "python",
   "name": "python3"
  },
  "language_info": {
   "codemirror_mode": {
    "name": "ipython",
    "version": 3
   },
   "file_extension": ".py",
   "mimetype": "text/x-python",
   "name": "python",
   "nbconvert_exporter": "python",
   "pygments_lexer": "ipython3",
   "version": "3.5.2"
  }
 },
 "nbformat": 4,
 "nbformat_minor": 0
}
